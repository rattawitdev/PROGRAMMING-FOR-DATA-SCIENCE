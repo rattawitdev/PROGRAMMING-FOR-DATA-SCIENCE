{
 "cells": [
  {
   "cell_type": "code",
   "execution_count": 1,
   "metadata": {},
   "outputs": [],
   "source": [
    "import pandas as pd\n",
    "df = pd.read_excel('wine_2.xlsx')"
   ]
  },
  {
   "cell_type": "code",
   "execution_count": 3,
   "metadata": {},
   "outputs": [
    {
     "data": {
      "text/html": [
       "<div>\n",
       "<style scoped>\n",
       "    .dataframe tbody tr th:only-of-type {\n",
       "        vertical-align: middle;\n",
       "    }\n",
       "\n",
       "    .dataframe tbody tr th {\n",
       "        vertical-align: top;\n",
       "    }\n",
       "\n",
       "    .dataframe thead th {\n",
       "        text-align: right;\n",
       "    }\n",
       "</style>\n",
       "<table border=\"1\" class=\"dataframe\">\n",
       "  <thead>\n",
       "    <tr style=\"text-align: right;\">\n",
       "      <th></th>\n",
       "      <th>Class</th>\n",
       "      <th>Alcohol</th>\n",
       "      <th>Malic acid</th>\n",
       "      <th>Ash</th>\n",
       "      <th>Alcalinity of ash</th>\n",
       "      <th>Magnesium</th>\n",
       "      <th>Total phenols</th>\n",
       "      <th>Flavanoids</th>\n",
       "      <th>Nonflavanoid phenols</th>\n",
       "      <th>Proanthocyanins</th>\n",
       "      <th>Color intensity</th>\n",
       "      <th>Hue</th>\n",
       "      <th>OD280/OD315 of diluted wines</th>\n",
       "      <th>Proline</th>\n",
       "    </tr>\n",
       "  </thead>\n",
       "  <tbody>\n",
       "    <tr>\n",
       "      <th>0</th>\n",
       "      <td>WineA</td>\n",
       "      <td>14.23</td>\n",
       "      <td>1.71</td>\n",
       "      <td>2.43</td>\n",
       "      <td>15.6</td>\n",
       "      <td>127</td>\n",
       "      <td>2.80</td>\n",
       "      <td>3.06</td>\n",
       "      <td>0.28</td>\n",
       "      <td>2.29</td>\n",
       "      <td>5.64</td>\n",
       "      <td>1.04</td>\n",
       "      <td>3.92</td>\n",
       "      <td>1065</td>\n",
       "    </tr>\n",
       "    <tr>\n",
       "      <th>1</th>\n",
       "      <td>WineA</td>\n",
       "      <td>13.20</td>\n",
       "      <td>1.78</td>\n",
       "      <td>2.14</td>\n",
       "      <td>11.2</td>\n",
       "      <td>100</td>\n",
       "      <td>2.65</td>\n",
       "      <td>2.76</td>\n",
       "      <td>0.26</td>\n",
       "      <td>1.28</td>\n",
       "      <td>4.38</td>\n",
       "      <td>1.05</td>\n",
       "      <td>3.40</td>\n",
       "      <td>1050</td>\n",
       "    </tr>\n",
       "    <tr>\n",
       "      <th>2</th>\n",
       "      <td>WineA</td>\n",
       "      <td>13.16</td>\n",
       "      <td>2.36</td>\n",
       "      <td>2.67</td>\n",
       "      <td>18.6</td>\n",
       "      <td>101</td>\n",
       "      <td>2.80</td>\n",
       "      <td>3.24</td>\n",
       "      <td>0.30</td>\n",
       "      <td>2.81</td>\n",
       "      <td>5.68</td>\n",
       "      <td>1.03</td>\n",
       "      <td>3.17</td>\n",
       "      <td>1185</td>\n",
       "    </tr>\n",
       "    <tr>\n",
       "      <th>3</th>\n",
       "      <td>WineA</td>\n",
       "      <td>14.37</td>\n",
       "      <td>1.95</td>\n",
       "      <td>2.50</td>\n",
       "      <td>16.8</td>\n",
       "      <td>113</td>\n",
       "      <td>3.85</td>\n",
       "      <td>3.49</td>\n",
       "      <td>0.24</td>\n",
       "      <td>2.18</td>\n",
       "      <td>7.80</td>\n",
       "      <td>0.86</td>\n",
       "      <td>3.45</td>\n",
       "      <td>1480</td>\n",
       "    </tr>\n",
       "    <tr>\n",
       "      <th>4</th>\n",
       "      <td>WineA</td>\n",
       "      <td>13.24</td>\n",
       "      <td>2.59</td>\n",
       "      <td>2.87</td>\n",
       "      <td>21.0</td>\n",
       "      <td>118</td>\n",
       "      <td>2.80</td>\n",
       "      <td>2.69</td>\n",
       "      <td>0.39</td>\n",
       "      <td>1.82</td>\n",
       "      <td>4.32</td>\n",
       "      <td>1.04</td>\n",
       "      <td>2.93</td>\n",
       "      <td>735</td>\n",
       "    </tr>\n",
       "  </tbody>\n",
       "</table>\n",
       "</div>"
      ],
      "text/plain": [
       "   Class  Alcohol  Malic acid   Ash  Alcalinity of ash    Magnesium  \\\n",
       "0  WineA    14.23        1.71  2.43                 15.6        127   \n",
       "1  WineA    13.20        1.78  2.14                 11.2        100   \n",
       "2  WineA    13.16        2.36  2.67                 18.6        101   \n",
       "3  WineA    14.37        1.95  2.50                 16.8        113   \n",
       "4  WineA    13.24        2.59  2.87                 21.0        118   \n",
       "\n",
       "   Total phenols  Flavanoids  Nonflavanoid phenols  Proanthocyanins  \\\n",
       "0           2.80        3.06                  0.28             2.29   \n",
       "1           2.65        2.76                  0.26             1.28   \n",
       "2           2.80        3.24                  0.30             2.81   \n",
       "3           3.85        3.49                  0.24             2.18   \n",
       "4           2.80        2.69                  0.39             1.82   \n",
       "\n",
       "   Color intensity   Hue  OD280/OD315 of diluted wines  Proline  \n",
       "0             5.64  1.04                          3.92     1065  \n",
       "1             4.38  1.05                          3.40     1050  \n",
       "2             5.68  1.03                          3.17     1185  \n",
       "3             7.80  0.86                          3.45     1480  \n",
       "4             4.32  1.04                          2.93      735  "
      ]
     },
     "execution_count": 3,
     "metadata": {},
     "output_type": "execute_result"
    }
   ],
   "source": [
    "df.head()"
   ]
  },
  {
   "cell_type": "code",
   "execution_count": 4,
   "metadata": {},
   "outputs": [
    {
     "name": "stdout",
     "output_type": "stream",
     "text": [
      "<class 'pandas.core.frame.DataFrame'>\n",
      "RangeIndex: 131 entries, 0 to 130\n",
      "Data columns (total 14 columns):\n",
      " #   Column                        Non-Null Count  Dtype  \n",
      "---  ------                        --------------  -----  \n",
      " 0   Class                         131 non-null    object \n",
      " 1   Alcohol                       131 non-null    float64\n",
      " 2   Malic acid                    131 non-null    float64\n",
      " 3   Ash                           131 non-null    float64\n",
      " 4   Alcalinity of ash             131 non-null    float64\n",
      " 5   Magnesium                     131 non-null    int64  \n",
      " 6   Total phenols                 131 non-null    float64\n",
      " 7   Flavanoids                    131 non-null    float64\n",
      " 8   Nonflavanoid phenols          131 non-null    float64\n",
      " 9   Proanthocyanins               131 non-null    float64\n",
      " 10  Color intensity               131 non-null    float64\n",
      " 11  Hue                           131 non-null    float64\n",
      " 12  OD280/OD315 of diluted wines  131 non-null    float64\n",
      " 13  Proline                       131 non-null    int64  \n",
      "dtypes: float64(11), int64(2), object(1)\n",
      "memory usage: 14.5+ KB\n"
     ]
    }
   ],
   "source": [
    "df.info()"
   ]
  },
  {
   "cell_type": "code",
   "execution_count": 5,
   "metadata": {},
   "outputs": [
    {
     "data": {
      "text/html": [
       "<div>\n",
       "<style scoped>\n",
       "    .dataframe tbody tr th:only-of-type {\n",
       "        vertical-align: middle;\n",
       "    }\n",
       "\n",
       "    .dataframe tbody tr th {\n",
       "        vertical-align: top;\n",
       "    }\n",
       "\n",
       "    .dataframe thead th {\n",
       "        text-align: right;\n",
       "    }\n",
       "</style>\n",
       "<table border=\"1\" class=\"dataframe\">\n",
       "  <thead>\n",
       "    <tr style=\"text-align: right;\">\n",
       "      <th></th>\n",
       "      <th>Alcohol</th>\n",
       "      <th>Malic acid</th>\n",
       "      <th>Ash</th>\n",
       "      <th>Alcalinity of ash</th>\n",
       "      <th>Magnesium</th>\n",
       "      <th>Total phenols</th>\n",
       "      <th>Flavanoids</th>\n",
       "      <th>Nonflavanoid phenols</th>\n",
       "      <th>Proanthocyanins</th>\n",
       "      <th>Color intensity</th>\n",
       "      <th>Hue</th>\n",
       "      <th>OD280/OD315 of diluted wines</th>\n",
       "      <th>Proline</th>\n",
       "    </tr>\n",
       "  </thead>\n",
       "  <tbody>\n",
       "    <tr>\n",
       "      <th>count</th>\n",
       "      <td>131.000000</td>\n",
       "      <td>131.000000</td>\n",
       "      <td>131.000000</td>\n",
       "      <td>131.000000</td>\n",
       "      <td>131.000000</td>\n",
       "      <td>131.000000</td>\n",
       "      <td>131.000000</td>\n",
       "      <td>131.000000</td>\n",
       "      <td>131.000000</td>\n",
       "      <td>131.000000</td>\n",
       "      <td>131.000000</td>\n",
       "      <td>131.000000</td>\n",
       "      <td>131.000000</td>\n",
       "    </tr>\n",
       "    <tr>\n",
       "      <th>mean</th>\n",
       "      <td>12.943435</td>\n",
       "      <td>1.963359</td>\n",
       "      <td>2.340305</td>\n",
       "      <td>18.779389</td>\n",
       "      <td>100.068702</td>\n",
       "      <td>2.514962</td>\n",
       "      <td>2.480534</td>\n",
       "      <td>0.329313</td>\n",
       "      <td>1.746183</td>\n",
       "      <td>4.194046</td>\n",
       "      <td>1.056611</td>\n",
       "      <td>2.941679</td>\n",
       "      <td>788.870229</td>\n",
       "    </tr>\n",
       "    <tr>\n",
       "      <th>std</th>\n",
       "      <td>0.885375</td>\n",
       "      <td>0.878239</td>\n",
       "      <td>0.296022</td>\n",
       "      <td>3.388050</td>\n",
       "      <td>15.443291</td>\n",
       "      <td>0.550449</td>\n",
       "      <td>0.742865</td>\n",
       "      <td>0.109173</td>\n",
       "      <td>0.542159</td>\n",
       "      <td>1.619538</td>\n",
       "      <td>0.170057</td>\n",
       "      <td>0.495169</td>\n",
       "      <td>351.433053</td>\n",
       "    </tr>\n",
       "    <tr>\n",
       "      <th>min</th>\n",
       "      <td>11.030000</td>\n",
       "      <td>0.740000</td>\n",
       "      <td>1.360000</td>\n",
       "      <td>10.600000</td>\n",
       "      <td>70.000000</td>\n",
       "      <td>1.100000</td>\n",
       "      <td>0.570000</td>\n",
       "      <td>0.130000</td>\n",
       "      <td>0.410000</td>\n",
       "      <td>1.280000</td>\n",
       "      <td>0.690000</td>\n",
       "      <td>1.290000</td>\n",
       "      <td>278.000000</td>\n",
       "    </tr>\n",
       "    <tr>\n",
       "      <th>25%</th>\n",
       "      <td>12.235000</td>\n",
       "      <td>1.505000</td>\n",
       "      <td>2.170000</td>\n",
       "      <td>16.550000</td>\n",
       "      <td>88.000000</td>\n",
       "      <td>2.120000</td>\n",
       "      <td>1.970000</td>\n",
       "      <td>0.260000</td>\n",
       "      <td>1.420000</td>\n",
       "      <td>2.875000</td>\n",
       "      <td>0.935000</td>\n",
       "      <td>2.725000</td>\n",
       "      <td>476.000000</td>\n",
       "    </tr>\n",
       "    <tr>\n",
       "      <th>50%</th>\n",
       "      <td>12.990000</td>\n",
       "      <td>1.730000</td>\n",
       "      <td>2.320000</td>\n",
       "      <td>18.500000</td>\n",
       "      <td>98.000000</td>\n",
       "      <td>2.560000</td>\n",
       "      <td>2.550000</td>\n",
       "      <td>0.300000</td>\n",
       "      <td>1.700000</td>\n",
       "      <td>3.900000</td>\n",
       "      <td>1.050000</td>\n",
       "      <td>2.960000</td>\n",
       "      <td>714.000000</td>\n",
       "    </tr>\n",
       "    <tr>\n",
       "      <th>75%</th>\n",
       "      <td>13.725000</td>\n",
       "      <td>2.055000</td>\n",
       "      <td>2.525000</td>\n",
       "      <td>20.900000</td>\n",
       "      <td>108.000000</td>\n",
       "      <td>2.925000</td>\n",
       "      <td>2.995000</td>\n",
       "      <td>0.395000</td>\n",
       "      <td>2.000000</td>\n",
       "      <td>5.350000</td>\n",
       "      <td>1.165000</td>\n",
       "      <td>3.300000</td>\n",
       "      <td>1062.500000</td>\n",
       "    </tr>\n",
       "    <tr>\n",
       "      <th>max</th>\n",
       "      <td>14.830000</td>\n",
       "      <td>5.800000</td>\n",
       "      <td>3.230000</td>\n",
       "      <td>30.000000</td>\n",
       "      <td>162.000000</td>\n",
       "      <td>3.880000</td>\n",
       "      <td>5.080000</td>\n",
       "      <td>0.660000</td>\n",
       "      <td>3.580000</td>\n",
       "      <td>8.900000</td>\n",
       "      <td>1.710000</td>\n",
       "      <td>4.000000</td>\n",
       "      <td>1680.000000</td>\n",
       "    </tr>\n",
       "  </tbody>\n",
       "</table>\n",
       "</div>"
      ],
      "text/plain": [
       "          Alcohol  Malic acid         Ash  Alcalinity of ash     Magnesium  \\\n",
       "count  131.000000  131.000000  131.000000           131.000000  131.000000   \n",
       "mean    12.943435    1.963359    2.340305            18.779389  100.068702   \n",
       "std      0.885375    0.878239    0.296022             3.388050   15.443291   \n",
       "min     11.030000    0.740000    1.360000            10.600000   70.000000   \n",
       "25%     12.235000    1.505000    2.170000            16.550000   88.000000   \n",
       "50%     12.990000    1.730000    2.320000            18.500000   98.000000   \n",
       "75%     13.725000    2.055000    2.525000            20.900000  108.000000   \n",
       "max     14.830000    5.800000    3.230000            30.000000  162.000000   \n",
       "\n",
       "       Total phenols  Flavanoids  Nonflavanoid phenols  Proanthocyanins  \\\n",
       "count     131.000000  131.000000            131.000000       131.000000   \n",
       "mean        2.514962    2.480534              0.329313         1.746183   \n",
       "std         0.550449    0.742865              0.109173         0.542159   \n",
       "min         1.100000    0.570000              0.130000         0.410000   \n",
       "25%         2.120000    1.970000              0.260000         1.420000   \n",
       "50%         2.560000    2.550000              0.300000         1.700000   \n",
       "75%         2.925000    2.995000              0.395000         2.000000   \n",
       "max         3.880000    5.080000              0.660000         3.580000   \n",
       "\n",
       "       Color intensity         Hue  OD280/OD315 of diluted wines      Proline  \n",
       "count       131.000000  131.000000                    131.000000   131.000000  \n",
       "mean          4.194046    1.056611                      2.941679   788.870229  \n",
       "std           1.619538    0.170057                      0.495169   351.433053  \n",
       "min           1.280000    0.690000                      1.290000   278.000000  \n",
       "25%           2.875000    0.935000                      2.725000   476.000000  \n",
       "50%           3.900000    1.050000                      2.960000   714.000000  \n",
       "75%           5.350000    1.165000                      3.300000  1062.500000  \n",
       "max           8.900000    1.710000                      4.000000  1680.000000  "
      ]
     },
     "execution_count": 5,
     "metadata": {},
     "output_type": "execute_result"
    }
   ],
   "source": [
    "df.describe()"
   ]
  },
  {
   "cell_type": "code",
   "execution_count": 6,
   "metadata": {},
   "outputs": [],
   "source": [
    "x = df.drop('Class',axis=1)\n",
    "y = df['Class']"
   ]
  },
  {
   "cell_type": "code",
   "execution_count": 7,
   "metadata": {},
   "outputs": [
    {
     "data": {
      "text/plain": [
       "count       131\n",
       "unique        2\n",
       "top       WineB\n",
       "freq         71\n",
       "Name: Class, dtype: object"
      ]
     },
     "execution_count": 7,
     "metadata": {},
     "output_type": "execute_result"
    }
   ],
   "source": [
    "x\n",
    "y.describe()"
   ]
  },
  {
   "cell_type": "code",
   "execution_count": 8,
   "metadata": {},
   "outputs": [],
   "source": [
    "import numpy as np"
   ]
  },
  {
   "cell_type": "code",
   "execution_count": 9,
   "metadata": {},
   "outputs": [
    {
     "data": {
      "text/plain": [
       "array(['WineA', 'WineB'], dtype=object)"
      ]
     },
     "execution_count": 9,
     "metadata": {},
     "output_type": "execute_result"
    }
   ],
   "source": [
    "np.unique(y)"
   ]
  },
  {
   "cell_type": "code",
   "execution_count": 11,
   "metadata": {},
   "outputs": [],
   "source": [
    "from sklearn.preprocessing import StandardScaler\n",
    "scaler = StandardScaler()\n",
    "x = scaler.fit_transform(x)"
   ]
  },
  {
   "cell_type": "code",
   "execution_count": 12,
   "metadata": {},
   "outputs": [
    {
     "data": {
      "text/html": [
       "<div>\n",
       "<style scoped>\n",
       "    .dataframe tbody tr th:only-of-type {\n",
       "        vertical-align: middle;\n",
       "    }\n",
       "\n",
       "    .dataframe tbody tr th {\n",
       "        vertical-align: top;\n",
       "    }\n",
       "\n",
       "    .dataframe thead th {\n",
       "        text-align: right;\n",
       "    }\n",
       "</style>\n",
       "<table border=\"1\" class=\"dataframe\">\n",
       "  <thead>\n",
       "    <tr style=\"text-align: right;\">\n",
       "      <th></th>\n",
       "      <th>0</th>\n",
       "      <th>1</th>\n",
       "      <th>2</th>\n",
       "      <th>3</th>\n",
       "      <th>4</th>\n",
       "      <th>5</th>\n",
       "      <th>6</th>\n",
       "      <th>7</th>\n",
       "      <th>8</th>\n",
       "      <th>9</th>\n",
       "      <th>10</th>\n",
       "      <th>11</th>\n",
       "      <th>12</th>\n",
       "    </tr>\n",
       "  </thead>\n",
       "  <tbody>\n",
       "    <tr>\n",
       "      <th>count</th>\n",
       "      <td>1.310000e+02</td>\n",
       "      <td>1.310000e+02</td>\n",
       "      <td>1.310000e+02</td>\n",
       "      <td>1.310000e+02</td>\n",
       "      <td>1.310000e+02</td>\n",
       "      <td>1.310000e+02</td>\n",
       "      <td>1.310000e+02</td>\n",
       "      <td>1.310000e+02</td>\n",
       "      <td>1.310000e+02</td>\n",
       "      <td>1.310000e+02</td>\n",
       "      <td>1.310000e+02</td>\n",
       "      <td>1.310000e+02</td>\n",
       "      <td>1.310000e+02</td>\n",
       "    </tr>\n",
       "    <tr>\n",
       "      <th>mean</th>\n",
       "      <td>3.634074e-15</td>\n",
       "      <td>-3.491694e-16</td>\n",
       "      <td>-1.084798e-15</td>\n",
       "      <td>1.627197e-16</td>\n",
       "      <td>3.254394e-16</td>\n",
       "      <td>-4.067993e-16</td>\n",
       "      <td>3.254394e-16</td>\n",
       "      <td>1.627197e-16</td>\n",
       "      <td>-1.016998e-16</td>\n",
       "      <td>2.711995e-16</td>\n",
       "      <td>-1.694997e-15</td>\n",
       "      <td>-5.423990e-17</td>\n",
       "      <td>-1.084798e-16</td>\n",
       "    </tr>\n",
       "    <tr>\n",
       "      <th>std</th>\n",
       "      <td>1.003839e+00</td>\n",
       "      <td>1.003839e+00</td>\n",
       "      <td>1.003839e+00</td>\n",
       "      <td>1.003839e+00</td>\n",
       "      <td>1.003839e+00</td>\n",
       "      <td>1.003839e+00</td>\n",
       "      <td>1.003839e+00</td>\n",
       "      <td>1.003839e+00</td>\n",
       "      <td>1.003839e+00</td>\n",
       "      <td>1.003839e+00</td>\n",
       "      <td>1.003839e+00</td>\n",
       "      <td>1.003839e+00</td>\n",
       "      <td>1.003839e+00</td>\n",
       "    </tr>\n",
       "    <tr>\n",
       "      <th>min</th>\n",
       "      <td>-2.169454e+00</td>\n",
       "      <td>-1.398315e+00</td>\n",
       "      <td>-3.324307e+00</td>\n",
       "      <td>-2.423456e+00</td>\n",
       "      <td>-1.954514e+00</td>\n",
       "      <td>-2.580426e+00</td>\n",
       "      <td>-2.581719e+00</td>\n",
       "      <td>-1.832669e+00</td>\n",
       "      <td>-2.474022e+00</td>\n",
       "      <td>-1.806214e+00</td>\n",
       "      <td>-2.164089e+00</td>\n",
       "      <td>-3.348390e+00</td>\n",
       "      <td>-1.459258e+00</td>\n",
       "    </tr>\n",
       "    <tr>\n",
       "      <th>25%</th>\n",
       "      <td>-8.032242e-01</td>\n",
       "      <td>-5.239100e-01</td>\n",
       "      <td>-5.775213e-01</td>\n",
       "      <td>-6.605415e-01</td>\n",
       "      <td>-7.844851e-01</td>\n",
       "      <td>-7.202807e-01</td>\n",
       "      <td>-6.898889e-01</td>\n",
       "      <td>-6.373281e-01</td>\n",
       "      <td>-6.039474e-01</td>\n",
       "      <td>-8.175845e-01</td>\n",
       "      <td>-7.178632e-01</td>\n",
       "      <td>-4.392664e-01</td>\n",
       "      <td>-8.936873e-01</td>\n",
       "    </tr>\n",
       "    <tr>\n",
       "      <th>50%</th>\n",
       "      <td>5.279530e-02</td>\n",
       "      <td>-2.667321e-01</td>\n",
       "      <td>-6.885731e-02</td>\n",
       "      <td>-8.277973e-02</td>\n",
       "      <td>-1.344690e-01</td>\n",
       "      <td>8.213483e-02</td>\n",
       "      <td>9.386945e-02</td>\n",
       "      <td>-2.695308e-01</td>\n",
       "      <td>-8.551092e-02</td>\n",
       "      <td>-1.822585e-01</td>\n",
       "      <td>-3.902263e-02</td>\n",
       "      <td>3.714072e-02</td>\n",
       "      <td>-2.138605e-01</td>\n",
       "    </tr>\n",
       "    <tr>\n",
       "      <th>75%</th>\n",
       "      <td>8.861388e-01</td>\n",
       "      <td>1.047471e-01</td>\n",
       "      <td>6.263168e-01</td>\n",
       "      <td>6.283117e-01</td>\n",
       "      <td>5.155471e-01</td>\n",
       "      <td>7.477750e-01</td>\n",
       "      <td>6.952013e-01</td>\n",
       "      <td>6.039877e-01</td>\n",
       "      <td>4.699567e-01</td>\n",
       "      <td>7.164954e-01</td>\n",
       "      <td>6.398180e-01</td>\n",
       "      <td>7.264105e-01</td>\n",
       "      <td>7.816003e-01</td>\n",
       "    </tr>\n",
       "    <tr>\n",
       "      <th>max</th>\n",
       "      <td>2.138989e+00</td>\n",
       "      <td>4.385331e+00</td>\n",
       "      <td>3.017037e+00</td>\n",
       "      <td>3.324534e+00</td>\n",
       "      <td>4.025634e+00</td>\n",
       "      <td>2.489381e+00</td>\n",
       "      <td>3.512677e+00</td>\n",
       "      <td>3.040645e+00</td>\n",
       "      <td>3.395420e+00</td>\n",
       "      <td>2.916893e+00</td>\n",
       "      <td>3.856932e+00</td>\n",
       "      <td>2.145495e+00</td>\n",
       "      <td>2.545437e+00</td>\n",
       "    </tr>\n",
       "  </tbody>\n",
       "</table>\n",
       "</div>"
      ],
      "text/plain": [
       "                 0             1             2             3             4   \\\n",
       "count  1.310000e+02  1.310000e+02  1.310000e+02  1.310000e+02  1.310000e+02   \n",
       "mean   3.634074e-15 -3.491694e-16 -1.084798e-15  1.627197e-16  3.254394e-16   \n",
       "std    1.003839e+00  1.003839e+00  1.003839e+00  1.003839e+00  1.003839e+00   \n",
       "min   -2.169454e+00 -1.398315e+00 -3.324307e+00 -2.423456e+00 -1.954514e+00   \n",
       "25%   -8.032242e-01 -5.239100e-01 -5.775213e-01 -6.605415e-01 -7.844851e-01   \n",
       "50%    5.279530e-02 -2.667321e-01 -6.885731e-02 -8.277973e-02 -1.344690e-01   \n",
       "75%    8.861388e-01  1.047471e-01  6.263168e-01  6.283117e-01  5.155471e-01   \n",
       "max    2.138989e+00  4.385331e+00  3.017037e+00  3.324534e+00  4.025634e+00   \n",
       "\n",
       "                 5             6             7             8             9   \\\n",
       "count  1.310000e+02  1.310000e+02  1.310000e+02  1.310000e+02  1.310000e+02   \n",
       "mean  -4.067993e-16  3.254394e-16  1.627197e-16 -1.016998e-16  2.711995e-16   \n",
       "std    1.003839e+00  1.003839e+00  1.003839e+00  1.003839e+00  1.003839e+00   \n",
       "min   -2.580426e+00 -2.581719e+00 -1.832669e+00 -2.474022e+00 -1.806214e+00   \n",
       "25%   -7.202807e-01 -6.898889e-01 -6.373281e-01 -6.039474e-01 -8.175845e-01   \n",
       "50%    8.213483e-02  9.386945e-02 -2.695308e-01 -8.551092e-02 -1.822585e-01   \n",
       "75%    7.477750e-01  6.952013e-01  6.039877e-01  4.699567e-01  7.164954e-01   \n",
       "max    2.489381e+00  3.512677e+00  3.040645e+00  3.395420e+00  2.916893e+00   \n",
       "\n",
       "                 10            11            12  \n",
       "count  1.310000e+02  1.310000e+02  1.310000e+02  \n",
       "mean  -1.694997e-15 -5.423990e-17 -1.084798e-16  \n",
       "std    1.003839e+00  1.003839e+00  1.003839e+00  \n",
       "min   -2.164089e+00 -3.348390e+00 -1.459258e+00  \n",
       "25%   -7.178632e-01 -4.392664e-01 -8.936873e-01  \n",
       "50%   -3.902263e-02  3.714072e-02 -2.138605e-01  \n",
       "75%    6.398180e-01  7.264105e-01  7.816003e-01  \n",
       "max    3.856932e+00  2.145495e+00  2.545437e+00  "
      ]
     },
     "execution_count": 12,
     "metadata": {},
     "output_type": "execute_result"
    }
   ],
   "source": [
    "pd.DataFrame(x).describe()"
   ]
  },
  {
   "cell_type": "code",
   "execution_count": 13,
   "metadata": {},
   "outputs": [],
   "source": [
    "from sklearn.model_selection import train_test_split\n",
    "X_train, X_test, y_train, y_test = train_test_split(x, y, test_size=0.3)"
   ]
  },
  {
   "cell_type": "code",
   "execution_count": 14,
   "metadata": {},
   "outputs": [],
   "source": [
    "from sklearn.linear_model import LogisticRegression\n",
    "logmodel = LogisticRegression()"
   ]
  },
  {
   "cell_type": "code",
   "execution_count": 15,
   "metadata": {},
   "outputs": [
    {
     "data": {
      "text/html": [
       "<style>#sk-container-id-1 {color: black;background-color: white;}#sk-container-id-1 pre{padding: 0;}#sk-container-id-1 div.sk-toggleable {background-color: white;}#sk-container-id-1 label.sk-toggleable__label {cursor: pointer;display: block;width: 100%;margin-bottom: 0;padding: 0.3em;box-sizing: border-box;text-align: center;}#sk-container-id-1 label.sk-toggleable__label-arrow:before {content: \"▸\";float: left;margin-right: 0.25em;color: #696969;}#sk-container-id-1 label.sk-toggleable__label-arrow:hover:before {color: black;}#sk-container-id-1 div.sk-estimator:hover label.sk-toggleable__label-arrow:before {color: black;}#sk-container-id-1 div.sk-toggleable__content {max-height: 0;max-width: 0;overflow: hidden;text-align: left;background-color: #f0f8ff;}#sk-container-id-1 div.sk-toggleable__content pre {margin: 0.2em;color: black;border-radius: 0.25em;background-color: #f0f8ff;}#sk-container-id-1 input.sk-toggleable__control:checked~div.sk-toggleable__content {max-height: 200px;max-width: 100%;overflow: auto;}#sk-container-id-1 input.sk-toggleable__control:checked~label.sk-toggleable__label-arrow:before {content: \"▾\";}#sk-container-id-1 div.sk-estimator input.sk-toggleable__control:checked~label.sk-toggleable__label {background-color: #d4ebff;}#sk-container-id-1 div.sk-label input.sk-toggleable__control:checked~label.sk-toggleable__label {background-color: #d4ebff;}#sk-container-id-1 input.sk-hidden--visually {border: 0;clip: rect(1px 1px 1px 1px);clip: rect(1px, 1px, 1px, 1px);height: 1px;margin: -1px;overflow: hidden;padding: 0;position: absolute;width: 1px;}#sk-container-id-1 div.sk-estimator {font-family: monospace;background-color: #f0f8ff;border: 1px dotted black;border-radius: 0.25em;box-sizing: border-box;margin-bottom: 0.5em;}#sk-container-id-1 div.sk-estimator:hover {background-color: #d4ebff;}#sk-container-id-1 div.sk-parallel-item::after {content: \"\";width: 100%;border-bottom: 1px solid gray;flex-grow: 1;}#sk-container-id-1 div.sk-label:hover label.sk-toggleable__label {background-color: #d4ebff;}#sk-container-id-1 div.sk-serial::before {content: \"\";position: absolute;border-left: 1px solid gray;box-sizing: border-box;top: 0;bottom: 0;left: 50%;z-index: 0;}#sk-container-id-1 div.sk-serial {display: flex;flex-direction: column;align-items: center;background-color: white;padding-right: 0.2em;padding-left: 0.2em;position: relative;}#sk-container-id-1 div.sk-item {position: relative;z-index: 1;}#sk-container-id-1 div.sk-parallel {display: flex;align-items: stretch;justify-content: center;background-color: white;position: relative;}#sk-container-id-1 div.sk-item::before, #sk-container-id-1 div.sk-parallel-item::before {content: \"\";position: absolute;border-left: 1px solid gray;box-sizing: border-box;top: 0;bottom: 0;left: 50%;z-index: -1;}#sk-container-id-1 div.sk-parallel-item {display: flex;flex-direction: column;z-index: 1;position: relative;background-color: white;}#sk-container-id-1 div.sk-parallel-item:first-child::after {align-self: flex-end;width: 50%;}#sk-container-id-1 div.sk-parallel-item:last-child::after {align-self: flex-start;width: 50%;}#sk-container-id-1 div.sk-parallel-item:only-child::after {width: 0;}#sk-container-id-1 div.sk-dashed-wrapped {border: 1px dashed gray;margin: 0 0.4em 0.5em 0.4em;box-sizing: border-box;padding-bottom: 0.4em;background-color: white;}#sk-container-id-1 div.sk-label label {font-family: monospace;font-weight: bold;display: inline-block;line-height: 1.2em;}#sk-container-id-1 div.sk-label-container {text-align: center;}#sk-container-id-1 div.sk-container {/* jupyter's `normalize.less` sets `[hidden] { display: none; }` but bootstrap.min.css set `[hidden] { display: none !important; }` so we also need the `!important` here to be able to override the default hidden behavior on the sphinx rendered scikit-learn.org. See: https://github.com/scikit-learn/scikit-learn/issues/21755 */display: inline-block !important;position: relative;}#sk-container-id-1 div.sk-text-repr-fallback {display: none;}</style><div id=\"sk-container-id-1\" class=\"sk-top-container\"><div class=\"sk-text-repr-fallback\"><pre>LogisticRegression()</pre><b>In a Jupyter environment, please rerun this cell to show the HTML representation or trust the notebook. <br />On GitHub, the HTML representation is unable to render, please try loading this page with nbviewer.org.</b></div><div class=\"sk-container\" hidden><div class=\"sk-item\"><div class=\"sk-estimator sk-toggleable\"><input class=\"sk-toggleable__control sk-hidden--visually\" id=\"sk-estimator-id-1\" type=\"checkbox\" checked><label for=\"sk-estimator-id-1\" class=\"sk-toggleable__label sk-toggleable__label-arrow\">LogisticRegression</label><div class=\"sk-toggleable__content\"><pre>LogisticRegression()</pre></div></div></div></div></div>"
      ],
      "text/plain": [
       "LogisticRegression()"
      ]
     },
     "execution_count": 15,
     "metadata": {},
     "output_type": "execute_result"
    }
   ],
   "source": [
    "logmodel.fit(X_train,y_train)"
   ]
  },
  {
   "cell_type": "code",
   "execution_count": 16,
   "metadata": {},
   "outputs": [
    {
     "data": {
      "text/plain": [
       "40"
      ]
     },
     "execution_count": 16,
     "metadata": {},
     "output_type": "execute_result"
    }
   ],
   "source": [
    "predictions = logmodel.predict(X_test)\n",
    "predictions\n",
    "len(predictions)"
   ]
  },
  {
   "cell_type": "code",
   "execution_count": 17,
   "metadata": {},
   "outputs": [
    {
     "data": {
      "text/plain": [
       "array(['WineB', 'WineA', 'WineB', 'WineB', 'WineA', 'WineB', 'WineA',\n",
       "       'WineB', 'WineB', 'WineA', 'WineB', 'WineB', 'WineA', 'WineB',\n",
       "       'WineA', 'WineB', 'WineA', 'WineA', 'WineB', 'WineB', 'WineA',\n",
       "       'WineB', 'WineB', 'WineA', 'WineA', 'WineA', 'WineB', 'WineA',\n",
       "       'WineB', 'WineA', 'WineA', 'WineB', 'WineB', 'WineB', 'WineA',\n",
       "       'WineB', 'WineA', 'WineA', 'WineA', 'WineB'], dtype=object)"
      ]
     },
     "execution_count": 17,
     "metadata": {},
     "output_type": "execute_result"
    }
   ],
   "source": [
    "predictions"
   ]
  },
  {
   "cell_type": "code",
   "execution_count": 18,
   "metadata": {},
   "outputs": [],
   "source": [
    "from sklearn.metrics import classification_report, confusion_matrix"
   ]
  },
  {
   "cell_type": "code",
   "execution_count": 19,
   "metadata": {},
   "outputs": [
    {
     "name": "stdout",
     "output_type": "stream",
     "text": [
      "[[19  1]\n",
      " [ 0 20]]\n"
     ]
    }
   ],
   "source": [
    "print(confusion_matrix(y_test,predictions))"
   ]
  },
  {
   "cell_type": "code",
   "execution_count": 20,
   "metadata": {},
   "outputs": [
    {
     "name": "stdout",
     "output_type": "stream",
     "text": [
      "              precision    recall  f1-score   support\n",
      "\n",
      "       WineA       1.00      0.95      0.97        20\n",
      "       WineB       0.95      1.00      0.98        20\n",
      "\n",
      "    accuracy                           0.97        40\n",
      "   macro avg       0.98      0.97      0.97        40\n",
      "weighted avg       0.98      0.97      0.97        40\n",
      "\n"
     ]
    }
   ],
   "source": [
    "print(classification_report(y_test,predictions))"
   ]
  }
 ],
 "metadata": {
  "kernelspec": {
   "display_name": "Python 3.10.6 64-bit",
   "language": "python",
   "name": "python3"
  },
  "language_info": {
   "codemirror_mode": {
    "name": "ipython",
    "version": 3
   },
   "file_extension": ".py",
   "mimetype": "text/x-python",
   "name": "python",
   "nbconvert_exporter": "python",
   "pygments_lexer": "ipython3",
   "version": "3.10.6"
  },
  "vscode": {
   "interpreter": {
    "hash": "aee8b7b246df8f9039afb4144a1f6fd8d2ca17a180786b69acc140d282b71a49"
   }
  }
 },
 "nbformat": 4,
 "nbformat_minor": 4
}
