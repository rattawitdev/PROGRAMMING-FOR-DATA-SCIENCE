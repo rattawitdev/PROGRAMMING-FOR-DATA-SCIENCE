{
 "cells": [
  {
   "cell_type": "markdown",
   "id": "80f72ef7-5cd0-4575-8a65-365cfddeb493",
   "metadata": {},
   "source": [
    "# Assignment 7:\n",
    "### รหัสนักศึกษา: 65130701717\n",
    "### ชื่อ-นามสกุล: RATTAWIT PATTARACHAROENPONG\n",
    "### หลักสูตร: SED"
   ]
  },
  {
   "cell_type": "markdown",
   "id": "6cd107ba-393f-446b-98e1-863f364f8d5d",
   "metadata": {},
   "source": [
    "## bag-of-words model"
   ]
  },
  {
   "cell_type": "markdown",
   "id": "0327aba1-a2da-4194-bbb0-8dd9d4ae8d60",
   "metadata": {},
   "source": [
    "1. สร้างตัวสกัดคุณลักษะข้อความแบบ bag of word โดยใช้  CountVectorizer()"
   ]
  },
  {
   "cell_type": "code",
   "execution_count": 3,
   "id": "d5a8449f-6d45-4356-a81d-d7592d0b5c98",
   "metadata": {},
   "outputs": [],
   "source": [
    "from sklearn.feature_extraction.text import CountVectorizer\n",
    "import numpy as np\n",
    "docs = np.array([\n",
    "        'The sun is shining',\n",
    "        'The weather is sweet',\n",
    "        'The sun is shining, the weather is sweet, and one and one is two'])\n",
    "\n",
    "count = docs[0]"
   ]
  },
  {
   "cell_type": "markdown",
   "id": "c10bab0f-4c65-47db-8be9-b347640d098c",
   "metadata": {},
   "source": [
    "2. สกัดคุณลักษณะ ของข้อความ 3 ข้อความ ใน docs แล้วเก็บไว้ที่ bag"
   ]
  },
  {
   "cell_type": "code",
   "execution_count": null,
   "id": "0d3cdeab-db02-406d-950d-d02f2e7f0140",
   "metadata": {},
   "outputs": [],
   "source": [
    "bag = count.fit_transform(...)"
   ]
  },
  {
   "cell_type": "markdown",
   "id": "3ba2437c-b15d-426e-bb35-70c4d9a240a0",
   "metadata": {},
   "source": [
    "3. แสดง คำศัพท์ ที่อยู่ในตัวสกัดคุณลักษณะ count โดยใช้ .vocabulary_ "
   ]
  },
  {
   "cell_type": "code",
   "execution_count": null,
   "id": "b85301bb-ebc9-4a5b-ae69-11fee2e5a335",
   "metadata": {},
   "outputs": [],
   "source": [
    "print(count. ...)"
   ]
  },
  {
   "cell_type": "markdown",
   "id": "d7c49220-8798-40a9-908c-846ddd71252e",
   "metadata": {},
   "source": [
    "4. แสดงลำดับชื่อ feature ที่อยู่ในตัวสกัดคุณลักษณะ โดยใช้  get_feature_names_out()"
   ]
  },
  {
   "cell_type": "code",
   "execution_count": null,
   "id": "f4ec9ddf-c05f-4643-a790-bced43fb0d23",
   "metadata": {},
   "outputs": [],
   "source": [
    "print(count. ...)"
   ]
  },
  {
   "cell_type": "markdown",
   "id": "4de7a39c-49e0-4517-8609-0658cf3601e7",
   "metadata": {},
   "source": [
    "5. แสดง vector ของทั้ง 3 ข้อความ ที่เก็บอยู่ใน bag โดยแปลงเป็น array ก่อนแสดงผล โดยใช้ .toarray()"
   ]
  },
  {
   "cell_type": "code",
   "execution_count": null,
   "id": "2927f832-3c98-4a29-872c-8853ac2d1638",
   "metadata": {},
   "outputs": [],
   "source": [
    "print(bag. ...)"
   ]
  },
  {
   "cell_type": "markdown",
   "id": "c8b6d857-890e-4938-b916-a1189cb8d1f4",
   "metadata": {},
   "source": [
    "6. กำหนดให้ แถวและคอลัมน์ เริ่มที่ 0  \n",
    "\n",
    "- จงอธิบายค่าที่ได้ใน แถวที่ 2 คอลัมนที่ 1 ซึ่งมีค่าเท่ากับ **3**  "
   ]
  },
  {
   "cell_type": "markdown",
   "id": "0b30ccbd-8242-4ae7-8b9f-a0bd1a74591e",
   "metadata": {},
   "source": [
    "**ตอบ** xxxx"
   ]
  },
  {
   "cell_type": "code",
   "execution_count": null,
   "id": "1c89f4ee-26fd-444b-b451-b21b0d9e37af",
   "metadata": {},
   "outputs": [],
   "source": []
  },
  {
   "cell_type": "markdown",
   "id": "4cdb1401-545d-469b-a9be-b88f4ddef130",
   "metadata": {},
   "source": [
    "## Term frequency-inverse document frequency"
   ]
  },
  {
   "cell_type": "markdown",
   "id": "a6fd476a-1de8-4a0e-8a65-63450bd61510",
   "metadata": {},
   "source": [
    "0. เตรียม vector bag of words สำหรับแปลงเป็น tfidf"
   ]
  },
  {
   "cell_type": "code",
   "execution_count": null,
   "id": "5ff17fd1-14e8-4227-80af-f67ae95cce75",
   "metadata": {},
   "outputs": [],
   "source": [
    "import numpy as np\n",
    "from sklearn.feature_extraction.text import CountVectorizer\n",
    "np.set_printoptions(precision=2)\n",
    "docs = np.array([\n",
    "        'The sun is shining',\n",
    "        'The weather is sweet',\n",
    "        'The sun is shining, the weather is sweet, and one and one is two'])\n",
    "count = CountVectorizer()\n",
    "bag = count.fit_transform(docs)\n",
    "print(\"Words: \\n\",count.get_feature_names_out())\n",
    "print(\"BOW: \\n\", bag.toarray() )"
   ]
  },
  {
   "cell_type": "code",
   "execution_count": null,
   "id": "f7e35ab7-5978-48c6-a1d5-8b2dcfb2d168",
   "metadata": {},
   "outputs": [],
   "source": [
    "from sklearn.feature_extraction.text import TfidfTransformer\n",
    "tfidf = TfidfTransformer(use_idf=True, norm= None, smooth_idf=True)"
   ]
  },
  {
   "cell_type": "markdown",
   "id": "44dc91a5-c313-4229-873b-3f44258f4a2b",
   "metadata": {},
   "source": [
    "2. แปลงคุณลักณะ bag เป็น tfidf โดยใช้ .fit_transform() แล้วเก็บไว้ที่ตัวแปร V_tfidf"
   ]
  },
  {
   "cell_type": "code",
   "execution_count": null,
   "id": "089ed177-4c72-442f-84b5-8c01f254369f",
   "metadata": {},
   "outputs": [],
   "source": [
    "V_tfidf =tfidf.fit_transform(...)"
   ]
  },
  {
   "cell_type": "markdown",
   "id": "20ed62c3-0d90-4d64-9748-bed33962ab7c",
   "metadata": {},
   "source": [
    "3. แสดงเวกเตอร์ tfidf ที่ได้ในรูปแบบของ array โดยใช้ .toarray()"
   ]
  },
  {
   "cell_type": "code",
   "execution_count": null,
   "id": "12b24d90-98ec-4c1c-b0b2-40f3532e0000",
   "metadata": {},
   "outputs": [],
   "source": [
    "print(\"Words: \\n\",count.get_feature_names_out())\n",
    "print(\"TF-IDF: \\n\", V_tfidf. ... )"
   ]
  },
  {
   "cell_type": "markdown",
   "id": "475d7e04-78f5-4518-8331-2ffd892917ed",
   "metadata": {},
   "source": [
    "4. กำหนดให้ แถวและคอลัมน์ เริ่มที่ 0 \n",
    "- จงอธิบายค่าที่ได้ ในแถวที่ 2 คอมลัมน์ที่ 7 ซึ่งมีค่าเท่ากับ 1.69\n",
    "- แสดงการคำนวณค่าดังกล่าว"
   ]
  },
  {
   "cell_type": "markdown",
   "id": "3b5a6a81-dacb-4103-bbbd-c9f7a931e8d7",
   "metadata": {},
   "source": [
    "**ตอบ** xxxx"
   ]
  },
  {
   "cell_type": "markdown",
   "id": "622f4e11-f68f-49fa-8af4-7792b76a4083",
   "metadata": {},
   "source": [
    "5. เขียนโค้ด ทำ normalize โดยการหารด้วยขนาดของเวกเตอร์แบบ l2 หรือ euclidean norm"
   ]
  },
  {
   "cell_type": "code",
   "execution_count": null,
   "id": "f0e1b84f-425e-4555-9e1d-77a61ee42507",
   "metadata": {},
   "outputs": [],
   "source": [
    "raw_tfidf = V_tfidf.toarray()[0]\n",
    "l2_tfidf = raw_tfidf / np. ...(np. ...(raw_tfidf**2))\n",
    "l2_tfidf"
   ]
  },
  {
   "cell_type": "markdown",
   "id": "8072160f-da82-484e-b1b0-fa592b4f97f6",
   "metadata": {},
   "source": [
    "### Normalization tfidf"
   ]
  },
  {
   "cell_type": "code",
   "execution_count": null,
   "id": "5bf8b11a-939c-483c-9c85-73dde7d9e762",
   "metadata": {},
   "outputs": [],
   "source": [
    "docs = np.array([\n",
    "        'The sun is shining',\n",
    "        'The weather is sweet',\n",
    "        'The sun is shining, the weather is sweet, and one and one is two'])\n"
   ]
  },
  {
   "cell_type": "markdown",
   "id": "f82d3b80-b841-40ec-9578-9ac9f633b034",
   "metadata": {},
   "source": [
    "1. สร้างตัวแปลงคุณลักษณะเป็น tfidf โดยกำหนดให้ norm= 'l2' และ smooth_idf=True"
   ]
  },
  {
   "cell_type": "code",
   "execution_count": null,
   "id": "f30d8529-851d-452e-abd4-6c75d0acd7f6",
   "metadata": {},
   "outputs": [],
   "source": [
    "from sklearn.feature_extraction.text import TfidfTransformer\n",
    "\n",
    "count = CountVectorizer()\n",
    "bag = count.fit_transform(docs)\n",
    "\n",
    "tfidf = TfidfTransformer(use_idf=True, norm= ... , smooth_idf= ...)\n",
    "V_tfidf = tfidf.fit_transform(bag)\n",
    "\n",
    "print(\"TF-IDF: \\n\", V_tfidf.toarray())"
   ]
  },
  {
   "cell_type": "markdown",
   "id": "89c10caf-8871-4c6f-b7b2-4f7dc98dd872",
   "metadata": {},
   "source": [
    "2. สกัดคุณลักษณะ โดยใช้ TfidfVectorizer โดยส่งค่า docs ไปทำงาน"
   ]
  },
  {
   "cell_type": "code",
   "execution_count": null,
   "id": "8b3e3621-dce5-4339-8b92-40621ad0be2a",
   "metadata": {},
   "outputs": [],
   "source": [
    "from sklearn.feature_extraction.text import TfidfVectorizer\n",
    "\n",
    "tfidf2 = .... (use_idf=True, norm= 'l2', smooth_idf=True)\n",
    "V_tfidf2 = tfidf2.fit_transform(docs)\n",
    "\n",
    "print(\"TF-IDF: \\n\", V_tfidf2.toarray())"
   ]
  },
  {
   "cell_type": "markdown",
   "id": "df9d9541-bb80-44f5-b1ce-c0889f761ea2",
   "metadata": {},
   "source": [
    "## Cleaning text data"
   ]
  },
  {
   "cell_type": "markdown",
   "id": "1969d3db-63b2-454b-847a-cdc48efc065c",
   "metadata": {},
   "source": [
    "0. สร้างฟังก์ชันสำหรับทำความสะอาดข้อความ"
   ]
  },
  {
   "cell_type": "code",
   "execution_count": null,
   "id": "942340a9-6d67-4d7f-8d92-3d776cbe7a86",
   "metadata": {},
   "outputs": [],
   "source": [
    "import re\n",
    "def preprocess(text):\n",
    "    text = re.sub('<[^>]*>', '', text)\n",
    "    emoticons = re.findall('(?::|;|=)(?:-)?(?:\\)|\\(|D|P)',\n",
    "                           text)\n",
    "    text = (re.sub('[\\W]+', ' ', text.lower()) +\n",
    "            ' '.join(emoticons).replace('-', ''))\n",
    "    return text"
   ]
  },
  {
   "cell_type": "code",
   "execution_count": null,
   "id": "262b3dfa-b8e3-4f11-b8ca-5275fa4ecadd",
   "metadata": {},
   "outputs": [],
   "source": [
    "reviews = np.array(['My vote is seven.<br /><br />Title (Brazil): Not Available', \n",
    "           '</a>This :) is :( a test :-)!'])"
   ]
  },
  {
   "cell_type": "markdown",
   "id": "cddd775d-8286-4109-9ff5-98db38c20404",
   "metadata": {},
   "source": [
    "1. ทำความสะอาดข้อความ ใน reviews[0] "
   ]
  },
  {
   "cell_type": "code",
   "execution_count": null,
   "id": "87f7836d-7ebd-4c12-a7a4-1f79faebfc88",
   "metadata": {},
   "outputs": [],
   "source": [
    "preprocess(...)"
   ]
  },
  {
   "cell_type": "markdown",
   "id": "109b94b5-0040-41df-96a2-0ebb0d89fe43",
   "metadata": {},
   "source": [
    "2. ทำความสะอาดข้อความ ใน reviews[1]"
   ]
  },
  {
   "cell_type": "code",
   "execution_count": null,
   "id": "e4442345-72ec-49b5-a1e7-495773e8b5e7",
   "metadata": {},
   "outputs": [],
   "source": [
    "preprocess(...)"
   ]
  },
  {
   "cell_type": "markdown",
   "id": "81fa562c-dd8c-4dc0-84a7-ac53f92897a7",
   "metadata": {},
   "source": [
    "3. กำจัด stopwords และ ทำความสะอาดด้วย preprocess"
   ]
  },
  {
   "cell_type": "code",
   "execution_count": null,
   "id": "a2880e82-e6dd-4833-91b3-0d0d5d0a36d4",
   "metadata": {},
   "outputs": [],
   "source": [
    "from nltk.corpus import stopwords\n",
    "stop = stopwords.words('english')\n",
    "\n",
    "cnt = CountVectorizer(stop_words=..., preprocessor=...)\n",
    "print(cnt.fit_transform(reviews).toarray())\n",
    "print(cnt.get_feature_names_out(reviews))\n"
   ]
  },
  {
   "cell_type": "markdown",
   "id": "e9e8ae5a-d312-4d52-8f92-c3a1bc21c8c4",
   "metadata": {},
   "source": [
    "4. กำหนดแถวเริ่มที่ 0 \n",
    "-อธิบายค่าที่ได้ในข้อ 3 ในแถวที่ 1 ซึ่งเท่ากับ  [0 0 0 1 0 0] "
   ]
  },
  {
   "cell_type": "markdown",
   "id": "a6051205-06e4-4321-9962-5433bf7635d6",
   "metadata": {},
   "source": [
    "**ตอบ** xxxx"
   ]
  },
  {
   "cell_type": "code",
   "execution_count": null,
   "id": "26a84510-c5b2-45fe-a0fd-3cacc3da762b",
   "metadata": {},
   "outputs": [],
   "source": []
  },
  {
   "cell_type": "markdown",
   "id": "890b1fd4-4b23-4f6e-8c8d-86a90a23510d",
   "metadata": {},
   "source": [
    "## สร้างโมเดล logistic regression model สำหรับจำแนกข้อความ  "
   ]
  },
  {
   "cell_type": "markdown",
   "id": "0195f45b-42d3-42b3-a243-02e858eb663a",
   "metadata": {},
   "source": [
    "1. อ่านไฟล์ movie_data.csv"
   ]
  },
  {
   "cell_type": "code",
   "execution_count": null,
   "id": "43695b8f-ab0d-414d-b0c1-ec37330aafc6",
   "metadata": {},
   "outputs": [],
   "source": [
    "import pandas as pd\n",
    "\n",
    "df = pd.read_csv('...', encoding='utf-8')\n",
    "df.head(3)"
   ]
  },
  {
   "cell_type": "markdown",
   "id": "379c950c-f788-4932-97fc-02bdd4fc7db3",
   "metadata": {},
   "source": [
    "2. สร้างคำหยุด จากคำหยุดมาตรฐานในภาษาอังกฤษ 'english' เก็บไว้ในตัวแปร stop"
   ]
  },
  {
   "cell_type": "code",
   "execution_count": null,
   "id": "a248e7a2-e64f-4973-a7fa-5c6ba74d6405",
   "metadata": {},
   "outputs": [],
   "source": [
    "from nltk.corpus import stopwords\n",
    "stop = stopwords.words('...')"
   ]
  },
  {
   "cell_type": "markdown",
   "id": "b624609b-d9fa-4529-a195-c004c914bc0d",
   "metadata": {},
   "source": [
    "3. สร้างฟังก์ทำความสะอาดข้อความ ชื่อฟังก์ชัน TextClaen"
   ]
  },
  {
   "cell_type": "code",
   "execution_count": null,
   "id": "904c1789-dbe8-413c-b1c7-3119c161ca78",
   "metadata": {},
   "outputs": [],
   "source": [
    "import re\n",
    "def .... (text):\n",
    "    text = re.sub('<[^>]*>', '', text)\n",
    "    emoticons = re.findall('(?::|;|=)(?:-)?(?:\\)|\\(|D|P)',\n",
    "                           text)\n",
    "    text = (re.sub('[\\W]+', ' ', text.lower()) +\n",
    "            ' '.join(emoticons).replace('-', ''))\n",
    "    return text"
   ]
  },
  {
   "cell_type": "markdown",
   "id": "583e56d2-369b-4e43-90b2-3b88bf75923f",
   "metadata": {},
   "source": [
    "4. แบ่งชุดข้อมูล train และ test โดย train คือ  25000 ข้อความแรก และ test คือ  25000 ข้อความหลัง "
   ]
  },
  {
   "cell_type": "code",
   "execution_count": null,
   "id": "0abe0c0c-dcb8-4f80-87c8-4e755761c998",
   "metadata": {},
   "outputs": [],
   "source": [
    "X_train = df.loc[:25000]['review'].values\n",
    "y_train = df.loc[...]['sentiment'].values\n",
    "X_test = df.loc[...]['review'].values\n",
    "y_test = df.loc[25000:]['sentiment'].values"
   ]
  },
  {
   "cell_type": "markdown",
   "id": "29f7a4e4-194e-4c47-86c3-8099c961375a",
   "metadata": {},
   "source": [
    "5. สร้างรูปแบบตัวสกัดคุณลักษณะ ด้วย TfidfVectorizer"
   ]
  },
  {
   "cell_type": "code",
   "execution_count": null,
   "id": "7f69fd78-686a-4a6a-9b48-ecefa553be1f",
   "metadata": {},
   "outputs": [],
   "source": [
    "\n",
    "from sklearn.feature_extraction.text import TfidfVectorizer\n",
    "\n",
    "tfidf = ....(use_idf=True, norm= 'l2', smooth_idf=True,stop_words=stop, preprocessor=preprocessor)"
   ]
  },
  {
   "cell_type": "markdown",
   "id": "fb897a93-199e-40e7-81f2-d7c73f30aae7",
   "metadata": {},
   "source": [
    "6. fit และ transform ตัวสกัดคุณลักษณะบนข้อมูล X_train เก็บไว้ที่ตัวแปร V_train"
   ]
  },
  {
   "cell_type": "code",
   "execution_count": null,
   "id": "86bd7ddc-2959-44c7-ad6e-fb463e0a1afa",
   "metadata": {},
   "outputs": [],
   "source": [
    "V_train = tfidf.fit_transform(...)"
   ]
  },
  {
   "cell_type": "markdown",
   "id": "0e787afc-9753-4344-a3dc-202e4970b59e",
   "metadata": {},
   "source": [
    "7. transform ตัวสกัดคุณลักษณะบนข้อมูล X_test เก็บไว้ที่ตัวแปร V_test"
   ]
  },
  {
   "cell_type": "code",
   "execution_count": null,
   "id": "1bddad6b-8840-4866-8632-16899b16921a",
   "metadata": {},
   "outputs": [],
   "source": [
    "V_test = tfidf.transform(...)"
   ]
  },
  {
   "cell_type": "markdown",
   "id": "faa038fb-7b04-479a-abd2-f6b0342d2df1",
   "metadata": {},
   "source": [
    "8. สร้างโมเดลจำแนกโดยใช้ LogisticRegression"
   ]
  },
  {
   "cell_type": "code",
   "execution_count": null,
   "id": "7ab5aa8e-36a3-4cd0-a37b-189288c33d3c",
   "metadata": {},
   "outputs": [],
   "source": [
    "from sklearn.linear_model import LogisticRegression\n",
    "clf = ...(random_state=0, solver='liblinear')"
   ]
  },
  {
   "cell_type": "markdown",
   "id": "64d88230-9b62-4343-a198-befdd59569d7",
   "metadata": {},
   "source": [
    "9. สอนโมเดลด้วยชุดข้อมูลสอน V_train,y_train"
   ]
  },
  {
   "cell_type": "code",
   "execution_count": null,
   "id": "5aa2d09c-ece2-423b-9627-8adf0bcf2b66",
   "metadata": {},
   "outputs": [],
   "source": [
    "clf. ...(V_train,y_train)"
   ]
  },
  {
   "cell_type": "markdown",
   "id": "1f05ac22-ad65-4981-b936-5580bdfbe41c",
   "metadata": {},
   "source": [
    "10. ทำนาย ด้วยชุดข้อมูลทดสอบ V_test"
   ]
  },
  {
   "cell_type": "code",
   "execution_count": null,
   "id": "3847b0f0-ddd6-4c51-8115-dfefd0b4b749",
   "metadata": {},
   "outputs": [],
   "source": [
    "y_pred = clf....(V_test)"
   ]
  },
  {
   "cell_type": "markdown",
   "id": "ebf5c4f3-502f-42f5-8e13-9f51bce6b4bf",
   "metadata": {},
   "source": [
    "11. หาค่า confusion matrix , accuracy , precision, recall, f1"
   ]
  },
  {
   "cell_type": "code",
   "execution_count": null,
   "id": "28ef35cd-d881-4a3c-a5de-653332eb1be8",
   "metadata": {},
   "outputs": [],
   "source": [
    "from sklearn.metrics import classification_report, confusion_matrix\n",
    "cfm = ...(y_test,y_pred)\n",
    "summary_eval = ...(y_test,y_pred)\n",
    "print(cfm)\n",
    "print(summary_eval)"
   ]
  },
  {
   "cell_type": "markdown",
   "id": "d35bfdfd-3939-47d1-b723-c4fcdb65271b",
   "metadata": {},
   "source": [
    "12. บันทึกโมเดลและค่าที่จะนำไปใช้ imdb-senti-xxx.pckl เมื่อ xxx แทนรหัสนักศึกษา"
   ]
  },
  {
   "cell_type": "code",
   "execution_count": null,
   "id": "3943cc3d-33ee-4dfa-854f-3e4703876f1f",
   "metadata": {},
   "outputs": [],
   "source": [
    "import pickle\n",
    "\n",
    "f = open('imdb-senti-xxx.pckl', 'wb')\n",
    "pickle.dump([tfidf,clf,preprocessor], f)\n",
    "f.close()"
   ]
  },
  {
   "cell_type": "markdown",
   "id": "cd2abbfb-e66b-4bfa-8572-f597f4575d52",
   "metadata": {},
   "source": [
    "13. ให้กด restart kernel แล้ว load ค่าจาก imdb-senti-xxx.pckl  "
   ]
  },
  {
   "cell_type": "code",
   "execution_count": null,
   "id": "7bfe9e4d-1483-4514-9ecf-d1a25eda1d36",
   "metadata": {},
   "outputs": [],
   "source": [
    "import pickle\n",
    "f = open('imdb-senti-xxx.pckl', 'rb')\n",
    "tfidf,clf,preprocessor = pickle.load(f)\n",
    "f.close()\n"
   ]
  },
  {
   "cell_type": "markdown",
   "id": "17477532-8f6c-4f40-9a35-8f80c8762874",
   "metadata": {},
   "source": [
    "14. สร้างข้อความโดย copy มาจาก imdb ที่เป็นข้อควาที่ให้ rating ไม่เกิน 3 แล้วทำนาย"
   ]
  },
  {
   "cell_type": "code",
   "execution_count": null,
   "id": "637458d9-57ef-4986-bab3-76613a76c173",
   "metadata": {},
   "outputs": [],
   "source": [
    "from sklearn.linear_model import LogisticRegression\n",
    "from sklearn.feature_extraction.text import TfidfVectorizer\n",
    "import pandas as pd \n",
    "\n",
    "text1 = 'xxx '\n",
    "\n",
    "if clf.predict(tfidf.transform(text)) == 0:\n",
    "    print('Negative')\n",
    "else:\n",
    "    print('Positive')\n",
    "    "
   ]
  },
  {
   "cell_type": "markdown",
   "id": "cdfd00d2-ce6f-4030-83d7-ad17fc4c196f",
   "metadata": {},
   "source": [
    "15. สร้างข้อความโดย copy มาจาก imdb ที่เป็นข้อควาที่ให้ rating เกิน 7 แล้วทำนาย"
   ]
  },
  {
   "cell_type": "code",
   "execution_count": null,
   "id": "3bfe83ea-8925-4a36-b1b0-53b39a254cd0",
   "metadata": {},
   "outputs": [],
   "source": [
    "from sklearn.linear_model import LogisticRegression\n",
    "from sklearn.feature_extraction.text import TfidfVectorizer\n",
    "import pandas as pd \n",
    "\n",
    "text2 = 'xxx '\n",
    "\n",
    "if clf.predict(tfidf.transform(text)) == 0:\n",
    "    print('Negative')\n",
    "else:\n",
    "    print('Positive')\n",
    "    "
   ]
  },
  {
   "cell_type": "markdown",
   "id": "1f910751-02da-4098-a59e-0c6c2e8eeec2",
   "metadata": {
    "id": "W9cNuxFgYxMd"
   },
   "source": [
    "## Thai Text"
   ]
  },
  {
   "cell_type": "code",
   "execution_count": null,
   "id": "249435cf-f18c-4cf2-b9ef-011db91be5ce",
   "metadata": {
    "id": "Wqkn7xGn9R-0"
   },
   "outputs": [],
   "source": [
    "!pip install attacut"
   ]
  },
  {
   "cell_type": "code",
   "execution_count": null,
   "id": "fcbd075c-05e7-4efb-a0a2-fa65a3e4364e",
   "metadata": {
    "id": "mkwkID989j0K"
   },
   "outputs": [],
   "source": [
    "from attacut import tokenize"
   ]
  },
  {
   "cell_type": "code",
   "execution_count": null,
   "id": "76bfb6bd-e476-4ed1-8f3b-c10ecb5f0424",
   "metadata": {
    "colab": {
     "base_uri": "https://localhost:8080/",
     "height": 34
    },
    "id": "vqrV24nY9w-3",
    "outputId": "e7124f05-3733-436e-e701-d9fab586d3b6"
   },
   "outputs": [],
   "source": [
    "tokenize('ฉันหิวข้าว')"
   ]
  },
  {
   "cell_type": "code",
   "execution_count": null,
   "id": "95e196c2-1fd6-4ae1-848d-ffbdeec02cdd",
   "metadata": {
    "id": "eOVj4wny9zPB"
   },
   "outputs": [],
   "source": [
    "Xtrain = ['“บิ๊กตู่” ให้กำลังใจ จนท.บำราศนราดูร ขอหนักนิดเบาหน่อยพูดกันดีๆ พร้อมปรับแก้',\n",
    "          'รัฐบาลไฟเขียวต่ออายุราชการ อธิบดีกรมอุทยานแห่งชาติฯ อีก 1 ปี',\n",
    "          '“บิ๊กป้อม” รับปากเคลียร์ “สิระ-ไผ่” ปะทะเดือดไลน์ พปชร.ยันทำงานกับ ปชป.ได้',\n",
    "          'จ่อเซ็นแมนฯยู!! “จู๊ด เบลลิงแฮม” วันเดอร์คิดเบอร์มิงแฮม พร้อมครอบครัวบุกสนามซ้อมแคร์ริงตัน',\n",
    "          '“จิ้งจอก” เลิกบู่ “วาร์ดี-บาร์นส” คนละ 2 เม็ด ถลุงวิลล่ายับ 4-0',\n",
    "          '“ลิเวอร์พูล” นับถอยหลัง 5 วัน ฉลองแชมป์ที่บ้าน “เอฟเวอร์ตัน”'\n",
    "          ]\n",
    "Ytrain = ['การเมือง',\n",
    "          'การเมือง',\n",
    "          'การเมือง',\n",
    "          'กีฬา',\n",
    "          'กีฬา',\n",
    "          'กีฬา'\n",
    "          ]\n",
    "Xtest = ['“อิทธิพล” ยัน คน พปชร.พี่น้องกัน เคลียร์กันได้ หลังไลน์เดือดปมหน้ากาก',\n",
    "         '“บิ๊กป้อม” รับปากเคลียร์ “สิระ-ไผ่” ปะทะเดือดไลน์ พปชร.ยันทำงานกับ ปชป.ได้',\n",
    "         '“ลิเวอร์พูล” นับถอยหลัง 5 วัน ฉลองแชมป์ที่บ้าน “เอฟเวอร์ตัน”',\n",
    "         'เงินเหลือๆ “ฟลอยด์” ปล่อยวาทะเด็ดพร้อมฮุบกิจการ “นิวคาสเซิล”']"
   ]
  },
  {
   "cell_type": "code",
   "execution_count": null,
   "id": "bb13fc35-8978-48c3-bbe0-4522e9b998f2",
   "metadata": {
    "id": "J8vacMVi-crv"
   },
   "outputs": [],
   "source": [
    "from sklearn.feature_extraction.text import CountVectorizer, TfidfTransformer"
   ]
  },
  {
   "cell_type": "code",
   "execution_count": null,
   "id": "77320f0b-902b-4d4f-85fc-7d803c4f1393",
   "metadata": {
    "id": "qLgtRT-M-mGA"
   },
   "outputs": [],
   "source": [
    "count_vect = CountVectorizer(tokenizer=tokenize)"
   ]
  },
  {
   "cell_type": "code",
   "execution_count": null,
   "id": "03640550-9991-4e8c-874c-87311d55b7f0",
   "metadata": {
    "id": "nTNuCnv8-wkj"
   },
   "outputs": [],
   "source": [
    "Xtrain_count = count_vect.fit_transform(Xtrain)"
   ]
  },
  {
   "cell_type": "code",
   "execution_count": null,
   "id": "06316f1b-a024-4cbe-97a8-981eb8c22793",
   "metadata": {
    "id": "o5DAuSj8_DaE"
   },
   "outputs": [],
   "source": [
    "tf_transformer = TfidfTransformer(use_idf=False)"
   ]
  },
  {
   "cell_type": "code",
   "execution_count": null,
   "id": "5116d6e0-c9a0-4d40-aabf-436eb082f747",
   "metadata": {
    "id": "APAVlHub_XK0"
   },
   "outputs": [],
   "source": [
    "Xtrain_tf = tf_transformer.transform(Xtrain_count)"
   ]
  },
  {
   "cell_type": "markdown",
   "id": "969fa789-2516-4a71-8f11-00e3b4f0cb2a",
   "metadata": {},
   "source": [
    "1. สร้างโมเดลจำแนกข้อความ ว่าเป็น หัวข้อข่าวการเมือง หรือกีฬา"
   ]
  },
  {
   "cell_type": "code",
   "execution_count": null,
   "id": "5ee953d0-5d00-45fb-b8ea-19546e105fe7",
   "metadata": {},
   "outputs": [],
   "source": []
  },
  {
   "cell_type": "markdown",
   "id": "7ed16836-fd57-4ee7-aae0-c16c354798c5",
   "metadata": {},
   "source": [
    "2. แสดงการทดสอบโมเดล"
   ]
  },
  {
   "cell_type": "code",
   "execution_count": null,
   "id": "ffb04bdc-2ec3-474a-8339-66215c2f1bd5",
   "metadata": {},
   "outputs": [],
   "source": []
  },
  {
   "cell_type": "markdown",
   "id": "7a001a9d-7cd6-43a7-9776-02fe0e8c79e4",
   "metadata": {},
   "source": [
    "## Twitter"
   ]
  },
  {
   "cell_type": "code",
   "execution_count": null,
   "id": "3e7fc192-5be9-4927-bd98-d7fbbc53b334",
   "metadata": {},
   "outputs": [],
   "source": [
    "!pip install snscrape "
   ]
  },
  {
   "cell_type": "code",
   "execution_count": null,
   "id": "b96aca25-d14b-4b97-9ae3-2eb9816c431c",
   "metadata": {},
   "outputs": [],
   "source": [
    "import snscrape.modules.twitter as sntwitter"
   ]
  },
  {
   "cell_type": "markdown",
   "id": "a8b5f1e6-fd99-4fc9-998c-7a2333f6e3df",
   "metadata": {},
   "source": [
    "1. ดึงข้อความจาก twitter"
   ]
  },
  {
   "cell_type": "code",
   "execution_count": null,
   "id": "75ab2172-59be-483b-b78d-18b98d28fc11",
   "metadata": {},
   "outputs": [],
   "source": [
    "scarper = sntwitter.TwitterSearchScraper('ฝุ่น')"
   ]
  },
  {
   "cell_type": "code",
   "execution_count": null,
   "id": "45fb87ae-b54d-4b33-955f-eb907e52c189",
   "metadata": {},
   "outputs": [],
   "source": [
    "tweets = []"
   ]
  },
  {
   "cell_type": "markdown",
   "id": "9543eaaa-abf3-4f2b-a513-16d4e3543512",
   "metadata": {},
   "source": [
    "i=1\n",
    "for tweet in scarper.get_items(): \n",
    "    data = [tweet.date, tweet.rawContent]\n",
    "    tweets.append(data)\n",
    "    i = i+1 \n",
    "    if i > 100:\n",
    "        break"
   ]
  },
  {
   "cell_type": "code",
   "execution_count": null,
   "id": "cbd9e4de-b17b-4ac1-a397-82b73b1887fb",
   "metadata": {},
   "outputs": [],
   "source": [
    "import pandas as pd \n",
    "pd.DataFrame(tweets,columns=['date', 'content'])"
   ]
  },
  {
   "cell_type": "markdown",
   "id": "2f7997aa-c94a-4885-976f-51d5ffe2ec76",
   "metadata": {},
   "source": [
    "2. สร้างโมเดลโดยใช้ข้อมูลจาก general-amy.csv"
   ]
  },
  {
   "cell_type": "code",
   "execution_count": null,
   "id": "615394d3-44a4-4eab-81b5-d0646a49faad",
   "metadata": {},
   "outputs": [],
   "source": []
  },
  {
   "cell_type": "markdown",
   "id": "4749c55a-b08b-4d0c-9b75-133ce965613c",
   "metadata": {},
   "source": [
    "3. ทำนายข้อมูลที่ได้ จาก twitter"
   ]
  },
  {
   "cell_type": "code",
   "execution_count": null,
   "id": "9a53202d-7e95-445a-a6cd-aa9d3e3e6d6d",
   "metadata": {},
   "outputs": [],
   "source": []
  },
  {
   "cell_type": "markdown",
   "id": "337d68a1-1a6f-47be-9176-6afb01dbdc5b",
   "metadata": {},
   "source": [
    "4. plot กราฟสรุปผล"
   ]
  },
  {
   "cell_type": "code",
   "execution_count": null,
   "id": "e8273106-8a0f-4ff3-89b5-33162f1284fc",
   "metadata": {},
   "outputs": [],
   "source": []
  }
 ],
 "metadata": {
  "kernelspec": {
   "display_name": "Python 3 (ipykernel)",
   "language": "python",
   "name": "python3"
  },
  "language_info": {
   "codemirror_mode": {
    "name": "ipython",
    "version": 3
   },
   "file_extension": ".py",
   "mimetype": "text/x-python",
   "name": "python",
   "nbconvert_exporter": "python",
   "pygments_lexer": "ipython3",
   "version": "3.10.9"
  }
 },
 "nbformat": 4,
 "nbformat_minor": 5
}
