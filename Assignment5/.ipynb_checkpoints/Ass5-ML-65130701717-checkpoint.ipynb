{
 "cells": [
  {
   "cell_type": "markdown",
   "id": "d9f39147-3354-4165-915f-a323e0857d43",
   "metadata": {},
   "source": [
    "# Assignment 4:\n",
    "### รหัสนักศึกษา: 65130701717\n",
    "### ชื่อ-นามสกุล: RATTAWIT PATTARACHAROENPONG\n",
    "### หลักสูตร: SED"
   ]
  },
  {
   "cell_type": "code",
   "execution_count": 7,
   "id": "9f8be3c6-93ee-4cf5-b188-13bd7f0a8a7b",
   "metadata": {},
   "outputs": [
    {
     "ename": "ModuleNotFoundError",
     "evalue": "No module named 'tensorflow'",
     "output_type": "error",
     "traceback": [
      "\u001b[0;31m---------------------------------------------------------------------------\u001b[0m",
      "\u001b[0;31mModuleNotFoundError\u001b[0m                       Traceback (most recent call last)",
      "Cell \u001b[0;32mIn[7], line 2\u001b[0m\n\u001b[1;32m      1\u001b[0m \u001b[38;5;66;03m#for creating nn + loading dataset \u001b[39;00m\n\u001b[0;32m----> 2\u001b[0m \u001b[38;5;28;01mimport\u001b[39;00m \u001b[38;5;21;01mtensorflow\u001b[39;00m \u001b[38;5;28;01mas\u001b[39;00m \u001b[38;5;21;01mtf\u001b[39;00m\n\u001b[1;32m      3\u001b[0m \u001b[38;5;28;01mfrom\u001b[39;00m \u001b[38;5;21;01mtensorflow\u001b[39;00m \u001b[38;5;28;01mimport\u001b[39;00m  keras\n\u001b[1;32m      4\u001b[0m \u001b[38;5;28;01mfrom\u001b[39;00m \u001b[38;5;21;01mtensorflow\u001b[39;00m\u001b[38;5;21;01m.\u001b[39;00m\u001b[38;5;21;01mkeras\u001b[39;00m \u001b[38;5;28;01mimport\u001b[39;00m layers\n",
      "\u001b[0;31mModuleNotFoundError\u001b[0m: No module named 'tensorflow'"
     ]
    }
   ],
   "source": [
    "#for creating nn + loading dataset \n",
    "import tensorflow as tf\n",
    "from tensorflow import  keras\n",
    "from tensorflow.keras import layers\n",
    "\n",
    "#utilities\n",
    "import numpy as np\n",
    "import matplotlib.pyplot as plt\n",
    "\n",
    "#for evaluation\n",
    "from sklearn.metrics import confusion_matrix\n",
    "from sklearn.metrics import classification_report"
   ]
  },
  {
   "attachments": {
    "8a9514a6-e399-4794-a87c-8e458a1e88e5.png": {
     "image/png": "[encoded data removed]"
    }
   },
   "cell_type": "markdown",
   "id": "801483fe-e7ab-48ca-b428-be3c175d8279",
   "metadata": {},
   "source": [
    "## Fashion MNIST image dataset\n",
    "\n",
    "![image.png](attachment:8a9514a6-e399-4794-a87c-8e458a1e88e5.png)"
   ]
  },
  {
   "cell_type": "markdown",
   "id": "ebe143e2-0cad-4a1c-b4e8-880da179ba48",
   "metadata": {},
   "source": [
    "0. load ข้อมูลรูปภาพ fashion mnist "
   ]
  },
  {
   "cell_type": "code",
   "execution_count": 2,
   "id": "4cf53109-c856-4ac4-be49-a28061fc4d2b",
   "metadata": {},
   "outputs": [
    {
     "ename": "NameError",
     "evalue": "name 'keras' is not defined",
     "output_type": "error",
     "traceback": [
      "\u001b[0;31m---------------------------------------------------------------------------\u001b[0m",
      "\u001b[0;31mNameError\u001b[0m                                 Traceback (most recent call last)",
      "Cell \u001b[0;32mIn[2], line 1\u001b[0m\n\u001b[0;32m----> 1\u001b[0m (x_train, y_train), (x_test, y_test) \u001b[38;5;241m=\u001b[39m \u001b[43mkeras\u001b[49m\u001b[38;5;241m.\u001b[39mdatasets\u001b[38;5;241m.\u001b[39mfashion_mnist\u001b[38;5;241m.\u001b[39mload_data()\n\u001b[1;32m      2\u001b[0m \u001b[38;5;28mprint\u001b[39m(\u001b[38;5;124m'\u001b[39m\u001b[38;5;124mTrain data size:\u001b[39m\u001b[38;5;124m'\u001b[39m,x_train\u001b[38;5;241m.\u001b[39mshape)\n\u001b[1;32m      3\u001b[0m \u001b[38;5;28mprint\u001b[39m(\u001b[38;5;124m'\u001b[39m\u001b[38;5;124mClasses: \u001b[39m\u001b[38;5;124m'\u001b[39m,np\u001b[38;5;241m.\u001b[39munique(y_train))\n",
      "\u001b[0;31mNameError\u001b[0m: name 'keras' is not defined"
     ]
    }
   ],
   "source": [
    "(x_train, y_train), (x_test, y_test) = keras.datasets.fashion_mnist.load_data()\n",
    "print('Train data size:',x_train.shape)\n",
    "print('Classes: ',np.unique(y_train))\n",
    "\n",
    "class_names = ['T-shirt/top', 'Trouser', 'Pullover', 'Dress', 'Coat', 'Sandal', 'Shirt', \n",
    "               'Sneaker', 'Bag', 'Ankle boot']\n",
    "\n"
   ]
  },
  {
   "cell_type": "markdown",
   "id": "db191236-76ea-4daa-bd0d-bc4948c4af3c",
   "metadata": {},
   "source": [
    "1. แสดงตัวอย่างภาพที่โหลดมาได้ 1 ภาพ"
   ]
  },
  {
   "cell_type": "code",
   "execution_count": null,
   "id": "d0dc8ba6-b82c-4f19-9297-cd132c92df30",
   "metadata": {},
   "outputs": [],
   "source": [
    "plt.imshow(x_train[...],cmap=plt.cm.binary)\n",
    "plt.colorbar()\n",
    "plt.show()"
   ]
  },
  {
   "cell_type": "markdown",
   "id": "80662132-5f5b-4d6e-850a-82989b3f2ea4",
   "metadata": {},
   "source": [
    "2. สร้างโครงสร้างของ Neural Networks ที่มี\n",
    "- input layer เป็นตามขนาดภาพ \n",
    "- hidden layer 1 ชั้น จำนวน 128 node \n",
    "- output layer ตามจำนวนคลาส "
   ]
  },
  {
   "cell_type": "code",
   "execution_count": null,
   "id": "2dc01eed-7c47-403e-90c4-dff2312b0e74",
   "metadata": {},
   "outputs": [],
   "source": [
    "model = keras.Sequential()\n",
    "model.add(layers.Flatten(input_shape=(...,...)))\n",
    "model.add(layers.Dense(..., activation=\"relu\")) \n",
    "model.add(layers.Dense(..., activation=\"softmax\"))\n",
    "\n",
    "model.summary() "
   ]
  },
  {
   "cell_type": "markdown",
   "id": "883ec8b4-0055-4024-a404-eaa1fd806483",
   "metadata": {},
   "source": [
    "3. แสดงการคำนวณ ค่าจำนวน Param #  100480 และ 1290"
   ]
  },
  {
   "cell_type": "markdown",
   "id": "92160d29-f275-4650-b4c2-f5d019e993a2",
   "metadata": {},
   "source": [
    "คำตอบ\n",
    "* 100480 = ...\n",
    "* 1290 = ... "
   ]
  },
  {
   "cell_type": "markdown",
   "id": "20bf15f0-62c2-405f-8d8f-bf5ee2f8beb9",
   "metadata": {},
   "source": [
    "4. Compile และ กำหนดรปแบบการเรียนรู้ ได้แก่ optimizer, loss, metrics \n",
    "* optimizer = 'adam' \n",
    "* loss='sparse_categorical_crossentropy' \n",
    "* metrics=['accuracy']\n"
   ]
  },
  {
   "cell_type": "code",
   "execution_count": null,
   "id": "8f87f8a6-e535-45be-82a1-b248ef913081",
   "metadata": {},
   "outputs": [],
   "source": [
    "model.compile(optimizer = ... , loss= ... , metrics= ...)\n"
   ]
  },
  {
   "cell_type": "markdown",
   "id": "d38d6f96-0e5a-4e93-84df-c3af6d196ca4",
   "metadata": {},
   "source": [
    "5. ทำให้โมเดลเรียนรู้ด้วยชุดข้อมูลสอน กำนหนดจำนวนรอบ 10 รอบ"
   ]
  },
  {
   "cell_type": "code",
   "execution_count": null,
   "id": "4e06654d-96ab-46ff-aab1-f1417463ca7e",
   "metadata": {},
   "outputs": [],
   "source": [
    "model.fit(x_train, y_train, epochs=...)"
   ]
  },
  {
   "cell_type": "markdown",
   "id": "93bedf02-a3df-4270-8a63-82490cae6f53",
   "metadata": {},
   "source": [
    "6. ทำนายข้อมูลทดสอบ"
   ]
  },
  {
   "cell_type": "code",
   "execution_count": null,
   "id": "3b35cc46-f04d-4cba-a10f-c94610278eb9",
   "metadata": {},
   "outputs": [],
   "source": [
    "pred = model.predict(...)\n",
    "y_pred =np.argmax(pred,axis=1)"
   ]
  },
  {
   "cell_type": "markdown",
   "id": "7503d640-f6cf-45db-9832-f3af3d90f9a5",
   "metadata": {},
   "source": [
    "7. แสดงตัวอย่างภาพทดสอบและผลการทำนาย"
   ]
  },
  {
   "cell_type": "code",
   "execution_count": null,
   "id": "6fb8e994-5d09-4cc9-985d-33af242764c4",
   "metadata": {},
   "outputs": [],
   "source": [
    "plt.imshow(x_test[...],cmap=plt.cm.binary)\n",
    "plt.colorbar()\n",
    "plt.show()\n",
    "\n",
    "print('Class:', class_names[y_pred[...]])"
   ]
  },
  {
   "cell_type": "markdown",
   "id": "f186e5e9-5caf-44d3-9f6c-bb986cf205d0",
   "metadata": {},
   "source": [
    "8. หา confusion matrix และแสดง ค่าตัวชี้วัดประสิทธิภาพต่างๆ "
   ]
  },
  {
   "cell_type": "code",
   "execution_count": null,
   "id": "8fa7a069-eb37-4380-8775-328f3dc9a85f",
   "metadata": {},
   "outputs": [],
   "source": [
    "cfm = confusion_matrix(y_test,...)\n",
    "eval = classification_report(...,y_pred)\n",
    "print(eval)"
   ]
  },
  {
   "cell_type": "markdown",
   "id": "2a7acc50-837f-4406-b315-eab49626aa7e",
   "metadata": {},
   "source": [
    "9. ทำการสอนโมเดลและทดสอบในแต่ละรอบ เพื่อเก็บค่ามาไว้แสดงแนวโน้มประสิทธิภาพ โดยทำการ\n",
    "* กำหนด epoch จำนวน 20 รอบ \n",
    "* validation_data=(x_test,y_test)"
   ]
  },
  {
   "cell_type": "code",
   "execution_count": null,
   "id": "8c2cd471-c001-41cb-8c52-f08087c8ead7",
   "metadata": {},
   "outputs": [],
   "source": [
    "model.fit(x_train, y_train, epochs=...., validation_data=...)"
   ]
  },
  {
   "cell_type": "markdown",
   "id": "419920a5-03ba-4cc9-b155-62e3886bafb4",
   "metadata": {},
   "source": [
    "10. แสดงประสิทธิภาพในแต่ละรอบ"
   ]
  },
  {
   "cell_type": "code",
   "execution_count": null,
   "id": "b58cb65e-7aac-4075-9fae-82efb16fe7bd",
   "metadata": {},
   "outputs": [],
   "source": [
    "\n",
    "plt.plot(model.history.history['accuracy'], label='training accuracy')\n",
    "plt.plot(model.history.history[...], label='validation accuracy')\n",
    "plt.plot(model.history.history[...], label='training loss')\n",
    "plt.plot(model.history.history[...], label='validation loss')\n",
    "plt.legend()\n",
    "plt.show()\n"
   ]
  },
  {
   "cell_type": "markdown",
   "id": "e39f31b9-b2e4-4a4a-9864-0ef483ba60e2",
   "metadata": {},
   "source": [
    "## CIFAR-10 dataset with 3 hidden layers"
   ]
  },
  {
   "cell_type": "code",
   "execution_count": null,
   "id": "e6dd3cc4-8f05-4274-a672-416c4ae905ff",
   "metadata": {},
   "outputs": [],
   "source": [
    "#For Excercise: CIFAR-10 dataset \n",
    "(x_train,y_train),(x_test,y_test) = keras.datasets.cifar10.load_data()\n",
    "print('Train data size:',x_train.shape)\n",
    "print('Classes: ',np.unique(y_train))\n",
    "\n",
    "class_names = ['airplane', 'automobile', 'bird', 'cat', 'deer', 'dog', \n",
    "               'frog', 'horse', 'ship', 'truck']\n"
   ]
  },
  {
   "cell_type": "markdown",
   "id": "3d1c30ff-247c-4b0d-b282-18f9dcef4a5d",
   "metadata": {},
   "source": [
    "1. แสดงตัวอย่างรูป"
   ]
  },
  {
   "cell_type": "code",
   "execution_count": null,
   "id": "95980302-bcf5-4a5a-8112-412f6c8a0c7c",
   "metadata": {},
   "outputs": [],
   "source": [
    "plt.imshow(x_train[...],cmap=plt.cm.binary)\n",
    "plt.colorbar()\n",
    "plt.show()\n",
    "print(class_names[y_train[...][0]])"
   ]
  },
  {
   "cell_type": "markdown",
   "id": "a93be6ce-4326-4e24-9647-a146dbc751b0",
   "metadata": {},
   "source": [
    "2. สร้างโครงสร้างของ Neural Networks ที่มี\n",
    "- input layer เป็นตามขนาดภาพ \n",
    "- hidden layer 3 ชั้น จำนวน 256, 128, 64 node \n",
    "- output layer ตามจำนวนคลาส "
   ]
  },
  {
   "cell_type": "code",
   "execution_count": null,
   "id": "ab127515-b12b-4e50-9acd-9c1ef0d561c9",
   "metadata": {},
   "outputs": [],
   "source": [
    "model = keras.Sequential()\n",
    "model.add(layers.Flatten(input_shape=(...,...,...)))\n",
    "model.add(layers.Dense(..., activation=\"relu\")) \n",
    "model.add(layers.Dense(..., activation=\"relu\")) \n",
    "model.add(layers.Dense(..., activation=\"relu\")) \n",
    "model.add(layers.Dense(...., activation=\"softmax\"))\n",
    "model.summary()\n"
   ]
  },
  {
   "cell_type": "markdown",
   "id": "3c8e3ddd-41ec-44cd-937e-68733873d40b",
   "metadata": {},
   "source": [
    "3. แสดงการคำนวณ ค่าจำนวน Param #  "
   ]
  },
  {
   "cell_type": "markdown",
   "id": "7f1d9c6e-1b42-463a-ad17-ac5f86e55969",
   "metadata": {},
   "source": []
  },
  {
   "cell_type": "markdown",
   "id": "379f5488-ef46-4235-a2c3-a80a8907602b",
   "metadata": {},
   "source": [
    "4. Compile และ กำหนดรปแบบการเรียนรู้ ได้แก่ optimizer, loss, metrics  \n"
   ]
  },
  {
   "cell_type": "code",
   "execution_count": null,
   "id": "635afaf3-ca39-494d-b5f7-274cafaba20a",
   "metadata": {},
   "outputs": [],
   "source": [
    "model.compile(optimizer = 'adam', loss='sparse_categorical_crossentropy', metrics=['accuracy'])"
   ]
  },
  {
   "cell_type": "markdown",
   "id": "9f7a072a-918c-4211-b565-c2e6de5fafaf",
   "metadata": {},
   "source": [
    "5. ทำให้โมเดลเรียนรู้ด้วยชุดข้อมูลสอน  epochs=100, batch_size=64"
   ]
  },
  {
   "cell_type": "code",
   "execution_count": null,
   "id": "f6dd4699-573a-4cf7-a328-dce679c13e1e",
   "metadata": {},
   "outputs": [],
   "source": [
    "model.fit(x_train, y_train, epochs=..., batch_size=..., validation_data=(x_test,y_test))"
   ]
  },
  {
   "cell_type": "markdown",
   "id": "108a692d-51dd-4450-b206-e46758ee635b",
   "metadata": {},
   "source": [
    "6. แสดงประสิทธิภาพในแต่ละรอบ"
   ]
  },
  {
   "cell_type": "code",
   "execution_count": null,
   "id": "3e00d7f9-281c-48f8-a971-91873524b906",
   "metadata": {},
   "outputs": [],
   "source": [
    "plt.plot(model.history.history['accuracy'], label='training accuracy')\n",
    "plt.plot(model.history.history[...], label='validation accuracy')\n",
    "plt.plot(model.history.history[...], label='training loss')\n",
    "plt.plot(model.history.history[...], label='validation loss')\n",
    "plt.legend()\n",
    "plt.show()"
   ]
  },
  {
   "cell_type": "markdown",
   "id": "5378fc5f-91ec-411d-860c-33b8d52f26e3",
   "metadata": {},
   "source": [
    "6. ทำนายข้อมูลทดสอบ"
   ]
  },
  {
   "cell_type": "code",
   "execution_count": null,
   "id": "7783bdc1-fd6b-4b52-b4cf-801df5465e8a",
   "metadata": {},
   "outputs": [],
   "source": [
    "pred = model.predict(x_test)\n",
    "y_pred =np....(pred,axis=1)"
   ]
  },
  {
   "cell_type": "markdown",
   "id": "372999fd-e47f-4dbf-831e-743ac9c2b7ae",
   "metadata": {},
   "source": [
    "8. หา confusion matrix และแสดง ค่าตัวชี้วัดประสิทธิภาพต่างๆ "
   ]
  },
  {
   "cell_type": "code",
   "execution_count": null,
   "id": "b3a3223d-7032-4467-9ef0-b2f584cc539f",
   "metadata": {},
   "outputs": [],
   "source": [
    "cfm = confusion_matrix(...,...)\n",
    "eval = classification_report(...,...)\n",
    "print(eval)"
   ]
  },
  {
   "cell_type": "markdown",
   "id": "d42260ac-9379-4e09-b185-904c138e77c1",
   "metadata": {},
   "source": [
    "## CIFAR-10 dataset with CNN"
   ]
  },
  {
   "cell_type": "code",
   "execution_count": null,
   "id": "8557800d-e72a-45fe-9276-2703df612e79",
   "metadata": {},
   "outputs": [],
   "source": [
    "model = keras.Sequential()\n",
    "model.add(layers.Conv2D(32, (3, 3), activation='relu', input_shape=(32, 32, 3)))\n",
    "model.add(layers.MaxPooling2D((2, 2)))\n",
    "model.add(layers.Conv2D(64, (3, 3), activation='relu'))\n",
    "model.add(layers.MaxPooling2D((2, 2)))\n",
    "model.add(layers.Conv2D(64, (3, 3), activation='relu'))\n",
    "model.add(layers.Flatten())\n",
    "model.add(layers.Dense(64, activation='relu'))\n",
    "model.add(layers.Dense(10, activation='softmax'))\n",
    "model.summary()"
   ]
  },
  {
   "cell_type": "markdown",
   "id": "ca68fd69-f816-40b5-ba1e-ed182ae9f5fd",
   "metadata": {},
   "source": [
    "1. แสดงการคำนวณ Param #"
   ]
  },
  {
   "cell_type": "code",
   "execution_count": null,
   "id": "ecac6e70-0d33-4071-989b-ac50b5e9fe55",
   "metadata": {},
   "outputs": [],
   "source": []
  },
  {
   "cell_type": "markdown",
   "id": "bffd5a52-4b23-44bb-b82d-637cd2593979",
   "metadata": {},
   "source": [
    "2. compile และ fit จำนวน 10 epoch  batch_size = 64,"
   ]
  },
  {
   "cell_type": "code",
   "execution_count": null,
   "id": "57d32f56-bdb0-4b73-8d87-e0f7224ec034",
   "metadata": {},
   "outputs": [],
   "source": [
    "model.compile(optimizer='adam',\n",
    "              loss=tf.keras.losses.SparseCategoricalCrossentropy(from_logits=True),\n",
    "              metrics=['accuracy'])\n",
    "\n",
    "model.fit(x_train, y_train, epochs=..., batch_size = ...,\n",
    "                    validation_data=(x_test, y_test))"
   ]
  },
  {
   "cell_type": "markdown",
   "id": "9d71a009-21b9-40c4-8812-9bc3349ecab9",
   "metadata": {},
   "source": []
  },
  {
   "cell_type": "code",
   "execution_count": null,
   "id": "f8932669-fcdd-4928-a6bf-4612e5d1e235",
   "metadata": {},
   "outputs": [],
   "source": [
    "plt.plot(model.history.history['accuracy'], label='training accuracy')\n",
    "plt.plot(model.history.history['val_accuracy'], label='validation accuracy')\n",
    "# plt.plot(model.history.history['loss'], label='training loss')\n",
    "# plt.plot(model.history.history['val_loss'], label='validation loss')\n",
    "plt.legend()\n",
    "plt.show()"
   ]
  },
  {
   "cell_type": "markdown",
   "id": "07097f94-5d02-4a66-ab74-27e9e36ba38f",
   "metadata": {},
   "source": [
    "## CIFAR-10 dataset with VGG16"
   ]
  },
  {
   "cell_type": "code",
   "execution_count": null,
   "id": "8d87e55a-c6d9-4994-9067-acbba5339ce8",
   "metadata": {},
   "outputs": [],
   "source": [
    "from tensorflow.keras.applications.vgg16 import VGG16\n",
    "from tensorflow.keras.applications.vgg19 import VGG19\n",
    "from tensorflow.keras.applications.resnet50 import ResNet50\n",
    "from tensorflow.keras.applications.mobilenet_v2 import MobileNetV2\n"
   ]
  },
  {
   "cell_type": "code",
   "execution_count": null,
   "id": "70afd8ec-4417-48b6-8ad0-4724cc751187",
   "metadata": {},
   "outputs": [],
   "source": [
    "# #--------------------------- VGG16 Transfer Learning -------------------\n",
    "base = VGG16(include_top=False, weights='imagenet')\n",
    "# base = MobileNetV2(include_top=False, weights='imagenet')\n",
    "# base = ResNet50(include_top=False, weights='imagenet')\n",
    "base.trainable = False\n",
    "base.summary()\n"
   ]
  },
  {
   "cell_type": "code",
   "execution_count": null,
   "id": "a6253827-d141-4549-bb64-c62b6634c57d",
   "metadata": {},
   "outputs": [],
   "source": [
    "model = keras.Sequential()\n",
    "model.add(layers.Input(shape=(32, 32, 3)))\n",
    "model.add(base)\n",
    "model.add(layers.Flatten())\n",
    "model.add(layers.Dense(10, activation='softmax'))\n",
    "model.summary() "
   ]
  },
  {
   "cell_type": "code",
   "execution_count": null,
   "id": "3b612ffc-9baa-486c-b94d-6c81fdecefea",
   "metadata": {},
   "outputs": [],
   "source": [
    "\n",
    "model.compile(loss='sparse_categorical_crossentropy', optimizer='adam',metrics=['accuracy'])"
   ]
  },
  {
   "cell_type": "code",
   "execution_count": null,
   "id": "1f8ecbd1-2b22-4043-a5f1-a57c56216b49",
   "metadata": {},
   "outputs": [],
   "source": [
    "model.fit(x_train, y_train, epochs=10, batch_size = 64,\n",
    "                    validation_data=(x_test, y_test))"
   ]
  },
  {
   "cell_type": "markdown",
   "id": "970e864c-c789-48e7-93d2-415848fce756",
   "metadata": {},
   "source": [
    "## R G B"
   ]
  },
  {
   "cell_type": "markdown",
   "id": "986f836e-72b2-4a01-a1ec-d3338306c9e2",
   "metadata": {},
   "source": [
    "1. อ่าน frame ภาพจาก วิดีโอ "
   ]
  },
  {
   "cell_type": "code",
   "execution_count": null,
   "id": "1293a86e-0dde-432d-a411-b7dfce2c0946",
   "metadata": {},
   "outputs": [],
   "source": [
    "import cv2\n",
    "\n",
    "#### Explore Color ####\n",
    "cap = cv2.VideoCapture(...)\n",
    "while True:\n",
    "    _,frame = cap.read()\n",
    "    print(frame.shape)\n",
    "\n",
    "    #BGR\n",
    "    R = frame[:,:,2]\n",
    "    G = frame[:,:,1]\n",
    "    B = frame[:,:,0]\n",
    "\n",
    "    cv2.imshow(\"frame\",frame)\n",
    "    cv2.imshow(\"R\",R)\n",
    "    cv2.imshow(\"G\",G)\n",
    "    cv2.imshow(\"B\",B)\n",
    "\n",
    "    key = cv2.waitKey(1) #& 0xFF\n",
    "    if key == ord('q'):\n",
    "        break\n",
    "\n",
    "cv2.destroyAllWindows()\n",
    "\n",
    "\n"
   ]
  },
  {
   "cell_type": "markdown",
   "id": "bdfa471d-e1dc-4aeb-aa6e-e071426b2211",
   "metadata": {},
   "source": [
    "2. แสดงรูป Original, R, G, B ที่ทำเอง "
   ]
  },
  {
   "cell_type": "markdown",
   "id": "53ff3145-5c11-4ccc-b4b3-320a7cd0efc8",
   "metadata": {},
   "source": []
  },
  {
   "cell_type": "markdown",
   "id": "3a3573c9-ce57-46eb-a4ac-1159acaf7097",
   "metadata": {},
   "source": [
    "3. ตรวจจับวัตถุด้วย color threshold"
   ]
  },
  {
   "cell_type": "code",
   "execution_count": null,
   "id": "f51b9e56-0e49-417c-87cf-1045dd1c6197",
   "metadata": {},
   "outputs": [],
   "source": [
    "import cv2\n",
    "### Object Detection with Color Threshold ###\n",
    "cap = cv2.VideoCapture(..)\n",
    "while True:\n",
    "    _,frame = cap.read()\n",
    "    print(frame.shape)\n",
    "\n",
    "    #BGR\n",
    "    R = frame[:,:,2]\n",
    "    G = frame[:,:,1]\n",
    "    B = frame[:,:,0]\n",
    "\n",
    "    cv2.imshow(\"frame\",frame)\n",
    "\n",
    "    obj = (R...) & (G...) & (B...)\n",
    "    obj = 1.0*blue_pen\n",
    "    cv2.imshow(\"... Detection\", obj)\n",
    "\n",
    "    key = cv2.waitKey(1) #& 0xFF\n",
    "    if key == ord('q'):\n",
    "        break\n",
    "\n",
    "cv2.destroyAllWindows()\n"
   ]
  },
  {
   "cell_type": "markdown",
   "id": "423be321-df24-4684-9aaa-5ae29899f15c",
   "metadata": {},
   "source": [
    "4. แสดงตัวอย่างการตรวจจับวัตถุด้วยค่าสี"
   ]
  },
  {
   "cell_type": "markdown",
   "id": "470c1268-7d71-4f70-980e-7f4ba2357ce5",
   "metadata": {},
   "source": []
  },
  {
   "cell_type": "markdown",
   "id": "5fcf2f0a-2e70-4306-833e-0ed6da04ef2e",
   "metadata": {},
   "source": [
    "5. เขียนโปรแกรมเก็บภาพ อย่างน้อย 2 คลาส"
   ]
  },
  {
   "cell_type": "code",
   "execution_count": null,
   "id": "615ffb10-eb41-41b2-9813-ce72d90ecb9d",
   "metadata": {},
   "outputs": [],
   "source": [
    "import cv2\n",
    "import time\n",
    "\n",
    "#### Read From USB Camera ####\n",
    "cap = cv2.VideoCapture(0) \n",
    "while True:\n",
    "    _,frame = cap.read()\n",
    "    print(frame.shape)\n",
    "    cv2.imshow(\"frame\",frame)\n",
    "\n",
    "    key = cv2.waitKey(1) #& 0xFF\n",
    "\n",
    "    if key == ord('...'):\n",
    "        timestr = time.strftime(\"%Y%m%d-%H%M%S\")\n",
    "        cv2.imwrite(filename=\"Images/.../\" + timestr + \".jpg\", img = frame)\n",
    "\n",
    "    if key == ord('...'):\n",
    "        timestr = time.strftime(\"%Y%m%d-%H%M%S\")\n",
    "        cv2.imwrite(filename=\"Images/.../\" + timestr + \".jpg\", img = frame)\n",
    "\n",
    "    if key == ord('q'):\n",
    "        break\n",
    "\n",
    "cv2.destroyAllWindows()\n",
    "\n"
   ]
  },
  {
   "cell_type": "markdown",
   "id": "51599c36-39c8-4004-9478-a9a00427c374",
   "metadata": {},
   "source": [
    "6. แสดงตัวอย่างภาพที่อยู่ใน โฟลเดอร์แต่ละคลาส"
   ]
  },
  {
   "cell_type": "markdown",
   "id": "917c16b4-04a7-4778-9c91-1b3a0d895aee",
   "metadata": {},
   "source": [
    "## CNN pre-trained"
   ]
  },
  {
   "cell_type": "code",
   "execution_count": null,
   "id": "6939cfa3-d918-4428-ba18-b25392409536",
   "metadata": {},
   "outputs": [],
   "source": [
    "import tensorflow as tf\n",
    "from tensorflow import  keras\n",
    "from tensorflow.keras import layers\n",
    "\n",
    "train_ds = keras.utils.image_dataset_from_directory(\n",
    "    directory='Dataset/train/',\n",
    "    labels='inferred',\n",
    "    label_mode='categorical',\n",
    "    batch_size=32,\n",
    "    image_size=(224, 224))\n",
    "test_ds = keras.utils.image_dataset_from_directory(\n",
    "    directory='Dataset/test/',\n",
    "    labels='inferred',\n",
    "    label_mode='categorical',\n",
    "    batch_size=32,\n",
    "    image_size=(224, 224))\n",
    "\n"
   ]
  },
  {
   "cell_type": "markdown",
   "id": "9e818824-963d-450f-a35f-1558ebfe9905",
   "metadata": {},
   "source": [
    "2. แสดงชื่อคลาส"
   ]
  },
  {
   "cell_type": "code",
   "execution_count": null,
   "id": "af6d1557-e643-417c-900b-c4f9c6b39419",
   "metadata": {},
   "outputs": [],
   "source": [
    "class_names = train_ds.class_names\n",
    "print(class_names)"
   ]
  },
  {
   "cell_type": "markdown",
   "id": "98b2c0d4-a9fd-4b75-832a-9532b9f5ad4e",
   "metadata": {},
   "source": [
    "3. สร้างชั้น CNN  โดยใช้ package VGG16 กำหนด ดังนี้ \n",
    "- ไม่เอาชั้น fully connected nn โดยกำหนด include_top=False\n",
    "- weights='imagenet'\n",
    "- input_shape=(224,224,3)\n",
    "\n",
    "\n"
   ]
  },
  {
   "cell_type": "code",
   "execution_count": 5,
   "id": "14a8d6c2-773d-4d78-8126-ca3f574b9398",
   "metadata": {},
   "outputs": [],
   "source": [
    "from tensorflow.keras.applications.vgg16 import VGG16  #https://keras.io/api/applications/vgg/\n",
    "import numpy as np\n",
    "\n",
    "base = VGG16(include_top=False, weights='imagenet', input_shape=(224,224,3))"
   ]
  },
  {
   "cell_type": "markdown",
   "id": "18d8920b-dca1-48cf-bb68-2e341d13eb11",
   "metadata": {},
   "source": [
    "4. แสดงโครงสร้างของ base model ในข้อ 3\n"
   ]
  },
  {
   "cell_type": "code",
   "execution_count": null,
   "id": "f346bd47-04a9-4c9c-a439-e61a5d195469",
   "metadata": {},
   "outputs": [],
   "source": []
  },
  {
   "cell_type": "markdown",
   "id": "3c338270-16da-4d6d-b82e-803043483da0",
   "metadata": {},
   "source": [
    "5. กำหนดให้ไม่ต้องมีการปรับค่า weight ของ base model"
   ]
  },
  {
   "cell_type": "code",
   "execution_count": 7,
   "id": "d9263f0d-2d1e-4278-84cb-20d943982777",
   "metadata": {},
   "outputs": [],
   "source": [
    "base.trainable = ..."
   ]
  },
  {
   "cell_type": "markdown",
   "id": "4223fa97-d433-4d17-a805-e6a405f01a5d",
   "metadata": {},
   "source": [
    "6. กำหนดโครงสร้างของโมเดล สำหรับสอนข้อมูลภาพที่เราสร้างไว้ "
   ]
  },
  {
   "cell_type": "code",
   "execution_count": null,
   "id": "88c0a68a-33b4-4b5e-8dc8-edbcaf0979e0",
   "metadata": {},
   "outputs": [],
   "source": [
    "model = keras.Sequential()\n",
    "model.add(base)\n",
    "model.add(layers.Flatten())\n",
    "model.add(layers.Dense(2, activation='softmax'))\n",
    "model.summary() "
   ]
  },
  {
   "cell_type": "markdown",
   "id": "0a51ebac-356a-4643-a6e4-7591bdfd1b22",
   "metadata": {},
   "source": [
    "7. กำหนดรูปแบบ การเรียนรู้ \n",
    "- loss='categorical_crossentropy' \n",
    "- optimizer='adam'\n",
    "- metrics=['accuracy']"
   ]
  },
  {
   "cell_type": "code",
   "execution_count": 9,
   "id": "d3190fe8-12af-497d-92b4-8c4d5569bd57",
   "metadata": {},
   "outputs": [],
   "source": [
    "model.compile(loss='categorical_crossentropy', optimizer='adam',metrics=['accuracy'])"
   ]
  },
  {
   "cell_type": "markdown",
   "id": "ed2d16c8-26a7-4a57-ae17-a87f16734530",
   "metadata": {},
   "source": [
    "8. ให้โมเดลเรียนรู้จากข้อมูลสอน จำนวน 10 รอบ และกำหนด validation_data=test_ds"
   ]
  },
  {
   "cell_type": "code",
   "execution_count": 10,
   "id": "ba86b844-7fab-4ae7-a06c-4705d6e01fae",
   "metadata": {},
   "outputs": [
    {
     "name": "stdout",
     "output_type": "stream",
     "text": [
      "Epoch 1/10\n",
      "2/2 [==============================] - 9s 6s/step - loss: 13.1167 - accuracy: 0.3906 - val_loss: 4.5413e-07 - val_accuracy: 1.0000\n",
      "Epoch 2/10\n",
      "2/2 [==============================] - 9s 6s/step - loss: 1.4223 - accuracy: 0.8281 - val_loss: 0.0088 - val_accuracy: 1.0000\n",
      "Epoch 3/10\n",
      "2/2 [==============================] - 13s 8s/step - loss: 0.0624 - accuracy: 0.9844 - val_loss: 0.0000e+00 - val_accuracy: 1.0000\n",
      "Epoch 4/10\n",
      "2/2 [==============================] - 13s 8s/step - loss: 0.0000e+00 - accuracy: 1.0000 - val_loss: 0.0000e+00 - val_accuracy: 1.0000\n",
      "Epoch 5/10\n",
      "2/2 [==============================] - 13s 8s/step - loss: 0.0000e+00 - accuracy: 1.0000 - val_loss: 0.0000e+00 - val_accuracy: 1.0000\n",
      "Epoch 6/10\n",
      "2/2 [==============================] - 13s 8s/step - loss: 0.0000e+00 - accuracy: 1.0000 - val_loss: 0.0000e+00 - val_accuracy: 1.0000\n",
      "Epoch 7/10\n",
      "2/2 [==============================] - 13s 8s/step - loss: 0.0000e+00 - accuracy: 1.0000 - val_loss: 0.0000e+00 - val_accuracy: 1.0000\n",
      "Epoch 8/10\n",
      "2/2 [==============================] - 13s 8s/step - loss: 0.0000e+00 - accuracy: 1.0000 - val_loss: 0.0000e+00 - val_accuracy: 1.0000\n",
      "Epoch 9/10\n",
      "2/2 [==============================] - 13s 8s/step - loss: 0.0000e+00 - accuracy: 1.0000 - val_loss: 0.0000e+00 - val_accuracy: 1.0000\n",
      "Epoch 10/10\n",
      "2/2 [==============================] - 13s 8s/step - loss: 0.0000e+00 - accuracy: 1.0000 - val_loss: 0.0000e+00 - val_accuracy: 1.0000\n"
     ]
    },
    {
     "data": {
      "text/plain": [
       "<keras.callbacks.History at 0x1d4a8ce29e0>"
      ]
     },
     "execution_count": 10,
     "metadata": {},
     "output_type": "execute_result"
    }
   ],
   "source": [
    "model.fit(train_ds, epochs=..., validation_data=test_ds)"
   ]
  },
  {
   "cell_type": "markdown",
   "id": "c57b1285-6031-4f48-a54c-bdc866cc07b0",
   "metadata": {},
   "source": [
    "9. บันทึก model ชื่อ 6xxxxxxx_model.h5"
   ]
  },
  {
   "cell_type": "code",
   "execution_count": 13,
   "id": "c0ec0f85-21a3-4fdf-a144-0c2ad196bfb7",
   "metadata": {},
   "outputs": [],
   "source": [
    "model.save('6xxxxxxx_model.h5')"
   ]
  },
  {
   "cell_type": "markdown",
   "id": "1d9cde34-5a50-4539-8edd-fe791fc38679",
   "metadata": {},
   "source": [
    "10. อ่านภาพ และทำนาย ภาพ ว่าอยู่คลาสใด"
   ]
  },
  {
   "cell_type": "code",
   "execution_count": 19,
   "id": "3b6429fb-614c-410e-b5b5-80fe209c132d",
   "metadata": {},
   "outputs": [
    {
     "name": "stdout",
     "output_type": "stream",
     "text": [
      "1/1 [==============================] - 0s 142ms/step\n",
      "Class:  hand-zero\n"
     ]
    },
    {
     "data": {
      "text/plain": [
       "13"
      ]
     },
     "execution_count": 19,
     "metadata": {},
     "output_type": "execute_result"
    }
   ],
   "source": [
    "import cv2\n",
    "im = cv2.imread('.....')\n",
    "imrz = cv2.resize(im,(224,224))\n",
    "im_arr = tf.keras.utils.img_to_array(imrz)\n",
    "im_arr = np.array([im_arr])  # Convert single image to a batch.\n",
    "predictions = model.predict(im_arr)\n",
    "str_class = class_names[predictions.argmax()]\n",
    "print('Class: ', str_class)\n",
    "\n",
    "image = cv2.putText(im,str_class,(50, 70), cv2.FONT_HERSHEY_SIMPLEX, 3, (0, 255, 0), 2, cv2.LINE_AA)\n",
    "\n",
    "cv2.imshow(\"image\", image)\n",
    "cv2.waitKey()\n",
    "\n"
   ]
  },
  {
   "cell_type": "markdown",
   "id": "390af955-322e-4290-af79-872408ffa6b6",
   "metadata": {},
   "source": [
    "11. Optional"
   ]
  },
  {
   "cell_type": "code",
   "execution_count": null,
   "id": "137746f3-7222-48e8-900e-063d4b843c4b",
   "metadata": {},
   "outputs": [],
   "source": [
    "cap = cv2.VideoCapture(1)\n",
    "while True:\n",
    "    _,frame = cap.read()\n",
    "    print(frame.shape)\n",
    "    im = cv2.resize(frame,(224,224))\n",
    "    str_class = class_names[model.predict(np.array([im]))[0].argmax()]\n",
    "        \n",
    "    image = cv2.putText(frame,str_class,(50, 70), cv2.FONT_HERSHEY_SIMPLEX, 3, (0, 255, 0), 2, cv2.LINE_AA)\n",
    "    \n",
    "    cv2.imshow(\"frame\",image)\n",
    "\n",
    "    key = cv2.waitKey(1) #& 0xFF\n",
    "    if key == ord('q'):\n",
    "        break\n",
    "\n",
    "cv2.destroyAllWindows()\n"
   ]
  },
  {
   "cell_type": "markdown",
   "id": "dceaa1fe-7ecf-44de-a90d-7e2b49946a84",
   "metadata": {},
   "source": [
    "แสดงตัวอย่างผลงาน"
   ]
  },
  {
   "cell_type": "code",
   "execution_count": null,
   "id": "6d4acc61-4e1c-4c7a-b6e1-cf4101a2e78a",
   "metadata": {},
   "outputs": [],
   "source": []
  }
 ],
 "metadata": {
  "kernelspec": {
   "display_name": "Python 3 (ipykernel)",
   "language": "python",
   "name": "python3"
  },
  "language_info": {
   "codemirror_mode": {
    "name": "ipython",
    "version": 3
   },
   "file_extension": ".py",
   "mimetype": "text/x-python",
   "name": "python",
   "nbconvert_exporter": "python",
   "pygments_lexer": "ipython3",
   "version": "3.11.2"
  }
 },
 "nbformat": 4,
 "nbformat_minor": 5
}
