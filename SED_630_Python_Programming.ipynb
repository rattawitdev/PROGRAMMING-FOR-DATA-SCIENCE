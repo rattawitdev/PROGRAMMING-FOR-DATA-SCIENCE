{
  "nbformat": 4,
  "nbformat_minor": 0,
  "metadata": {
    "colab": {
      "provenance": [],
      "include_colab_link": true
    },
    "kernelspec": {
      "name": "python3",
      "display_name": "Python 3"
    },
    "language_info": {
      "name": "python"
    }
  },
  "cells": [
    {
      "cell_type": "markdown",
      "metadata": {
        "id": "view-in-github",
        "colab_type": "text"
      },
      "source": [
        "<a href=\"https://colab.research.google.com/github/rattawitdev/PROGRAMMING-FOR-DATA-SCIENCE/blob/master/SED_630_Python_Programming.ipynb\" target=\"_parent\"><img src=\"https://colab.research.google.com/assets/colab-badge.svg\" alt=\"Open In Colab\"/></a>"
      ]
    },
    {
      "cell_type": "markdown",
      "source": [
        "# คอมเมนต์ (Comments)"
      ],
      "metadata": {
        "id": "36kc91A65AwV"
      }
    },
    {
      "cell_type": "code",
      "source": [
        "# Line comment"
      ],
      "metadata": {
        "id": "An-IesvN5VC7"
      },
      "execution_count": null,
      "outputs": []
    },
    {
      "cell_type": "code",
      "source": [
        "\"\"\"\n",
        "Block comment\n",
        "\"\"\""
      ],
      "metadata": {
        "id": "hw5lK6WO5pzT",
        "colab": {
          "base_uri": "https://localhost:8080/",
          "height": 36
        },
        "outputId": "edffd4d8-a6c6-4b27-c10e-bd20e830f1c7"
      },
      "execution_count": null,
      "outputs": [
        {
          "output_type": "execute_result",
          "data": {
            "text/plain": [
              "'\\nBlock comment\\n'"
            ],
            "application/vnd.google.colaboratory.intrinsic+json": {
              "type": "string"
            }
          },
          "metadata": {},
          "execution_count": 2
        }
      ]
    },
    {
      "cell_type": "markdown",
      "source": [
        "# ตัวแปร (Variables)"
      ],
      "metadata": {
        "id": "6O3q1Y7g6FWZ"
      }
    },
    {
      "cell_type": "code",
      "source": [
        "x = 5\n",
        "print(x)"
      ],
      "metadata": {
        "colab": {
          "base_uri": "https://localhost:8080/"
        },
        "id": "rQGBrrA9525O",
        "outputId": "9e694348-d34f-4d0a-de1e-19a329ea0d93"
      },
      "execution_count": 1,
      "outputs": [
        {
          "output_type": "stream",
          "name": "stdout",
          "text": [
            "5\n"
          ]
        }
      ]
    },
    {
      "cell_type": "code",
      "source": [
        "y = 2.5\n",
        "print(y)"
      ],
      "metadata": {
        "colab": {
          "base_uri": "https://localhost:8080/"
        },
        "id": "nDk_i40Y7hlE",
        "outputId": "e0b9af58-3861-4409-fd3a-ead61902c828"
      },
      "execution_count": 2,
      "outputs": [
        {
          "output_type": "stream",
          "name": "stdout",
          "text": [
            "2.5\n"
          ]
        }
      ]
    },
    {
      "cell_type": "code",
      "source": [
        "s = \"Harry\"\n",
        "print(s)"
      ],
      "metadata": {
        "colab": {
          "base_uri": "https://localhost:8080/"
        },
        "id": "-6-35-hz7nzF",
        "outputId": "e0e8a402-0246-4cf9-d995-228626ccf395"
      },
      "execution_count": 3,
      "outputs": [
        {
          "output_type": "stream",
          "name": "stdout",
          "text": [
            "Harry\n"
          ]
        }
      ]
    },
    {
      "cell_type": "markdown",
      "source": [
        "# ชนิดข้อมูล (Data Types)"
      ],
      "metadata": {
        "id": "tQF6CtKp8oy7"
      }
    },
    {
      "cell_type": "markdown",
      "source": [
        "## ตัวเลข (Numbers)"
      ],
      "metadata": {
        "id": "T5SXil7i9rzg"
      }
    },
    {
      "cell_type": "code",
      "source": [
        "# จำนวนเต็ม\n",
        "x = 5\n",
        "print(type(x))"
      ],
      "metadata": {
        "colab": {
          "base_uri": "https://localhost:8080/"
        },
        "id": "-AdKFx2_9WEO",
        "outputId": "35feee33-71fe-4746-c5d4-e5c79e6090fc"
      },
      "execution_count": null,
      "outputs": [
        {
          "output_type": "stream",
          "name": "stdout",
          "text": [
            "<class 'int'>\n"
          ]
        }
      ]
    },
    {
      "cell_type": "code",
      "source": [
        "# ทศนิยม\n",
        "y = 2.5\n",
        "print(type(y))"
      ],
      "metadata": {
        "colab": {
          "base_uri": "https://localhost:8080/"
        },
        "id": "O2LPLAyY-ZsX",
        "outputId": "a98e1703-0069-46e0-97c7-cfaa28c9ae89"
      },
      "execution_count": null,
      "outputs": [
        {
          "output_type": "stream",
          "name": "stdout",
          "text": [
            "<class 'float'>\n"
          ]
        }
      ]
    },
    {
      "cell_type": "code",
      "source": [
        "# จำนวนเชิงซ้อน\n",
        "z = 2 + 3j\n",
        "print(type(z))"
      ],
      "metadata": {
        "colab": {
          "base_uri": "https://localhost:8080/"
        },
        "id": "xu9m33uD-kpK",
        "outputId": "dee4b5e9-58d4-41b8-aa18-8008c776b792"
      },
      "execution_count": null,
      "outputs": [
        {
          "output_type": "stream",
          "name": "stdout",
          "text": [
            "<class 'complex'>\n"
          ]
        }
      ]
    },
    {
      "cell_type": "markdown",
      "source": [
        "## บูลีน (Booleans)"
      ],
      "metadata": {
        "id": "j8uxtoIv_ulc"
      }
    },
    {
      "cell_type": "code",
      "source": [
        "p = True\n",
        "print(type(p))"
      ],
      "metadata": {
        "colab": {
          "base_uri": "https://localhost:8080/"
        },
        "id": "RDc6MSaWBk51",
        "outputId": "10fcdf41-072a-489b-f937-b4120514a1c9"
      },
      "execution_count": null,
      "outputs": [
        {
          "output_type": "stream",
          "name": "stdout",
          "text": [
            "<class 'bool'>\n"
          ]
        }
      ]
    },
    {
      "cell_type": "code",
      "source": [
        "q = False\n",
        "print(type(q))"
      ],
      "metadata": {
        "colab": {
          "base_uri": "https://localhost:8080/"
        },
        "id": "T9aXYOmnBxAR",
        "outputId": "f5ad5ff0-e37b-43fc-c5d2-d229041e4e88"
      },
      "execution_count": null,
      "outputs": [
        {
          "output_type": "stream",
          "name": "stdout",
          "text": [
            "<class 'bool'>\n"
          ]
        }
      ]
    },
    {
      "cell_type": "markdown",
      "source": [
        "## สตริง (String)"
      ],
      "metadata": {
        "id": "sWeLZ8dwB3Fi"
      }
    },
    {
      "cell_type": "code",
      "source": [
        "s1 = \"Hello\"\n",
        "print(type(s1))"
      ],
      "metadata": {
        "colab": {
          "base_uri": "https://localhost:8080/"
        },
        "id": "tSbtLI4iB---",
        "outputId": "34c30a76-c4f8-49e7-9714-a99bcf06d9d5"
      },
      "execution_count": null,
      "outputs": [
        {
          "output_type": "stream",
          "name": "stdout",
          "text": [
            "<class 'str'>\n"
          ]
        }
      ]
    },
    {
      "cell_type": "code",
      "source": [
        "s2 = 'Hello'\n",
        "print(type(s2))"
      ],
      "metadata": {
        "colab": {
          "base_uri": "https://localhost:8080/"
        },
        "id": "opN43BElCM4P",
        "outputId": "1863849c-1349-4b83-8d7f-99976c3c3d13"
      },
      "execution_count": null,
      "outputs": [
        {
          "output_type": "stream",
          "name": "stdout",
          "text": [
            "<class 'str'>\n"
          ]
        }
      ]
    },
    {
      "cell_type": "code",
      "source": [
        "print(s1 == s2)"
      ],
      "metadata": {
        "colab": {
          "base_uri": "https://localhost:8080/"
        },
        "id": "aWiNSwbKCmMR",
        "outputId": "de9bb750-0006-47a8-e6fa-03a33e857937"
      },
      "execution_count": null,
      "outputs": [
        {
          "output_type": "stream",
          "name": "stdout",
          "text": [
            "True\n"
          ]
        }
      ]
    },
    {
      "cell_type": "markdown",
      "source": [
        "## ลิสต์ (Lists)\n",
        "\n",
        "\n",
        "*   เป็นชุดข้อมูลแบบมีลำดับ (Ordered)\n",
        "*   เปลี่ยนแปลงค่าได้ (Mutable)\n",
        "*   มีข้อมูลซ้ำกันได้ (Duplicate members)\n",
        "\n"
      ],
      "metadata": {
        "id": "MrR7bh_tC7g6"
      }
    },
    {
      "cell_type": "code",
      "source": [
        "# การสร้าง Lists\n",
        "my_list = [1,2.5,\"Hello\"]"
      ],
      "metadata": {
        "id": "yvm4W_v6DMym"
      },
      "execution_count": 4,
      "outputs": []
    },
    {
      "cell_type": "code",
      "source": [
        "print(my_list)"
      ],
      "metadata": {
        "colab": {
          "base_uri": "https://localhost:8080/"
        },
        "id": "Ymxz16mrFNJQ",
        "outputId": "b2fe6ea5-4d33-4c12-91c4-5d2eb8b9fa7e"
      },
      "execution_count": 5,
      "outputs": [
        {
          "output_type": "stream",
          "name": "stdout",
          "text": [
            "[1, 2.5, 'Hello']\n"
          ]
        }
      ]
    },
    {
      "cell_type": "code",
      "source": [
        "print(type(my_list))"
      ],
      "metadata": {
        "colab": {
          "base_uri": "https://localhost:8080/"
        },
        "id": "CPpGJeYiFf4V",
        "outputId": "1f9b123f-0fd3-4df0-e99d-92ab3d420687"
      },
      "execution_count": 6,
      "outputs": [
        {
          "output_type": "stream",
          "name": "stdout",
          "text": [
            "<class 'list'>\n"
          ]
        }
      ]
    },
    {
      "cell_type": "code",
      "source": [
        "# การเข้าถึงข้อมูล\n",
        "print(my_list[0])"
      ],
      "metadata": {
        "colab": {
          "base_uri": "https://localhost:8080/"
        },
        "id": "LEmFcPDJGcgn",
        "outputId": "868bc05a-a32a-40ee-c917-9e6b05b1be52"
      },
      "execution_count": 7,
      "outputs": [
        {
          "output_type": "stream",
          "name": "stdout",
          "text": [
            "1\n"
          ]
        }
      ]
    },
    {
      "cell_type": "code",
      "source": [
        "print(my_list[1])"
      ],
      "metadata": {
        "colab": {
          "base_uri": "https://localhost:8080/"
        },
        "id": "aIANU1ISHBJB",
        "outputId": "36356d95-0327-4054-e2e3-4dc651cd2f58"
      },
      "execution_count": 8,
      "outputs": [
        {
          "output_type": "stream",
          "name": "stdout",
          "text": [
            "2.5\n"
          ]
        }
      ]
    },
    {
      "cell_type": "code",
      "source": [
        "print(my_list[2])"
      ],
      "metadata": {
        "colab": {
          "base_uri": "https://localhost:8080/"
        },
        "id": "HlXp6qsYHHBu",
        "outputId": "30f5c60f-4a6e-49f5-fdaf-2a27261b9b6d"
      },
      "execution_count": 9,
      "outputs": [
        {
          "output_type": "stream",
          "name": "stdout",
          "text": [
            "Hello\n"
          ]
        }
      ]
    },
    {
      "cell_type": "code",
      "source": [
        "# การเพิ่มข้อมูล\n",
        "my_list.append('A')\n",
        "print(my_list)"
      ],
      "metadata": {
        "colab": {
          "base_uri": "https://localhost:8080/"
        },
        "id": "FdNg0jSyHV1d",
        "outputId": "21725eac-bdeb-4e64-d511-5dfd7fbe7ddb"
      },
      "execution_count": 10,
      "outputs": [
        {
          "output_type": "stream",
          "name": "stdout",
          "text": [
            "[1, 2.5, 'Hello', 'A']\n"
          ]
        }
      ]
    },
    {
      "cell_type": "code",
      "source": [
        "# การแก้ไขข้อมูล\n",
        "my_list[3] = 'B'\n",
        "print(my_list)"
      ],
      "metadata": {
        "colab": {
          "base_uri": "https://localhost:8080/"
        },
        "id": "dYv1GnzRHtDQ",
        "outputId": "3bc180b7-0c23-4cc1-91e4-c4e3aaf00b9c"
      },
      "execution_count": 11,
      "outputs": [
        {
          "output_type": "stream",
          "name": "stdout",
          "text": [
            "[1, 2.5, 'Hello', 'B']\n"
          ]
        }
      ]
    },
    {
      "cell_type": "code",
      "source": [
        "# การลบข้อมูล\n",
        "my_list.remove('B')\n",
        "print(my_list)"
      ],
      "metadata": {
        "colab": {
          "base_uri": "https://localhost:8080/"
        },
        "id": "ih8F-RreIHJB",
        "outputId": "8eff27fc-4955-4a7f-b07b-3d97b65e6158"
      },
      "execution_count": 12,
      "outputs": [
        {
          "output_type": "stream",
          "name": "stdout",
          "text": [
            "[1, 2.5, 'Hello']\n"
          ]
        }
      ]
    },
    {
      "cell_type": "markdown",
      "source": [
        "## ทูเพิล (Tuples)\n",
        "\n",
        "*   เป็นชุดข้อมูลแบบมีลำดับ (Ordered)\n",
        "*   เปลี่ยนแปลงค่าไม่ได้ (Immutable)\n",
        "*   มีข้อมูลซ้ำกันได้"
      ],
      "metadata": {
        "id": "CZy9r1CaImH8"
      }
    },
    {
      "cell_type": "code",
      "source": [
        "# การสร้าง Tuples\n",
        "my_tuple = (1,2.5,\"Hello\")"
      ],
      "metadata": {
        "id": "XOxhCGPIJXWq"
      },
      "execution_count": 13,
      "outputs": []
    },
    {
      "cell_type": "code",
      "source": [
        "print(my_tuple)"
      ],
      "metadata": {
        "colab": {
          "base_uri": "https://localhost:8080/"
        },
        "id": "CNyIgNWGJwbY",
        "outputId": "ce76f282-0c05-4d17-af13-c69b6ae611cb"
      },
      "execution_count": 14,
      "outputs": [
        {
          "output_type": "stream",
          "name": "stdout",
          "text": [
            "(1, 2.5, 'Hello')\n"
          ]
        }
      ]
    },
    {
      "cell_type": "code",
      "source": [
        "print(type(my_tuple))"
      ],
      "metadata": {
        "colab": {
          "base_uri": "https://localhost:8080/"
        },
        "id": "NHnvAdwQJ3qx",
        "outputId": "028426dd-fb70-4792-cd9a-e82495db3e97"
      },
      "execution_count": 15,
      "outputs": [
        {
          "output_type": "stream",
          "name": "stdout",
          "text": [
            "<class 'tuple'>\n"
          ]
        }
      ]
    },
    {
      "cell_type": "code",
      "source": [
        "# การเข้าถึงข้อมูล\n",
        "print(my_tuple[0])"
      ],
      "metadata": {
        "colab": {
          "base_uri": "https://localhost:8080/"
        },
        "id": "3k0qzdG3J_bV",
        "outputId": "d13f1bd0-5b9c-4a41-c8e5-e31cd45b3b58"
      },
      "execution_count": 16,
      "outputs": [
        {
          "output_type": "stream",
          "name": "stdout",
          "text": [
            "1\n"
          ]
        }
      ]
    },
    {
      "cell_type": "code",
      "source": [
        "print(my_tuple[1])"
      ],
      "metadata": {
        "colab": {
          "base_uri": "https://localhost:8080/"
        },
        "id": "XjxJP7QoKLjp",
        "outputId": "bf7d79e4-a30e-44bb-b1e2-96add5754469"
      },
      "execution_count": null,
      "outputs": [
        {
          "output_type": "stream",
          "name": "stdout",
          "text": [
            "2.5\n"
          ]
        }
      ]
    },
    {
      "cell_type": "code",
      "source": [
        "print(my_tuple[2])"
      ],
      "metadata": {
        "colab": {
          "base_uri": "https://localhost:8080/"
        },
        "id": "6hBGL_iNKOyh",
        "outputId": "659728ef-9ef6-4dcf-e48a-e1e97ba38d44"
      },
      "execution_count": null,
      "outputs": [
        {
          "output_type": "stream",
          "name": "stdout",
          "text": [
            "Hello\n"
          ]
        }
      ]
    },
    {
      "cell_type": "markdown",
      "source": [
        "## เซต (Sets)\n",
        "\n",
        "\n",
        "*   เป็นชุดข้อมูลแบบไม่มีลำดับ (Unordered)\n",
        "*   เปลี่ยนแปลงค่าได้ (Mutable)\n",
        "*   ไม่สามารถเข้าถึงข้อมูลโดยใช้ index\n",
        "*   ข้อมูลซ้ำกันไม่ได้\n",
        "\n"
      ],
      "metadata": {
        "id": "CmOJAnxyKWxA"
      }
    },
    {
      "cell_type": "code",
      "source": [
        "# การสร้าง Set\n",
        "my_set = {1,2.5,\"Hello\"}"
      ],
      "metadata": {
        "id": "1-DVHy-zKyUR"
      },
      "execution_count": null,
      "outputs": []
    },
    {
      "cell_type": "code",
      "source": [
        "print(my_set)"
      ],
      "metadata": {
        "colab": {
          "base_uri": "https://localhost:8080/"
        },
        "id": "FKWBfWwWLDaX",
        "outputId": "ab5fe3e7-28dd-4283-dbd5-126490bbb7fd"
      },
      "execution_count": null,
      "outputs": [
        {
          "output_type": "stream",
          "name": "stdout",
          "text": [
            "{1, 2.5, 'Hello'}\n"
          ]
        }
      ]
    },
    {
      "cell_type": "code",
      "source": [
        "print(type(my_set))"
      ],
      "metadata": {
        "colab": {
          "base_uri": "https://localhost:8080/"
        },
        "id": "uwu8BeysLG0W",
        "outputId": "edb270dd-56aa-4156-c03d-7d53ba510571"
      },
      "execution_count": null,
      "outputs": [
        {
          "output_type": "stream",
          "name": "stdout",
          "text": [
            "<class 'set'>\n"
          ]
        }
      ]
    },
    {
      "cell_type": "code",
      "source": [
        "# การเพิ่มข้อมูล\n",
        "my_set.add('A')\n",
        "print(my_set)"
      ],
      "metadata": {
        "colab": {
          "base_uri": "https://localhost:8080/"
        },
        "id": "pgNI3OBsLZnR",
        "outputId": "8845e092-d7a7-48ed-f587-c249048277e6"
      },
      "execution_count": null,
      "outputs": [
        {
          "output_type": "stream",
          "name": "stdout",
          "text": [
            "{1, 2.5, 'A', 'Hello'}\n"
          ]
        }
      ]
    },
    {
      "cell_type": "code",
      "source": [
        "# การลบข้อมูล\n",
        "my_set.remove('A')\n",
        "print(my_set)"
      ],
      "metadata": {
        "colab": {
          "base_uri": "https://localhost:8080/"
        },
        "id": "IeYpWME7LwX6",
        "outputId": "df5e7095-1e75-4a33-ecef-2f1bdf7834ab"
      },
      "execution_count": null,
      "outputs": [
        {
          "output_type": "stream",
          "name": "stdout",
          "text": [
            "{1, 2.5, 'Hello'}\n"
          ]
        }
      ]
    },
    {
      "cell_type": "code",
      "source": [
        "# การเข้าถึงข้อมูล\n",
        "for x in my_set:\n",
        "  print(x)"
      ],
      "metadata": {
        "colab": {
          "base_uri": "https://localhost:8080/"
        },
        "id": "pCAoF5mNMOfk",
        "outputId": "ac39771d-49ac-4e01-8c0b-b4e8019503fa"
      },
      "execution_count": null,
      "outputs": [
        {
          "output_type": "stream",
          "name": "stdout",
          "text": [
            "1\n",
            "2.5\n",
            "Hello\n"
          ]
        }
      ]
    },
    {
      "cell_type": "markdown",
      "source": [
        "## ดิกชันนารี (Dictionaries)\n",
        "\n",
        "*   เป็นชุดข้อมูลที่เก็บในรูปแบบของคู่ key:value\n",
        "*   เปลี่ยนแปลงค่าได้ (Mutable)\n",
        "*   ข้อมูลซ้ำกันไม่ได้\n",
        "\n"
      ],
      "metadata": {
        "id": "U2o8TF-DMjTZ"
      }
    },
    {
      "cell_type": "code",
      "source": [
        "# การสร้าง Dictionary\n",
        "my_dict = {'name':'John', 'age':20, 'height':175.5}"
      ],
      "metadata": {
        "id": "0P8A7QKoMvVI"
      },
      "execution_count": 17,
      "outputs": []
    },
    {
      "cell_type": "code",
      "source": [
        "print(my_dict)"
      ],
      "metadata": {
        "colab": {
          "base_uri": "https://localhost:8080/"
        },
        "id": "2bFvlOnjNlGn",
        "outputId": "df0be295-8a5a-404e-b14e-5a336c1c4c1d"
      },
      "execution_count": 18,
      "outputs": [
        {
          "output_type": "stream",
          "name": "stdout",
          "text": [
            "{'name': 'John', 'age': 20, 'height': 175.5}\n"
          ]
        }
      ]
    },
    {
      "cell_type": "code",
      "source": [
        "print(type(my_dict))"
      ],
      "metadata": {
        "colab": {
          "base_uri": "https://localhost:8080/"
        },
        "id": "GpevTsSHNq1O",
        "outputId": "9ec1543e-f06c-49d1-8081-f20a60d10b02"
      },
      "execution_count": 19,
      "outputs": [
        {
          "output_type": "stream",
          "name": "stdout",
          "text": [
            "<class 'dict'>\n"
          ]
        }
      ]
    },
    {
      "cell_type": "code",
      "source": [
        "# การเข้าถึงข้อมูล\n",
        "print(my_dict['name'])"
      ],
      "metadata": {
        "colab": {
          "base_uri": "https://localhost:8080/"
        },
        "id": "GnyM1M6cNxqe",
        "outputId": "6fda9cce-65ac-4437-8f97-4f5758310445"
      },
      "execution_count": 20,
      "outputs": [
        {
          "output_type": "stream",
          "name": "stdout",
          "text": [
            "John\n"
          ]
        }
      ]
    },
    {
      "cell_type": "code",
      "source": [
        "# การเพิ่มข้อมูล\n",
        "my_dict['weight'] = 60\n",
        "print(my_dict)"
      ],
      "metadata": {
        "colab": {
          "base_uri": "https://localhost:8080/"
        },
        "id": "0sewDuX2ODZx",
        "outputId": "05adb12e-9699-419c-d6b7-8cd7b96b50b2"
      },
      "execution_count": 21,
      "outputs": [
        {
          "output_type": "stream",
          "name": "stdout",
          "text": [
            "{'name': 'John', 'age': 20, 'height': 175.5, 'weight': 60}\n"
          ]
        }
      ]
    },
    {
      "cell_type": "code",
      "source": [
        "# การแก้ไขข้อมูล\n",
        "my_dict['height'] = 180\n",
        "print(my_dict)"
      ],
      "metadata": {
        "colab": {
          "base_uri": "https://localhost:8080/"
        },
        "id": "rkhJdZ_jOmxf",
        "outputId": "b80022ea-5fbc-4744-fd1e-dbe5d201b5a1"
      },
      "execution_count": 22,
      "outputs": [
        {
          "output_type": "stream",
          "name": "stdout",
          "text": [
            "{'name': 'John', 'age': 20, 'height': 180, 'weight': 60}\n"
          ]
        }
      ]
    },
    {
      "cell_type": "code",
      "source": [
        "# การลบข้อมูล\n",
        "my_dict.pop('weight')\n",
        "print(my_dict)"
      ],
      "metadata": {
        "colab": {
          "base_uri": "https://localhost:8080/"
        },
        "id": "ZYMMkAuiO5J1",
        "outputId": "918e0639-dcf5-4021-d911-027a60f88670"
      },
      "execution_count": 23,
      "outputs": [
        {
          "output_type": "stream",
          "name": "stdout",
          "text": [
            "{'name': 'John', 'age': 20, 'height': 180}\n"
          ]
        }
      ]
    },
    {
      "cell_type": "markdown",
      "source": [
        "# ตัวดำเนินการ (Operators)"
      ],
      "metadata": {
        "id": "xoRxjB_9PlHr"
      }
    },
    {
      "cell_type": "markdown",
      "source": [
        "## ตัวดำเนินการคณิตศาสตร์ (Arithmetic Operators)"
      ],
      "metadata": {
        "id": "4qgOw51zv-dz"
      }
    },
    {
      "cell_type": "code",
      "source": [
        "x = 20\n",
        "y = 3"
      ],
      "metadata": {
        "id": "nr9NcY7ovEqw"
      },
      "execution_count": null,
      "outputs": []
    },
    {
      "cell_type": "code",
      "source": [
        "# บวก (+)\n",
        "print(x+y)"
      ],
      "metadata": {
        "colab": {
          "base_uri": "https://localhost:8080/"
        },
        "id": "Sn9Cn16_vhjd",
        "outputId": "956ba89e-6b6c-4943-82d5-5479dbcba9bc"
      },
      "execution_count": null,
      "outputs": [
        {
          "output_type": "stream",
          "name": "stdout",
          "text": [
            "23\n"
          ]
        }
      ]
    },
    {
      "cell_type": "code",
      "source": [
        "# ลบ (-)\n",
        "print(x-y)"
      ],
      "metadata": {
        "colab": {
          "base_uri": "https://localhost:8080/"
        },
        "id": "DCUw2H7Gvkd1",
        "outputId": "66cb57c9-e642-4a45-89e4-d0b26b209f06"
      },
      "execution_count": null,
      "outputs": [
        {
          "output_type": "stream",
          "name": "stdout",
          "text": [
            "17\n"
          ]
        }
      ]
    },
    {
      "cell_type": "code",
      "source": [
        "# คูณ (*)\n",
        "print(x*y)"
      ],
      "metadata": {
        "colab": {
          "base_uri": "https://localhost:8080/"
        },
        "id": "8XsKjzqnvm_8",
        "outputId": "4270380d-aeb1-44a2-f074-e4485d4efde3"
      },
      "execution_count": null,
      "outputs": [
        {
          "output_type": "stream",
          "name": "stdout",
          "text": [
            "60\n"
          ]
        }
      ]
    },
    {
      "cell_type": "code",
      "source": [
        "# หาร (/)\n",
        "print(x/y)"
      ],
      "metadata": {
        "colab": {
          "base_uri": "https://localhost:8080/"
        },
        "id": "RsDxyjgmvqKu",
        "outputId": "2b21e266-41b0-4400-d978-081dd08f165a"
      },
      "execution_count": null,
      "outputs": [
        {
          "output_type": "stream",
          "name": "stdout",
          "text": [
            "6.666666666666667\n"
          ]
        }
      ]
    },
    {
      "cell_type": "code",
      "source": [
        "# หารเอาเศษ (%)\n",
        "print(x%y)"
      ],
      "metadata": {
        "colab": {
          "base_uri": "https://localhost:8080/"
        },
        "id": "enWGipy3vsos",
        "outputId": "9c129c8c-184a-4c44-9d5b-25aeac2bdd60"
      },
      "execution_count": null,
      "outputs": [
        {
          "output_type": "stream",
          "name": "stdout",
          "text": [
            "2\n"
          ]
        }
      ]
    },
    {
      "cell_type": "code",
      "source": [
        "# หารเอาจำนวนเต็ม (//)\n",
        "print(x//y)"
      ],
      "metadata": {
        "colab": {
          "base_uri": "https://localhost:8080/"
        },
        "id": "HuAQTkYGvxI9",
        "outputId": "331dd589-6aae-406b-9027-217a2944fa7d"
      },
      "execution_count": null,
      "outputs": [
        {
          "output_type": "stream",
          "name": "stdout",
          "text": [
            "6\n"
          ]
        }
      ]
    },
    {
      "cell_type": "code",
      "source": [
        "# ยกกำลัง (**)\n",
        "print(x**y)"
      ],
      "metadata": {
        "colab": {
          "base_uri": "https://localhost:8080/"
        },
        "id": "g9GyIkqzvzR1",
        "outputId": "6131483f-f4e2-49e3-8e17-ce2a7916bc23"
      },
      "execution_count": null,
      "outputs": [
        {
          "output_type": "stream",
          "name": "stdout",
          "text": [
            "8000\n"
          ]
        }
      ]
    },
    {
      "cell_type": "markdown",
      "source": [
        "## ตัวดำเนินการกำหนดค่า (Assignment Operators)\n",
        "ใช้สำหรับกำหนดค่าให้กับตัวแปร"
      ],
      "metadata": {
        "id": "92pS7CrZR9V2"
      }
    },
    {
      "cell_type": "code",
      "source": [
        "# กำหนดค่า (=)\n",
        "x = 7\n",
        "print(x)"
      ],
      "metadata": {
        "colab": {
          "base_uri": "https://localhost:8080/"
        },
        "id": "JoExMFKY6sDf",
        "outputId": "91e1fb0d-2394-445f-8719-a57e220bc3bc"
      },
      "execution_count": null,
      "outputs": [
        {
          "output_type": "stream",
          "name": "stdout",
          "text": [
            "7\n"
          ]
        }
      ]
    },
    {
      "cell_type": "code",
      "source": [
        "x = 5\n",
        "# บวกก่อนแล้วกำหนดค่า (+=)\n",
        "x += 3\n",
        "print(x)"
      ],
      "metadata": {
        "colab": {
          "base_uri": "https://localhost:8080/"
        },
        "id": "lZ8hp8Vfx6XU",
        "outputId": "eb670eb8-425d-426b-b1d8-09277f7585da"
      },
      "execution_count": null,
      "outputs": [
        {
          "output_type": "stream",
          "name": "stdout",
          "text": [
            "8\n"
          ]
        }
      ]
    },
    {
      "cell_type": "code",
      "source": [
        "x = 5\n",
        "# ลบก่อนแล้วกำหนดค่า (-=)\n",
        "x -= 3\n",
        "print(x)"
      ],
      "metadata": {
        "colab": {
          "base_uri": "https://localhost:8080/"
        },
        "id": "BsotPRG6x-tE",
        "outputId": "f14cbec9-cdc0-4ccf-e3ac-892cbb30dca4"
      },
      "execution_count": null,
      "outputs": [
        {
          "output_type": "stream",
          "name": "stdout",
          "text": [
            "2\n"
          ]
        }
      ]
    },
    {
      "cell_type": "code",
      "source": [
        "x = 5\n",
        "# คูณก่อนแล้วกำหนดค่า (*=)\n",
        "x *= 3\n",
        "print(x)"
      ],
      "metadata": {
        "colab": {
          "base_uri": "https://localhost:8080/"
        },
        "id": "7ohzwFIDyBP7",
        "outputId": "3e7751df-ae1f-480b-b5de-e598af441bbe"
      },
      "execution_count": null,
      "outputs": [
        {
          "output_type": "stream",
          "name": "stdout",
          "text": [
            "15\n"
          ]
        }
      ]
    },
    {
      "cell_type": "code",
      "source": [
        "x = 5\n",
        "# หารก่อนแล้วกำหนดค่า (/=)\n",
        "x /= 3\n",
        "print(x)"
      ],
      "metadata": {
        "colab": {
          "base_uri": "https://localhost:8080/"
        },
        "id": "bnft0guf5wkX",
        "outputId": "9398ccf2-54d6-4577-da4d-31834f39199f"
      },
      "execution_count": null,
      "outputs": [
        {
          "output_type": "stream",
          "name": "stdout",
          "text": [
            "1.6666666666666667\n"
          ]
        }
      ]
    },
    {
      "cell_type": "code",
      "source": [
        "x = 5\n",
        "# หารเอาเศษแล้วกำหนดค่า (%=)\n",
        "x %= 3\n",
        "print(x)"
      ],
      "metadata": {
        "colab": {
          "base_uri": "https://localhost:8080/"
        },
        "id": "voUt25bfyDDO",
        "outputId": "6b4dd6dc-05c8-453a-b39d-d9cb1cb08b27"
      },
      "execution_count": null,
      "outputs": [
        {
          "output_type": "stream",
          "name": "stdout",
          "text": [
            "2\n"
          ]
        }
      ]
    },
    {
      "cell_type": "code",
      "source": [
        "x = 5\n",
        "# หารเอาจำนวนเต็มแล้วกำหนดค่า (//=)\n",
        "x //= 3\n",
        "print(x)"
      ],
      "metadata": {
        "colab": {
          "base_uri": "https://localhost:8080/"
        },
        "id": "Twn4kgnTyFUU",
        "outputId": "89778e38-0a17-4c7f-da7a-8f0272001f90"
      },
      "execution_count": null,
      "outputs": [
        {
          "output_type": "stream",
          "name": "stdout",
          "text": [
            "1\n"
          ]
        }
      ]
    },
    {
      "cell_type": "code",
      "source": [
        "x = 5\n",
        "# ยกกำลังแล้วกำหนดค่า (**=)\n",
        "x **= 3\n",
        "print(x)"
      ],
      "metadata": {
        "colab": {
          "base_uri": "https://localhost:8080/"
        },
        "id": "AHw4PliayNHv",
        "outputId": "9e6c3fca-9e8a-4ec7-93a4-e95759dd73ec"
      },
      "execution_count": null,
      "outputs": [
        {
          "output_type": "stream",
          "name": "stdout",
          "text": [
            "125\n"
          ]
        }
      ]
    },
    {
      "cell_type": "markdown",
      "source": [
        "## ตัวดำเนินการเปรียบเทียบ (Comparison Operators)"
      ],
      "metadata": {
        "id": "njJlKXiOSI6o"
      }
    },
    {
      "cell_type": "code",
      "source": [
        "x = 5"
      ],
      "metadata": {
        "id": "VTM2QfNYSYrF"
      },
      "execution_count": null,
      "outputs": []
    },
    {
      "cell_type": "code",
      "source": [
        "# เท่ากับ (==)\n",
        "print(x == 5)"
      ],
      "metadata": {
        "colab": {
          "base_uri": "https://localhost:8080/"
        },
        "id": "dwY0hcElScS0",
        "outputId": "cafb1b0e-497b-4767-f222-46a58a558b0b"
      },
      "execution_count": null,
      "outputs": [
        {
          "output_type": "stream",
          "name": "stdout",
          "text": [
            "True\n"
          ]
        }
      ]
    },
    {
      "cell_type": "code",
      "source": [
        "# ไม่เท่ากับ (!=)\n",
        "print(x != 5)"
      ],
      "metadata": {
        "colab": {
          "base_uri": "https://localhost:8080/"
        },
        "id": "_oQGjkkSy4G-",
        "outputId": "fe226c74-5c0b-4386-89b2-3f49d38693e5"
      },
      "execution_count": null,
      "outputs": [
        {
          "output_type": "stream",
          "name": "stdout",
          "text": [
            "False\n"
          ]
        }
      ]
    },
    {
      "cell_type": "code",
      "source": [
        "# มากกว่า (>)\n",
        "print(x > 5)"
      ],
      "metadata": {
        "colab": {
          "base_uri": "https://localhost:8080/"
        },
        "id": "5YLMN5GgShxQ",
        "outputId": "fa3581af-fe93-4f92-abe3-f0824c403972"
      },
      "execution_count": null,
      "outputs": [
        {
          "output_type": "stream",
          "name": "stdout",
          "text": [
            "False\n"
          ]
        }
      ]
    },
    {
      "cell_type": "code",
      "source": [
        "# มากกว่าหรือเท่ากับ (>=)\n",
        "print(x >= 5)"
      ],
      "metadata": {
        "colab": {
          "base_uri": "https://localhost:8080/"
        },
        "id": "tlbz-hPDSn8L",
        "outputId": "912e38ba-ddc4-4370-8210-e16c9bd99a92"
      },
      "execution_count": null,
      "outputs": [
        {
          "output_type": "stream",
          "name": "stdout",
          "text": [
            "True\n"
          ]
        }
      ]
    },
    {
      "cell_type": "code",
      "source": [
        "# น้อยกว่า (<)\n",
        "print(x < 5)"
      ],
      "metadata": {
        "colab": {
          "base_uri": "https://localhost:8080/"
        },
        "id": "4S3ejMgaSrl3",
        "outputId": "28cce557-a0fb-4664-a934-4f918e6df8eb"
      },
      "execution_count": null,
      "outputs": [
        {
          "output_type": "stream",
          "name": "stdout",
          "text": [
            "False\n"
          ]
        }
      ]
    },
    {
      "cell_type": "code",
      "source": [
        "# น้อยกว่าหรือเท่ากับ (<=)\n",
        "print(x <= 5)"
      ],
      "metadata": {
        "colab": {
          "base_uri": "https://localhost:8080/"
        },
        "id": "SARu4KtSSvJY",
        "outputId": "acefc1d8-ac6b-4fa2-a644-4d1978a6e522"
      },
      "execution_count": null,
      "outputs": [
        {
          "output_type": "stream",
          "name": "stdout",
          "text": [
            "True\n"
          ]
        }
      ]
    },
    {
      "cell_type": "markdown",
      "source": [
        "## ตัวดำเนินการตรรกศาสตร์ (Logical Operators)"
      ],
      "metadata": {
        "id": "9bc9qL69S4xj"
      }
    },
    {
      "cell_type": "code",
      "source": [
        "x = 5"
      ],
      "metadata": {
        "id": "8H8L1aIKTMp1"
      },
      "execution_count": null,
      "outputs": []
    },
    {
      "cell_type": "code",
      "source": [
        "# และ (and)\n",
        "print(x < 5 and x < 10)"
      ],
      "metadata": {
        "colab": {
          "base_uri": "https://localhost:8080/"
        },
        "id": "UwrZIKR_TDdM",
        "outputId": "5e2d489f-a319-4652-f59f-9831757546a6"
      },
      "execution_count": null,
      "outputs": [
        {
          "output_type": "stream",
          "name": "stdout",
          "text": [
            "False\n"
          ]
        }
      ]
    },
    {
      "cell_type": "code",
      "source": [
        "# หรือ (or)\n",
        "print(x < 5 or x < 10)"
      ],
      "metadata": {
        "colab": {
          "base_uri": "https://localhost:8080/"
        },
        "id": "st2uBCjfTPpj",
        "outputId": "86058782-c7d2-46af-da79-3e9980b956e2"
      },
      "execution_count": null,
      "outputs": [
        {
          "output_type": "stream",
          "name": "stdout",
          "text": [
            "True\n"
          ]
        }
      ]
    },
    {
      "cell_type": "code",
      "source": [
        "# นิเสธ (not)\n",
        "print(not (x < 5 or x < 10))"
      ],
      "metadata": {
        "colab": {
          "base_uri": "https://localhost:8080/"
        },
        "id": "Hd6Iin4jTXd_",
        "outputId": "08076a2d-98a0-43af-f810-6c9645ed5f2d"
      },
      "execution_count": null,
      "outputs": [
        {
          "output_type": "stream",
          "name": "stdout",
          "text": [
            "False\n"
          ]
        }
      ]
    },
    {
      "cell_type": "markdown",
      "source": [
        "## ตัวดำเนินการสมาชิก (Membership Operators)\n",
        "ใช้ตรวจสอบว่าเป็นสมาชิกใน List, Tuple, Set, และ Dictionary หรือไม่"
      ],
      "metadata": {
        "id": "PZpGAhU90Huf"
      }
    },
    {
      "cell_type": "code",
      "source": [
        "my_set = {1, 2, 3, 4, 5}"
      ],
      "metadata": {
        "id": "C90I_Jnd09s_"
      },
      "execution_count": null,
      "outputs": []
    },
    {
      "cell_type": "code",
      "source": [
        "print(1 in my_set)"
      ],
      "metadata": {
        "colab": {
          "base_uri": "https://localhost:8080/"
        },
        "id": "XELkFEl11B2m",
        "outputId": "0b394342-a27e-49ab-92ee-f0011dceeeb0"
      },
      "execution_count": null,
      "outputs": [
        {
          "output_type": "stream",
          "name": "stdout",
          "text": [
            "True\n"
          ]
        }
      ]
    },
    {
      "cell_type": "code",
      "source": [
        "print(6 in my_set)"
      ],
      "metadata": {
        "colab": {
          "base_uri": "https://localhost:8080/"
        },
        "id": "gYYcBQ0W1L1m",
        "outputId": "e1e3e05e-ccaf-4ac9-dfcd-0a42d330e50b"
      },
      "execution_count": null,
      "outputs": [
        {
          "output_type": "stream",
          "name": "stdout",
          "text": [
            "False\n"
          ]
        }
      ]
    },
    {
      "cell_type": "code",
      "source": [
        "print(1 not in my_set)"
      ],
      "metadata": {
        "colab": {
          "base_uri": "https://localhost:8080/"
        },
        "id": "spNzzsTY1QQF",
        "outputId": "074c9d40-772b-4a13-9e74-41892e528475"
      },
      "execution_count": null,
      "outputs": [
        {
          "output_type": "stream",
          "name": "stdout",
          "text": [
            "False\n"
          ]
        }
      ]
    },
    {
      "cell_type": "code",
      "source": [
        "print(6 not in my_set)"
      ],
      "metadata": {
        "colab": {
          "base_uri": "https://localhost:8080/"
        },
        "id": "__-YTqbZ1kcG",
        "outputId": "b673d111-7a0f-46c2-8d3b-00f95d239379"
      },
      "execution_count": null,
      "outputs": [
        {
          "output_type": "stream",
          "name": "stdout",
          "text": [
            "True\n"
          ]
        }
      ]
    },
    {
      "cell_type": "markdown",
      "source": [
        "## ตัวดำเนินการเอกลักษณ์ (Identity Operators)\n",
        "ใช้สำหรับเปรียบเทียบ Object ว่าเป็น Object เดียวกันหรือไม่"
      ],
      "metadata": {
        "id": "6cA7kCbu17yM"
      }
    },
    {
      "cell_type": "code",
      "source": [
        "x = [\"one\", \"two\", \"three\"]\n",
        "y = [\"one\", \"two\", \"three\"]\n",
        "z = x"
      ],
      "metadata": {
        "id": "FDiUAYZG-RN2"
      },
      "execution_count": null,
      "outputs": []
    },
    {
      "cell_type": "code",
      "source": [
        "print(x is y)"
      ],
      "metadata": {
        "colab": {
          "base_uri": "https://localhost:8080/"
        },
        "id": "KPOGMjWu2Crh",
        "outputId": "e44fa5e8-cab9-45d4-df53-21bb2e29ea42"
      },
      "execution_count": null,
      "outputs": [
        {
          "output_type": "stream",
          "name": "stdout",
          "text": [
            "False\n"
          ]
        }
      ]
    },
    {
      "cell_type": "code",
      "source": [
        "print(x is not y)"
      ],
      "metadata": {
        "colab": {
          "base_uri": "https://localhost:8080/"
        },
        "id": "LCcWoTsH2D9V",
        "outputId": "1a4e3bc6-0fe2-4f59-8ade-c65b237510f4"
      },
      "execution_count": null,
      "outputs": [
        {
          "output_type": "stream",
          "name": "stdout",
          "text": [
            "True\n"
          ]
        }
      ]
    },
    {
      "cell_type": "code",
      "source": [
        "print(x is z)"
      ],
      "metadata": {
        "colab": {
          "base_uri": "https://localhost:8080/"
        },
        "id": "_AApokT5-hd0",
        "outputId": "102430d9-937f-4099-ae52-e3b0c11c91ce"
      },
      "execution_count": null,
      "outputs": [
        {
          "output_type": "stream",
          "name": "stdout",
          "text": [
            "True\n"
          ]
        }
      ]
    },
    {
      "cell_type": "markdown",
      "source": [
        "# คำสั่ง (Statements)"
      ],
      "metadata": {
        "id": "j4wmTtFXDjJd"
      }
    },
    {
      "cell_type": "markdown",
      "source": [
        "## คำสั่ง if (if statements)\n",
        "if condition:\n",
        "> statements\n",
        "\n"
      ],
      "metadata": {
        "id": "GyW3H8X2QKRU"
      }
    },
    {
      "cell_type": "code",
      "source": [
        "a = 30\n",
        "b = 20\n",
        "if a > b:\n",
        "    print(\"a is greater than b\")"
      ],
      "metadata": {
        "colab": {
          "base_uri": "https://localhost:8080/"
        },
        "id": "6G98e1lFRNIa",
        "outputId": "c5b6546b-efe5-4a83-b1e9-548605dee8e3"
      },
      "execution_count": 35,
      "outputs": [
        {
          "output_type": "stream",
          "name": "stdout",
          "text": [
            "a is greater than b\n"
          ]
        }
      ]
    },
    {
      "cell_type": "markdown",
      "source": [
        "## คำสั่ง if-else (if-else statements)\n",
        "if condition:\n",
        "> statements\n",
        "\n",
        "else:\n",
        "> statements\n",
        "\n",
        "\n",
        "\n"
      ],
      "metadata": {
        "id": "35WdPBNOT-3e"
      }
    },
    {
      "cell_type": "code",
      "source": [
        "a = 50\n",
        "b = 30\n",
        "\n",
        "if a > b:\n",
        "    print(\"a is greater than b\")\n",
        "else:\n",
        "    print(\"a is less than or equal to b\")"
      ],
      "metadata": {
        "colab": {
          "base_uri": "https://localhost:8080/"
        },
        "id": "pkybSOPU_kgu",
        "outputId": "1ac6d15e-0d77-4a2b-c96c-20facce81e3e"
      },
      "execution_count": 25,
      "outputs": [
        {
          "output_type": "stream",
          "name": "stdout",
          "text": [
            "a is greater than b\n"
          ]
        }
      ]
    },
    {
      "cell_type": "markdown",
      "source": [
        "## คำสั่ง if-elif (if-elif statements)\n",
        "if condition1:\n",
        "\n",
        "> statements\n",
        "\n",
        "\n",
        "elif condition2:\n",
        "\n",
        "> statements\n",
        "\n",
        "else:\n",
        ">statements\n",
        "\n"
      ],
      "metadata": {
        "id": "6MYGlgBYUnLJ"
      }
    },
    {
      "cell_type": "code",
      "source": [
        "a = 20\n",
        "b = 30\n",
        "\n",
        "if a > b:\n",
        "    print(\"a is greater than b\")\n",
        "elif a < b:\n",
        "    print(\"a is less than b\")\n",
        "else:\n",
        "    print(\"a is equal to b\")"
      ],
      "metadata": {
        "colab": {
          "base_uri": "https://localhost:8080/"
        },
        "id": "I2sctZVE_tv1",
        "outputId": "8f6b3a1c-2cb0-465f-923d-51199ce5be4c"
      },
      "execution_count": 26,
      "outputs": [
        {
          "output_type": "stream",
          "name": "stdout",
          "text": [
            "a is less than b\n"
          ]
        }
      ]
    },
    {
      "cell_type": "markdown",
      "source": [
        "## คำสั่ง if ซ้อน if (Nested If)"
      ],
      "metadata": {
        "id": "ua_oTMA9UaIb"
      }
    },
    {
      "cell_type": "code",
      "source": [
        "number = 5\n",
        "\n",
        "if number == 0:\n",
        "    print(number,\"is zero\")\n",
        "else:\n",
        "    if number > 0:\n",
        "        print(number, \"is positive\")\n",
        "    else:\n",
        "        print(number, \"is negative\")"
      ],
      "metadata": {
        "id": "eWClvIqDUleu",
        "colab": {
          "base_uri": "https://localhost:8080/"
        },
        "outputId": "99994718-ee68-464c-a74c-b53645b16404"
      },
      "execution_count": 27,
      "outputs": [
        {
          "output_type": "stream",
          "name": "stdout",
          "text": [
            "5 is positive\n"
          ]
        }
      ]
    },
    {
      "cell_type": "markdown",
      "source": [
        "## ลูป while\n",
        "while condition:\n",
        "> statements"
      ],
      "metadata": {
        "id": "ozVZP-kVVYD1"
      }
    },
    {
      "cell_type": "code",
      "source": [
        "x = 1\n",
        "\n",
        "while x < 6:\n",
        "    print(x)\n",
        "    x += 1"
      ],
      "metadata": {
        "id": "keysFTJTVce9",
        "colab": {
          "base_uri": "https://localhost:8080/"
        },
        "outputId": "939c6a49-3e1f-4bac-8326-09722544eff7"
      },
      "execution_count": 28,
      "outputs": [
        {
          "output_type": "stream",
          "name": "stdout",
          "text": [
            "1\n",
            "2\n",
            "3\n",
            "4\n",
            "5\n"
          ]
        }
      ]
    },
    {
      "cell_type": "markdown",
      "source": [
        "## ลูป for\n",
        "for value in sequence:\n",
        "> statements"
      ],
      "metadata": {
        "id": "pQ_4-3rJVdgB"
      }
    },
    {
      "cell_type": "code",
      "source": [
        "my_list = ['A', 'B', 'C', 'D']\n",
        "\n",
        "for x in my_list:\n",
        "    print(x)"
      ],
      "metadata": {
        "id": "eK9umFFxViSd",
        "colab": {
          "base_uri": "https://localhost:8080/"
        },
        "outputId": "eb6feb1f-eb6a-4371-dd31-b2e4c6c42900"
      },
      "execution_count": 29,
      "outputs": [
        {
          "output_type": "stream",
          "name": "stdout",
          "text": [
            "A\n",
            "B\n",
            "C\n",
            "D\n"
          ]
        }
      ]
    },
    {
      "cell_type": "code",
      "source": [
        "my_tuple = ('A', 'B', 'C', 'D')\n",
        "\n",
        "for x in my_tuple:\n",
        "    print(x)"
      ],
      "metadata": {
        "colab": {
          "base_uri": "https://localhost:8080/"
        },
        "id": "iAMWqruvBqp8",
        "outputId": "0b3c3485-5407-4c4a-df52-dd49382f155a"
      },
      "execution_count": 30,
      "outputs": [
        {
          "output_type": "stream",
          "name": "stdout",
          "text": [
            "A\n",
            "B\n",
            "C\n",
            "D\n"
          ]
        }
      ]
    },
    {
      "cell_type": "code",
      "source": [
        "my_set = {'A', 'B', 'C', 'D'}\n",
        "\n",
        "for x in my_set:\n",
        "    print(x)"
      ],
      "metadata": {
        "colab": {
          "base_uri": "https://localhost:8080/"
        },
        "id": "dTNrA1MKBxpg",
        "outputId": "4cf69348-d842-44c1-9245-e5e7e87b54b1"
      },
      "execution_count": 31,
      "outputs": [
        {
          "output_type": "stream",
          "name": "stdout",
          "text": [
            "B\n",
            "D\n",
            "C\n",
            "A\n"
          ]
        }
      ]
    },
    {
      "cell_type": "code",
      "source": [
        "my_dict = {1:'A', 2:'B', 3:'C', 4:'D'}\n",
        "\n",
        "for key,value in my_dict.items():\n",
        "  print(key,value)"
      ],
      "metadata": {
        "colab": {
          "base_uri": "https://localhost:8080/"
        },
        "id": "lYccZFo6B1_3",
        "outputId": "8f3e1479-1625-488b-96ab-5f5c94df1c37"
      },
      "execution_count": 32,
      "outputs": [
        {
          "output_type": "stream",
          "name": "stdout",
          "text": [
            "1 A\n",
            "2 B\n",
            "3 C\n",
            "4 D\n"
          ]
        }
      ]
    },
    {
      "cell_type": "code",
      "source": [
        "for x in range(6):\n",
        "  print(x)"
      ],
      "metadata": {
        "colab": {
          "base_uri": "https://localhost:8080/"
        },
        "id": "-b4cO2paFt_Q",
        "outputId": "80afbdab-4d2a-4050-d805-f278f62b77e8"
      },
      "execution_count": 33,
      "outputs": [
        {
          "output_type": "stream",
          "name": "stdout",
          "text": [
            "0\n",
            "1\n",
            "2\n",
            "3\n",
            "4\n",
            "5\n"
          ]
        }
      ]
    },
    {
      "cell_type": "markdown",
      "source": [
        "# ฟังก์ชัน (Functions)\n",
        "def function_name(parameters):\n",
        "> statements"
      ],
      "metadata": {
        "id": "z-7E8M1IDTmu"
      }
    },
    {
      "cell_type": "markdown",
      "source": [
        "## การประกาศฟังก์ชัน (Defining a Function)"
      ],
      "metadata": {
        "id": "RpL4xPeSD9qd"
      }
    },
    {
      "cell_type": "markdown",
      "source": [
        "### ฟังก์ชันแบบไม่มีพารามิเตอร์ (Parameters)"
      ],
      "metadata": {
        "id": "AKyVUCIFOzkt"
      }
    },
    {
      "cell_type": "code",
      "source": [
        "def my_func():\n",
        "  print(\"Hello World!\")"
      ],
      "metadata": {
        "id": "vUP3EfghEbPt"
      },
      "execution_count": 36,
      "outputs": []
    },
    {
      "cell_type": "markdown",
      "source": [
        "### ฟังก์ชันแบบมีพารามิเตอร์ (Parameters)"
      ],
      "metadata": {
        "id": "ICDTU8z-O_Xc"
      }
    },
    {
      "cell_type": "code",
      "source": [
        "def greeting(name):\n",
        "  print(\"Hello\", name)"
      ],
      "metadata": {
        "id": "3Pf62fxAPHHs"
      },
      "execution_count": 37,
      "outputs": []
    },
    {
      "cell_type": "markdown",
      "source": [
        "## การเรียกใช้งานฟังก์ชัน (Calling a Function)\n",
        "function_name(parameters)"
      ],
      "metadata": {
        "id": "DhI8J-njEJWV"
      }
    },
    {
      "cell_type": "code",
      "source": [
        "my_func()"
      ],
      "metadata": {
        "id": "7mEXarLXDXlR",
        "colab": {
          "base_uri": "https://localhost:8080/"
        },
        "outputId": "ce7413e2-1588-4ed6-8db1-eb5ae3f83694"
      },
      "execution_count": 38,
      "outputs": [
        {
          "output_type": "stream",
          "name": "stdout",
          "text": [
            "Hello World!\n"
          ]
        }
      ]
    },
    {
      "cell_type": "code",
      "source": [
        "greeting(\"Harry\")"
      ],
      "metadata": {
        "colab": {
          "base_uri": "https://localhost:8080/"
        },
        "id": "5UiCWheBEAXN",
        "outputId": "74428a14-da6f-4791-dc8c-722a172bef5d"
      },
      "execution_count": 39,
      "outputs": [
        {
          "output_type": "stream",
          "name": "stdout",
          "text": [
            "Hello Harry\n"
          ]
        }
      ]
    },
    {
      "cell_type": "markdown",
      "source": [
        "## Default Parameters"
      ],
      "metadata": {
        "id": "lQVkhMqIEpY1"
      }
    },
    {
      "cell_type": "code",
      "source": [
        "def add(x=2,y=5):\n",
        "  print(x+y)"
      ],
      "metadata": {
        "id": "BsnTA-n1Et0i"
      },
      "execution_count": 40,
      "outputs": []
    },
    {
      "cell_type": "code",
      "source": [
        "add()"
      ],
      "metadata": {
        "colab": {
          "base_uri": "https://localhost:8080/"
        },
        "id": "NEp0bzJbEhVd",
        "outputId": "0ddde051-94cc-4083-b5ba-07296a4b0736"
      },
      "execution_count": 41,
      "outputs": [
        {
          "output_type": "stream",
          "name": "stdout",
          "text": [
            "7\n"
          ]
        }
      ]
    },
    {
      "cell_type": "code",
      "source": [
        "add(x=6)"
      ],
      "metadata": {
        "colab": {
          "base_uri": "https://localhost:8080/"
        },
        "id": "N5-1kNjhErQL",
        "outputId": "8b54195c-6f8d-426d-e8fb-072feaad6c2d"
      },
      "execution_count": 44,
      "outputs": [
        {
          "output_type": "stream",
          "name": "stdout",
          "text": [
            "11\n"
          ]
        }
      ]
    },
    {
      "cell_type": "code",
      "source": [
        "add(y=8)"
      ],
      "metadata": {
        "colab": {
          "base_uri": "https://localhost:8080/"
        },
        "id": "To1Fm5dME2PT",
        "outputId": "c8dadbc7-0afc-4ae9-e0a7-63b345c26d07"
      },
      "execution_count": 45,
      "outputs": [
        {
          "output_type": "stream",
          "name": "stdout",
          "text": [
            "10\n"
          ]
        }
      ]
    },
    {
      "cell_type": "code",
      "source": [
        "add(x=7, y=8)"
      ],
      "metadata": {
        "colab": {
          "base_uri": "https://localhost:8080/"
        },
        "id": "tJFsA4eRE8Me",
        "outputId": "23c04651-d83c-4331-c89f-4a4aae3a02a4"
      },
      "execution_count": 46,
      "outputs": [
        {
          "output_type": "stream",
          "name": "stdout",
          "text": [
            "15\n"
          ]
        }
      ]
    },
    {
      "cell_type": "code",
      "source": [
        "add(y=8, x=7)"
      ],
      "metadata": {
        "colab": {
          "base_uri": "https://localhost:8080/"
        },
        "id": "sqSomESdFBSd",
        "outputId": "4f546262-6289-4fd8-e767-7ead1ab1d436"
      },
      "execution_count": 47,
      "outputs": [
        {
          "output_type": "stream",
          "name": "stdout",
          "text": [
            "15\n"
          ]
        }
      ]
    },
    {
      "cell_type": "markdown",
      "source": [
        "## การส่งค่ากลับ (Return Values) ของฟังก์ชัน"
      ],
      "metadata": {
        "id": "2YU_dhAFE5F-"
      }
    },
    {
      "cell_type": "code",
      "source": [
        "def sub(x,y):\n",
        "  return x-y"
      ],
      "metadata": {
        "id": "Fl8l2zzKGq1_"
      },
      "execution_count": 48,
      "outputs": []
    },
    {
      "cell_type": "code",
      "source": [
        "z = sub(8,2)\n",
        "print(z)"
      ],
      "metadata": {
        "colab": {
          "base_uri": "https://localhost:8080/"
        },
        "id": "4ygtZ2WHFX8W",
        "outputId": "2632e856-27b0-4125-c084-98d5c817c1f8"
      },
      "execution_count": 49,
      "outputs": [
        {
          "output_type": "stream",
          "name": "stdout",
          "text": [
            "6\n"
          ]
        }
      ]
    },
    {
      "cell_type": "markdown",
      "source": [
        "# โมดูล (Modules)\n",
        "โมดูลเป็นไฟล์ (file) ที่ใช้สำหรับเก็บรวบรวมฟังก์ชัน"
      ],
      "metadata": {
        "id": "5NlIn0dPGpaA"
      }
    },
    {
      "cell_type": "code",
      "source": [
        "import mymodule\n",
        "\n",
        "mymodule.multiply(2,5)"
      ],
      "metadata": {
        "id": "OtD4v2dnE_GR",
        "colab": {
          "base_uri": "https://localhost:8080/"
        },
        "outputId": "24501c73-2bfc-4668-fd39-73773e8947cb"
      },
      "execution_count": null,
      "outputs": [
        {
          "output_type": "execute_result",
          "data": {
            "text/plain": [
              "10"
            ]
          },
          "metadata": {},
          "execution_count": 116
        }
      ]
    },
    {
      "cell_type": "code",
      "source": [
        "import mymodule as mm\n",
        "\n",
        "mm.multiply(3,6)"
      ],
      "metadata": {
        "colab": {
          "base_uri": "https://localhost:8080/"
        },
        "id": "qeJSmWwYHHgv",
        "outputId": "5858e786-630d-4f32-da3f-30c58513281f"
      },
      "execution_count": null,
      "outputs": [
        {
          "output_type": "execute_result",
          "data": {
            "text/plain": [
              "18"
            ]
          },
          "metadata": {},
          "execution_count": 117
        }
      ]
    },
    {
      "cell_type": "code",
      "source": [
        "from mymodule import multiply, divide\n",
        "\n",
        "multiply(5,7)"
      ],
      "metadata": {
        "colab": {
          "base_uri": "https://localhost:8080/"
        },
        "id": "JV0pVL5eHc6_",
        "outputId": "73576957-b430-48f3-87ea-8866d603f31a"
      },
      "execution_count": null,
      "outputs": [
        {
          "output_type": "execute_result",
          "data": {
            "text/plain": [
              "35"
            ]
          },
          "metadata": {},
          "execution_count": 120
        }
      ]
    },
    {
      "cell_type": "code",
      "source": [
        "divide(8,2)"
      ],
      "metadata": {
        "colab": {
          "base_uri": "https://localhost:8080/"
        },
        "id": "jw5ePIC1Ht7C",
        "outputId": "ce0e07dd-2ef4-402e-d219-4b17fb60286c"
      },
      "execution_count": null,
      "outputs": [
        {
          "output_type": "execute_result",
          "data": {
            "text/plain": [
              "4.0"
            ]
          },
          "metadata": {},
          "execution_count": 121
        }
      ]
    },
    {
      "cell_type": "markdown",
      "source": [
        "# แพ็กเกจ (Packages)\n",
        "เป็นไดเรกทอรี (directory) ที่ใช้สำหรับเก็บรวบรวมโมดูล"
      ],
      "metadata": {
        "id": "wC0o3BejGu3m"
      }
    },
    {
      "cell_type": "code",
      "source": [
        "import mypackage.mymodule\n",
        "\n",
        "mypackage.mymodule.multiply(4,5)"
      ],
      "metadata": {
        "id": "ZeJ1t0jiGyxQ",
        "colab": {
          "base_uri": "https://localhost:8080/"
        },
        "outputId": "b833c8fd-19e4-43a7-dac8-2b3d81c7d9eb"
      },
      "execution_count": null,
      "outputs": [
        {
          "output_type": "execute_result",
          "data": {
            "text/plain": [
              "20"
            ]
          },
          "metadata": {},
          "execution_count": 123
        }
      ]
    },
    {
      "cell_type": "code",
      "source": [
        "import mypackage.mymodule as mp\n",
        "\n",
        "mp.multiply(6,8)"
      ],
      "metadata": {
        "colab": {
          "base_uri": "https://localhost:8080/"
        },
        "id": "f6NL33aKJCsP",
        "outputId": "a0fb83e0-f774-4754-c6db-4257291f6e73"
      },
      "execution_count": null,
      "outputs": [
        {
          "output_type": "execute_result",
          "data": {
            "text/plain": [
              "48"
            ]
          },
          "metadata": {},
          "execution_count": 125
        }
      ]
    },
    {
      "cell_type": "markdown",
      "source": [
        "# การเขียนโปรแกรมเชิงอ็อบเจกต์ (Object Oriented Programming)"
      ],
      "metadata": {
        "id": "NLw4NRXbJR2l"
      }
    },
    {
      "cell_type": "markdown",
      "source": [
        "## การประกาศ Class"
      ],
      "metadata": {
        "id": "KjK8Ln84JnUO"
      }
    },
    {
      "cell_type": "code",
      "source": [
        "class MyClass:"
      ],
      "metadata": {
        "id": "NKIHojtEJmgd"
      },
      "execution_count": null,
      "outputs": []
    },
    {
      "cell_type": "markdown",
      "source": [
        "## การประกาศ Attributes"
      ],
      "metadata": {
        "id": "Xjco4PcoJyh8"
      }
    },
    {
      "cell_type": "code",
      "source": [
        "class Car:\n",
        "  def __init__(self, brand, model, color):\n",
        "    self.brand = brand\n",
        "    self.model = model\n",
        "    self.color = color\n",
        "    self.speed = 0"
      ],
      "metadata": {
        "id": "B__VEEoJJlqh"
      },
      "execution_count": null,
      "outputs": []
    },
    {
      "cell_type": "markdown",
      "source": [
        "## การประกาศ Methods"
      ],
      "metadata": {
        "id": "Ozjpv456J5SM"
      }
    },
    {
      "cell_type": "code",
      "source": [
        "class Car:\n",
        "  def __init__(self, brand, model, color):\n",
        "    self.brand = brand\n",
        "    self.model = model\n",
        "    self.color = color\n",
        "    self.speed = 0\n",
        "\n",
        "  def speed_up(self):\n",
        "    self.speed += 1\n",
        "\n",
        "  def speed_down(self):\n",
        "    self.speed -= 1\n",
        "\n",
        "  def get_speed(self):\n",
        "    return self.speed"
      ],
      "metadata": {
        "id": "LMxSZbGjJ9Fx"
      },
      "execution_count": null,
      "outputs": []
    },
    {
      "cell_type": "markdown",
      "source": [
        "## การสร้าง Object"
      ],
      "metadata": {
        "id": "kFD5w-SyKJJE"
      }
    },
    {
      "cell_type": "code",
      "source": [
        "car1 = Car(\"Honda\", \"City\", \"Red\")"
      ],
      "metadata": {
        "id": "cfqBfXmGKKER"
      },
      "execution_count": null,
      "outputs": []
    },
    {
      "cell_type": "code",
      "source": [
        "car2 = Car(\"Honda\", \"City\", \"White\")"
      ],
      "metadata": {
        "id": "9fVQCoOsNJnl"
      },
      "execution_count": null,
      "outputs": []
    },
    {
      "cell_type": "markdown",
      "source": [
        "## การเรียกใช้งาน Object"
      ],
      "metadata": {
        "id": "I3Pqm-ggKNrJ"
      }
    },
    {
      "cell_type": "code",
      "source": [
        "car1.speed_up()\n",
        "print(car1.get_speed())"
      ],
      "metadata": {
        "id": "WwjTO-MOKPax",
        "colab": {
          "base_uri": "https://localhost:8080/"
        },
        "outputId": "1827553a-b998-4144-f159-027f1dd1078e"
      },
      "execution_count": null,
      "outputs": [
        {
          "output_type": "stream",
          "name": "stdout",
          "text": [
            "5\n"
          ]
        }
      ]
    },
    {
      "cell_type": "code",
      "source": [
        "car2.speed_up()\n",
        "print(car2.get_speed())"
      ],
      "metadata": {
        "colab": {
          "base_uri": "https://localhost:8080/"
        },
        "id": "lzVlxW5sOQMU",
        "outputId": "840df139-da9c-432b-c43c-4b58a29d9e58"
      },
      "execution_count": null,
      "outputs": [
        {
          "output_type": "stream",
          "name": "stdout",
          "text": [
            "3\n"
          ]
        }
      ]
    }
  ]
}