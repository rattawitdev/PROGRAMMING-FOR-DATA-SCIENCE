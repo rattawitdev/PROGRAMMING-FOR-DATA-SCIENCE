{
 "cells": [
  {
   "attachments": {},
   "cell_type": "markdown",
   "id": "0b2350fd-69c3-4e19-9333-0a63e1cef02a",
   "metadata": {},
   "source": [
    "# Assignment 4:\n",
    "### รหัสนักศึกษา: 65130701717\n",
    "### ชื่อ-นามสกุล: RATTAWIT PATTARACHAROENPONG\n",
    "### หลักสูตร: SED"
   ]
  },
  {
   "cell_type": "markdown",
   "id": "cb301f6b-16ac-407c-8454-ff459bcfa004",
   "metadata": {},
   "source": [
    "# KMeans Clustering"
   ]
  },
  {
   "cell_type": "markdown",
   "id": "a05dc33c-ee8f-435b-a560-fdfd4cce726d",
   "metadata": {},
   "source": [
    "## KMeans - Example in class "
   ]
  },
  {
   "cell_type": "code",
   "execution_count": 105,
   "id": "8b30ed50-7bdc-450f-b039-dd1638faed14",
   "metadata": {},
   "outputs": [],
   "source": [
    "import pandas as pd\n",
    "\n",
    "x = [4, 5, 10, 4, 3, 11, 14 , 6, 10, 12]\n",
    "y = [15, 14, 19, 12, 11, 20, 15, 17, 16, 16]\n",
    "store = ['A','B','C','D','E','F','G','H','I','J']\n",
    "\n",
    "df = pd.DataFrame() \n",
    "df['Store'] = store\n",
    "df['Apples'] = x\n",
    "df['Oranges'] = y\n",
    "data = df[['Apples','Oranges']]"
   ]
  },
  {
   "cell_type": "markdown",
   "id": "d0c0df15-8190-4c60-826b-4947224fd973",
   "metadata": {},
   "source": [
    "1. จัดกลุ่ม data โดยใช้วิธี k-means โดยกำหนดจำนวนกลุ่มเป็น 2 กลุ่ม "
   ]
  },
  {
   "cell_type": "code",
   "execution_count": 106,
   "id": "9a4940e6-504d-4d2f-98f2-99729531398f",
   "metadata": {},
   "outputs": [
    {
     "data": {
      "text/html": [
       "<style>#sk-container-id-11 {color: black;background-color: white;}#sk-container-id-11 pre{padding: 0;}#sk-container-id-11 div.sk-toggleable {background-color: white;}#sk-container-id-11 label.sk-toggleable__label {cursor: pointer;display: block;width: 100%;margin-bottom: 0;padding: 0.3em;box-sizing: border-box;text-align: center;}#sk-container-id-11 label.sk-toggleable__label-arrow:before {content: \"▸\";float: left;margin-right: 0.25em;color: #696969;}#sk-container-id-11 label.sk-toggleable__label-arrow:hover:before {color: black;}#sk-container-id-11 div.sk-estimator:hover label.sk-toggleable__label-arrow:before {color: black;}#sk-container-id-11 div.sk-toggleable__content {max-height: 0;max-width: 0;overflow: hidden;text-align: left;background-color: #f0f8ff;}#sk-container-id-11 div.sk-toggleable__content pre {margin: 0.2em;color: black;border-radius: 0.25em;background-color: #f0f8ff;}#sk-container-id-11 input.sk-toggleable__control:checked~div.sk-toggleable__content {max-height: 200px;max-width: 100%;overflow: auto;}#sk-container-id-11 input.sk-toggleable__control:checked~label.sk-toggleable__label-arrow:before {content: \"▾\";}#sk-container-id-11 div.sk-estimator input.sk-toggleable__control:checked~label.sk-toggleable__label {background-color: #d4ebff;}#sk-container-id-11 div.sk-label input.sk-toggleable__control:checked~label.sk-toggleable__label {background-color: #d4ebff;}#sk-container-id-11 input.sk-hidden--visually {border: 0;clip: rect(1px 1px 1px 1px);clip: rect(1px, 1px, 1px, 1px);height: 1px;margin: -1px;overflow: hidden;padding: 0;position: absolute;width: 1px;}#sk-container-id-11 div.sk-estimator {font-family: monospace;background-color: #f0f8ff;border: 1px dotted black;border-radius: 0.25em;box-sizing: border-box;margin-bottom: 0.5em;}#sk-container-id-11 div.sk-estimator:hover {background-color: #d4ebff;}#sk-container-id-11 div.sk-parallel-item::after {content: \"\";width: 100%;border-bottom: 1px solid gray;flex-grow: 1;}#sk-container-id-11 div.sk-label:hover label.sk-toggleable__label {background-color: #d4ebff;}#sk-container-id-11 div.sk-serial::before {content: \"\";position: absolute;border-left: 1px solid gray;box-sizing: border-box;top: 0;bottom: 0;left: 50%;z-index: 0;}#sk-container-id-11 div.sk-serial {display: flex;flex-direction: column;align-items: center;background-color: white;padding-right: 0.2em;padding-left: 0.2em;position: relative;}#sk-container-id-11 div.sk-item {position: relative;z-index: 1;}#sk-container-id-11 div.sk-parallel {display: flex;align-items: stretch;justify-content: center;background-color: white;position: relative;}#sk-container-id-11 div.sk-item::before, #sk-container-id-11 div.sk-parallel-item::before {content: \"\";position: absolute;border-left: 1px solid gray;box-sizing: border-box;top: 0;bottom: 0;left: 50%;z-index: -1;}#sk-container-id-11 div.sk-parallel-item {display: flex;flex-direction: column;z-index: 1;position: relative;background-color: white;}#sk-container-id-11 div.sk-parallel-item:first-child::after {align-self: flex-end;width: 50%;}#sk-container-id-11 div.sk-parallel-item:last-child::after {align-self: flex-start;width: 50%;}#sk-container-id-11 div.sk-parallel-item:only-child::after {width: 0;}#sk-container-id-11 div.sk-dashed-wrapped {border: 1px dashed gray;margin: 0 0.4em 0.5em 0.4em;box-sizing: border-box;padding-bottom: 0.4em;background-color: white;}#sk-container-id-11 div.sk-label label {font-family: monospace;font-weight: bold;display: inline-block;line-height: 1.2em;}#sk-container-id-11 div.sk-label-container {text-align: center;}#sk-container-id-11 div.sk-container {/* jupyter's `normalize.less` sets `[hidden] { display: none; }` but bootstrap.min.css set `[hidden] { display: none !important; }` so we also need the `!important` here to be able to override the default hidden behavior on the sphinx rendered scikit-learn.org. See: https://github.com/scikit-learn/scikit-learn/issues/21755 */display: inline-block !important;position: relative;}#sk-container-id-11 div.sk-text-repr-fallback {display: none;}</style><div id=\"sk-container-id-11\" class=\"sk-top-container\"><div class=\"sk-text-repr-fallback\"><pre>KMeans(n_clusters=2)</pre><b>In a Jupyter environment, please rerun this cell to show the HTML representation or trust the notebook. <br />On GitHub, the HTML representation is unable to render, please try loading this page with nbviewer.org.</b></div><div class=\"sk-container\" hidden><div class=\"sk-item\"><div class=\"sk-estimator sk-toggleable\"><input class=\"sk-toggleable__control sk-hidden--visually\" id=\"sk-estimator-id-17\" type=\"checkbox\" checked><label for=\"sk-estimator-id-17\" class=\"sk-toggleable__label sk-toggleable__label-arrow\">KMeans</label><div class=\"sk-toggleable__content\"><pre>KMeans(n_clusters=2)</pre></div></div></div></div></div>"
      ],
      "text/plain": [
       "KMeans(n_clusters=2)"
      ]
     },
     "execution_count": 106,
     "metadata": {},
     "output_type": "execute_result"
    }
   ],
   "source": [
    "from sklearn.cluster import KMeans\n",
    "model = KMeans(n_clusters=2)\n",
    "model.fit(data)"
   ]
  },
  {
   "cell_type": "markdown",
   "id": "fa1748bc-7a75-4f02-b232-639e06a5c9cb",
   "metadata": {},
   "source": [
    "2. สร้าง labels ของ data ว่าอยู่กลุ่มใด โดยใช้ .predict()"
   ]
  },
  {
   "cell_type": "code",
   "execution_count": 107,
   "id": "0976a61f-e6dd-452d-814e-5a1ce7b22b5f",
   "metadata": {},
   "outputs": [
    {
     "name": "stdout",
     "output_type": "stream",
     "text": [
      "[1 1 0 1 1 0 0 1 0 0]\n"
     ]
    }
   ],
   "source": [
    "labels = model.predict(data)\n",
    "print(labels)"
   ]
  },
  {
   "cell_type": "markdown",
   "id": "968bb7ed-7d52-4922-9854-375f60bf65cb",
   "metadata": {},
   "source": [
    "3. หาค่า centroids จากค่า cluster_centers_ ที่ได้จาก model"
   ]
  },
  {
   "cell_type": "code",
   "execution_count": 108,
   "id": "9661fe3b-346b-407f-b93a-37dac89fcc4f",
   "metadata": {},
   "outputs": [
    {
     "name": "stdout",
     "output_type": "stream",
     "text": [
      "[[11.4 17.2]\n",
      " [ 4.4 13.8]]\n"
     ]
    }
   ],
   "source": [
    "centroids = model.cluster_centers_\n",
    "print(centroids)"
   ]
  },
  {
   "cell_type": "markdown",
   "id": "5b6101f3-fe78-476d-a2bc-f647a509ac98",
   "metadata": {},
   "source": [
    "4. Plot แบบ scatter โดยแกน x เป็นค่าจาก data คอลัมน์ 'Apples' และ แกน y เป็นค่าจากคอลัมน์ 'Oranges' แสดงค่าสีด้วย labels ของ data ที่ได้จากการจัดกลุ่ม"
   ]
  },
  {
   "cell_type": "code",
   "execution_count": 109,
   "id": "d14d0fdb-5fa2-4832-a4c7-64c427684ebf",
   "metadata": {},
   "outputs": [
    {
     "data": {
      "image/png": "[encoded data removed]",
      "text/plain": [
       "<Figure size 640x480 with 1 Axes>"
      ]
     },
     "metadata": {},
     "output_type": "display_data"
    }
   ],
   "source": [
    "import matplotlib.pyplot as plt\n",
    "\n",
    "plt.scatter(df['Apples'],df['Oranges'], c=labels,alpha=0.5)\n",
    "plt.scatter(centroids[:,0],centroids[:,1],marker='X', c='r')\n",
    "plt.xlabel('#Apples')\n",
    "plt.ylabel('#Oranges')\n",
    "plt.show()"
   ]
  },
  {
   "cell_type": "markdown",
   "id": "0c760ebb-3d6e-45d7-9203-af3b636968be",
   "metadata": {},
   "source": [
    "## KMeans - 2D\n"
   ]
  },
  {
   "cell_type": "markdown",
   "id": "f9b4aca8-088a-47c3-a609-33264e4ba216",
   "metadata": {},
   "source": [
    "1. อ่านข้อมูลจาก data2Dset1.csv"
   ]
  },
  {
   "cell_type": "code",
   "execution_count": 73,
   "id": "34182b59-5ce8-4c62-a7b9-3af6863696d5",
   "metadata": {},
   "outputs": [
    {
     "data": {
      "text/html": [
       "<div>\n",
       "<style scoped>\n",
       "    .dataframe tbody tr th:only-of-type {\n",
       "        vertical-align: middle;\n",
       "    }\n",
       "\n",
       "    .dataframe tbody tr th {\n",
       "        vertical-align: top;\n",
       "    }\n",
       "\n",
       "    .dataframe thead th {\n",
       "        text-align: right;\n",
       "    }\n",
       "</style>\n",
       "<table border=\"1\" class=\"dataframe\">\n",
       "  <thead>\n",
       "    <tr style=\"text-align: right;\">\n",
       "      <th></th>\n",
       "      <th>0</th>\n",
       "      <th>1</th>\n",
       "    </tr>\n",
       "  </thead>\n",
       "  <tbody>\n",
       "    <tr>\n",
       "      <th>0</th>\n",
       "      <td>-4.575007</td>\n",
       "      <td>-6.364897</td>\n",
       "    </tr>\n",
       "    <tr>\n",
       "      <th>1</th>\n",
       "      <td>-7.202692</td>\n",
       "      <td>4.560245</td>\n",
       "    </tr>\n",
       "    <tr>\n",
       "      <th>2</th>\n",
       "      <td>-7.148368</td>\n",
       "      <td>-1.115191</td>\n",
       "    </tr>\n",
       "    <tr>\n",
       "      <th>3</th>\n",
       "      <td>-7.915773</td>\n",
       "      <td>-0.757674</td>\n",
       "    </tr>\n",
       "    <tr>\n",
       "      <th>4</th>\n",
       "      <td>-7.118251</td>\n",
       "      <td>-2.965019</td>\n",
       "    </tr>\n",
       "  </tbody>\n",
       "</table>\n",
       "</div>"
      ],
      "text/plain": [
       "          0         1\n",
       "0 -4.575007 -6.364897\n",
       "1 -7.202692  4.560245\n",
       "2 -7.148368 -1.115191\n",
       "3 -7.915773 -0.757674\n",
       "4 -7.118251 -2.965019"
      ]
     },
     "execution_count": 73,
     "metadata": {},
     "output_type": "execute_result"
    }
   ],
   "source": [
    "import pandas as pd\n",
    "\n",
    "data = pd.read_csv('data2Dset1.csv', header=None)\n",
    "data.head()\n"
   ]
  },
  {
   "cell_type": "markdown",
   "id": "1eed9c60-87ed-49ee-bba9-8985562770ca",
   "metadata": {},
   "source": [
    "2. เก็บค่าของ data ในตัวแปร points ซึ่งเป็น numpy array"
   ]
  },
  {
   "cell_type": "code",
   "execution_count": 74,
   "id": "667fc730-73ad-4fcd-a43d-35555da2a458",
   "metadata": {},
   "outputs": [
    {
     "name": "stdout",
     "output_type": "stream",
     "text": [
      "(100, 2)\n"
     ]
    }
   ],
   "source": [
    "points = data.values\n",
    "print(points.shape)\n",
    "# points"
   ]
  },
  {
   "cell_type": "markdown",
   "id": "ac552ac3-f578-47d0-a878-821e87444165",
   "metadata": {},
   "source": [
    "3. Plot แบบ scatter แสดง points "
   ]
  },
  {
   "cell_type": "code",
   "execution_count": 75,
   "id": "4de19cc0-fea4-4447-bd90-1541ab6767e0",
   "metadata": {},
   "outputs": [
    {
     "data": {
      "text/plain": [
       "Text(0, 0.5, '$x_2$')"
      ]
     },
     "execution_count": 75,
     "metadata": {},
     "output_type": "execute_result"
    },
    {
     "data": {
      "image/png": "[encoded data removed]",
      "text/plain": [
       "<Figure size 640x480 with 1 Axes>"
      ]
     },
     "metadata": {},
     "output_type": "display_data"
    }
   ],
   "source": [
    "import matplotlib.pyplot as plt\n",
    "plt.scatter(points[:,0], points[:,1], alpha = 0.5)\n",
    "plt.xlabel('$x_1$')\n",
    "plt.ylabel('$x_2$')"
   ]
  },
  {
   "cell_type": "markdown",
   "id": "70e64c04-8acb-41cc-8f26-3783e217b370",
   "metadata": {},
   "source": [
    "4. จัดกลุ่ม points โดยวิธี KMeans กำหนด n_clusters = 3 โดยเก็บไว้ที่ตัวแปร model"
   ]
  },
  {
   "cell_type": "code",
   "execution_count": 76,
   "id": "58767995-d8cb-47aa-8f0f-ba49250801ef",
   "metadata": {},
   "outputs": [
    {
     "data": {
      "text/html": [
       "<style>#sk-container-id-8 {color: black;background-color: white;}#sk-container-id-8 pre{padding: 0;}#sk-container-id-8 div.sk-toggleable {background-color: white;}#sk-container-id-8 label.sk-toggleable__label {cursor: pointer;display: block;width: 100%;margin-bottom: 0;padding: 0.3em;box-sizing: border-box;text-align: center;}#sk-container-id-8 label.sk-toggleable__label-arrow:before {content: \"▸\";float: left;margin-right: 0.25em;color: #696969;}#sk-container-id-8 label.sk-toggleable__label-arrow:hover:before {color: black;}#sk-container-id-8 div.sk-estimator:hover label.sk-toggleable__label-arrow:before {color: black;}#sk-container-id-8 div.sk-toggleable__content {max-height: 0;max-width: 0;overflow: hidden;text-align: left;background-color: #f0f8ff;}#sk-container-id-8 div.sk-toggleable__content pre {margin: 0.2em;color: black;border-radius: 0.25em;background-color: #f0f8ff;}#sk-container-id-8 input.sk-toggleable__control:checked~div.sk-toggleable__content {max-height: 200px;max-width: 100%;overflow: auto;}#sk-container-id-8 input.sk-toggleable__control:checked~label.sk-toggleable__label-arrow:before {content: \"▾\";}#sk-container-id-8 div.sk-estimator input.sk-toggleable__control:checked~label.sk-toggleable__label {background-color: #d4ebff;}#sk-container-id-8 div.sk-label input.sk-toggleable__control:checked~label.sk-toggleable__label {background-color: #d4ebff;}#sk-container-id-8 input.sk-hidden--visually {border: 0;clip: rect(1px 1px 1px 1px);clip: rect(1px, 1px, 1px, 1px);height: 1px;margin: -1px;overflow: hidden;padding: 0;position: absolute;width: 1px;}#sk-container-id-8 div.sk-estimator {font-family: monospace;background-color: #f0f8ff;border: 1px dotted black;border-radius: 0.25em;box-sizing: border-box;margin-bottom: 0.5em;}#sk-container-id-8 div.sk-estimator:hover {background-color: #d4ebff;}#sk-container-id-8 div.sk-parallel-item::after {content: \"\";width: 100%;border-bottom: 1px solid gray;flex-grow: 1;}#sk-container-id-8 div.sk-label:hover label.sk-toggleable__label {background-color: #d4ebff;}#sk-container-id-8 div.sk-serial::before {content: \"\";position: absolute;border-left: 1px solid gray;box-sizing: border-box;top: 0;bottom: 0;left: 50%;z-index: 0;}#sk-container-id-8 div.sk-serial {display: flex;flex-direction: column;align-items: center;background-color: white;padding-right: 0.2em;padding-left: 0.2em;position: relative;}#sk-container-id-8 div.sk-item {position: relative;z-index: 1;}#sk-container-id-8 div.sk-parallel {display: flex;align-items: stretch;justify-content: center;background-color: white;position: relative;}#sk-container-id-8 div.sk-item::before, #sk-container-id-8 div.sk-parallel-item::before {content: \"\";position: absolute;border-left: 1px solid gray;box-sizing: border-box;top: 0;bottom: 0;left: 50%;z-index: -1;}#sk-container-id-8 div.sk-parallel-item {display: flex;flex-direction: column;z-index: 1;position: relative;background-color: white;}#sk-container-id-8 div.sk-parallel-item:first-child::after {align-self: flex-end;width: 50%;}#sk-container-id-8 div.sk-parallel-item:last-child::after {align-self: flex-start;width: 50%;}#sk-container-id-8 div.sk-parallel-item:only-child::after {width: 0;}#sk-container-id-8 div.sk-dashed-wrapped {border: 1px dashed gray;margin: 0 0.4em 0.5em 0.4em;box-sizing: border-box;padding-bottom: 0.4em;background-color: white;}#sk-container-id-8 div.sk-label label {font-family: monospace;font-weight: bold;display: inline-block;line-height: 1.2em;}#sk-container-id-8 div.sk-label-container {text-align: center;}#sk-container-id-8 div.sk-container {/* jupyter's `normalize.less` sets `[hidden] { display: none; }` but bootstrap.min.css set `[hidden] { display: none !important; }` so we also need the `!important` here to be able to override the default hidden behavior on the sphinx rendered scikit-learn.org. See: https://github.com/scikit-learn/scikit-learn/issues/21755 */display: inline-block !important;position: relative;}#sk-container-id-8 div.sk-text-repr-fallback {display: none;}</style><div id=\"sk-container-id-8\" class=\"sk-top-container\"><div class=\"sk-text-repr-fallback\"><pre>KMeans(n_clusters=3)</pre><b>In a Jupyter environment, please rerun this cell to show the HTML representation or trust the notebook. <br />On GitHub, the HTML representation is unable to render, please try loading this page with nbviewer.org.</b></div><div class=\"sk-container\" hidden><div class=\"sk-item\"><div class=\"sk-estimator sk-toggleable\"><input class=\"sk-toggleable__control sk-hidden--visually\" id=\"sk-estimator-id-12\" type=\"checkbox\" checked><label for=\"sk-estimator-id-12\" class=\"sk-toggleable__label sk-toggleable__label-arrow\">KMeans</label><div class=\"sk-toggleable__content\"><pre>KMeans(n_clusters=3)</pre></div></div></div></div></div>"
      ],
      "text/plain": [
       "KMeans(n_clusters=3)"
      ]
     },
     "execution_count": 76,
     "metadata": {},
     "output_type": "execute_result"
    }
   ],
   "source": [
    "from sklearn.cluster import KMeans\n",
    "model = KMeans(n_clusters=3)\n",
    "model.fit(points)"
   ]
  },
  {
   "cell_type": "markdown",
   "id": "5247e7be-b7ef-4233-9158-937af411db17",
   "metadata": {},
   "source": [
    "5. สร้าง labels ของ points ว่าอยู่กลุ่มใด โดยใช้ .predict()"
   ]
  },
  {
   "cell_type": "code",
   "execution_count": 77,
   "id": "f418cda2-4b67-434d-8eec-6264d3c5118d",
   "metadata": {},
   "outputs": [
    {
     "name": "stdout",
     "output_type": "stream",
     "text": [
      "[1 0 2 2 2 1 1 2 1 1 0 2 2 1 0 2 0 1 1 1 2 2 1 2 2 0 2 0 1 0 2 1 2 1 0 1 1\n",
      " 2 0 2 2 0 1 2 2 2 1 0 2 0 1 0 2 0 0 1 0 0 2 0 1 2 1 0 0 0 1 2 2 1 1 1 2 0\n",
      " 2 0 1 1 0 2 0 0 1 1 0 1 0 1 2 0 0 0 2 1 0 1 0 2 2 1]\n"
     ]
    }
   ],
   "source": [
    "labels = model.predict(points)\n",
    "print(labels)\n"
   ]
  },
  {
   "cell_type": "markdown",
   "id": "8309b61a-1857-48c8-b0ce-17336ee62517",
   "metadata": {},
   "source": [
    "6. หาค่า centroids จากค่า cluster_centers_ ที่ได้จาก model"
   ]
  },
  {
   "cell_type": "code",
   "execution_count": 78,
   "id": "d4f4c394-96e5-40d1-adca-efac1b286422",
   "metadata": {},
   "outputs": [
    {
     "name": "stdout",
     "output_type": "stream",
     "text": [
      "[[-8.24132694  5.12663729]\n",
      " [-4.0259642  -6.46730659]\n",
      " [-7.72806305 -2.06698658]]\n"
     ]
    }
   ],
   "source": [
    "centroids = model.cluster_centers_\n",
    "print(centroids)"
   ]
  },
  {
   "cell_type": "markdown",
   "id": "692cc12b-4679-4a6c-a38d-8c3af9a4e6ec",
   "metadata": {},
   "source": [
    "7. Plot จุด โดยมีการกำหนดสีกลุ่มตาม labels "
   ]
  },
  {
   "cell_type": "code",
   "execution_count": 79,
   "id": "ac3a715c-b176-45dd-9c3c-9d47aad15446",
   "metadata": {},
   "outputs": [
    {
     "data": {
      "image/png": "[encoded data removed]",
      "text/plain": [
       "<Figure size 640x480 with 1 Axes>"
      ]
     },
     "metadata": {},
     "output_type": "display_data"
    }
   ],
   "source": [
    "import matplotlib.pyplot as plt\n",
    "\n",
    "plt.scatter(points[:,0], points[:,1], c=labels,alpha=0.5)\n",
    "plt.scatter(centroids[:,0],centroids[:,1],marker='X', c='b')\n",
    "plt.xlabel('$x_1$')\n",
    "plt.ylabel('$x_2$')\n",
    "plt.show()"
   ]
  },
  {
   "cell_type": "markdown",
   "id": "00f4622c-d98c-47cc-8467-cc0a5dc6ae3a",
   "metadata": {},
   "source": [
    "8. แสดงค่า Inertia measure จากค่า .inertia_ ของ model ที่ได้ "
   ]
  },
  {
   "cell_type": "code",
   "execution_count": 80,
   "id": "4f94dea3-cf5f-45c3-a392-7a3fbb5c3030",
   "metadata": {},
   "outputs": [
    {
     "name": "stdout",
     "output_type": "stream",
     "text": [
      "185.24386730181635\n"
     ]
    }
   ],
   "source": [
    "print(model.inertia_)"
   ]
  },
  {
   "cell_type": "markdown",
   "id": "6f7a9267-7f28-44c6-aa31-027f1b289981",
   "metadata": {},
   "source": [
    "9. ทดสอบ สร้างโมเดลจัดกลุ่มข้อมูลในตัวแปร points โดยใช้ KMeans เมื่อ k=1,2,...,10 และ Plot แสดงค่า inertia ของแต่ละ k"
   ]
  },
  {
   "cell_type": "code",
   "execution_count": 81,
   "id": "80701bbb-fdd7-45f6-b257-9567db00f711",
   "metadata": {},
   "outputs": [
    {
     "data": {
      "image/png": "[encoded data removed]",
      "text/plain": [
       "<Figure size 640x480 with 1 Axes>"
      ]
     },
     "metadata": {},
     "output_type": "display_data"
    }
   ],
   "source": [
    "ks = range(1, 11)\n",
    "inertias = []\n",
    "\n",
    "for k in ks:\n",
    "    model = KMeans(n_clusters = k)\n",
    "    model.fit(points)\n",
    "    inertias.append(model.inertia_)\n",
    "    \n",
    "# Plot ks vs inertias\n",
    "plt.plot(ks, inertias, '-o')\n",
    "plt.xlabel('number of clusters, k')\n",
    "plt.ylabel('inertia')\n",
    "plt.xticks(ks)\n",
    "plt.show()"
   ]
  },
  {
   "attachments": {},
   "cell_type": "markdown",
   "id": "a0358cd1-de51-48fd-a0e8-a3f98a255a65",
   "metadata": {},
   "source": [
    "10. จากกราฟในข้อ 9 จะได้ว่า ค่า k ที่เหมาะสมคือ = 3 คับ"
   ]
  },
  {
   "attachments": {},
   "cell_type": "markdown",
   "id": "a604fa98-7b1c-4c97-99c2-c8bb271dcabc",
   "metadata": {},
   "source": [
    "k ที่เหมาะสมคือ = 3 คับ"
   ]
  },
  {
   "cell_type": "markdown",
   "id": "afe9bf78-f1a6-4499-9728-186f2491f4b7",
   "metadata": {},
   "source": [
    "## KMeans the wines dataset"
   ]
  },
  {
   "cell_type": "markdown",
   "id": "f43f1349-4987-458b-bf00-a8c375b74891",
   "metadata": {},
   "source": [
    "1. อ่านข้อมูลจาก wine.csv เก็บไว้ที่ตัวแปร data"
   ]
  },
  {
   "cell_type": "code",
   "execution_count": 110,
   "id": "b8e9bc4d-5f7a-4e53-af34-4c88618d64ae",
   "metadata": {},
   "outputs": [
    {
     "data": {
      "text/html": [
       "<div>\n",
       "<style scoped>\n",
       "    .dataframe tbody tr th:only-of-type {\n",
       "        vertical-align: middle;\n",
       "    }\n",
       "\n",
       "    .dataframe tbody tr th {\n",
       "        vertical-align: top;\n",
       "    }\n",
       "\n",
       "    .dataframe thead th {\n",
       "        text-align: right;\n",
       "    }\n",
       "</style>\n",
       "<table border=\"1\" class=\"dataframe\">\n",
       "  <thead>\n",
       "    <tr style=\"text-align: right;\">\n",
       "      <th></th>\n",
       "      <th>varieties</th>\n",
       "      <th>alcohol</th>\n",
       "      <th>malic_acid</th>\n",
       "      <th>ash</th>\n",
       "      <th>alcalinity_of_ash</th>\n",
       "      <th>magnesium</th>\n",
       "      <th>total_phenols</th>\n",
       "      <th>flavanoids</th>\n",
       "      <th>nonflavanoid_phenols</th>\n",
       "      <th>proanthocyanins</th>\n",
       "      <th>color_intensity</th>\n",
       "      <th>hue</th>\n",
       "      <th>od280</th>\n",
       "      <th>proline</th>\n",
       "    </tr>\n",
       "  </thead>\n",
       "  <tbody>\n",
       "    <tr>\n",
       "      <th>0</th>\n",
       "      <td>Barolo</td>\n",
       "      <td>14.23</td>\n",
       "      <td>1.71</td>\n",
       "      <td>2.43</td>\n",
       "      <td>15.6</td>\n",
       "      <td>127</td>\n",
       "      <td>2.80</td>\n",
       "      <td>3.06</td>\n",
       "      <td>0.28</td>\n",
       "      <td>2.29</td>\n",
       "      <td>5.64</td>\n",
       "      <td>1.04</td>\n",
       "      <td>3.92</td>\n",
       "      <td>1065</td>\n",
       "    </tr>\n",
       "    <tr>\n",
       "      <th>1</th>\n",
       "      <td>Barolo</td>\n",
       "      <td>13.20</td>\n",
       "      <td>1.78</td>\n",
       "      <td>2.14</td>\n",
       "      <td>11.2</td>\n",
       "      <td>100</td>\n",
       "      <td>2.65</td>\n",
       "      <td>2.76</td>\n",
       "      <td>0.26</td>\n",
       "      <td>1.28</td>\n",
       "      <td>4.38</td>\n",
       "      <td>1.05</td>\n",
       "      <td>3.40</td>\n",
       "      <td>1050</td>\n",
       "    </tr>\n",
       "    <tr>\n",
       "      <th>2</th>\n",
       "      <td>Barolo</td>\n",
       "      <td>13.16</td>\n",
       "      <td>2.36</td>\n",
       "      <td>2.67</td>\n",
       "      <td>18.6</td>\n",
       "      <td>101</td>\n",
       "      <td>2.80</td>\n",
       "      <td>3.24</td>\n",
       "      <td>0.30</td>\n",
       "      <td>2.81</td>\n",
       "      <td>5.68</td>\n",
       "      <td>1.03</td>\n",
       "      <td>3.17</td>\n",
       "      <td>1185</td>\n",
       "    </tr>\n",
       "  </tbody>\n",
       "</table>\n",
       "</div>"
      ],
      "text/plain": [
       "  varieties  alcohol  malic_acid   ash  alcalinity_of_ash  magnesium  \\\n",
       "0    Barolo    14.23        1.71  2.43               15.6        127   \n",
       "1    Barolo    13.20        1.78  2.14               11.2        100   \n",
       "2    Barolo    13.16        2.36  2.67               18.6        101   \n",
       "\n",
       "   total_phenols  flavanoids  nonflavanoid_phenols  proanthocyanins  \\\n",
       "0           2.80        3.06                  0.28             2.29   \n",
       "1           2.65        2.76                  0.26             1.28   \n",
       "2           2.80        3.24                  0.30             2.81   \n",
       "\n",
       "   color_intensity   hue  od280  proline  \n",
       "0             5.64  1.04   3.92     1065  \n",
       "1             4.38  1.05   3.40     1050  \n",
       "2             5.68  1.03   3.17     1185  "
      ]
     },
     "execution_count": 110,
     "metadata": {},
     "output_type": "execute_result"
    }
   ],
   "source": [
    "import pandas as pd\n",
    "data = pd.read_csv('wine.csv')\n",
    "data.head(3)"
   ]
  },
  {
   "cell_type": "markdown",
   "id": "494774d1-70f5-46f3-9779-02aea868cca9",
   "metadata": {},
   "source": [
    "2. กำหนด X เป็น numpy array ข้อมูลจาก data ยกเว้นคอลัมน์ 'varieties' "
   ]
  },
  {
   "cell_type": "code",
   "execution_count": 111,
   "id": "f25f15b0-0db6-4421-9589-4c64d108deec",
   "metadata": {},
   "outputs": [
    {
     "name": "stdout",
     "output_type": "stream",
     "text": [
      "[[1.423e+01 1.710e+00 2.430e+00 1.560e+01 1.270e+02 2.800e+00 3.060e+00\n",
      "  2.800e-01 2.290e+00 5.640e+00 1.040e+00 3.920e+00 1.065e+03]\n",
      " [1.320e+01 1.780e+00 2.140e+00 1.120e+01 1.000e+02 2.650e+00 2.760e+00\n",
      "  2.600e-01 1.280e+00 4.380e+00 1.050e+00 3.400e+00 1.050e+03]\n",
      " [1.316e+01 2.360e+00 2.670e+00 1.860e+01 1.010e+02 2.800e+00 3.240e+00\n",
      "  3.000e-01 2.810e+00 5.680e+00 1.030e+00 3.170e+00 1.185e+03]]\n"
     ]
    }
   ],
   "source": [
    "X = data.drop('varieties',axis=1).values\n",
    "print(X[:3,:])"
   ]
  },
  {
   "cell_type": "markdown",
   "id": "dfe67f2a-86df-4bd6-9a5e-13a8c6351df5",
   "metadata": {},
   "source": [
    "3. Plot X แบบ scatter ข้อมูล X ในคอลัมน์ 0 และ คอลัมน์ 4 และกำหนด axis ของกราฟเป็น 'equal'"
   ]
  },
  {
   "cell_type": "code",
   "execution_count": 112,
   "id": "aea2bb30-ff56-43e7-a51d-f192e1e982b0",
   "metadata": {},
   "outputs": [
    {
     "data": {
      "text/plain": [
       "Text(0, 0.5, 'magnesium')"
      ]
     },
     "execution_count": 112,
     "metadata": {},
     "output_type": "execute_result"
    },
    {
     "data": {
      "image/png": "[encoded data removed]",
      "text/plain": [
       "<Figure size 640x480 with 1 Axes>"
      ]
     },
     "metadata": {},
     "output_type": "display_data"
    }
   ],
   "source": [
    "import matplotlib.pyplot as plt\n",
    "plt.scatter(X[:,0],X[:,4],alpha=0.5)\n",
    "plt.axis('equal')\n",
    "plt.xlabel('alcohol')\n",
    "plt.ylabel('magnesium')"
   ]
  },
  {
   "cell_type": "markdown",
   "id": "bb6b3d78-2629-497b-b296-c5412ec48ede",
   "metadata": {},
   "source": [
    "4. จัดกลุ่ม X โดยวิธี KMeans กำหนด n_clusters = 3 โดยเก็บไว้ที่ตัวแปร model"
   ]
  },
  {
   "cell_type": "code",
   "execution_count": 113,
   "id": "fa90ac08-1a97-4311-b584-ab26fa031dcb",
   "metadata": {},
   "outputs": [
    {
     "data": {
      "text/html": [
       "<style>#sk-container-id-12 {color: black;background-color: white;}#sk-container-id-12 pre{padding: 0;}#sk-container-id-12 div.sk-toggleable {background-color: white;}#sk-container-id-12 label.sk-toggleable__label {cursor: pointer;display: block;width: 100%;margin-bottom: 0;padding: 0.3em;box-sizing: border-box;text-align: center;}#sk-container-id-12 label.sk-toggleable__label-arrow:before {content: \"▸\";float: left;margin-right: 0.25em;color: #696969;}#sk-container-id-12 label.sk-toggleable__label-arrow:hover:before {color: black;}#sk-container-id-12 div.sk-estimator:hover label.sk-toggleable__label-arrow:before {color: black;}#sk-container-id-12 div.sk-toggleable__content {max-height: 0;max-width: 0;overflow: hidden;text-align: left;background-color: #f0f8ff;}#sk-container-id-12 div.sk-toggleable__content pre {margin: 0.2em;color: black;border-radius: 0.25em;background-color: #f0f8ff;}#sk-container-id-12 input.sk-toggleable__control:checked~div.sk-toggleable__content {max-height: 200px;max-width: 100%;overflow: auto;}#sk-container-id-12 input.sk-toggleable__control:checked~label.sk-toggleable__label-arrow:before {content: \"▾\";}#sk-container-id-12 div.sk-estimator input.sk-toggleable__control:checked~label.sk-toggleable__label {background-color: #d4ebff;}#sk-container-id-12 div.sk-label input.sk-toggleable__control:checked~label.sk-toggleable__label {background-color: #d4ebff;}#sk-container-id-12 input.sk-hidden--visually {border: 0;clip: rect(1px 1px 1px 1px);clip: rect(1px, 1px, 1px, 1px);height: 1px;margin: -1px;overflow: hidden;padding: 0;position: absolute;width: 1px;}#sk-container-id-12 div.sk-estimator {font-family: monospace;background-color: #f0f8ff;border: 1px dotted black;border-radius: 0.25em;box-sizing: border-box;margin-bottom: 0.5em;}#sk-container-id-12 div.sk-estimator:hover {background-color: #d4ebff;}#sk-container-id-12 div.sk-parallel-item::after {content: \"\";width: 100%;border-bottom: 1px solid gray;flex-grow: 1;}#sk-container-id-12 div.sk-label:hover label.sk-toggleable__label {background-color: #d4ebff;}#sk-container-id-12 div.sk-serial::before {content: \"\";position: absolute;border-left: 1px solid gray;box-sizing: border-box;top: 0;bottom: 0;left: 50%;z-index: 0;}#sk-container-id-12 div.sk-serial {display: flex;flex-direction: column;align-items: center;background-color: white;padding-right: 0.2em;padding-left: 0.2em;position: relative;}#sk-container-id-12 div.sk-item {position: relative;z-index: 1;}#sk-container-id-12 div.sk-parallel {display: flex;align-items: stretch;justify-content: center;background-color: white;position: relative;}#sk-container-id-12 div.sk-item::before, #sk-container-id-12 div.sk-parallel-item::before {content: \"\";position: absolute;border-left: 1px solid gray;box-sizing: border-box;top: 0;bottom: 0;left: 50%;z-index: -1;}#sk-container-id-12 div.sk-parallel-item {display: flex;flex-direction: column;z-index: 1;position: relative;background-color: white;}#sk-container-id-12 div.sk-parallel-item:first-child::after {align-self: flex-end;width: 50%;}#sk-container-id-12 div.sk-parallel-item:last-child::after {align-self: flex-start;width: 50%;}#sk-container-id-12 div.sk-parallel-item:only-child::after {width: 0;}#sk-container-id-12 div.sk-dashed-wrapped {border: 1px dashed gray;margin: 0 0.4em 0.5em 0.4em;box-sizing: border-box;padding-bottom: 0.4em;background-color: white;}#sk-container-id-12 div.sk-label label {font-family: monospace;font-weight: bold;display: inline-block;line-height: 1.2em;}#sk-container-id-12 div.sk-label-container {text-align: center;}#sk-container-id-12 div.sk-container {/* jupyter's `normalize.less` sets `[hidden] { display: none; }` but bootstrap.min.css set `[hidden] { display: none !important; }` so we also need the `!important` here to be able to override the default hidden behavior on the sphinx rendered scikit-learn.org. See: https://github.com/scikit-learn/scikit-learn/issues/21755 */display: inline-block !important;position: relative;}#sk-container-id-12 div.sk-text-repr-fallback {display: none;}</style><div id=\"sk-container-id-12\" class=\"sk-top-container\"><div class=\"sk-text-repr-fallback\"><pre>KMeans(n_clusters=3)</pre><b>In a Jupyter environment, please rerun this cell to show the HTML representation or trust the notebook. <br />On GitHub, the HTML representation is unable to render, please try loading this page with nbviewer.org.</b></div><div class=\"sk-container\" hidden><div class=\"sk-item\"><div class=\"sk-estimator sk-toggleable\"><input class=\"sk-toggleable__control sk-hidden--visually\" id=\"sk-estimator-id-18\" type=\"checkbox\" checked><label for=\"sk-estimator-id-18\" class=\"sk-toggleable__label sk-toggleable__label-arrow\">KMeans</label><div class=\"sk-toggleable__content\"><pre>KMeans(n_clusters=3)</pre></div></div></div></div></div>"
      ],
      "text/plain": [
       "KMeans(n_clusters=3)"
      ]
     },
     "execution_count": 113,
     "metadata": {},
     "output_type": "execute_result"
    }
   ],
   "source": [
    "from sklearn.cluster import KMeans\n",
    "model = KMeans(n_clusters=3)\n",
    "model.fit(X)"
   ]
  },
  {
   "cell_type": "markdown",
   "id": "03054dd8-fb5d-4d06-9a17-7fab83f79144",
   "metadata": {},
   "source": [
    "5. สร้าง labels ระบุกลุ่มของข้อมูล X โดยใช้ model ที่ได้"
   ]
  },
  {
   "cell_type": "code",
   "execution_count": 114,
   "id": "f238c426-1fe1-47b6-ab92-e19e6329b61e",
   "metadata": {},
   "outputs": [
    {
     "name": "stdout",
     "output_type": "stream",
     "text": [
      "[1 1 1 1 2 1 1 1 1 1 1 1 1 1 1 1 1 1 1 2 2 2 1 1 2 2 1 1 2 1 1 1 1 1 1 2 2\n",
      " 1 1 2 2 1 1 2 2 1 1 1 1 1 1 1 1 1 1 1 1 1 1 0 2 0 2 0 0 2 0 0 2 2 2 0 0 1\n",
      " 2 0 0 0 2 0 0 2 2 0 0 0 0 0 2 2 0 0 0 0 0 2 2 0 2 0 2 0 0 0 2 0 0 0 0 2 0\n",
      " 0 2 0 0 0 0 0 0 0 2 0 0 0 0 0 0 0 0 0 2 0 0 2 2 2 2 0 0 0 2 2 0 0 2 2 0 2\n",
      " 2 0 0 0 0 2 2 2 0 2 2 2 0 2 0 2 2 0 2 2 2 2 0 0 2 2 2 2 2 0]\n"
     ]
    }
   ],
   "source": [
    "labels = model.predict(X)\n",
    "print(labels)"
   ]
  },
  {
   "cell_type": "markdown",
   "id": "8614616b-861b-43ff-b169-5976f24b50d2",
   "metadata": {},
   "source": [
    "6. ทำ crosstab ระหว่าง labels และ varieties"
   ]
  },
  {
   "cell_type": "code",
   "execution_count": 115,
   "id": "114c9b96-0827-4496-9fc6-d5e1006365a0",
   "metadata": {},
   "outputs": [],
   "source": [
    "df = pd.DataFrame({'labels': labels})\n",
    "df['varieties'] = data['varieties']"
   ]
  },
  {
   "cell_type": "code",
   "execution_count": 116,
   "id": "2354520d-a7d7-4078-a064-b7fe91923f99",
   "metadata": {},
   "outputs": [
    {
     "name": "stdout",
     "output_type": "stream",
     "text": [
      "varieties  Barbera  Barolo  Grignolino\n",
      "labels                                \n",
      "0               19       0          50\n",
      "1                0      46           1\n",
      "2               29      13          20\n"
     ]
    }
   ],
   "source": [
    "ct = pd.crosstab(df['labels'], df['varieties']) \n",
    "print(ct)"
   ]
  },
  {
   "cell_type": "markdown",
   "id": "36e98302-7da3-414a-9d32-147c0d8ad7c1",
   "metadata": {},
   "source": [
    "## KMeans with Scaling and Pipeline"
   ]
  },
  {
   "cell_type": "markdown",
   "id": "853e2dc5-2405-4656-b5b7-fe81cd7e92a9",
   "metadata": {},
   "source": [
    "1. อ่านข้อมูลจาก wine.csv เก็บไว้ที่ตัวแปร data"
   ]
  },
  {
   "cell_type": "code",
   "execution_count": 89,
   "id": "53a5ea77-6d8f-40c0-83d4-a2a375cca2c6",
   "metadata": {},
   "outputs": [
    {
     "data": {
      "text/html": [
       "<div>\n",
       "<style scoped>\n",
       "    .dataframe tbody tr th:only-of-type {\n",
       "        vertical-align: middle;\n",
       "    }\n",
       "\n",
       "    .dataframe tbody tr th {\n",
       "        vertical-align: top;\n",
       "    }\n",
       "\n",
       "    .dataframe thead th {\n",
       "        text-align: right;\n",
       "    }\n",
       "</style>\n",
       "<table border=\"1\" class=\"dataframe\">\n",
       "  <thead>\n",
       "    <tr style=\"text-align: right;\">\n",
       "      <th></th>\n",
       "      <th>varieties</th>\n",
       "      <th>alcohol</th>\n",
       "      <th>malic_acid</th>\n",
       "      <th>ash</th>\n",
       "      <th>alcalinity_of_ash</th>\n",
       "      <th>magnesium</th>\n",
       "      <th>total_phenols</th>\n",
       "      <th>flavanoids</th>\n",
       "      <th>nonflavanoid_phenols</th>\n",
       "      <th>proanthocyanins</th>\n",
       "      <th>color_intensity</th>\n",
       "      <th>hue</th>\n",
       "      <th>od280</th>\n",
       "      <th>proline</th>\n",
       "    </tr>\n",
       "  </thead>\n",
       "  <tbody>\n",
       "    <tr>\n",
       "      <th>0</th>\n",
       "      <td>Barolo</td>\n",
       "      <td>14.23</td>\n",
       "      <td>1.71</td>\n",
       "      <td>2.43</td>\n",
       "      <td>15.6</td>\n",
       "      <td>127</td>\n",
       "      <td>2.80</td>\n",
       "      <td>3.06</td>\n",
       "      <td>0.28</td>\n",
       "      <td>2.29</td>\n",
       "      <td>5.64</td>\n",
       "      <td>1.04</td>\n",
       "      <td>3.92</td>\n",
       "      <td>1065</td>\n",
       "    </tr>\n",
       "    <tr>\n",
       "      <th>1</th>\n",
       "      <td>Barolo</td>\n",
       "      <td>13.20</td>\n",
       "      <td>1.78</td>\n",
       "      <td>2.14</td>\n",
       "      <td>11.2</td>\n",
       "      <td>100</td>\n",
       "      <td>2.65</td>\n",
       "      <td>2.76</td>\n",
       "      <td>0.26</td>\n",
       "      <td>1.28</td>\n",
       "      <td>4.38</td>\n",
       "      <td>1.05</td>\n",
       "      <td>3.40</td>\n",
       "      <td>1050</td>\n",
       "    </tr>\n",
       "    <tr>\n",
       "      <th>2</th>\n",
       "      <td>Barolo</td>\n",
       "      <td>13.16</td>\n",
       "      <td>2.36</td>\n",
       "      <td>2.67</td>\n",
       "      <td>18.6</td>\n",
       "      <td>101</td>\n",
       "      <td>2.80</td>\n",
       "      <td>3.24</td>\n",
       "      <td>0.30</td>\n",
       "      <td>2.81</td>\n",
       "      <td>5.68</td>\n",
       "      <td>1.03</td>\n",
       "      <td>3.17</td>\n",
       "      <td>1185</td>\n",
       "    </tr>\n",
       "  </tbody>\n",
       "</table>\n",
       "</div>"
      ],
      "text/plain": [
       "  varieties  alcohol  malic_acid   ash  alcalinity_of_ash  magnesium  \\\n",
       "0    Barolo    14.23        1.71  2.43               15.6        127   \n",
       "1    Barolo    13.20        1.78  2.14               11.2        100   \n",
       "2    Barolo    13.16        2.36  2.67               18.6        101   \n",
       "\n",
       "   total_phenols  flavanoids  nonflavanoid_phenols  proanthocyanins  \\\n",
       "0           2.80        3.06                  0.28             2.29   \n",
       "1           2.65        2.76                  0.26             1.28   \n",
       "2           2.80        3.24                  0.30             2.81   \n",
       "\n",
       "   color_intensity   hue  od280  proline  \n",
       "0             5.64  1.04   3.92     1065  \n",
       "1             4.38  1.05   3.40     1050  \n",
       "2             5.68  1.03   3.17     1185  "
      ]
     },
     "execution_count": 89,
     "metadata": {},
     "output_type": "execute_result"
    }
   ],
   "source": [
    "import pandas as pd\n",
    "data = pd.read_csv('wine.csv')\n",
    "data.head(3)"
   ]
  },
  {
   "cell_type": "markdown",
   "id": "791bfe83-8ef3-4388-9776-bde9162f7c7c",
   "metadata": {},
   "source": [
    "2. กำหนด X เป็น numpy array ข้อมูลจาก data ยกเว้นคอลัมน์ 'varieties'"
   ]
  },
  {
   "cell_type": "code",
   "execution_count": 90,
   "id": "6549114f-b866-41aa-b672-0f40cf29487c",
   "metadata": {},
   "outputs": [
    {
     "name": "stdout",
     "output_type": "stream",
     "text": [
      "[[1.423e+01 1.710e+00 2.430e+00 1.560e+01 1.270e+02 2.800e+00 3.060e+00\n",
      "  2.800e-01 2.290e+00 5.640e+00 1.040e+00 3.920e+00 1.065e+03]\n",
      " [1.320e+01 1.780e+00 2.140e+00 1.120e+01 1.000e+02 2.650e+00 2.760e+00\n",
      "  2.600e-01 1.280e+00 4.380e+00 1.050e+00 3.400e+00 1.050e+03]\n",
      " [1.316e+01 2.360e+00 2.670e+00 1.860e+01 1.010e+02 2.800e+00 3.240e+00\n",
      "  3.000e-01 2.810e+00 5.680e+00 1.030e+00 3.170e+00 1.185e+03]]\n"
     ]
    }
   ],
   "source": [
    "X = data.drop('varieties',axis=1).values\n",
    "print(X[:3,:])"
   ]
  },
  {
   "cell_type": "markdown",
   "id": "be2c4e37-0db5-448d-bfb9-b9fc9132e48f",
   "metadata": {},
   "source": [
    "3. สร้าง StandardScaler เก็บไว้ที่ตัวแปร scaler"
   ]
  },
  {
   "cell_type": "code",
   "execution_count": 91,
   "id": "e4e5b27b-f920-4cbe-a327-0e53ae0a20bd",
   "metadata": {},
   "outputs": [],
   "source": [
    "from sklearn.cluster import KMeans\n",
    "from sklearn.preprocessing import StandardScaler\n",
    "from sklearn.pipeline import make_pipeline \n",
    "\n",
    "scaler = StandardScaler()\n"
   ]
  },
  {
   "cell_type": "markdown",
   "id": "b760c40c-cfa5-4d9f-8548-f1d629b79c16",
   "metadata": {},
   "source": [
    "4. สร้าง ตัวแบบจัดกลุ่ม KMeans เก็บไว้ที่ตัวแปร kmeans  โดยกำหนด n_clusters = 3"
   ]
  },
  {
   "cell_type": "code",
   "execution_count": 92,
   "id": "ae351b27-20d1-41b6-8bab-473f12cd17ff",
   "metadata": {},
   "outputs": [],
   "source": [
    "from sklearn.cluster import KMeans\n",
    "kmeans = KMeans(n_clusters=3)"
   ]
  },
  {
   "cell_type": "markdown",
   "id": "c5301262-91bc-4152-a045-307d9f25329d",
   "metadata": {},
   "source": [
    "5. สร้าง pipeline โดยใช้ make_pipeline จาก sklearn.pipeline โดยเริ่มจาก scaler แล้วตามด้วย kmeans"
   ]
  },
  {
   "cell_type": "code",
   "execution_count": 93,
   "id": "e427f514-2634-4005-9918-515888b748b9",
   "metadata": {},
   "outputs": [],
   "source": [
    "from sklearn.pipeline import make_pipeline \n",
    "pipeline = make_pipeline(scaler, kmeans)"
   ]
  },
  {
   "cell_type": "markdown",
   "id": "2475b446-8cc2-4afe-baa6-f9f000124e82",
   "metadata": {},
   "source": [
    "6. ทำการสร้างโมเดลจาก pipline ที่สร้างขึ้น โดยใช้ .fit() กับข้อมูล X"
   ]
  },
  {
   "cell_type": "code",
   "execution_count": 94,
   "id": "6000859e-97f0-443d-b958-a0f4ccd2687b",
   "metadata": {},
   "outputs": [
    {
     "data": {
      "text/html": [
       "<style>#sk-container-id-10 {color: black;background-color: white;}#sk-container-id-10 pre{padding: 0;}#sk-container-id-10 div.sk-toggleable {background-color: white;}#sk-container-id-10 label.sk-toggleable__label {cursor: pointer;display: block;width: 100%;margin-bottom: 0;padding: 0.3em;box-sizing: border-box;text-align: center;}#sk-container-id-10 label.sk-toggleable__label-arrow:before {content: \"▸\";float: left;margin-right: 0.25em;color: #696969;}#sk-container-id-10 label.sk-toggleable__label-arrow:hover:before {color: black;}#sk-container-id-10 div.sk-estimator:hover label.sk-toggleable__label-arrow:before {color: black;}#sk-container-id-10 div.sk-toggleable__content {max-height: 0;max-width: 0;overflow: hidden;text-align: left;background-color: #f0f8ff;}#sk-container-id-10 div.sk-toggleable__content pre {margin: 0.2em;color: black;border-radius: 0.25em;background-color: #f0f8ff;}#sk-container-id-10 input.sk-toggleable__control:checked~div.sk-toggleable__content {max-height: 200px;max-width: 100%;overflow: auto;}#sk-container-id-10 input.sk-toggleable__control:checked~label.sk-toggleable__label-arrow:before {content: \"▾\";}#sk-container-id-10 div.sk-estimator input.sk-toggleable__control:checked~label.sk-toggleable__label {background-color: #d4ebff;}#sk-container-id-10 div.sk-label input.sk-toggleable__control:checked~label.sk-toggleable__label {background-color: #d4ebff;}#sk-container-id-10 input.sk-hidden--visually {border: 0;clip: rect(1px 1px 1px 1px);clip: rect(1px, 1px, 1px, 1px);height: 1px;margin: -1px;overflow: hidden;padding: 0;position: absolute;width: 1px;}#sk-container-id-10 div.sk-estimator {font-family: monospace;background-color: #f0f8ff;border: 1px dotted black;border-radius: 0.25em;box-sizing: border-box;margin-bottom: 0.5em;}#sk-container-id-10 div.sk-estimator:hover {background-color: #d4ebff;}#sk-container-id-10 div.sk-parallel-item::after {content: \"\";width: 100%;border-bottom: 1px solid gray;flex-grow: 1;}#sk-container-id-10 div.sk-label:hover label.sk-toggleable__label {background-color: #d4ebff;}#sk-container-id-10 div.sk-serial::before {content: \"\";position: absolute;border-left: 1px solid gray;box-sizing: border-box;top: 0;bottom: 0;left: 50%;z-index: 0;}#sk-container-id-10 div.sk-serial {display: flex;flex-direction: column;align-items: center;background-color: white;padding-right: 0.2em;padding-left: 0.2em;position: relative;}#sk-container-id-10 div.sk-item {position: relative;z-index: 1;}#sk-container-id-10 div.sk-parallel {display: flex;align-items: stretch;justify-content: center;background-color: white;position: relative;}#sk-container-id-10 div.sk-item::before, #sk-container-id-10 div.sk-parallel-item::before {content: \"\";position: absolute;border-left: 1px solid gray;box-sizing: border-box;top: 0;bottom: 0;left: 50%;z-index: -1;}#sk-container-id-10 div.sk-parallel-item {display: flex;flex-direction: column;z-index: 1;position: relative;background-color: white;}#sk-container-id-10 div.sk-parallel-item:first-child::after {align-self: flex-end;width: 50%;}#sk-container-id-10 div.sk-parallel-item:last-child::after {align-self: flex-start;width: 50%;}#sk-container-id-10 div.sk-parallel-item:only-child::after {width: 0;}#sk-container-id-10 div.sk-dashed-wrapped {border: 1px dashed gray;margin: 0 0.4em 0.5em 0.4em;box-sizing: border-box;padding-bottom: 0.4em;background-color: white;}#sk-container-id-10 div.sk-label label {font-family: monospace;font-weight: bold;display: inline-block;line-height: 1.2em;}#sk-container-id-10 div.sk-label-container {text-align: center;}#sk-container-id-10 div.sk-container {/* jupyter's `normalize.less` sets `[hidden] { display: none; }` but bootstrap.min.css set `[hidden] { display: none !important; }` so we also need the `!important` here to be able to override the default hidden behavior on the sphinx rendered scikit-learn.org. See: https://github.com/scikit-learn/scikit-learn/issues/21755 */display: inline-block !important;position: relative;}#sk-container-id-10 div.sk-text-repr-fallback {display: none;}</style><div id=\"sk-container-id-10\" class=\"sk-top-container\"><div class=\"sk-text-repr-fallback\"><pre>Pipeline(steps=[(&#x27;standardscaler&#x27;, StandardScaler()),\n",
       "                (&#x27;kmeans&#x27;, KMeans(n_clusters=3))])</pre><b>In a Jupyter environment, please rerun this cell to show the HTML representation or trust the notebook. <br />On GitHub, the HTML representation is unable to render, please try loading this page with nbviewer.org.</b></div><div class=\"sk-container\" hidden><div class=\"sk-item sk-dashed-wrapped\"><div class=\"sk-label-container\"><div class=\"sk-label sk-toggleable\"><input class=\"sk-toggleable__control sk-hidden--visually\" id=\"sk-estimator-id-14\" type=\"checkbox\" ><label for=\"sk-estimator-id-14\" class=\"sk-toggleable__label sk-toggleable__label-arrow\">Pipeline</label><div class=\"sk-toggleable__content\"><pre>Pipeline(steps=[(&#x27;standardscaler&#x27;, StandardScaler()),\n",
       "                (&#x27;kmeans&#x27;, KMeans(n_clusters=3))])</pre></div></div></div><div class=\"sk-serial\"><div class=\"sk-item\"><div class=\"sk-estimator sk-toggleable\"><input class=\"sk-toggleable__control sk-hidden--visually\" id=\"sk-estimator-id-15\" type=\"checkbox\" ><label for=\"sk-estimator-id-15\" class=\"sk-toggleable__label sk-toggleable__label-arrow\">StandardScaler</label><div class=\"sk-toggleable__content\"><pre>StandardScaler()</pre></div></div></div><div class=\"sk-item\"><div class=\"sk-estimator sk-toggleable\"><input class=\"sk-toggleable__control sk-hidden--visually\" id=\"sk-estimator-id-16\" type=\"checkbox\" ><label for=\"sk-estimator-id-16\" class=\"sk-toggleable__label sk-toggleable__label-arrow\">KMeans</label><div class=\"sk-toggleable__content\"><pre>KMeans(n_clusters=3)</pre></div></div></div></div></div></div></div>"
      ],
      "text/plain": [
       "Pipeline(steps=[('standardscaler', StandardScaler()),\n",
       "                ('kmeans', KMeans(n_clusters=3))])"
      ]
     },
     "execution_count": 94,
     "metadata": {},
     "output_type": "execute_result"
    }
   ],
   "source": [
    "pipeline.fit(X)"
   ]
  },
  {
   "cell_type": "markdown",
   "id": "aba3545c-18e4-46bb-8303-d108b0876184",
   "metadata": {},
   "source": [
    "7. สร้าง labels ให้กับข้อมูล X โดยใช้ .predict() กับ pipline ที่สร้างไว้  "
   ]
  },
  {
   "cell_type": "code",
   "execution_count": 95,
   "id": "8e169f52-8de6-437e-8ac5-b0e117821c9e",
   "metadata": {},
   "outputs": [
    {
     "name": "stdout",
     "output_type": "stream",
     "text": [
      "[2 2 2 2 2 2 2 2 2 2 2 2 2 2 2 2 2 2 2 2 2 2 2 2 2 2 2 2 2 2 2 2 2 2 2 2 2\n",
      " 2 2 2 2 2 2 2 2 2 2 2 2 2 2 2 2 2 2 2 2 2 2 1 1 0 1 1 1 1 1 1 1 1 1 1 1 2\n",
      " 1 1 1 1 1 1 1 1 1 0 1 1 1 1 1 1 1 1 1 1 1 2 1 1 1 1 1 1 1 1 1 1 1 1 1 1 1\n",
      " 1 1 1 1 1 1 1 0 1 1 2 1 1 1 1 1 1 1 1 0 0 0 0 0 0 0 0 0 0 0 0 0 0 0 0 0 0\n",
      " 0 0 0 0 0 0 0 0 0 0 0 0 0 0 0 0 0 0 0 0 0 0 0 0 0 0 0 0 0 0]\n"
     ]
    }
   ],
   "source": [
    "labels = pipeline.predict(X)\n",
    "print(labels)"
   ]
  },
  {
   "cell_type": "markdown",
   "id": "9251b080-e00d-4877-bc91-d26c202bbb00",
   "metadata": {},
   "source": [
    "8. ทำ crosstab ระหว่าง labels และ varieties "
   ]
  },
  {
   "cell_type": "code",
   "execution_count": 96,
   "id": "7a459e5c-4808-4d08-8b68-9159de4a608f",
   "metadata": {},
   "outputs": [],
   "source": [
    "df = pd.DataFrame({'labels': labels})\n",
    "df['varieties'] = data['varieties']"
   ]
  },
  {
   "cell_type": "code",
   "execution_count": 97,
   "id": "e7fc12a7-c560-494e-a4a9-33dac53ecee4",
   "metadata": {},
   "outputs": [
    {
     "name": "stdout",
     "output_type": "stream",
     "text": [
      "varieties  Barbera  Barolo  Grignolino\n",
      "labels                                \n",
      "0               48       0           3\n",
      "1                0       0          65\n",
      "2                0      59           3\n"
     ]
    }
   ],
   "source": [
    "ct = pd.crosstab(df['labels'], df['varieties'])\n",
    "print(ct)"
   ]
  },
  {
   "cell_type": "markdown",
   "id": "b2249cf7-5602-42d0-9fea-a8d0688e8e2c",
   "metadata": {},
   "source": [
    "9. (optional) Plot แสดงค่า X คอลัมน์ 0 และ 4 ที่ได้ scale แล้ว "
   ]
  },
  {
   "cell_type": "code",
   "execution_count": 98,
   "id": "81979721-6809-4009-9c68-40e7596d6a2c",
   "metadata": {},
   "outputs": [],
   "source": [
    "Xsc = scaler.transform(X)\n",
    "# Xsc"
   ]
  },
  {
   "cell_type": "code",
   "execution_count": 99,
   "id": "d093d2be-99e4-4032-9b2c-9902ac416029",
   "metadata": {},
   "outputs": [
    {
     "data": {
      "text/plain": [
       "Text(0, 0.5, 'magnesium')"
      ]
     },
     "execution_count": 99,
     "metadata": {},
     "output_type": "execute_result"
    },
    {
     "data": {
      "image/png": "[encoded data removed]",
      "text/plain": [
       "<Figure size 640x480 with 1 Axes>"
      ]
     },
     "metadata": {},
     "output_type": "display_data"
    }
   ],
   "source": [
    "import matplotlib.pyplot as plt\n",
    "plt.scatter(Xsc[:,0],Xsc[:,4],alpha=0.5)\n",
    "plt.axis('equal')\n",
    "plt.xlabel('alcohol')\n",
    "plt.ylabel('magnesium')"
   ]
  },
  {
   "cell_type": "markdown",
   "id": "8d5652ce-ebf6-4676-af53-6bdd3e50dc4e",
   "metadata": {},
   "source": [
    "## KMeans : Stock data"
   ]
  },
  {
   "cell_type": "markdown",
   "id": "5d67fa95-d1d4-40b8-8fe5-e131a8de9a90",
   "metadata": {},
   "source": [
    "1. อ่านข้อมูลจาก company-stock-movements-2010-2015-incl.csv เก็บไว้ที่ตัวแปร data"
   ]
  },
  {
   "cell_type": "code",
   "execution_count": 139,
   "id": "45ac9609-a25a-4b10-bcbd-e2b4890f393e",
   "metadata": {},
   "outputs": [
    {
     "data": {
      "text/html": [
       "<div>\n",
       "<style scoped>\n",
       "    .dataframe tbody tr th:only-of-type {\n",
       "        vertical-align: middle;\n",
       "    }\n",
       "\n",
       "    .dataframe tbody tr th {\n",
       "        vertical-align: top;\n",
       "    }\n",
       "\n",
       "    .dataframe thead th {\n",
       "        text-align: right;\n",
       "    }\n",
       "</style>\n",
       "<table border=\"1\" class=\"dataframe\">\n",
       "  <thead>\n",
       "    <tr style=\"text-align: right;\">\n",
       "      <th></th>\n",
       "      <th>companies</th>\n",
       "      <th>1/4/2010</th>\n",
       "      <th>1/5/2010</th>\n",
       "      <th>1/6/2010</th>\n",
       "      <th>1/7/2010</th>\n",
       "      <th>1/8/2010</th>\n",
       "      <th>1/11/2010</th>\n",
       "      <th>1/12/2010</th>\n",
       "      <th>1/13/2010</th>\n",
       "      <th>1/14/2010</th>\n",
       "      <th>...</th>\n",
       "      <th>10/16/2013</th>\n",
       "      <th>10/17/2013</th>\n",
       "      <th>10/18/2013</th>\n",
       "      <th>10/21/2013</th>\n",
       "      <th>10/22/2013</th>\n",
       "      <th>10/23/2013</th>\n",
       "      <th>10/24/2013</th>\n",
       "      <th>10/25/2013</th>\n",
       "      <th>10/28/2013</th>\n",
       "      <th>10/29/2013</th>\n",
       "    </tr>\n",
       "  </thead>\n",
       "  <tbody>\n",
       "    <tr>\n",
       "      <th>0</th>\n",
       "      <td>Apple</td>\n",
       "      <td>0.580000</td>\n",
       "      <td>-0.220005</td>\n",
       "      <td>-3.409998</td>\n",
       "      <td>-1.170000</td>\n",
       "      <td>1.680011</td>\n",
       "      <td>-2.689994</td>\n",
       "      <td>-1.469994</td>\n",
       "      <td>2.779997</td>\n",
       "      <td>-0.680003</td>\n",
       "      <td>...</td>\n",
       "      <td>0.320008</td>\n",
       "      <td>4.519997</td>\n",
       "      <td>2.899987</td>\n",
       "      <td>9.590019</td>\n",
       "      <td>-6.540016</td>\n",
       "      <td>5.959976</td>\n",
       "      <td>6.910011</td>\n",
       "      <td>-5.359962</td>\n",
       "      <td>0.840019</td>\n",
       "      <td>-19.589981</td>\n",
       "    </tr>\n",
       "    <tr>\n",
       "      <th>1</th>\n",
       "      <td>AIG</td>\n",
       "      <td>-0.640002</td>\n",
       "      <td>-0.650000</td>\n",
       "      <td>-0.210001</td>\n",
       "      <td>-0.420000</td>\n",
       "      <td>0.710001</td>\n",
       "      <td>-0.200001</td>\n",
       "      <td>-1.130001</td>\n",
       "      <td>0.069999</td>\n",
       "      <td>-0.119999</td>\n",
       "      <td>...</td>\n",
       "      <td>0.919998</td>\n",
       "      <td>0.709999</td>\n",
       "      <td>0.119999</td>\n",
       "      <td>-0.480000</td>\n",
       "      <td>0.010002</td>\n",
       "      <td>-0.279998</td>\n",
       "      <td>-0.190003</td>\n",
       "      <td>-0.040001</td>\n",
       "      <td>-0.400002</td>\n",
       "      <td>0.660000</td>\n",
       "    </tr>\n",
       "    <tr>\n",
       "      <th>2</th>\n",
       "      <td>Amazon</td>\n",
       "      <td>-2.350006</td>\n",
       "      <td>1.260009</td>\n",
       "      <td>-2.350006</td>\n",
       "      <td>-2.009995</td>\n",
       "      <td>2.960006</td>\n",
       "      <td>-2.309997</td>\n",
       "      <td>-1.640007</td>\n",
       "      <td>1.209999</td>\n",
       "      <td>-1.790001</td>\n",
       "      <td>...</td>\n",
       "      <td>2.109985</td>\n",
       "      <td>3.699982</td>\n",
       "      <td>9.570008</td>\n",
       "      <td>-3.450013</td>\n",
       "      <td>4.820008</td>\n",
       "      <td>-4.079986</td>\n",
       "      <td>2.579986</td>\n",
       "      <td>4.790009</td>\n",
       "      <td>-1.760009</td>\n",
       "      <td>3.740021</td>\n",
       "    </tr>\n",
       "  </tbody>\n",
       "</table>\n",
       "<p>3 rows × 964 columns</p>\n",
       "</div>"
      ],
      "text/plain": [
       "  companies  1/4/2010  1/5/2010  1/6/2010  1/7/2010  1/8/2010  1/11/2010  \\\n",
       "0     Apple  0.580000 -0.220005 -3.409998 -1.170000  1.680011  -2.689994   \n",
       "1       AIG -0.640002 -0.650000 -0.210001 -0.420000  0.710001  -0.200001   \n",
       "2    Amazon -2.350006  1.260009 -2.350006 -2.009995  2.960006  -2.309997   \n",
       "\n",
       "   1/12/2010  1/13/2010  1/14/2010  ...  10/16/2013  10/17/2013  10/18/2013  \\\n",
       "0  -1.469994   2.779997  -0.680003  ...    0.320008    4.519997    2.899987   \n",
       "1  -1.130001   0.069999  -0.119999  ...    0.919998    0.709999    0.119999   \n",
       "2  -1.640007   1.209999  -1.790001  ...    2.109985    3.699982    9.570008   \n",
       "\n",
       "   10/21/2013  10/22/2013  10/23/2013  10/24/2013  10/25/2013  10/28/2013  \\\n",
       "0    9.590019   -6.540016    5.959976    6.910011   -5.359962    0.840019   \n",
       "1   -0.480000    0.010002   -0.279998   -0.190003   -0.040001   -0.400002   \n",
       "2   -3.450013    4.820008   -4.079986    2.579986    4.790009   -1.760009   \n",
       "\n",
       "   10/29/2013  \n",
       "0  -19.589981  \n",
       "1    0.660000  \n",
       "2    3.740021  \n",
       "\n",
       "[3 rows x 964 columns]"
      ]
     },
     "execution_count": 139,
     "metadata": {},
     "output_type": "execute_result"
    }
   ],
   "source": [
    "import pandas as pd\n",
    "data = pd.read_csv('company-stock-movements-2010-2015-incl.csv')\n",
    "data.head(3)"
   ]
  },
  {
   "cell_type": "markdown",
   "id": "5c7ef249-f268-4eb6-8b55-9153a05be5bb",
   "metadata": {},
   "source": [
    "2. กำหนด X เป็น numpy array ข้อมูลจาก data ยกเว้นคอลัมน์ 'companies'"
   ]
  },
  {
   "cell_type": "code",
   "execution_count": 140,
   "id": "2a066b41-e57c-45c0-876b-e5eb47ed71d7",
   "metadata": {},
   "outputs": [
    {
     "name": "stdout",
     "output_type": "stream",
     "text": [
      "[[  0.58      -0.220005  -3.409998 ...  -5.359962   0.840019 -19.589981]\n",
      " [ -0.640002  -0.65      -0.210001 ...  -0.040001  -0.400002   0.66    ]\n",
      " [ -2.350006   1.260009  -2.350006 ...   4.790009  -1.760009   3.740021]]\n"
     ]
    }
   ],
   "source": [
    "X = data.drop('companies',axis=1).values\n",
    "print(X[:3,:])"
   ]
  },
  {
   "cell_type": "markdown",
   "id": "32392371-3364-48e1-8c13-f5ebcbadbe13",
   "metadata": {},
   "source": [
    "3. ทำข้อมูลให้อยู่ในรูปมาตรฐาน ด้วย Normalizer ให้ชื่อว่า normalizer\n",
    "4. สร้างตัวแบบโมเดล kmeans ด้วย KMeans กำหนด จำนวนกลุ่ม (k) มีค่า 10\n",
    "5. สร้าง pipeline โดยใช้ make_pipeline จาก sklearn.pipeline โดยเริ่มจาก normalizer แล้วตามด้วย kmeans\n",
    "6. ทำการสร้างโมเดลจาก pipline ที่สร้างขึ้น โดยใช้ .fit() กับข้อมูล X"
   ]
  },
  {
   "cell_type": "code",
   "execution_count": 141,
   "id": "aa3960f0-8496-4b6b-bd72-69901c01e7f0",
   "metadata": {},
   "outputs": [
    {
     "data": {
      "text/html": [
       "<style>#sk-container-id-17 {color: black;background-color: white;}#sk-container-id-17 pre{padding: 0;}#sk-container-id-17 div.sk-toggleable {background-color: white;}#sk-container-id-17 label.sk-toggleable__label {cursor: pointer;display: block;width: 100%;margin-bottom: 0;padding: 0.3em;box-sizing: border-box;text-align: center;}#sk-container-id-17 label.sk-toggleable__label-arrow:before {content: \"▸\";float: left;margin-right: 0.25em;color: #696969;}#sk-container-id-17 label.sk-toggleable__label-arrow:hover:before {color: black;}#sk-container-id-17 div.sk-estimator:hover label.sk-toggleable__label-arrow:before {color: black;}#sk-container-id-17 div.sk-toggleable__content {max-height: 0;max-width: 0;overflow: hidden;text-align: left;background-color: #f0f8ff;}#sk-container-id-17 div.sk-toggleable__content pre {margin: 0.2em;color: black;border-radius: 0.25em;background-color: #f0f8ff;}#sk-container-id-17 input.sk-toggleable__control:checked~div.sk-toggleable__content {max-height: 200px;max-width: 100%;overflow: auto;}#sk-container-id-17 input.sk-toggleable__control:checked~label.sk-toggleable__label-arrow:before {content: \"▾\";}#sk-container-id-17 div.sk-estimator input.sk-toggleable__control:checked~label.sk-toggleable__label {background-color: #d4ebff;}#sk-container-id-17 div.sk-label input.sk-toggleable__control:checked~label.sk-toggleable__label {background-color: #d4ebff;}#sk-container-id-17 input.sk-hidden--visually {border: 0;clip: rect(1px 1px 1px 1px);clip: rect(1px, 1px, 1px, 1px);height: 1px;margin: -1px;overflow: hidden;padding: 0;position: absolute;width: 1px;}#sk-container-id-17 div.sk-estimator {font-family: monospace;background-color: #f0f8ff;border: 1px dotted black;border-radius: 0.25em;box-sizing: border-box;margin-bottom: 0.5em;}#sk-container-id-17 div.sk-estimator:hover {background-color: #d4ebff;}#sk-container-id-17 div.sk-parallel-item::after {content: \"\";width: 100%;border-bottom: 1px solid gray;flex-grow: 1;}#sk-container-id-17 div.sk-label:hover label.sk-toggleable__label {background-color: #d4ebff;}#sk-container-id-17 div.sk-serial::before {content: \"\";position: absolute;border-left: 1px solid gray;box-sizing: border-box;top: 0;bottom: 0;left: 50%;z-index: 0;}#sk-container-id-17 div.sk-serial {display: flex;flex-direction: column;align-items: center;background-color: white;padding-right: 0.2em;padding-left: 0.2em;position: relative;}#sk-container-id-17 div.sk-item {position: relative;z-index: 1;}#sk-container-id-17 div.sk-parallel {display: flex;align-items: stretch;justify-content: center;background-color: white;position: relative;}#sk-container-id-17 div.sk-item::before, #sk-container-id-17 div.sk-parallel-item::before {content: \"\";position: absolute;border-left: 1px solid gray;box-sizing: border-box;top: 0;bottom: 0;left: 50%;z-index: -1;}#sk-container-id-17 div.sk-parallel-item {display: flex;flex-direction: column;z-index: 1;position: relative;background-color: white;}#sk-container-id-17 div.sk-parallel-item:first-child::after {align-self: flex-end;width: 50%;}#sk-container-id-17 div.sk-parallel-item:last-child::after {align-self: flex-start;width: 50%;}#sk-container-id-17 div.sk-parallel-item:only-child::after {width: 0;}#sk-container-id-17 div.sk-dashed-wrapped {border: 1px dashed gray;margin: 0 0.4em 0.5em 0.4em;box-sizing: border-box;padding-bottom: 0.4em;background-color: white;}#sk-container-id-17 div.sk-label label {font-family: monospace;font-weight: bold;display: inline-block;line-height: 1.2em;}#sk-container-id-17 div.sk-label-container {text-align: center;}#sk-container-id-17 div.sk-container {/* jupyter's `normalize.less` sets `[hidden] { display: none; }` but bootstrap.min.css set `[hidden] { display: none !important; }` so we also need the `!important` here to be able to override the default hidden behavior on the sphinx rendered scikit-learn.org. See: https://github.com/scikit-learn/scikit-learn/issues/21755 */display: inline-block !important;position: relative;}#sk-container-id-17 div.sk-text-repr-fallback {display: none;}</style><div id=\"sk-container-id-17\" class=\"sk-top-container\"><div class=\"sk-text-repr-fallback\"><pre>Pipeline(steps=[(&#x27;normalizer&#x27;, Normalizer()), (&#x27;kmeans&#x27;, KMeans(n_clusters=3))])</pre><b>In a Jupyter environment, please rerun this cell to show the HTML representation or trust the notebook. <br />On GitHub, the HTML representation is unable to render, please try loading this page with nbviewer.org.</b></div><div class=\"sk-container\" hidden><div class=\"sk-item sk-dashed-wrapped\"><div class=\"sk-label-container\"><div class=\"sk-label sk-toggleable\"><input class=\"sk-toggleable__control sk-hidden--visually\" id=\"sk-estimator-id-29\" type=\"checkbox\" ><label for=\"sk-estimator-id-29\" class=\"sk-toggleable__label sk-toggleable__label-arrow\">Pipeline</label><div class=\"sk-toggleable__content\"><pre>Pipeline(steps=[(&#x27;normalizer&#x27;, Normalizer()), (&#x27;kmeans&#x27;, KMeans(n_clusters=3))])</pre></div></div></div><div class=\"sk-serial\"><div class=\"sk-item\"><div class=\"sk-estimator sk-toggleable\"><input class=\"sk-toggleable__control sk-hidden--visually\" id=\"sk-estimator-id-30\" type=\"checkbox\" ><label for=\"sk-estimator-id-30\" class=\"sk-toggleable__label sk-toggleable__label-arrow\">Normalizer</label><div class=\"sk-toggleable__content\"><pre>Normalizer()</pre></div></div></div><div class=\"sk-item\"><div class=\"sk-estimator sk-toggleable\"><input class=\"sk-toggleable__control sk-hidden--visually\" id=\"sk-estimator-id-31\" type=\"checkbox\" ><label for=\"sk-estimator-id-31\" class=\"sk-toggleable__label sk-toggleable__label-arrow\">KMeans</label><div class=\"sk-toggleable__content\"><pre>KMeans(n_clusters=3)</pre></div></div></div></div></div></div></div>"
      ],
      "text/plain": [
       "Pipeline(steps=[('normalizer', Normalizer()), ('kmeans', KMeans(n_clusters=3))])"
      ]
     },
     "execution_count": 141,
     "metadata": {},
     "output_type": "execute_result"
    }
   ],
   "source": [
    "from sklearn.preprocessing import Normalizer\n",
    "from sklearn.cluster import KMeans\n",
    "from sklearn.pipeline import make_pipeline \n",
    "\n",
    "normalizer = Normalizer().fit(X)\n",
    "normalizer.transform(X)\n",
    "kmeans = KMeans(n_clusters=3)\n",
    "pipeline = make_pipeline(normalizer, kmeans)\n",
    "pipeline.fit(X)"
   ]
  },
  {
   "cell_type": "markdown",
   "id": "61457b51-b646-4a7e-af04-a570fbdc055d",
   "metadata": {},
   "source": [
    "7. สร้าง labels ให้กับข้อมูล X โดยใช้ .predict() กับ pipline ที่สร้างไว้"
   ]
  },
  {
   "cell_type": "code",
   "execution_count": 142,
   "id": "8029ec71-844f-4803-9a27-8d3489e987ee",
   "metadata": {},
   "outputs": [
    {
     "name": "stdout",
     "output_type": "stream",
     "text": [
      "[0 2 0 2 2 2 2 2 0 1 2 0 2 2 0 2 2 0 2 2 2 2 0 0 0 1 2 1 1 2 2 2 2 0 2 0 2\n",
      " 2 1 1 1 1 2 0 0 2 2 0 2 2 0 0 2 2 1 2 1 2 0 0]\n"
     ]
    }
   ],
   "source": [
    "labels = pipeline.predict(X)\n",
    "print(labels)"
   ]
  },
  {
   "cell_type": "markdown",
   "id": "de60b49d-04cc-4d9a-807e-0f4ea1df0336",
   "metadata": {},
   "source": [
    "8. แสดง companies ตามลำดับกลุ่ม จะทำให้เห็นว่า companies ใด มีทิศทางในทางเดียวกัน "
   ]
  },
  {
   "cell_type": "code",
   "execution_count": 143,
   "id": "a95c9a3a-c6fd-4ecc-bf43-6705a8b04b4e",
   "metadata": {},
   "outputs": [
    {
     "data": {
      "text/html": [
       "<div>\n",
       "<style scoped>\n",
       "    .dataframe tbody tr th:only-of-type {\n",
       "        vertical-align: middle;\n",
       "    }\n",
       "\n",
       "    .dataframe tbody tr th {\n",
       "        vertical-align: top;\n",
       "    }\n",
       "\n",
       "    .dataframe thead th {\n",
       "        text-align: right;\n",
       "    }\n",
       "</style>\n",
       "<table border=\"1\" class=\"dataframe\">\n",
       "  <thead>\n",
       "    <tr style=\"text-align: right;\">\n",
       "      <th></th>\n",
       "      <th>labels</th>\n",
       "      <th>companies</th>\n",
       "    </tr>\n",
       "  </thead>\n",
       "  <tbody>\n",
       "    <tr>\n",
       "      <th>0</th>\n",
       "      <td>0</td>\n",
       "      <td>Apple</td>\n",
       "    </tr>\n",
       "    <tr>\n",
       "      <th>51</th>\n",
       "      <td>0</td>\n",
       "      <td>Texas instruments</td>\n",
       "    </tr>\n",
       "    <tr>\n",
       "      <th>50</th>\n",
       "      <td>0</td>\n",
       "      <td>Taiwan Semiconductor Manufacturing</td>\n",
       "    </tr>\n",
       "    <tr>\n",
       "      <th>47</th>\n",
       "      <td>0</td>\n",
       "      <td>Symantec</td>\n",
       "    </tr>\n",
       "    <tr>\n",
       "      <th>44</th>\n",
       "      <td>0</td>\n",
       "      <td>Schlumberger</td>\n",
       "    </tr>\n",
       "    <tr>\n",
       "      <th>43</th>\n",
       "      <td>0</td>\n",
       "      <td>SAP</td>\n",
       "    </tr>\n",
       "    <tr>\n",
       "      <th>35</th>\n",
       "      <td>0</td>\n",
       "      <td>Navistar</td>\n",
       "    </tr>\n",
       "    <tr>\n",
       "      <th>33</th>\n",
       "      <td>0</td>\n",
       "      <td>Microsoft</td>\n",
       "    </tr>\n",
       "    <tr>\n",
       "      <th>58</th>\n",
       "      <td>0</td>\n",
       "      <td>Xerox</td>\n",
       "    </tr>\n",
       "    <tr>\n",
       "      <th>24</th>\n",
       "      <td>0</td>\n",
       "      <td>Intel</td>\n",
       "    </tr>\n",
       "    <tr>\n",
       "      <th>23</th>\n",
       "      <td>0</td>\n",
       "      <td>IBM</td>\n",
       "    </tr>\n",
       "    <tr>\n",
       "      <th>22</th>\n",
       "      <td>0</td>\n",
       "      <td>HP</td>\n",
       "    </tr>\n",
       "    <tr>\n",
       "      <th>17</th>\n",
       "      <td>0</td>\n",
       "      <td>Google/Alphabet</td>\n",
       "    </tr>\n",
       "    <tr>\n",
       "      <th>14</th>\n",
       "      <td>0</td>\n",
       "      <td>Dell</td>\n",
       "    </tr>\n",
       "    <tr>\n",
       "      <th>59</th>\n",
       "      <td>0</td>\n",
       "      <td>Yahoo</td>\n",
       "    </tr>\n",
       "    <tr>\n",
       "      <th>8</th>\n",
       "      <td>0</td>\n",
       "      <td>Caterpillar</td>\n",
       "    </tr>\n",
       "    <tr>\n",
       "      <th>2</th>\n",
       "      <td>0</td>\n",
       "      <td>Amazon</td>\n",
       "    </tr>\n",
       "    <tr>\n",
       "      <th>11</th>\n",
       "      <td>0</td>\n",
       "      <td>Cisco</td>\n",
       "    </tr>\n",
       "    <tr>\n",
       "      <th>28</th>\n",
       "      <td>1</td>\n",
       "      <td>Coca Cola</td>\n",
       "    </tr>\n",
       "    <tr>\n",
       "      <th>39</th>\n",
       "      <td>1</td>\n",
       "      <td>Pfizer</td>\n",
       "    </tr>\n",
       "    <tr>\n",
       "      <th>38</th>\n",
       "      <td>1</td>\n",
       "      <td>Pepsi</td>\n",
       "    </tr>\n",
       "    <tr>\n",
       "      <th>40</th>\n",
       "      <td>1</td>\n",
       "      <td>Procter Gamble</td>\n",
       "    </tr>\n",
       "    <tr>\n",
       "      <th>27</th>\n",
       "      <td>1</td>\n",
       "      <td>Kimberly-Clark</td>\n",
       "    </tr>\n",
       "    <tr>\n",
       "      <th>25</th>\n",
       "      <td>1</td>\n",
       "      <td>Johnson &amp; Johnson</td>\n",
       "    </tr>\n",
       "    <tr>\n",
       "      <th>41</th>\n",
       "      <td>1</td>\n",
       "      <td>Philip Morris</td>\n",
       "    </tr>\n",
       "    <tr>\n",
       "      <th>56</th>\n",
       "      <td>1</td>\n",
       "      <td>Wal-Mart</td>\n",
       "    </tr>\n",
       "    <tr>\n",
       "      <th>54</th>\n",
       "      <td>1</td>\n",
       "      <td>Walgreen</td>\n",
       "    </tr>\n",
       "    <tr>\n",
       "      <th>9</th>\n",
       "      <td>1</td>\n",
       "      <td>Colgate-Palmolive</td>\n",
       "    </tr>\n",
       "    <tr>\n",
       "      <th>1</th>\n",
       "      <td>2</td>\n",
       "      <td>AIG</td>\n",
       "    </tr>\n",
       "    <tr>\n",
       "      <th>57</th>\n",
       "      <td>2</td>\n",
       "      <td>Exxon</td>\n",
       "    </tr>\n",
       "    <tr>\n",
       "      <th>42</th>\n",
       "      <td>2</td>\n",
       "      <td>Royal Dutch Shell</td>\n",
       "    </tr>\n",
       "    <tr>\n",
       "      <th>5</th>\n",
       "      <td>2</td>\n",
       "      <td>Bank of America</td>\n",
       "    </tr>\n",
       "    <tr>\n",
       "      <th>4</th>\n",
       "      <td>2</td>\n",
       "      <td>Boeing</td>\n",
       "    </tr>\n",
       "    <tr>\n",
       "      <th>45</th>\n",
       "      <td>2</td>\n",
       "      <td>Sony</td>\n",
       "    </tr>\n",
       "    <tr>\n",
       "      <th>46</th>\n",
       "      <td>2</td>\n",
       "      <td>Sanofi-Aventis</td>\n",
       "    </tr>\n",
       "    <tr>\n",
       "      <th>48</th>\n",
       "      <td>2</td>\n",
       "      <td>Toyota</td>\n",
       "    </tr>\n",
       "    <tr>\n",
       "      <th>49</th>\n",
       "      <td>2</td>\n",
       "      <td>Total</td>\n",
       "    </tr>\n",
       "    <tr>\n",
       "      <th>55</th>\n",
       "      <td>2</td>\n",
       "      <td>Wells Fargo</td>\n",
       "    </tr>\n",
       "    <tr>\n",
       "      <th>53</th>\n",
       "      <td>2</td>\n",
       "      <td>Valero Energy</td>\n",
       "    </tr>\n",
       "    <tr>\n",
       "      <th>52</th>\n",
       "      <td>2</td>\n",
       "      <td>Unilever</td>\n",
       "    </tr>\n",
       "    <tr>\n",
       "      <th>3</th>\n",
       "      <td>2</td>\n",
       "      <td>American express</td>\n",
       "    </tr>\n",
       "    <tr>\n",
       "      <th>15</th>\n",
       "      <td>2</td>\n",
       "      <td>Ford</td>\n",
       "    </tr>\n",
       "    <tr>\n",
       "      <th>37</th>\n",
       "      <td>2</td>\n",
       "      <td>Novartis</td>\n",
       "    </tr>\n",
       "    <tr>\n",
       "      <th>36</th>\n",
       "      <td>2</td>\n",
       "      <td>Northrop Grumman</td>\n",
       "    </tr>\n",
       "    <tr>\n",
       "      <th>16</th>\n",
       "      <td>2</td>\n",
       "      <td>General Electrics</td>\n",
       "    </tr>\n",
       "    <tr>\n",
       "      <th>12</th>\n",
       "      <td>2</td>\n",
       "      <td>Chevron</td>\n",
       "    </tr>\n",
       "    <tr>\n",
       "      <th>18</th>\n",
       "      <td>2</td>\n",
       "      <td>Goldman Sachs</td>\n",
       "    </tr>\n",
       "    <tr>\n",
       "      <th>19</th>\n",
       "      <td>2</td>\n",
       "      <td>GlaxoSmithKline</td>\n",
       "    </tr>\n",
       "    <tr>\n",
       "      <th>20</th>\n",
       "      <td>2</td>\n",
       "      <td>Home Depot</td>\n",
       "    </tr>\n",
       "    <tr>\n",
       "      <th>21</th>\n",
       "      <td>2</td>\n",
       "      <td>Honda</td>\n",
       "    </tr>\n",
       "    <tr>\n",
       "      <th>13</th>\n",
       "      <td>2</td>\n",
       "      <td>DuPont de Nemours</td>\n",
       "    </tr>\n",
       "    <tr>\n",
       "      <th>10</th>\n",
       "      <td>2</td>\n",
       "      <td>ConocoPhillips</td>\n",
       "    </tr>\n",
       "    <tr>\n",
       "      <th>30</th>\n",
       "      <td>2</td>\n",
       "      <td>MasterCard</td>\n",
       "    </tr>\n",
       "    <tr>\n",
       "      <th>31</th>\n",
       "      <td>2</td>\n",
       "      <td>McDonalds</td>\n",
       "    </tr>\n",
       "    <tr>\n",
       "      <th>32</th>\n",
       "      <td>2</td>\n",
       "      <td>3M</td>\n",
       "    </tr>\n",
       "    <tr>\n",
       "      <th>7</th>\n",
       "      <td>2</td>\n",
       "      <td>Canon</td>\n",
       "    </tr>\n",
       "    <tr>\n",
       "      <th>34</th>\n",
       "      <td>2</td>\n",
       "      <td>Mitsubishi</td>\n",
       "    </tr>\n",
       "    <tr>\n",
       "      <th>6</th>\n",
       "      <td>2</td>\n",
       "      <td>British American Tobacco</td>\n",
       "    </tr>\n",
       "    <tr>\n",
       "      <th>26</th>\n",
       "      <td>2</td>\n",
       "      <td>JPMorgan Chase</td>\n",
       "    </tr>\n",
       "    <tr>\n",
       "      <th>29</th>\n",
       "      <td>2</td>\n",
       "      <td>Lookheed Martin</td>\n",
       "    </tr>\n",
       "  </tbody>\n",
       "</table>\n",
       "</div>"
      ],
      "text/plain": [
       "    labels                           companies\n",
       "0        0                               Apple\n",
       "51       0                   Texas instruments\n",
       "50       0  Taiwan Semiconductor Manufacturing\n",
       "47       0                            Symantec\n",
       "44       0                        Schlumberger\n",
       "43       0                                 SAP\n",
       "35       0                            Navistar\n",
       "33       0                           Microsoft\n",
       "58       0                               Xerox\n",
       "24       0                               Intel\n",
       "23       0                                 IBM\n",
       "22       0                                  HP\n",
       "17       0                     Google/Alphabet\n",
       "14       0                                Dell\n",
       "59       0                               Yahoo\n",
       "8        0                         Caterpillar\n",
       "2        0                              Amazon\n",
       "11       0                               Cisco\n",
       "28       1                           Coca Cola\n",
       "39       1                              Pfizer\n",
       "38       1                               Pepsi\n",
       "40       1                      Procter Gamble\n",
       "27       1                      Kimberly-Clark\n",
       "25       1                   Johnson & Johnson\n",
       "41       1                       Philip Morris\n",
       "56       1                            Wal-Mart\n",
       "54       1                            Walgreen\n",
       "9        1                   Colgate-Palmolive\n",
       "1        2                                 AIG\n",
       "57       2                               Exxon\n",
       "42       2                   Royal Dutch Shell\n",
       "5        2                     Bank of America\n",
       "4        2                              Boeing\n",
       "45       2                                Sony\n",
       "46       2                      Sanofi-Aventis\n",
       "48       2                              Toyota\n",
       "49       2                               Total\n",
       "55       2                         Wells Fargo\n",
       "53       2                       Valero Energy\n",
       "52       2                            Unilever\n",
       "3        2                    American express\n",
       "15       2                                Ford\n",
       "37       2                            Novartis\n",
       "36       2                    Northrop Grumman\n",
       "16       2                   General Electrics\n",
       "12       2                             Chevron\n",
       "18       2                       Goldman Sachs\n",
       "19       2                     GlaxoSmithKline\n",
       "20       2                          Home Depot\n",
       "21       2                               Honda\n",
       "13       2                   DuPont de Nemours\n",
       "10       2                      ConocoPhillips\n",
       "30       2                          MasterCard\n",
       "31       2                           McDonalds\n",
       "32       2                                  3M\n",
       "7        2                               Canon\n",
       "34       2                          Mitsubishi\n",
       "6        2            British American Tobacco\n",
       "26       2                      JPMorgan Chase\n",
       "29       2                     Lookheed Martin"
      ]
     },
     "execution_count": 143,
     "metadata": {},
     "output_type": "execute_result"
    }
   ],
   "source": [
    "df = pd.DataFrame()\n",
    "df['labels'] = labels\n",
    "df['companies'] = data['companies']\n",
    "df.sort_values('labels')"
   ]
  },
  {
   "cell_type": "markdown",
   "id": "2a19d532-aabf-41ca-9561-ed539d1384f0",
   "metadata": {},
   "source": [
    "# Hierarchical Clustering"
   ]
  },
  {
   "cell_type": "markdown",
   "id": "19c86b2b-0955-4427-b211-266003c2b54e",
   "metadata": {},
   "source": [
    "## Hierarchical Clustering Example"
   ]
  },
  {
   "cell_type": "code",
   "execution_count": 154,
   "id": "c9b2a833-ac3c-41b5-836c-341885eaec01",
   "metadata": {},
   "outputs": [],
   "source": [
    "import pandas as pd\n",
    "\n",
    "x = [4, 5, 10, 4, 3, 11, 14 , 6, 10, 12]\n",
    "y = [15, 14, 19, 12, 11, 20, 15, 17, 16, 16]\n",
    "store = ['A','B','C','D','E','F','G','H','I','J']\n",
    "\n",
    "df = pd.DataFrame() \n",
    "df['Store'] = store\n",
    "df['Apples'] = x\n",
    "df['Oranges'] = y\n",
    "data = df[['Apples','Oranges']].values\n"
   ]
  },
  {
   "cell_type": "markdown",
   "id": "50a69830-e711-4df6-904c-83db81b4673f",
   "metadata": {},
   "source": [
    "1. สร้าง hi_linkage โดยใช้ linkage กำหนด method เป็น 'single' และ metric เป็น 'euclidean'\n",
    "2. Plot dendrogram โดยกำหนดให้ label เป็น store"
   ]
  },
  {
   "cell_type": "code",
   "execution_count": 155,
   "id": "1c468027-20d1-4516-815a-f1ed17d30d45",
   "metadata": {},
   "outputs": [
    {
     "data": {
      "image/png": "[encoded data removed]",
      "text/plain": [
       "<Figure size 640x480 with 1 Axes>"
      ]
     },
     "metadata": {},
     "output_type": "display_data"
    }
   ],
   "source": [
    "from scipy.cluster.hierarchy import linkage, dendrogram\n",
    "import matplotlib.pyplot as plt\n",
    "\n",
    "hi_linkage = linkage(data, method='single', metric='euclidean')\n",
    "\n",
    "dendrogram(hi_linkage,labels=store)\n",
    "\n",
    "plt.title(\"method='single'\")\n",
    "plt.show()"
   ]
  },
  {
   "cell_type": "markdown",
   "id": "40f6d183-1e32-430b-a5b2-a2991e6c10d9",
   "metadata": {},
   "source": [
    "3. สร้าง cluster บน hi_linkage  โดยใช้ fcluster เก็บไว้ที่ตัวแปร labels กำหนดค่า t=3.5 และ criterion='distance'"
   ]
  },
  {
   "cell_type": "code",
   "execution_count": 156,
   "id": "a7742986-7ed2-40a3-a4b6-f361544f0c08",
   "metadata": {},
   "outputs": [
    {
     "name": "stdout",
     "output_type": "stream",
     "text": [
      "[1 1 2 1 1 2 2 1 2 2]\n"
     ]
    }
   ],
   "source": [
    "from scipy.cluster.hierarchy import fcluster\n",
    "labels = fcluster(hi_linkage, t=3.5, criterion='distance')\n",
    "print(labels)"
   ]
  },
  {
   "cell_type": "markdown",
   "id": "ec12c9a2-eca4-41df-9df4-5b82f499e83c",
   "metadata": {},
   "source": [
    "4. Plot แบบ scatter โดยแกน x เป็นค่าจาก data คอลัมน์ 'Apples' และ แกน y เป็นค่าจากคอลัมน์ 'Oranges' แสดงค่าสีด้วย labels ของ data ที่ได้จากการจัดกลุ่ม"
   ]
  },
  {
   "cell_type": "code",
   "execution_count": 157,
   "id": "d11eeb01-fac2-4837-8841-014c41bef30a",
   "metadata": {},
   "outputs": [
    {
     "data": {
      "image/png": "[encoded data removed]",
      "text/plain": [
       "<Figure size 640x480 with 1 Axes>"
      ]
     },
     "metadata": {},
     "output_type": "display_data"
    }
   ],
   "source": [
    "import matplotlib.pyplot as plt\n",
    "\n",
    "plt.scatter(df['Apples'],df['Oranges'], c=labels,alpha=0.5)\n",
    "plt.xlabel('#Apples')\n",
    "plt.ylabel('#Oranges')\n",
    "plt.show()"
   ]
  },
  {
   "cell_type": "markdown",
   "id": "e0dadec8-fd7f-4ff0-b986-1c86753f088c",
   "metadata": {},
   "source": [
    "## Hierarchical Clustering : Grains data"
   ]
  },
  {
   "cell_type": "markdown",
   "id": "8b9cc3ce-15d1-453a-bf77-42a692e1d279",
   "metadata": {},
   "source": [
    "1. อ่านข้อมูลจาก grains.csv เก็บไว้ที่ตัวแปร data"
   ]
  },
  {
   "cell_type": "code",
   "execution_count": 178,
   "id": "a74d10b8-502a-4656-9e67-cbe5eaf51c9b",
   "metadata": {},
   "outputs": [
    {
     "data": {
      "text/html": [
       "<div>\n",
       "<style scoped>\n",
       "    .dataframe tbody tr th:only-of-type {\n",
       "        vertical-align: middle;\n",
       "    }\n",
       "\n",
       "    .dataframe tbody tr th {\n",
       "        vertical-align: top;\n",
       "    }\n",
       "\n",
       "    .dataframe thead th {\n",
       "        text-align: right;\n",
       "    }\n",
       "</style>\n",
       "<table border=\"1\" class=\"dataframe\">\n",
       "  <thead>\n",
       "    <tr style=\"text-align: right;\">\n",
       "      <th></th>\n",
       "      <th>0</th>\n",
       "      <th>1</th>\n",
       "      <th>2</th>\n",
       "      <th>3</th>\n",
       "      <th>4</th>\n",
       "      <th>5</th>\n",
       "      <th>6</th>\n",
       "      <th>variety_number</th>\n",
       "      <th>variety</th>\n",
       "    </tr>\n",
       "  </thead>\n",
       "  <tbody>\n",
       "    <tr>\n",
       "      <th>0</th>\n",
       "      <td>15.26</td>\n",
       "      <td>14.84</td>\n",
       "      <td>0.8710</td>\n",
       "      <td>5.763</td>\n",
       "      <td>3.312</td>\n",
       "      <td>2.221</td>\n",
       "      <td>5.220</td>\n",
       "      <td>1</td>\n",
       "      <td>Kama wheat</td>\n",
       "    </tr>\n",
       "    <tr>\n",
       "      <th>1</th>\n",
       "      <td>14.88</td>\n",
       "      <td>14.57</td>\n",
       "      <td>0.8811</td>\n",
       "      <td>5.554</td>\n",
       "      <td>3.333</td>\n",
       "      <td>1.018</td>\n",
       "      <td>4.956</td>\n",
       "      <td>1</td>\n",
       "      <td>Kama wheat</td>\n",
       "    </tr>\n",
       "    <tr>\n",
       "      <th>2</th>\n",
       "      <td>14.29</td>\n",
       "      <td>14.09</td>\n",
       "      <td>0.9050</td>\n",
       "      <td>5.291</td>\n",
       "      <td>3.337</td>\n",
       "      <td>2.699</td>\n",
       "      <td>4.825</td>\n",
       "      <td>1</td>\n",
       "      <td>Kama wheat</td>\n",
       "    </tr>\n",
       "    <tr>\n",
       "      <th>3</th>\n",
       "      <td>13.84</td>\n",
       "      <td>13.94</td>\n",
       "      <td>0.8955</td>\n",
       "      <td>5.324</td>\n",
       "      <td>3.379</td>\n",
       "      <td>2.259</td>\n",
       "      <td>4.805</td>\n",
       "      <td>1</td>\n",
       "      <td>Kama wheat</td>\n",
       "    </tr>\n",
       "    <tr>\n",
       "      <th>4</th>\n",
       "      <td>16.14</td>\n",
       "      <td>14.99</td>\n",
       "      <td>0.9034</td>\n",
       "      <td>5.658</td>\n",
       "      <td>3.562</td>\n",
       "      <td>1.355</td>\n",
       "      <td>5.175</td>\n",
       "      <td>1</td>\n",
       "      <td>Kama wheat</td>\n",
       "    </tr>\n",
       "  </tbody>\n",
       "</table>\n",
       "</div>"
      ],
      "text/plain": [
       "       0      1       2      3      4      5      6  variety_number  \\\n",
       "0  15.26  14.84  0.8710  5.763  3.312  2.221  5.220               1   \n",
       "1  14.88  14.57  0.8811  5.554  3.333  1.018  4.956               1   \n",
       "2  14.29  14.09  0.9050  5.291  3.337  2.699  4.825               1   \n",
       "3  13.84  13.94  0.8955  5.324  3.379  2.259  4.805               1   \n",
       "4  16.14  14.99  0.9034  5.658  3.562  1.355  5.175               1   \n",
       "\n",
       "      variety  \n",
       "0  Kama wheat  \n",
       "1  Kama wheat  \n",
       "2  Kama wheat  \n",
       "3  Kama wheat  \n",
       "4  Kama wheat  "
      ]
     },
     "execution_count": 178,
     "metadata": {},
     "output_type": "execute_result"
    }
   ],
   "source": [
    "import pandas as pd\n",
    "\n",
    "data = pd.read_csv('grains.csv')\n",
    "data.head()"
   ]
  },
  {
   "cell_type": "markdown",
   "id": "b09d31c1-6d29-4525-a109-8670ddceed5b",
   "metadata": {},
   "source": [
    "2. กำหนดตัวแปร X เป็น numpy array ข้อมูลจาก data ยกเว้นคอลัมน์ 'variety_number' และ 'variety'\n",
    "และกำหนกตัวแปร varieties เป็นค่าข้อมูล จาก data คอลัมน์ 'variety'"
   ]
  },
  {
   "cell_type": "code",
   "execution_count": 179,
   "id": "463ba770-b6b2-4721-a184-7270fcd18934",
   "metadata": {},
   "outputs": [],
   "source": [
    "X = data.drop(['variety_number','variety'],axis=1).values\n",
    "varieties = data['variety'].values"
   ]
  },
  {
   "cell_type": "markdown",
   "id": "48f1c2fb-518d-4180-8ea4-1dcea3488a7f",
   "metadata": {},
   "source": [
    "1. สร้าง hi_linkage โดยใช้ linkage กำหนด method เป็น 'complete' และ metric เป็น 'euclidean'\n",
    "2. Plot dendrogram โดยกำหนดให้ label เป็น varieties"
   ]
  },
  {
   "cell_type": "code",
   "execution_count": 180,
   "id": "326f6b0c-7cc6-4f26-a5ef-acff4f26fea9",
   "metadata": {},
   "outputs": [
    {
     "data": {
      "image/png": "[encoded data removed]",
      "text/plain": [
       "<Figure size 640x480 with 1 Axes>"
      ]
     },
     "metadata": {},
     "output_type": "display_data"
    }
   ],
   "source": [
    "from scipy.cluster.hierarchy import linkage, dendrogram\n",
    "import matplotlib.pyplot as plt\n",
    "\n",
    "hi_linkage = linkage(X, method='single', metric='euclidean')\n",
    "\n",
    "dendrogram(hi_linkage,labels=varieties)\n",
    "\n",
    "plt.title(\"method='complete'\")\n",
    "plt.show()"
   ]
  },
  {
   "cell_type": "markdown",
   "id": "89e4a685-625b-4a94-af8a-ac97f9e14e41",
   "metadata": {},
   "source": [
    "3. สร้าง cluster บน hi_linkage โดยใช้ fcluster เก็บไว้ที่ตัวแปร labels กำหนดค่า t=4 และ criterion='distance'"
   ]
  },
  {
   "cell_type": "code",
   "execution_count": 182,
   "id": "0c55df56-16ac-4f8a-8679-35b01229ef7c",
   "metadata": {},
   "outputs": [
    {
     "name": "stdout",
     "output_type": "stream",
     "text": [
      "[1 1 1 1 1 1 1 1 1 1 1 1 1 1 1 1 1 1 1 1 1 1 1 1 1 1 1 1 1 1 1 1 1 1 1 1 1\n",
      " 1 1 1 1 1 1 1 1 1 1 1 1 1 1 1 1 1 1 1 1 1 1 1 1 1 1 1 1 1 1 1 1 1 1 1 1 1\n",
      " 1 1 1 1 1 1 1 1 1 1 1 1 1 1 1 1 1 1 1 1 1 1 1 1 1 1 1 1 1 1 1 1 1 1 1 1 1\n",
      " 1 1 1 1 1 1 1 1 1 1 1 1 1 1 1 1 1 1 1 1 1 1 1 1 1 1 1 1 1 1 1 1 1 1 1 1 1\n",
      " 1 1 1 1 1 1 1 1 1 1 1 1 1 1 1 1 1 1 1 1 1 1 1 1 1 1 1 1 1 1 1 1 1 1 1 1 1\n",
      " 1 1 1 1 1 1 1 1 1 1 1 1 1 1 1 1 1 1 1 1 1 1 1 1 1]\n"
     ]
    }
   ],
   "source": [
    "from scipy.cluster.hierarchy import fcluster\n",
    "labels = fcluster(hi_linkage, t=4, criterion='distance')\n",
    "print(labels)"
   ]
  },
  {
   "cell_type": "markdown",
   "id": "c584e341-88d4-418f-9444-8dbcd1a6f759",
   "metadata": {},
   "source": [
    "4. ทำ crosstab ระหว่าง labels และ varieties "
   ]
  },
  {
   "cell_type": "code",
   "execution_count": 183,
   "id": "e76dd2c5-6e4d-413e-b711-03cfb574ec8c",
   "metadata": {},
   "outputs": [],
   "source": [
    "df = pd.DataFrame({'labels': labels, 'varieties':varieties })"
   ]
  },
  {
   "cell_type": "code",
   "execution_count": 184,
   "id": "136a2097-9a72-449e-81d8-ab35c5c6eb39",
   "metadata": {},
   "outputs": [
    {
     "name": "stdout",
     "output_type": "stream",
     "text": [
      "varieties  Canadian wheat  Kama wheat  Rosa wheat\n",
      "labels                                           \n",
      "1                      70          70          70\n"
     ]
    }
   ],
   "source": [
    "ct = pd.crosstab(df['labels'], df['varieties'])\n",
    "print(ct)"
   ]
  },
  {
   "cell_type": "code",
   "execution_count": null,
   "id": "b1005cb1-fe80-4bfa-8b56-ecb5140b380c",
   "metadata": {},
   "outputs": [],
   "source": []
  }
 ],
 "metadata": {
  "kernelspec": {
   "display_name": "Python 3",
   "language": "python",
   "name": "python3"
  },
  "language_info": {
   "codemirror_mode": {
    "name": "ipython",
    "version": 3
   },
   "file_extension": ".py",
   "mimetype": "text/x-python",
   "name": "python",
   "nbconvert_exporter": "python",
   "pygments_lexer": "ipython3",
   "version": "3.10.9"
  },
  "vscode": {
   "interpreter": {
    "hash": "aee8b7b246df8f9039afb4144a1f6fd8d2ca17a180786b69acc140d282b71a49"
   }
  }
 },
 "nbformat": 4,
 "nbformat_minor": 5
}
