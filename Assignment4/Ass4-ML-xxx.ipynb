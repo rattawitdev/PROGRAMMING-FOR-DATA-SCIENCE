{
 "cells": [
  {
   "cell_type": "markdown",
   "id": "0b2350fd-69c3-4e19-9333-0a63e1cef02a",
   "metadata": {},
   "source": [
    "# Assignment 4:\n",
    "### รหัสนักศึกษา:\n",
    "### ชื่อ-นามสกุล:\n",
    "### หลักสูตร: "
   ]
  },
  {
   "cell_type": "markdown",
   "id": "cb301f6b-16ac-407c-8454-ff459bcfa004",
   "metadata": {},
   "source": [
    "# KMeans Clustering"
   ]
  },
  {
   "cell_type": "markdown",
   "id": "a05dc33c-ee8f-435b-a560-fdfd4cce726d",
   "metadata": {},
   "source": [
    "## KMeans - Example in class "
   ]
  },
  {
   "cell_type": "code",
   "execution_count": null,
   "id": "8b30ed50-7bdc-450f-b039-dd1638faed14",
   "metadata": {},
   "outputs": [],
   "source": [
    "import pandas as pd\n",
    "\n",
    "x = [4, 5, 10, 4, 3, 11, 14 , 6, 10, 12]\n",
    "y = [15, 14, 19, 12, 11, 20, 15, 17, 16, 16]\n",
    "store = ['A','B','C','D','E','F','G','H','I','J']\n",
    "\n",
    "df = pd.DataFrame() \n",
    "df['Store'] = store\n",
    "df['Apples'] = x\n",
    "df['Oranges'] = y\n",
    "data = df[['Apples','Oranges']]"
   ]
  },
  {
   "cell_type": "markdown",
   "id": "d0c0df15-8190-4c60-826b-4947224fd973",
   "metadata": {},
   "source": [
    "1. จัดกลุ่ม data โดยใช้วิธี k-means โดยกำหนดจำนวนกลุ่มเป็น 2 กลุ่ม "
   ]
  },
  {
   "cell_type": "code",
   "execution_count": null,
   "id": "9a4940e6-504d-4d2f-98f2-99729531398f",
   "metadata": {},
   "outputs": [],
   "source": [
    "from sklearn.cluster import KMeans\n",
    "model = ...(n_clusters=...)\n",
    "model.fit(...)"
   ]
  },
  {
   "cell_type": "markdown",
   "id": "fa1748bc-7a75-4f02-b232-639e06a5c9cb",
   "metadata": {},
   "source": [
    "2. สร้าง labels ของ data ว่าอยู่กลุ่มใด โดยใช้ .predict()"
   ]
  },
  {
   "cell_type": "code",
   "execution_count": null,
   "id": "0976a61f-e6dd-452d-814e-5a1ce7b22b5f",
   "metadata": {},
   "outputs": [],
   "source": [
    "labels = ...\n",
    "print(labels)"
   ]
  },
  {
   "cell_type": "markdown",
   "id": "968bb7ed-7d52-4922-9854-375f60bf65cb",
   "metadata": {},
   "source": [
    "3. หาค่า centroids จากค่า cluster_centers_ ที่ได้จาก model"
   ]
  },
  {
   "cell_type": "code",
   "execution_count": null,
   "id": "9661fe3b-346b-407f-b93a-37dac89fcc4f",
   "metadata": {},
   "outputs": [],
   "source": [
    "centroids = ...\n",
    "print(centroids)"
   ]
  },
  {
   "cell_type": "markdown",
   "id": "5b6101f3-fe78-476d-a2bc-f647a509ac98",
   "metadata": {},
   "source": [
    "4. Plot แบบ scatter โดยแกน x เป็นค่าจาก data คอลัมน์ 'Apples' และ แกน y เป็นค่าจากคอลัมน์ 'Oranges' แสดงค่าสีด้วย labels ของ data ที่ได้จากการจัดกลุ่ม"
   ]
  },
  {
   "cell_type": "code",
   "execution_count": null,
   "id": "d14d0fdb-5fa2-4832-a4c7-64c427684ebf",
   "metadata": {},
   "outputs": [],
   "source": [
    "import matplotlib.pyplot as plt\n",
    "\n",
    "plt.scatter(df['Apples'],..., c=...,alpha=0.5)\n",
    "plt.scatter(centroids[:,0],...,marker='X', c='r')\n",
    "plt.xlabel('#Apples')\n",
    "plt.ylabel('#Oranges')\n",
    "plt.show()"
   ]
  },
  {
   "cell_type": "markdown",
   "id": "0c760ebb-3d6e-45d7-9203-af3b636968be",
   "metadata": {},
   "source": [
    "## KMeans - 2D\n"
   ]
  },
  {
   "cell_type": "markdown",
   "id": "f9b4aca8-088a-47c3-a609-33264e4ba216",
   "metadata": {},
   "source": [
    "1. อ่านข้อมูลจาก data2Dset1.csv"
   ]
  },
  {
   "cell_type": "code",
   "execution_count": null,
   "id": "34182b59-5ce8-4c62-a7b9-3af6863696d5",
   "metadata": {},
   "outputs": [],
   "source": [
    "import pandas as pd\n",
    "\n",
    "data = pd.read_csv(...., header=None)\n",
    "data.head()\n"
   ]
  },
  {
   "cell_type": "markdown",
   "id": "1eed9c60-87ed-49ee-bba9-8985562770ca",
   "metadata": {},
   "source": [
    "2. เก็บค่าของ data ในตัวแปร points ซึ่งเป็น numpy array"
   ]
  },
  {
   "cell_type": "code",
   "execution_count": null,
   "id": "667fc730-73ad-4fcd-a43d-35555da2a458",
   "metadata": {},
   "outputs": [],
   "source": [
    "points = ....values\n",
    "print(points.shape)"
   ]
  },
  {
   "cell_type": "markdown",
   "id": "ac552ac3-f578-47d0-a878-821e87444165",
   "metadata": {},
   "source": [
    "3. Plot แบบ scatter แสดง points "
   ]
  },
  {
   "cell_type": "code",
   "execution_count": null,
   "id": "4de19cc0-fea4-4447-bd90-1541ab6767e0",
   "metadata": {},
   "outputs": [],
   "source": [
    "import matplotlib.pyplot as plt\n",
    "plt.scatter(..., points[:,1], alpha = 0.5)\n",
    "plt.xlabel('$x_1$')\n",
    "plt.ylabel('$x_2$')"
   ]
  },
  {
   "cell_type": "markdown",
   "id": "70e64c04-8acb-41cc-8f26-3783e217b370",
   "metadata": {},
   "source": [
    "4. จัดกลุ่ม points โดยวิธี KMeans กำหนด n_clusters = 3 โดยเก็บไว้ที่ตัวแปร model"
   ]
  },
  {
   "cell_type": "code",
   "execution_count": null,
   "id": "58767995-d8cb-47aa-8f0f-ba49250801ef",
   "metadata": {},
   "outputs": [],
   "source": [
    "from sklearn.cluster import KMeans\n",
    "model = ...\n",
    "..."
   ]
  },
  {
   "cell_type": "markdown",
   "id": "5247e7be-b7ef-4233-9158-937af411db17",
   "metadata": {},
   "source": [
    "5. สร้าง labels ของ points ว่าอยู่กลุ่มใด โดยใช้ .predict()"
   ]
  },
  {
   "cell_type": "code",
   "execution_count": null,
   "id": "f418cda2-4b67-434d-8eec-6264d3c5118d",
   "metadata": {},
   "outputs": [],
   "source": [
    "labels = ....\n",
    "print(labels)\n"
   ]
  },
  {
   "cell_type": "markdown",
   "id": "8309b61a-1857-48c8-b0ce-17336ee62517",
   "metadata": {},
   "source": [
    "6. หาค่า centroids จากค่า cluster_centers_ ที่ได้จาก model"
   ]
  },
  {
   "cell_type": "code",
   "execution_count": null,
   "id": "d4f4c394-96e5-40d1-adca-efac1b286422",
   "metadata": {},
   "outputs": [],
   "source": [
    "...\n",
    "print(centroids)"
   ]
  },
  {
   "cell_type": "markdown",
   "id": "692cc12b-4679-4a6c-a38d-8c3af9a4e6ec",
   "metadata": {},
   "source": [
    "7. Plot จุด โดยมีการกำหนดสีกลุ่มตาม labels "
   ]
  },
  {
   "cell_type": "code",
   "execution_count": null,
   "id": "ac3a715c-b176-45dd-9c3c-9d47aad15446",
   "metadata": {},
   "outputs": [],
   "source": [
    "import matplotlib.pyplot as plt\n",
    "\n",
    "plt.scatter(points[:,0], ..., c=...,alpha=0.5)\n",
    "plt.scatter(centroids[:,0],...,marker='X', c='b')\n",
    "plt.xlabel('$x_1$')\n",
    "plt.ylabel('$x_2$')\n",
    "plt.show()"
   ]
  },
  {
   "cell_type": "markdown",
   "id": "00f4622c-d98c-47cc-8467-cc0a5dc6ae3a",
   "metadata": {},
   "source": [
    "8. แสดงค่า Inertia measure จากค่า .inertia_ ของ model ที่ได้ "
   ]
  },
  {
   "cell_type": "code",
   "execution_count": null,
   "id": "4f94dea3-cf5f-45c3-a392-7a3fbb5c3030",
   "metadata": {},
   "outputs": [],
   "source": [
    "print(...)"
   ]
  },
  {
   "cell_type": "markdown",
   "id": "6f7a9267-7f28-44c6-aa31-027f1b289981",
   "metadata": {},
   "source": [
    "9. ทดสอบ สร้างโมเดลจัดกลุ่มข้อมูลในตัวแปร points โดยใช้ KMeans เมื่อ k=1,2,...,10 และ Plot แสดงค่า inertia ของแต่ละ k"
   ]
  },
  {
   "cell_type": "code",
   "execution_count": null,
   "id": "80701bbb-fdd7-45f6-b257-9567db00f711",
   "metadata": {},
   "outputs": [],
   "source": [
    "ks = range(1, 11)\n",
    "inertias = []\n",
    "\n",
    "for k in ks:\n",
    "    model = ...(n_clusters = ...)\n",
    "    model.fit(...)\n",
    "    inertias.append(...)\n",
    "    \n",
    "# Plot ks vs inertias\n",
    "plt.plot(ks, inertias, '-o')\n",
    "plt.xlabel('number of clusters, k')\n",
    "plt.ylabel('inertia')\n",
    "plt.xticks(ks)\n",
    "plt.show()"
   ]
  },
  {
   "cell_type": "markdown",
   "id": "a0358cd1-de51-48fd-a0e8-a3f98a255a65",
   "metadata": {},
   "source": [
    "10. จากกราฟในข้อ 9 จะได้ว่า ค่า k ที่เหมาะสมคือ "
   ]
  },
  {
   "cell_type": "markdown",
   "id": "a604fa98-7b1c-4c97-99c2-c8bb271dcabc",
   "metadata": {},
   "source": []
  },
  {
   "cell_type": "markdown",
   "id": "afe9bf78-f1a6-4499-9728-186f2491f4b7",
   "metadata": {},
   "source": [
    "## KMeans the wines dataset"
   ]
  },
  {
   "cell_type": "markdown",
   "id": "f43f1349-4987-458b-bf00-a8c375b74891",
   "metadata": {},
   "source": [
    "1. อ่านข้อมูลจาก wine.csv เก็บไว้ที่ตัวแปร data"
   ]
  },
  {
   "cell_type": "code",
   "execution_count": null,
   "id": "b8e9bc4d-5f7a-4e53-af34-4c88618d64ae",
   "metadata": {},
   "outputs": [],
   "source": [
    "import pandas as pd\n",
    "data = pd.read_csv(...)\n",
    "data.head(3)"
   ]
  },
  {
   "cell_type": "markdown",
   "id": "494774d1-70f5-46f3-9779-02aea868cca9",
   "metadata": {},
   "source": [
    "2. กำหนด X เป็น numpy array ข้อมูลจาก data ยกเว้นคอลัมน์ 'varieties' "
   ]
  },
  {
   "cell_type": "code",
   "execution_count": null,
   "id": "f25f15b0-0db6-4421-9589-4c64d108deec",
   "metadata": {},
   "outputs": [],
   "source": [
    "X = data.drop(...,axis=1).values\n",
    "print(X[:3,:])"
   ]
  },
  {
   "cell_type": "markdown",
   "id": "dfe67f2a-86df-4bd6-9a5e-13a8c6351df5",
   "metadata": {},
   "source": [
    "3. Plot X แบบ scatter ข้อมูล X ในคอลัมน์ 0 และ คอลัมน์ 4 และกำหนด axis ของกราฟเป็น 'equal'"
   ]
  },
  {
   "cell_type": "code",
   "execution_count": null,
   "id": "aea2bb30-ff56-43e7-a51d-f192e1e982b0",
   "metadata": {},
   "outputs": [],
   "source": [
    "import matplotlib.pyplot as plt\n",
    "plt.scatter(X[:,0],...,alpha=0.5)\n",
    "plt.axis('equal')\n",
    "plt.xlabel('alcohol')\n",
    "plt.ylabel('magnesium')"
   ]
  },
  {
   "cell_type": "markdown",
   "id": "bb6b3d78-2629-497b-b296-c5412ec48ede",
   "metadata": {},
   "source": [
    "4. จัดกลุ่ม X โดยวิธี KMeans กำหนด n_clusters = 3 โดยเก็บไว้ที่ตัวแปร model"
   ]
  },
  {
   "cell_type": "code",
   "execution_count": null,
   "id": "fa90ac08-1a97-4311-b584-ab26fa031dcb",
   "metadata": {},
   "outputs": [],
   "source": [
    "from sklearn.cluster import KMeans\n",
    "model = ...\n",
    "..."
   ]
  },
  {
   "cell_type": "markdown",
   "id": "03054dd8-fb5d-4d06-9a17-7fab83f79144",
   "metadata": {},
   "source": [
    "5. สร้าง labels ระบุกลุ่มของข้อมูล X โดยใช้ model ที่ได้"
   ]
  },
  {
   "cell_type": "code",
   "execution_count": null,
   "id": "f238c426-1fe1-47b6-ab92-e19e6329b61e",
   "metadata": {},
   "outputs": [],
   "source": [
    "....\n",
    "print(labels)"
   ]
  },
  {
   "cell_type": "markdown",
   "id": "8614616b-861b-43ff-b169-5976f24b50d2",
   "metadata": {},
   "source": [
    "6. ทำ crosstab ระหว่าง labels และ varieties"
   ]
  },
  {
   "cell_type": "code",
   "execution_count": null,
   "id": "114c9b96-0827-4496-9fc6-d5e1006365a0",
   "metadata": {},
   "outputs": [],
   "source": [
    "df = pd.DataFrame({'labels': labels})\n",
    "df['varieties'] = data['varieties']"
   ]
  },
  {
   "cell_type": "code",
   "execution_count": null,
   "id": "2354520d-a7d7-4078-a064-b7fe91923f99",
   "metadata": {},
   "outputs": [],
   "source": [
    "ct = pd.crosstab(..., ...) \n",
    "print(ct)"
   ]
  },
  {
   "cell_type": "markdown",
   "id": "36e98302-7da3-414a-9d32-147c0d8ad7c1",
   "metadata": {},
   "source": [
    "## KMeans with Scaling and Pipeline"
   ]
  },
  {
   "cell_type": "markdown",
   "id": "853e2dc5-2405-4656-b5b7-fe81cd7e92a9",
   "metadata": {},
   "source": [
    "1. อ่านข้อมูลจาก wine.csv เก็บไว้ที่ตัวแปร data"
   ]
  },
  {
   "cell_type": "code",
   "execution_count": null,
   "id": "53a5ea77-6d8f-40c0-83d4-a2a375cca2c6",
   "metadata": {},
   "outputs": [],
   "source": [
    "import pandas as pd\n",
    "data = ...\n",
    "data.head(3)"
   ]
  },
  {
   "cell_type": "markdown",
   "id": "791bfe83-8ef3-4388-9776-bde9162f7c7c",
   "metadata": {},
   "source": [
    "2. กำหนด X เป็น numpy array ข้อมูลจาก data ยกเว้นคอลัมน์ 'varieties'"
   ]
  },
  {
   "cell_type": "code",
   "execution_count": null,
   "id": "6549114f-b866-41aa-b672-0f40cf29487c",
   "metadata": {},
   "outputs": [],
   "source": [
    "X = ...\n"
   ]
  },
  {
   "cell_type": "markdown",
   "id": "be2c4e37-0db5-448d-bfb9-b9fc9132e48f",
   "metadata": {},
   "source": [
    "3. สร้าง StandardScaler เก็บไว้ที่ตัวแปร scaler"
   ]
  },
  {
   "cell_type": "code",
   "execution_count": null,
   "id": "e4e5b27b-f920-4cbe-a327-0e53ae0a20bd",
   "metadata": {},
   "outputs": [],
   "source": [
    "from sklearn.cluster import KMeans\n",
    "from sklearn.preprocessing import StandardScaler\n",
    "from sklearn.pipeline import make_pipeline \n",
    "\n",
    "scaler = ...\n"
   ]
  },
  {
   "cell_type": "markdown",
   "id": "b760c40c-cfa5-4d9f-8548-f1d629b79c16",
   "metadata": {},
   "source": [
    "4. สร้าง ตัวแบบจัดกลุ่ม KMeans เก็บไว้ที่ตัวแปร kmeans  โดยกำหนด n_clusters = 3"
   ]
  },
  {
   "cell_type": "code",
   "execution_count": null,
   "id": "ae351b27-20d1-41b6-8bab-473f12cd17ff",
   "metadata": {},
   "outputs": [],
   "source": [
    "from sklearn.cluster import KMeans\n",
    "kmeans = ..."
   ]
  },
  {
   "cell_type": "markdown",
   "id": "c5301262-91bc-4152-a045-307d9f25329d",
   "metadata": {},
   "source": [
    "5. สร้าง pipeline โดยใช้ make_pipeline จาก sklearn.pipeline โดยเริ่มจาก scaler แล้วตามด้วย kmeans"
   ]
  },
  {
   "cell_type": "code",
   "execution_count": null,
   "id": "e427f514-2634-4005-9918-515888b748b9",
   "metadata": {},
   "outputs": [],
   "source": [
    "from sklearn.pipeline import make_pipeline \n",
    "pipeline = ...(..., ...)"
   ]
  },
  {
   "cell_type": "markdown",
   "id": "2475b446-8cc2-4afe-baa6-f9f000124e82",
   "metadata": {},
   "source": [
    "6. ทำการสร้างโมเดลจาก pipline ที่สร้างขึ้น โดยใช้ .fit() กับข้อมูล X"
   ]
  },
  {
   "cell_type": "code",
   "execution_count": null,
   "id": "6000859e-97f0-443d-b958-a0f4ccd2687b",
   "metadata": {},
   "outputs": [],
   "source": [
    "...."
   ]
  },
  {
   "cell_type": "markdown",
   "id": "aba3545c-18e4-46bb-8303-d108b0876184",
   "metadata": {},
   "source": [
    "7. สร้าง labels ให้กับข้อมูล X โดยใช้ .predict() กับ pipline ที่สร้างไว้  "
   ]
  },
  {
   "cell_type": "code",
   "execution_count": null,
   "id": "8e169f52-8de6-437e-8ac5-b0e117821c9e",
   "metadata": {},
   "outputs": [],
   "source": [
    "labels = ...\n",
    "print(labels)"
   ]
  },
  {
   "cell_type": "markdown",
   "id": "9251b080-e00d-4877-bc91-d26c202bbb00",
   "metadata": {},
   "source": [
    "8. ทำ crosstab ระหว่าง labels และ varieties "
   ]
  },
  {
   "cell_type": "code",
   "execution_count": null,
   "id": "7a459e5c-4808-4d08-8b68-9159de4a608f",
   "metadata": {},
   "outputs": [],
   "source": []
  },
  {
   "cell_type": "code",
   "execution_count": null,
   "id": "e7fc12a7-c560-494e-a4a9-33dac53ecee4",
   "metadata": {},
   "outputs": [],
   "source": []
  },
  {
   "cell_type": "markdown",
   "id": "b2249cf7-5602-42d0-9fea-a8d0688e8e2c",
   "metadata": {},
   "source": [
    "9. (optional) Plot แสดงค่า X คอลัมน์ 0 และ 4 ที่ได้ scale แล้ว "
   ]
  },
  {
   "cell_type": "code",
   "execution_count": null,
   "id": "81979721-6809-4009-9c68-40e7596d6a2c",
   "metadata": {},
   "outputs": [],
   "source": [
    "Xsc = scaler.transform(X)"
   ]
  },
  {
   "cell_type": "code",
   "execution_count": null,
   "id": "d093d2be-99e4-4032-9b2c-9902ac416029",
   "metadata": {},
   "outputs": [],
   "source": [
    "import matplotlib.pyplot as plt\n",
    "plt.scatter(...,...,alpha=0.5)\n",
    "plt.axis('equal')\n",
    "plt.xlabel('alcohol')\n",
    "plt.ylabel('magnesium')"
   ]
  },
  {
   "cell_type": "markdown",
   "id": "8d5652ce-ebf6-4676-af53-6bdd3e50dc4e",
   "metadata": {},
   "source": [
    "## KMeans : Stock data"
   ]
  },
  {
   "cell_type": "markdown",
   "id": "5d67fa95-d1d4-40b8-8fe5-e131a8de9a90",
   "metadata": {},
   "source": [
    "1. อ่านข้อมูลจาก company-stock-movements-2010-2015-incl.csv เก็บไว้ที่ตัวแปร data"
   ]
  },
  {
   "cell_type": "code",
   "execution_count": null,
   "id": "45ac9609-a25a-4b10-bcbd-e2b4890f393e",
   "metadata": {},
   "outputs": [],
   "source": []
  },
  {
   "cell_type": "markdown",
   "id": "5c7ef249-f268-4eb6-8b55-9153a05be5bb",
   "metadata": {},
   "source": [
    "2. กำหนด X เป็น numpy array ข้อมูลจาก data ยกเว้นคอลัมน์ 'companies'"
   ]
  },
  {
   "cell_type": "code",
   "execution_count": null,
   "id": "2a066b41-e57c-45c0-876b-e5eb47ed71d7",
   "metadata": {},
   "outputs": [],
   "source": []
  },
  {
   "cell_type": "markdown",
   "id": "32392371-3364-48e1-8c13-f5ebcbadbe13",
   "metadata": {},
   "source": [
    "3. ทำข้อมูลให้อยู่ในรูปมาตรฐาน ด้วย Normalizer ให้ชื่อว่า normalizer\n",
    "4. สร้างตัวแบบโมเดล kmeans ด้วย KMeans กำหนด จำนวนกลุ่ม (k) มีค่า 10\n",
    "5. สร้าง pipeline โดยใช้ make_pipeline จาก sklearn.pipeline โดยเริ่มจาก normalizer แล้วตามด้วย kmeans\n",
    "6. ทำการสร้างโมเดลจาก pipline ที่สร้างขึ้น โดยใช้ .fit() กับข้อมูล X"
   ]
  },
  {
   "cell_type": "code",
   "execution_count": null,
   "id": "aa3960f0-8496-4b6b-bd72-69901c01e7f0",
   "metadata": {},
   "outputs": [],
   "source": [
    "from sklearn.preprocessing import Normalizer\n",
    "from sklearn.cluster import KMeans\n",
    "from sklearn.pipeline import make_pipeline \n",
    "\n"
   ]
  },
  {
   "cell_type": "markdown",
   "id": "61457b51-b646-4a7e-af04-a570fbdc055d",
   "metadata": {},
   "source": [
    "7. สร้าง labels ให้กับข้อมูล X โดยใช้ .predict() กับ pipline ที่สร้างไว้"
   ]
  },
  {
   "cell_type": "code",
   "execution_count": null,
   "id": "8029ec71-844f-4803-9a27-8d3489e987ee",
   "metadata": {},
   "outputs": [],
   "source": []
  },
  {
   "cell_type": "markdown",
   "id": "de60b49d-04cc-4d9a-807e-0f4ea1df0336",
   "metadata": {},
   "source": [
    "8. แสดง companies ตามลำดับกลุ่ม จะทำให้เห็นว่า companies ใด มีทิศทางในทางเดียวกัน "
   ]
  },
  {
   "cell_type": "code",
   "execution_count": null,
   "id": "a95c9a3a-c6fd-4ecc-bf43-6705a8b04b4e",
   "metadata": {},
   "outputs": [],
   "source": []
  },
  {
   "cell_type": "markdown",
   "id": "2a19d532-aabf-41ca-9561-ed539d1384f0",
   "metadata": {},
   "source": [
    "# Hierarchical Clustering"
   ]
  },
  {
   "cell_type": "markdown",
   "id": "19c86b2b-0955-4427-b211-266003c2b54e",
   "metadata": {},
   "source": [
    "## Hierarchical Clustering Example"
   ]
  },
  {
   "cell_type": "code",
   "execution_count": null,
   "id": "c9b2a833-ac3c-41b5-836c-341885eaec01",
   "metadata": {},
   "outputs": [],
   "source": [
    "import pandas as pd\n",
    "\n",
    "x = [4, 5, 10, 4, 3, 11, 14 , 6, 10, 12]\n",
    "y = [15, 14, 19, 12, 11, 20, 15, 17, 16, 16]\n",
    "store = ['A','B','C','D','E','F','G','H','I','J']\n",
    "\n",
    "df = pd.DataFrame() \n",
    "df['Store'] = store\n",
    "df['Apples'] = x\n",
    "df['Oranges'] = y\n",
    "data = df[['Apples','Oranges']].values\n"
   ]
  },
  {
   "cell_type": "markdown",
   "id": "50a69830-e711-4df6-904c-83db81b4673f",
   "metadata": {},
   "source": [
    "1. สร้าง hi_linkage โดยใช้ linkage กำหนด method เป็น 'single' และ metric เป็น 'euclidean'\n",
    "2. Plot dendrogram โดยกำหนดให้ label เป็น store"
   ]
  },
  {
   "cell_type": "code",
   "execution_count": null,
   "id": "1c468027-20d1-4516-815a-f1ed17d30d45",
   "metadata": {},
   "outputs": [],
   "source": [
    "from scipy.cluster.hierarchy import linkage, dendrogram\n",
    "import matplotlib.pyplot as plt\n",
    "\n",
    "hi_linkage = ...\n",
    "\n",
    "dendrogram(...,labels=...)\n",
    "\n",
    "plt.title(\"method='single'\")\n",
    "plt.show()"
   ]
  },
  {
   "cell_type": "markdown",
   "id": "40f6d183-1e32-430b-a5b2-a2991e6c10d9",
   "metadata": {},
   "source": [
    "3. สร้าง cluster บน hi_linkage  โดยใช้ fcluster เก็บไว้ที่ตัวแปร labels กำหนดค่า t=3.5 และ criterion='distance'"
   ]
  },
  {
   "cell_type": "code",
   "execution_count": null,
   "id": "a7742986-7ed2-40a3-a4b6-f361544f0c08",
   "metadata": {},
   "outputs": [],
   "source": [
    "from scipy.cluster.hierarchy import fcluster\n",
    "labels = ...\n",
    "print(labels)"
   ]
  },
  {
   "cell_type": "markdown",
   "id": "ec12c9a2-eca4-41df-9df4-5b82f499e83c",
   "metadata": {},
   "source": [
    "4. Plot แบบ scatter โดยแกน x เป็นค่าจาก data คอลัมน์ 'Apples' และ แกน y เป็นค่าจากคอลัมน์ 'Oranges' แสดงค่าสีด้วย labels ของ data ที่ได้จากการจัดกลุ่ม"
   ]
  },
  {
   "cell_type": "code",
   "execution_count": null,
   "id": "d11eeb01-fac2-4837-8841-014c41bef30a",
   "metadata": {},
   "outputs": [],
   "source": [
    "import matplotlib.pyplot as plt\n",
    "\n",
    "plt.scatter(...,..., c=...,alpha=0.5)\n",
    "plt.xlabel('#Apples')\n",
    "plt.ylabel('#Oranges')\n",
    "plt.show()"
   ]
  },
  {
   "cell_type": "markdown",
   "id": "e0dadec8-fd7f-4ff0-b986-1c86753f088c",
   "metadata": {},
   "source": [
    "## Hierarchical Clustering : Grains data"
   ]
  },
  {
   "cell_type": "markdown",
   "id": "8b9cc3ce-15d1-453a-bf77-42a692e1d279",
   "metadata": {},
   "source": [
    "1. อ่านข้อมูลจาก grains.csv เก็บไว้ที่ตัวแปร data"
   ]
  },
  {
   "cell_type": "code",
   "execution_count": null,
   "id": "a74d10b8-502a-4656-9e67-cbe5eaf51c9b",
   "metadata": {},
   "outputs": [],
   "source": []
  },
  {
   "cell_type": "markdown",
   "id": "b09d31c1-6d29-4525-a109-8670ddceed5b",
   "metadata": {},
   "source": [
    "2. กำหนดตัวแปร X เป็น numpy array ข้อมูลจาก data ยกเว้นคอลัมน์ 'variety_number' และ 'variety'\n",
    "และกำหนกตัวแปร varieties เป็นค่าข้อมูล จาก data คอลัมน์ 'variety'"
   ]
  },
  {
   "cell_type": "code",
   "execution_count": 21,
   "id": "463ba770-b6b2-4721-a184-7270fcd18934",
   "metadata": {},
   "outputs": [],
   "source": [
    "X = data.drop([...,...],axis=1).values\n",
    "varieties = data[...].values"
   ]
  },
  {
   "cell_type": "markdown",
   "id": "48f1c2fb-518d-4180-8ea4-1dcea3488a7f",
   "metadata": {},
   "source": [
    "1. สร้าง hi_linkage โดยใช้ linkage กำหนด method เป็น 'complete' และ metric เป็น 'euclidean'\n",
    "2. Plot dendrogram โดยกำหนดให้ label เป็น varieties"
   ]
  },
  {
   "cell_type": "code",
   "execution_count": 25,
   "id": "326f6b0c-7cc6-4f26-a5ef-acff4f26fea9",
   "metadata": {},
   "outputs": [
    {
     "data": {
      "image/png": "[encoded data removed]",
      "text/plain": [
       "<Figure size 640x480 with 1 Axes>"
      ]
     },
     "metadata": {},
     "output_type": "display_data"
    }
   ],
   "source": [
    "from scipy.cluster.hierarchy import linkage, dendrogram\n",
    "import matplotlib.pyplot as plt\n",
    "\n",
    "hi_linkage = ...\n",
    "\n",
    "dendrogram(...,...)\n",
    "\n",
    "plt.title(\"method='complete'\")\n",
    "plt.show()"
   ]
  },
  {
   "cell_type": "markdown",
   "id": "89e4a685-625b-4a94-af8a-ac97f9e14e41",
   "metadata": {},
   "source": [
    "3. สร้าง cluster บน hi_linkage โดยใช้ fcluster เก็บไว้ที่ตัวแปร labels กำหนดค่า t=4 และ criterion='distance'"
   ]
  },
  {
   "cell_type": "code",
   "execution_count": 26,
   "id": "0c55df56-16ac-4f8a-8679-35b01229ef7c",
   "metadata": {},
   "outputs": [
    {
     "name": "stdout",
     "output_type": "stream",
     "text": [
      "[5 5 4 5 5 4 4 4 3 3 3 5 4 4 4 4 8 5 5 8 4 4 5 7 5 5 7 7 4 4 7 3 4 5 5 3 3\n",
      " 3 4 6 7 7 7 3 4 5 5 4 4 5 4 3 4 4 5 5 4 5 5 7 7 7 7 8 7 7 5 5 5 7 3 3 3 2\n",
      " 3 3 3 1 1 3 3 1 1 2 2 2 2 2 1 1 2 2 2 1 1 3 2 2 2 2 3 2 2 2 2 2 2 3 2 2 2\n",
      " 2 2 1 1 2 2 2 2 2 1 3 3 2 3 2 2 2 2 3 2 2 3 3 3 3 3 3 3 3 8 6 6 8 8 6 7 8\n",
      " 7 8 8 6 8 8 8 6 8 8 8 8 7 8 8 8 6 7 8 7 8 8 6 6 8 8 8 8 8 8 6 7 8 8 8 8 6\n",
      " 8 8 8 6 8 8 8 7 8 8 8 8 8 7 7 8 7 8 6 8 7 8 6 7 8]\n"
     ]
    }
   ],
   "source": [
    "from scipy.cluster.hierarchy import fcluster\n",
    "labels = ..\n",
    "print(labels)"
   ]
  },
  {
   "cell_type": "markdown",
   "id": "c584e341-88d4-418f-9444-8dbcd1a6f759",
   "metadata": {},
   "source": [
    "4. ทำ crosstab ระหว่าง labels และ varieties "
   ]
  },
  {
   "cell_type": "code",
   "execution_count": 29,
   "id": "e76dd2c5-6e4d-413e-b711-03cfb574ec8c",
   "metadata": {},
   "outputs": [],
   "source": [
    "df = pd.DataFrame({'labels': labels, 'varieties':varieties })"
   ]
  },
  {
   "cell_type": "code",
   "execution_count": 30,
   "id": "136a2097-9a72-449e-81d8-ab35c5c6eb39",
   "metadata": {},
   "outputs": [
    {
     "name": "stdout",
     "output_type": "stream",
     "text": [
      "varieties  Canadian wheat  Kama wheat  Rosa wheat\n",
      "labels                                           \n",
      "1                       0           0          11\n",
      "2                       0           0          36\n",
      "3                       0           9          23\n",
      "4                       0          21           0\n",
      "5                       0          22           0\n",
      "6                      13           1           0\n",
      "7                      12          14           0\n",
      "8                      45           3           0\n"
     ]
    }
   ],
   "source": [
    "ct = ...\n",
    "print(ct)"
   ]
  },
  {
   "cell_type": "code",
   "execution_count": null,
   "id": "b1005cb1-fe80-4bfa-8b56-ecb5140b380c",
   "metadata": {},
   "outputs": [],
   "source": []
  }
 ],
 "metadata": {
  "kernelspec": {
   "display_name": "Python 3 (ipykernel)",
   "language": "python",
   "name": "python3"
  },
  "language_info": {
   "codemirror_mode": {
    "name": "ipython",
    "version": 3
   },
   "file_extension": ".py",
   "mimetype": "text/x-python",
   "name": "python",
   "nbconvert_exporter": "python",
   "pygments_lexer": "ipython3",
   "version": "3.10.8"
  }
 },
 "nbformat": 4,
 "nbformat_minor": 5
}
