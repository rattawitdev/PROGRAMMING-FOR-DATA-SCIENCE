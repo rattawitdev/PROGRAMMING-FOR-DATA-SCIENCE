{
 "cells": [
  {
   "attachments": {},
   "cell_type": "markdown",
   "id": "f290c31b-dacf-40b2-8db4-56b32b64f3f7",
   "metadata": {},
   "source": [
    "# Assignment 3:\n",
    "### รหัสนักศึกษา: 65130701717\n",
    "### ชื่อ-นามสกุล: RATTAWIT PATTARACHAROENPONG\n",
    "### หลักสูตร: SED"
   ]
  },
  {
   "cell_type": "markdown",
   "id": "07a417d9-e7fa-4c03-98bb-3f28f694858f",
   "metadata": {},
   "source": [
    "## User-defined Perceptron Class"
   ]
  },
  {
   "cell_type": "markdown",
   "id": "6bddf9e0-0703-4772-ae99-2eba5ec73b6f",
   "metadata": {},
   "source": [
    "### 2D small data"
   ]
  },
  {
   "cell_type": "markdown",
   "id": "568bc907-5055-4c87-80a4-92424f1b4562",
   "metadata": {},
   "source": [
    "1. สร้างข้อมูล 2 มิติ X จำนวน 10 จุด ประกอบด้วย 2 คลาส A(-1) และ คลาส B(1) ซึ่งข้อมูลทั้ง 2 คลาส แบ่งได้โดยเส้นตรง  โดยที่ คลาส เก็บในตัวแปร y  \n"
   ]
  },
  {
   "cell_type": "code",
   "execution_count": null,
   "id": "176ff8af-c1e0-46e2-951a-bc8331ad21c6",
   "metadata": {},
   "outputs": [],
   "source": []
  },
  {
   "cell_type": "markdown",
   "id": "8de6f0d2-81fb-4d34-a740-8c1a00f6c238",
   "metadata": {},
   "source": [
    "2. Plot ข้อมูล "
   ]
  },
  {
   "cell_type": "code",
   "execution_count": null,
   "id": "e51b90da-c2d6-421c-8df1-a89a6349d68f",
   "metadata": {},
   "outputs": [],
   "source": [
    "import matplotlib.pyplot as plt\n",
    "import numpy as np\n",
    "\n",
    "# plot data\n",
    "plt.scatter(..., ..., color='red', marker='o', label='classA')\n",
    "plt.scatter(..., ..., color='blue', marker='x', label='classB')\n",
    "\n",
    "plt.xlabel('x1')\n",
    "plt.ylabel('x2')\n",
    "plt.legend(loc='upper left')\n",
    "\n",
    "plt.show()"
   ]
  },
  {
   "cell_type": "markdown",
   "id": "ad831531-c26f-4b16-83af-2dfa501d20e6",
   "metadata": {},
   "source": [
    "3. สร้างโมเดล Perceptron จากคลาสที่สร้างใช้เอง  "
   ]
  },
  {
   "cell_type": "code",
   "execution_count": null,
   "id": "438efc07-943a-426c-829d-36ef4282a994",
   "metadata": {},
   "outputs": [],
   "source": []
  },
  {
   "cell_type": "markdown",
   "id": "ea2d80e4-c352-475b-a407-df940cb09af2",
   "metadata": {},
   "source": [
    "4. ทดสอบโมเดล"
   ]
  },
  {
   "cell_type": "code",
   "execution_count": null,
   "id": "9d2358ce-1c05-49bf-b48f-4c367d5a91c3",
   "metadata": {},
   "outputs": [],
   "source": []
  },
  {
   "cell_type": "markdown",
   "id": "93ae652a-0b06-45c6-8958-d32bff0ab0b0",
   "metadata": {},
   "source": [
    "5. แสดงกราฟค่า error ในแต่ละ epoch "
   ]
  },
  {
   "cell_type": "code",
   "execution_count": null,
   "id": "f5193e44-ecee-49aa-a64c-6598718fd71a",
   "metadata": {},
   "outputs": [],
   "source": []
  },
  {
   "cell_type": "markdown",
   "id": "45f1c524-7464-47b0-af92-2b9aa917beb3",
   "metadata": {},
   "source": [
    "6. แสดงกราฟพื้นที่การตัดสินใจ "
   ]
  },
  {
   "cell_type": "markdown",
   "id": "3947396f-1096-42a9-8dd8-fd97f88769ca",
   "metadata": {},
   "source": [
    "## 2D 100 points "
   ]
  },
  {
   "cell_type": "code",
   "execution_count": null,
   "id": "fce94316-4b9f-41c3-bbce-a8c6b706dc73",
   "metadata": {},
   "outputs": [],
   "source": [
    "import pandas as pd\n",
    "\n",
    "s = 'https://archive.ics.uci.edu/ml/machine-learning-databases/iris/iris.data'\n",
    "print('URL:', s)\n",
    "df = pd.read_csv(s,header=None)\n",
    "df.tail()\n",
    "\n",
    "# df = pd.read_csv('iris.data', header=None)\n",
    "# df.tail()"
   ]
  },
  {
   "cell_type": "code",
   "execution_count": null,
   "id": "d2894826-9909-4c9e-9e1d-d1f746a50069",
   "metadata": {},
   "outputs": [],
   "source": [
    "import matplotlib.pyplot as plt\n",
    "import numpy as np\n",
    "\n",
    "# select setosa and versicolor\n",
    "y = df.iloc[0:100, 4].values\n",
    "y = np.where(y == 'Iris-setosa', -1, 1)\n",
    "\n",
    "# extract sepal length and petal length\n",
    "X = df.iloc[0:100, [0, 2]].values\n",
    "\n",
    "# plot data\n",
    "plt.scatter(X[:50, 0], X[:50, 1],\n",
    "            color='red', marker='o', label='setosa')\n",
    "plt.scatter(X[50:100, 0], X[50:100, 1],\n",
    "            color='blue', marker='x', label='versicolor')\n",
    "\n",
    "plt.xlabel('sepal length [cm]')\n",
    "plt.ylabel('petal length [cm]')\n",
    "plt.legend(loc='upper left')\n",
    "plt.show()"
   ]
  },
  {
   "cell_type": "markdown",
   "id": "f1875017-e830-486b-94f6-0a62c7d4dfcb",
   "metadata": {},
   "source": [
    "1. สร้างโมเดล Perceptron จากคลาสที่สร้างใช้เอง  \n",
    "2. ทดสอบโมเดล\n",
    "3. แสดงกราฟค่า error ในแต่ละ epoch\n",
    "4. แสดงกราฟพื้นที่การตัดสินใจ"
   ]
  },
  {
   "cell_type": "markdown",
   "id": "a7b5a56c-12e0-42e3-a0e2-e84027736f1c",
   "metadata": {},
   "source": []
  },
  {
   "cell_type": "markdown",
   "id": "24912727-c484-40df-9a88-1cf27999418c",
   "metadata": {},
   "source": [
    "## Iris Data - 4D"
   ]
  },
  {
   "cell_type": "code",
   "execution_count": null,
   "id": "ddd9ec86-a93c-418b-9133-5ac3629919d9",
   "metadata": {},
   "outputs": [],
   "source": [
    "import pandas as pd\n",
    "s = 'https://archive.ics.uci.edu/ml/machine-learning-databases/iris/iris.data'\n",
    "print('URL:', s)\n",
    "\n",
    "df = pd.read_csv(s,header=None)\n",
    "df.tail()"
   ]
  },
  {
   "cell_type": "code",
   "execution_count": null,
   "id": "38fea3a1-3d57-420f-88ca-b2227580cf8c",
   "metadata": {},
   "outputs": [],
   "source": [
    "# select setosa and versicolor\n",
    "y = df.iloc[0:100, 4].values\n",
    "y = np.where(y == 'Iris-setosa', -1, 1)\n",
    "\n",
    "# extract sepal length and petal length\n",
    "X = df.iloc[0:100, 0:4].values"
   ]
  },
  {
   "cell_type": "markdown",
   "id": "8641bb19-c7dc-4dcc-83f4-69d0605c4514",
   "metadata": {},
   "source": [
    "1. สร้างโมเดล Perceptron จากคลาสที่สร้างใช้เอง  \n",
    "2. ทดสอบโมเดล\n",
    "3. แสดงกราฟค่า error ในแต่ละ epoch"
   ]
  },
  {
   "cell_type": "code",
   "execution_count": null,
   "id": "3f033606-4e62-402d-b200-cf453a198bc1",
   "metadata": {},
   "outputs": [],
   "source": []
  },
  {
   "cell_type": "markdown",
   "id": "bf66d0fe-b2ce-41b8-ba6d-2af1a3cce818",
   "metadata": {},
   "source": [
    "## Perceptron- ScikitLearn"
   ]
  },
  {
   "cell_type": "code",
   "execution_count": null,
   "id": "bbf5edf2-6a39-4793-9d1f-5c3472e29043",
   "metadata": {},
   "outputs": [],
   "source": [
    "import pandas as pd\n",
    "import numpy as np\n",
    "from sklearn.linear_model import Perceptron"
   ]
  },
  {
   "cell_type": "code",
   "execution_count": null,
   "id": "416c281d-512a-4c33-9b2b-652b342c4161",
   "metadata": {},
   "outputs": [],
   "source": [
    "df = pd.read_csv('iris.data', header=None)\n",
    "df.tail()"
   ]
  },
  {
   "cell_type": "code",
   "execution_count": null,
   "id": "58f8f8d7-00b3-46d1-b583-844c68843afa",
   "metadata": {},
   "outputs": [],
   "source": [
    "y = df.iloc[:, 4].values\n",
    "X = df.iloc[:, 0:4].values"
   ]
  },
  {
   "cell_type": "code",
   "execution_count": null,
   "id": "76336cd9-4dbb-41ed-8fa6-6808b2e34273",
   "metadata": {},
   "outputs": [],
   "source": [
    "from sklearn.model_selection import train_test_split\n",
    "X_train, X_test, y_train, y_test = train_test_split(X,y,test_size=0.2, random_state = 123)"
   ]
  },
  {
   "cell_type": "markdown",
   "id": "ae936fdd-d100-44eb-af75-b25d4ec66679",
   "metadata": {},
   "source": [
    "1. สร้างโมเดล Perceptron โดยใช้ sklearn \n",
    "2. ทดสอบโมเดล\n",
    "3. หาค่าคะแนนความถูกต้อง"
   ]
  },
  {
   "cell_type": "code",
   "execution_count": null,
   "id": "4a4416dc-4f59-4d95-88a8-798ca5d98b16",
   "metadata": {},
   "outputs": [],
   "source": [
    "model_per = Perceptron(tol=1e-3, random_state=0)\n",
    "model_per.fit(..., ...)\n",
    "model_per.score(..., ...)"
   ]
  },
  {
   "cell_type": "markdown",
   "id": "820f2e3b-e182-433e-9b6f-ef77b2ce7b5b",
   "metadata": {},
   "source": [
    "4. บันทึก model ที่สร้างขึ้น "
   ]
  },
  {
   "cell_type": "code",
   "execution_count": null,
   "id": "611e06fe-3612-4758-8723-1e091d17fe61",
   "metadata": {},
   "outputs": [],
   "source": [
    "# import pickle\n",
    "# pickle.dump(model, open('per_model-xxx.sav', 'wb'))"
   ]
  },
  {
   "cell_type": "markdown",
   "id": "8ffb2fb2-43ee-4da6-9a5b-6b7bafecf822",
   "metadata": {},
   "source": [
    "## สร้างโปรแกรม ass3-app.py\n"
   ]
  },
  {
   "cell_type": "code",
   "execution_count": null,
   "id": "326b06b3-409e-4626-aae8-584863714f7f",
   "metadata": {},
   "outputs": [],
   "source": []
  },
  {
   "cell_type": "markdown",
   "id": "07db4ffe-4d5e-4940-9264-48a463bf2f7e",
   "metadata": {},
   "source": [
    "### Deploy with streamlit "
   ]
  },
  {
   "cell_type": "code",
   "execution_count": null,
   "id": "81d711c7-3e9e-4253-9f38-5cc10d1d1219",
   "metadata": {},
   "outputs": [],
   "source": []
  }
 ],
 "metadata": {
  "kernelspec": {
   "display_name": "Python 3",
   "language": "python",
   "name": "python3"
  },
  "language_info": {
   "codemirror_mode": {
    "name": "ipython",
    "version": 3
   },
   "file_extension": ".py",
   "mimetype": "text/x-python",
   "name": "python",
   "nbconvert_exporter": "python",
   "pygments_lexer": "ipython3",
   "version": "3.10.9"
  },
  "vscode": {
   "interpreter": {
    "hash": "aee8b7b246df8f9039afb4144a1f6fd8d2ca17a180786b69acc140d282b71a49"
   }
  }
 },
 "nbformat": 4,
 "nbformat_minor": 5
}
