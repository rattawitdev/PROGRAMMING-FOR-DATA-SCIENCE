{
 "cells": [
  {
   "attachments": {},
   "cell_type": "markdown",
   "id": "2bf9cb1e-2656-4684-b4b4-9c66042a9abc",
   "metadata": {},
   "source": [
    "# Assignment 2:\n",
    "### รหัสนักศึกษา: 65130701717\n",
    "### ชื่อ-นามสกุล: RATTAWIT PATTARACHAROENPONG\n",
    "### หลักสูตร: SED"
   ]
  },
  {
   "cell_type": "markdown",
   "id": "e7dd7902-7c74-4c0c-a908-4c2219951a1d",
   "metadata": {},
   "source": [
    "## Regression"
   ]
  },
  {
   "cell_type": "markdown",
   "id": "d7f9ab1c-7cab-4d70-95e8-2a23ab806e0f",
   "metadata": {},
   "source": [
    "### Regression with Single Feature"
   ]
  },
  {
   "cell_type": "markdown",
   "id": "b5b5b82f-bbf2-46c1-8bbe-3a1e307028ef",
   "metadata": {},
   "source": [
    "0. import package ที่จำเป็นต้องใช้ "
   ]
  },
  {
   "cell_type": "code",
   "execution_count": 360,
   "id": "ccefb59d-146b-4659-a8ff-b6a9fe9ff96d",
   "metadata": {},
   "outputs": [],
   "source": [
    "import pandas as pd\n",
    "from sklearn.model_selection import train_test_split\n",
    "from sklearn.linear_model import LinearRegression\n",
    "from sklearn.metrics import mean_squared_error\n",
    "from sklearn.preprocessing import LabelEncoder"
   ]
  },
  {
   "cell_type": "markdown",
   "id": "2d7212b9-ce92-481c-a41e-32ddbba4d39e",
   "metadata": {},
   "source": [
    "1. อ่านข้อมูล datasets/advertising_and_sales.csv  เก็บไว้ในตัวแปร data_df และแสดงข้อมูล 5 บรรทัดแรก\n"
   ]
  },
  {
   "cell_type": "code",
   "execution_count": 361,
   "id": "2e25fdd8-4d84-45bc-80f0-949917e00a17",
   "metadata": {
    "collapsed": false,
    "jupyter": {
     "outputs_hidden": false,
     "source_hidden": false
    }
   },
   "outputs": [
    {
     "data": {
      "text/html": [
       "<div>\n",
       "<style scoped>\n",
       "    .dataframe tbody tr th:only-of-type {\n",
       "        vertical-align: middle;\n",
       "    }\n",
       "\n",
       "    .dataframe tbody tr th {\n",
       "        vertical-align: top;\n",
       "    }\n",
       "\n",
       "    .dataframe thead th {\n",
       "        text-align: right;\n",
       "    }\n",
       "</style>\n",
       "<table border=\"1\" class=\"dataframe\">\n",
       "  <thead>\n",
       "    <tr style=\"text-align: right;\">\n",
       "      <th></th>\n",
       "      <th>tv</th>\n",
       "      <th>radio</th>\n",
       "      <th>social_media</th>\n",
       "      <th>influencer</th>\n",
       "      <th>sales</th>\n",
       "    </tr>\n",
       "  </thead>\n",
       "  <tbody>\n",
       "    <tr>\n",
       "      <th>0</th>\n",
       "      <td>16000.0</td>\n",
       "      <td>6566.23</td>\n",
       "      <td>2907.98</td>\n",
       "      <td>Mega</td>\n",
       "      <td>54732.76</td>\n",
       "    </tr>\n",
       "    <tr>\n",
       "      <th>1</th>\n",
       "      <td>13000.0</td>\n",
       "      <td>9237.76</td>\n",
       "      <td>2409.57</td>\n",
       "      <td>Mega</td>\n",
       "      <td>46677.90</td>\n",
       "    </tr>\n",
       "    <tr>\n",
       "      <th>2</th>\n",
       "      <td>41000.0</td>\n",
       "      <td>15886.45</td>\n",
       "      <td>2913.41</td>\n",
       "      <td>Mega</td>\n",
       "      <td>150177.83</td>\n",
       "    </tr>\n",
       "    <tr>\n",
       "      <th>3</th>\n",
       "      <td>83000.0</td>\n",
       "      <td>30020.03</td>\n",
       "      <td>6922.30</td>\n",
       "      <td>Mega</td>\n",
       "      <td>298246.34</td>\n",
       "    </tr>\n",
       "    <tr>\n",
       "      <th>4</th>\n",
       "      <td>15000.0</td>\n",
       "      <td>8437.41</td>\n",
       "      <td>1406.00</td>\n",
       "      <td>Micro</td>\n",
       "      <td>56594.18</td>\n",
       "    </tr>\n",
       "  </tbody>\n",
       "</table>\n",
       "</div>"
      ],
      "text/plain": [
       "        tv     radio  social_media influencer      sales\n",
       "0  16000.0   6566.23       2907.98       Mega   54732.76\n",
       "1  13000.0   9237.76       2409.57       Mega   46677.90\n",
       "2  41000.0  15886.45       2913.41       Mega  150177.83\n",
       "3  83000.0  30020.03       6922.30       Mega  298246.34\n",
       "4  15000.0   8437.41       1406.00      Micro   56594.18"
      ]
     },
     "execution_count": 361,
     "metadata": {},
     "output_type": "execute_result"
    }
   ],
   "source": [
    "data_df=pd.read_csv('datasets/advertising_and_sales.csv')\n",
    "data_df.head()"
   ]
  },
  {
   "cell_type": "markdown",
   "id": "71817484-8ff5-43b0-93cc-ca53edad530c",
   "metadata": {},
   "source": [
    "2. สร้าง feature X จาก 'radio' และ target y จาก 'sales' "
   ]
  },
  {
   "cell_type": "code",
   "execution_count": 362,
   "id": "23778fc8-5850-4b00-bb1c-6c65b3d58649",
   "metadata": {},
   "outputs": [],
   "source": [
    "data_df = data_df[data_df.tv>0]\n",
    "data_df = data_df[data_df.radio>0]\n",
    "data_df = data_df[data_df.social_media>0]\n",
    "data_df = data_df[data_df.sales>0]\n",
    "\n",
    "X = data_df['radio'].values\n",
    "y = data_df['sales'].values"
   ]
  },
  {
   "cell_type": "markdown",
   "id": "f082b11d-c51f-45b6-9dfc-79265bcee44a",
   "metadata": {},
   "source": [
    "3. แบ่งข้อมูลสอน 80% (X_train, y_train)  และข้อมูลทดสอบ 20% (X_test, y_test)"
   ]
  },
  {
   "cell_type": "code",
   "execution_count": 363,
   "id": "60a7847e-fbe6-47e8-ba97-a0faca470fbc",
   "metadata": {},
   "outputs": [],
   "source": [
    "X_train,X_test,y_train,y_test = train_test_split(X,y,test_size=0.2,random_state=7)\n",
    "X_train= X_train.reshape(-1, 1)\n",
    "X_test = X_test.reshape(-1, 1)\n",
    "y_train= y_train.reshape(-1, 1)\n",
    "y_test = y_test.reshape(-1, 1)"
   ]
  },
  {
   "cell_type": "markdown",
   "id": "2cf26dee-f112-4c3a-9c53-62ebbbc38cef",
   "metadata": {},
   "source": [
    "4. สร้าง linear regression model ชื่อ **reg_model1** โดยใช้  X_train, y_train"
   ]
  },
  {
   "cell_type": "code",
   "execution_count": 364,
   "id": "b5b7e539-af85-4e8b-a37c-a417a171a684",
   "metadata": {},
   "outputs": [
    {
     "data": {
      "text/html": [
       "<style>#sk-container-id-43 {color: black;background-color: white;}#sk-container-id-43 pre{padding: 0;}#sk-container-id-43 div.sk-toggleable {background-color: white;}#sk-container-id-43 label.sk-toggleable__label {cursor: pointer;display: block;width: 100%;margin-bottom: 0;padding: 0.3em;box-sizing: border-box;text-align: center;}#sk-container-id-43 label.sk-toggleable__label-arrow:before {content: \"▸\";float: left;margin-right: 0.25em;color: #696969;}#sk-container-id-43 label.sk-toggleable__label-arrow:hover:before {color: black;}#sk-container-id-43 div.sk-estimator:hover label.sk-toggleable__label-arrow:before {color: black;}#sk-container-id-43 div.sk-toggleable__content {max-height: 0;max-width: 0;overflow: hidden;text-align: left;background-color: #f0f8ff;}#sk-container-id-43 div.sk-toggleable__content pre {margin: 0.2em;color: black;border-radius: 0.25em;background-color: #f0f8ff;}#sk-container-id-43 input.sk-toggleable__control:checked~div.sk-toggleable__content {max-height: 200px;max-width: 100%;overflow: auto;}#sk-container-id-43 input.sk-toggleable__control:checked~label.sk-toggleable__label-arrow:before {content: \"▾\";}#sk-container-id-43 div.sk-estimator input.sk-toggleable__control:checked~label.sk-toggleable__label {background-color: #d4ebff;}#sk-container-id-43 div.sk-label input.sk-toggleable__control:checked~label.sk-toggleable__label {background-color: #d4ebff;}#sk-container-id-43 input.sk-hidden--visually {border: 0;clip: rect(1px 1px 1px 1px);clip: rect(1px, 1px, 1px, 1px);height: 1px;margin: -1px;overflow: hidden;padding: 0;position: absolute;width: 1px;}#sk-container-id-43 div.sk-estimator {font-family: monospace;background-color: #f0f8ff;border: 1px dotted black;border-radius: 0.25em;box-sizing: border-box;margin-bottom: 0.5em;}#sk-container-id-43 div.sk-estimator:hover {background-color: #d4ebff;}#sk-container-id-43 div.sk-parallel-item::after {content: \"\";width: 100%;border-bottom: 1px solid gray;flex-grow: 1;}#sk-container-id-43 div.sk-label:hover label.sk-toggleable__label {background-color: #d4ebff;}#sk-container-id-43 div.sk-serial::before {content: \"\";position: absolute;border-left: 1px solid gray;box-sizing: border-box;top: 0;bottom: 0;left: 50%;z-index: 0;}#sk-container-id-43 div.sk-serial {display: flex;flex-direction: column;align-items: center;background-color: white;padding-right: 0.2em;padding-left: 0.2em;position: relative;}#sk-container-id-43 div.sk-item {position: relative;z-index: 1;}#sk-container-id-43 div.sk-parallel {display: flex;align-items: stretch;justify-content: center;background-color: white;position: relative;}#sk-container-id-43 div.sk-item::before, #sk-container-id-43 div.sk-parallel-item::before {content: \"\";position: absolute;border-left: 1px solid gray;box-sizing: border-box;top: 0;bottom: 0;left: 50%;z-index: -1;}#sk-container-id-43 div.sk-parallel-item {display: flex;flex-direction: column;z-index: 1;position: relative;background-color: white;}#sk-container-id-43 div.sk-parallel-item:first-child::after {align-self: flex-end;width: 50%;}#sk-container-id-43 div.sk-parallel-item:last-child::after {align-self: flex-start;width: 50%;}#sk-container-id-43 div.sk-parallel-item:only-child::after {width: 0;}#sk-container-id-43 div.sk-dashed-wrapped {border: 1px dashed gray;margin: 0 0.4em 0.5em 0.4em;box-sizing: border-box;padding-bottom: 0.4em;background-color: white;}#sk-container-id-43 div.sk-label label {font-family: monospace;font-weight: bold;display: inline-block;line-height: 1.2em;}#sk-container-id-43 div.sk-label-container {text-align: center;}#sk-container-id-43 div.sk-container {/* jupyter's `normalize.less` sets `[hidden] { display: none; }` but bootstrap.min.css set `[hidden] { display: none !important; }` so we also need the `!important` here to be able to override the default hidden behavior on the sphinx rendered scikit-learn.org. See: https://github.com/scikit-learn/scikit-learn/issues/21755 */display: inline-block !important;position: relative;}#sk-container-id-43 div.sk-text-repr-fallback {display: none;}</style><div id=\"sk-container-id-43\" class=\"sk-top-container\"><div class=\"sk-text-repr-fallback\"><pre>LinearRegression()</pre><b>In a Jupyter environment, please rerun this cell to show the HTML representation or trust the notebook. <br />On GitHub, the HTML representation is unable to render, please try loading this page with nbviewer.org.</b></div><div class=\"sk-container\" hidden><div class=\"sk-item\"><div class=\"sk-estimator sk-toggleable\"><input class=\"sk-toggleable__control sk-hidden--visually\" id=\"sk-estimator-id-43\" type=\"checkbox\" checked><label for=\"sk-estimator-id-43\" class=\"sk-toggleable__label sk-toggleable__label-arrow\">LinearRegression</label><div class=\"sk-toggleable__content\"><pre>LinearRegression()</pre></div></div></div></div></div>"
      ],
      "text/plain": [
       "LinearRegression()"
      ]
     },
     "execution_count": 364,
     "metadata": {},
     "output_type": "execute_result"
    }
   ],
   "source": [
    "reg_model1 = LinearRegression()\n",
    "reg_model1.fit(X_train, y_train)"
   ]
  },
  {
   "cell_type": "markdown",
   "id": "71183b50-cfbe-4066-a5ef-61e17d5f65ab",
   "metadata": {},
   "source": [
    "5. plot จุดข้อมูลสอนเป็นสีน้ำเงิน และ regression line เป็นสีแดง"
   ]
  },
  {
   "cell_type": "code",
   "execution_count": 365,
   "id": "0429c03b-a95e-4e3f-a676-464a21c5564b",
   "metadata": {},
   "outputs": [
    {
     "data": {
      "image/png": "[encoded data removed]",
      "text/plain": [
       "<Figure size 640x480 with 1 Axes>"
      ]
     },
     "metadata": {},
     "output_type": "display_data"
    }
   ],
   "source": [
    "# Import matplotlib.pyplot\n",
    "import matplotlib.pyplot as plt\n",
    "\n",
    "# Create scatter plot\n",
    "plt.scatter(X_train, y_train, color=\"blue\")\n",
    "\n",
    "# Create line plot\n",
    "# plt.plot([X_train], reg_model1.predict(), color=\"red\")\n",
    "plt.plot(X_train, reg_model1.predict(X_train), color='red')\n",
    "plt.xlabel(\"Radio Expenditure ($)\")\n",
    "plt.ylabel(\"Sales ($)\")\n",
    "\n",
    "# Display the plot\n",
    "plt.show()"
   ]
  },
  {
   "cell_type": "markdown",
   "id": "7d06e5ee-b95b-4692-b6be-f2229729887e",
   "metadata": {},
   "source": [
    "6. ทำนาย X_test โดยใช้ โมเดลที่สร้างขึ้นในข้อ 4"
   ]
  },
  {
   "cell_type": "code",
   "execution_count": 366,
   "id": "87d1c1c0-0645-41bc-9cbb-a8500292c84f",
   "metadata": {},
   "outputs": [],
   "source": [
    "y_pred = reg_model1.predict(X_test)"
   ]
  },
  {
   "cell_type": "markdown",
   "id": "d75c4710-763b-4788-a2eb-acf86999f4ab",
   "metadata": {},
   "source": [
    "7. หาค่า MSE "
   ]
  },
  {
   "cell_type": "code",
   "execution_count": 367,
   "id": "cc27c521-8bb9-4734-981d-d05a4d737ae0",
   "metadata": {},
   "outputs": [
    {
     "data": {
      "text/plain": [
       "45393.628758923995"
      ]
     },
     "execution_count": 367,
     "metadata": {},
     "output_type": "execute_result"
    }
   ],
   "source": [
    "mean_squared_error(y_test, y_pred, squared=False)"
   ]
  },
  {
   "cell_type": "markdown",
   "id": "1539dde2-766e-4976-8db6-c98f2ce63b00",
   "metadata": {},
   "source": [
    "8. หาค่า R-square "
   ]
  },
  {
   "cell_type": "code",
   "execution_count": 368,
   "id": "5abb5740-c4f1-49e0-bc0d-e536d773f125",
   "metadata": {},
   "outputs": [
    {
     "data": {
      "text/plain": [
       "0.7597236934627745"
      ]
     },
     "execution_count": 368,
     "metadata": {},
     "output_type": "execute_result"
    }
   ],
   "source": [
    "reg_model1.score(X_test,y_test)"
   ]
  },
  {
   "cell_type": "markdown",
   "id": "896b95a6-9111-4a32-8610-98ef116e1544",
   "metadata": {
    "tags": []
   },
   "source": [
    "### Regression with Multiple Features\n",
    "ใช้ข้อมูล data_df ต่อเนื่องจากด้านบน"
   ]
  },
  {
   "cell_type": "code",
   "execution_count": 369,
   "id": "9d6d49df",
   "metadata": {},
   "outputs": [
    {
     "data": {
      "text/html": [
       "<div>\n",
       "<style scoped>\n",
       "    .dataframe tbody tr th:only-of-type {\n",
       "        vertical-align: middle;\n",
       "    }\n",
       "\n",
       "    .dataframe tbody tr th {\n",
       "        vertical-align: top;\n",
       "    }\n",
       "\n",
       "    .dataframe thead th {\n",
       "        text-align: right;\n",
       "    }\n",
       "</style>\n",
       "<table border=\"1\" class=\"dataframe\">\n",
       "  <thead>\n",
       "    <tr style=\"text-align: right;\">\n",
       "      <th></th>\n",
       "      <th>tv</th>\n",
       "      <th>radio</th>\n",
       "      <th>social_media</th>\n",
       "      <th>influencer</th>\n",
       "      <th>sales</th>\n",
       "    </tr>\n",
       "  </thead>\n",
       "  <tbody>\n",
       "    <tr>\n",
       "      <th>0</th>\n",
       "      <td>16000.0</td>\n",
       "      <td>6566.23</td>\n",
       "      <td>2907.98</td>\n",
       "      <td>1</td>\n",
       "      <td>54732.76</td>\n",
       "    </tr>\n",
       "    <tr>\n",
       "      <th>1</th>\n",
       "      <td>13000.0</td>\n",
       "      <td>9237.76</td>\n",
       "      <td>2409.57</td>\n",
       "      <td>1</td>\n",
       "      <td>46677.90</td>\n",
       "    </tr>\n",
       "    <tr>\n",
       "      <th>2</th>\n",
       "      <td>41000.0</td>\n",
       "      <td>15886.45</td>\n",
       "      <td>2913.41</td>\n",
       "      <td>1</td>\n",
       "      <td>150177.83</td>\n",
       "    </tr>\n",
       "    <tr>\n",
       "      <th>3</th>\n",
       "      <td>83000.0</td>\n",
       "      <td>30020.03</td>\n",
       "      <td>6922.30</td>\n",
       "      <td>1</td>\n",
       "      <td>298246.34</td>\n",
       "    </tr>\n",
       "    <tr>\n",
       "      <th>4</th>\n",
       "      <td>15000.0</td>\n",
       "      <td>8437.41</td>\n",
       "      <td>1406.00</td>\n",
       "      <td>2</td>\n",
       "      <td>56594.18</td>\n",
       "    </tr>\n",
       "    <tr>\n",
       "      <th>...</th>\n",
       "      <td>...</td>\n",
       "      <td>...</td>\n",
       "      <td>...</td>\n",
       "      <td>...</td>\n",
       "      <td>...</td>\n",
       "    </tr>\n",
       "    <tr>\n",
       "      <th>4541</th>\n",
       "      <td>26000.0</td>\n",
       "      <td>4472.36</td>\n",
       "      <td>717.09</td>\n",
       "      <td>2</td>\n",
       "      <td>94685.87</td>\n",
       "    </tr>\n",
       "    <tr>\n",
       "      <th>4542</th>\n",
       "      <td>71000.0</td>\n",
       "      <td>20610.69</td>\n",
       "      <td>6545.57</td>\n",
       "      <td>3</td>\n",
       "      <td>249101.92</td>\n",
       "    </tr>\n",
       "    <tr>\n",
       "      <th>4543</th>\n",
       "      <td>44000.0</td>\n",
       "      <td>19800.07</td>\n",
       "      <td>5096.19</td>\n",
       "      <td>2</td>\n",
       "      <td>163631.46</td>\n",
       "    </tr>\n",
       "    <tr>\n",
       "      <th>4544</th>\n",
       "      <td>71000.0</td>\n",
       "      <td>17534.64</td>\n",
       "      <td>1940.87</td>\n",
       "      <td>0</td>\n",
       "      <td>253610.41</td>\n",
       "    </tr>\n",
       "    <tr>\n",
       "      <th>4545</th>\n",
       "      <td>42000.0</td>\n",
       "      <td>15966.69</td>\n",
       "      <td>5046.55</td>\n",
       "      <td>2</td>\n",
       "      <td>148202.41</td>\n",
       "    </tr>\n",
       "  </tbody>\n",
       "</table>\n",
       "<p>4546 rows × 5 columns</p>\n",
       "</div>"
      ],
      "text/plain": [
       "           tv     radio  social_media  influencer      sales\n",
       "0     16000.0   6566.23       2907.98           1   54732.76\n",
       "1     13000.0   9237.76       2409.57           1   46677.90\n",
       "2     41000.0  15886.45       2913.41           1  150177.83\n",
       "3     83000.0  30020.03       6922.30           1  298246.34\n",
       "4     15000.0   8437.41       1406.00           2   56594.18\n",
       "...       ...       ...           ...         ...        ...\n",
       "4541  26000.0   4472.36        717.09           2   94685.87\n",
       "4542  71000.0  20610.69       6545.57           3  249101.92\n",
       "4543  44000.0  19800.07       5096.19           2  163631.46\n",
       "4544  71000.0  17534.64       1940.87           0  253610.41\n",
       "4545  42000.0  15966.69       5046.55           2  148202.41\n",
       "\n",
       "[4546 rows x 5 columns]"
      ]
     },
     "execution_count": 369,
     "metadata": {},
     "output_type": "execute_result"
    }
   ],
   "source": [
    "# df = pd.DataFrame(data_df)\n",
    "# print(df['influencer'].unique())\n",
    "\n",
    "label = LabelEncoder()\n",
    "data_df['influencer'] = label.fit_transform(data_df['influencer'])\n",
    "data_df"
   ]
  },
  {
   "cell_type": "markdown",
   "id": "e1ce7a4c-ad0d-4990-ab46-d5bf89ba9bca",
   "metadata": {},
   "source": [
    "1. สร้าง features X จากทุกคอลัมน์ ยกเว้น 'sales' \n",
    "และ สร้าง target y จาก 'sales' "
   ]
  },
  {
   "cell_type": "code",
   "execution_count": 370,
   "id": "8fbaaabd-93b9-49ee-b4a4-4d241653ae29",
   "metadata": {},
   "outputs": [
    {
     "name": "stdout",
     "output_type": "stream",
     "text": [
      "(4546, 4)\n",
      "(4546,)\n"
     ]
    }
   ],
   "source": [
    "X = data_df.drop(['sales'], axis=1).values\n",
    "y = data_df['sales'].values\n",
    "print(X.shape)\n",
    "print(y.shape)"
   ]
  },
  {
   "cell_type": "markdown",
   "id": "8c8154fa-fe92-4c86-b77c-1abf92a7ac30",
   "metadata": {},
   "source": [
    "2. แบ่งข้อมูลสอน 80%  (X_train, y_train) และข้อมูลทดสอบ 20%  (X_test, y_test) \n"
   ]
  },
  {
   "cell_type": "code",
   "execution_count": 371,
   "id": "4f072c24",
   "metadata": {},
   "outputs": [],
   "source": [
    "X_train,X_test,y_train,y_test = train_test_split(X,y,test_size=0.2,random_state=7)"
   ]
  },
  {
   "cell_type": "markdown",
   "id": "5952b908-ea9c-4125-9da4-fa55a7fd5029",
   "metadata": {},
   "source": [
    "3. สร้าง linear regression model ชื่อ **reg_model2** โดยใช้  X_train, y_train\n",
    "ทำนาย X_test"
   ]
  },
  {
   "cell_type": "code",
   "execution_count": 372,
   "id": "fe8c5983-26a1-4b6e-bfec-cdd058113937",
   "metadata": {},
   "outputs": [
    {
     "data": {
      "text/html": [
       "<style>#sk-container-id-44 {color: black;background-color: white;}#sk-container-id-44 pre{padding: 0;}#sk-container-id-44 div.sk-toggleable {background-color: white;}#sk-container-id-44 label.sk-toggleable__label {cursor: pointer;display: block;width: 100%;margin-bottom: 0;padding: 0.3em;box-sizing: border-box;text-align: center;}#sk-container-id-44 label.sk-toggleable__label-arrow:before {content: \"▸\";float: left;margin-right: 0.25em;color: #696969;}#sk-container-id-44 label.sk-toggleable__label-arrow:hover:before {color: black;}#sk-container-id-44 div.sk-estimator:hover label.sk-toggleable__label-arrow:before {color: black;}#sk-container-id-44 div.sk-toggleable__content {max-height: 0;max-width: 0;overflow: hidden;text-align: left;background-color: #f0f8ff;}#sk-container-id-44 div.sk-toggleable__content pre {margin: 0.2em;color: black;border-radius: 0.25em;background-color: #f0f8ff;}#sk-container-id-44 input.sk-toggleable__control:checked~div.sk-toggleable__content {max-height: 200px;max-width: 100%;overflow: auto;}#sk-container-id-44 input.sk-toggleable__control:checked~label.sk-toggleable__label-arrow:before {content: \"▾\";}#sk-container-id-44 div.sk-estimator input.sk-toggleable__control:checked~label.sk-toggleable__label {background-color: #d4ebff;}#sk-container-id-44 div.sk-label input.sk-toggleable__control:checked~label.sk-toggleable__label {background-color: #d4ebff;}#sk-container-id-44 input.sk-hidden--visually {border: 0;clip: rect(1px 1px 1px 1px);clip: rect(1px, 1px, 1px, 1px);height: 1px;margin: -1px;overflow: hidden;padding: 0;position: absolute;width: 1px;}#sk-container-id-44 div.sk-estimator {font-family: monospace;background-color: #f0f8ff;border: 1px dotted black;border-radius: 0.25em;box-sizing: border-box;margin-bottom: 0.5em;}#sk-container-id-44 div.sk-estimator:hover {background-color: #d4ebff;}#sk-container-id-44 div.sk-parallel-item::after {content: \"\";width: 100%;border-bottom: 1px solid gray;flex-grow: 1;}#sk-container-id-44 div.sk-label:hover label.sk-toggleable__label {background-color: #d4ebff;}#sk-container-id-44 div.sk-serial::before {content: \"\";position: absolute;border-left: 1px solid gray;box-sizing: border-box;top: 0;bottom: 0;left: 50%;z-index: 0;}#sk-container-id-44 div.sk-serial {display: flex;flex-direction: column;align-items: center;background-color: white;padding-right: 0.2em;padding-left: 0.2em;position: relative;}#sk-container-id-44 div.sk-item {position: relative;z-index: 1;}#sk-container-id-44 div.sk-parallel {display: flex;align-items: stretch;justify-content: center;background-color: white;position: relative;}#sk-container-id-44 div.sk-item::before, #sk-container-id-44 div.sk-parallel-item::before {content: \"\";position: absolute;border-left: 1px solid gray;box-sizing: border-box;top: 0;bottom: 0;left: 50%;z-index: -1;}#sk-container-id-44 div.sk-parallel-item {display: flex;flex-direction: column;z-index: 1;position: relative;background-color: white;}#sk-container-id-44 div.sk-parallel-item:first-child::after {align-self: flex-end;width: 50%;}#sk-container-id-44 div.sk-parallel-item:last-child::after {align-self: flex-start;width: 50%;}#sk-container-id-44 div.sk-parallel-item:only-child::after {width: 0;}#sk-container-id-44 div.sk-dashed-wrapped {border: 1px dashed gray;margin: 0 0.4em 0.5em 0.4em;box-sizing: border-box;padding-bottom: 0.4em;background-color: white;}#sk-container-id-44 div.sk-label label {font-family: monospace;font-weight: bold;display: inline-block;line-height: 1.2em;}#sk-container-id-44 div.sk-label-container {text-align: center;}#sk-container-id-44 div.sk-container {/* jupyter's `normalize.less` sets `[hidden] { display: none; }` but bootstrap.min.css set `[hidden] { display: none !important; }` so we also need the `!important` here to be able to override the default hidden behavior on the sphinx rendered scikit-learn.org. See: https://github.com/scikit-learn/scikit-learn/issues/21755 */display: inline-block !important;position: relative;}#sk-container-id-44 div.sk-text-repr-fallback {display: none;}</style><div id=\"sk-container-id-44\" class=\"sk-top-container\"><div class=\"sk-text-repr-fallback\"><pre>LinearRegression()</pre><b>In a Jupyter environment, please rerun this cell to show the HTML representation or trust the notebook. <br />On GitHub, the HTML representation is unable to render, please try loading this page with nbviewer.org.</b></div><div class=\"sk-container\" hidden><div class=\"sk-item\"><div class=\"sk-estimator sk-toggleable\"><input class=\"sk-toggleable__control sk-hidden--visually\" id=\"sk-estimator-id-44\" type=\"checkbox\" checked><label for=\"sk-estimator-id-44\" class=\"sk-toggleable__label sk-toggleable__label-arrow\">LinearRegression</label><div class=\"sk-toggleable__content\"><pre>LinearRegression()</pre></div></div></div></div></div>"
      ],
      "text/plain": [
       "LinearRegression()"
      ]
     },
     "execution_count": 372,
     "metadata": {},
     "output_type": "execute_result"
    }
   ],
   "source": [
    "reg_model2 = LinearRegression()\n",
    "reg_model2.fit(X_train, y_train)"
   ]
  },
  {
   "cell_type": "markdown",
   "id": "33ccf8b4-a128-47ba-a832-1fc4ddaccc89",
   "metadata": {},
   "source": [
    "4. ทำนาย X_test"
   ]
  },
  {
   "cell_type": "code",
   "execution_count": 373,
   "id": "80499777-de76-4187-b688-cc58c6ebb09b",
   "metadata": {},
   "outputs": [],
   "source": [
    "y_pred = reg_model2.predict(X_test)"
   ]
  },
  {
   "cell_type": "markdown",
   "id": "9511171e-6775-40a2-bda7-d31233caf087",
   "metadata": {},
   "source": [
    "5.  หาค่า MSE "
   ]
  },
  {
   "cell_type": "code",
   "execution_count": 374,
   "id": "0d1cf61b-76c8-4bb2-becf-590c1e7221d4",
   "metadata": {},
   "outputs": [
    {
     "data": {
      "text/plain": [
       "2989.9132305951507"
      ]
     },
     "execution_count": 374,
     "metadata": {},
     "output_type": "execute_result"
    }
   ],
   "source": [
    "mean_squared_error(y_test, y_pred, squared=False)"
   ]
  },
  {
   "cell_type": "markdown",
   "id": "8f27d945-bed9-4078-b81c-38980edf1c22",
   "metadata": {},
   "source": [
    "6. หาค่า R-square "
   ]
  },
  {
   "cell_type": "code",
   "execution_count": 375,
   "id": "1aa406e2-71fe-4b25-a23d-911c72013432",
   "metadata": {},
   "outputs": [
    {
     "data": {
      "text/plain": [
       "0.998957590611288"
      ]
     },
     "execution_count": 375,
     "metadata": {},
     "output_type": "execute_result"
    }
   ],
   "source": [
    "reg_model2.score(X_test,y_test)"
   ]
  },
  {
   "cell_type": "markdown",
   "id": "eacc8d6f-8024-42de-a5d9-bb702e001606",
   "metadata": {},
   "source": [
    "7. อธิบายเปรียบเทียบประสิทธิภาพ MSE , R-square เมื่อใช้ single feature และ multiple features "
   ]
  },
  {
   "attachments": {},
   "cell_type": "markdown",
   "id": "3bfae970-cdca-4611-b2c7-a287d30b8be2",
   "metadata": {},
   "source": [
    "เมื่อใช้หลายตัวแปล ผลของการทำนาย แม่นยำมากขึ้น จาก ค่า MSE ลดลง และ R-square มากขึ้น"
   ]
  },
  {
   "cell_type": "markdown",
   "id": "8f440c87-689c-4ed4-a0d4-0f49757cc27e",
   "metadata": {},
   "source": [
    "## Classification"
   ]
  },
  {
   "cell_type": "markdown",
   "id": "c705d401-70ed-4ee0-87f1-d3d57408ad6b",
   "metadata": {},
   "source": [
    "0. import package ที่จำเป็นต้องใช้ "
   ]
  },
  {
   "cell_type": "code",
   "execution_count": 376,
   "id": "939cb783-efda-4595-8f27-58bc695947ff",
   "metadata": {},
   "outputs": [],
   "source": [
    "import pandas as pd\n",
    "from sklearn.neighbors import KNeighborsClassifier\n",
    "from sklearn.metrics import classification_report, confusion_matrix\n",
    "from sklearn.linear_model import LogisticRegression\n",
    "from sklearn.svm import SVC"
   ]
  },
  {
   "cell_type": "markdown",
   "id": "5a5f2ba8-68d5-4178-883c-d11c48ee1674",
   "metadata": {},
   "source": [
    "1. อ่านข้อมูล datasets/diabetes.csv  เก็บไว้ในตัวแปร data_df และแสดงข้อมูล 5 บรรทัดแรก "
   ]
  },
  {
   "cell_type": "code",
   "execution_count": 377,
   "id": "902dfe61-40a5-4886-8ed9-bf636d01d62e",
   "metadata": {},
   "outputs": [
    {
     "data": {
      "text/html": [
       "<div>\n",
       "<style scoped>\n",
       "    .dataframe tbody tr th:only-of-type {\n",
       "        vertical-align: middle;\n",
       "    }\n",
       "\n",
       "    .dataframe tbody tr th {\n",
       "        vertical-align: top;\n",
       "    }\n",
       "\n",
       "    .dataframe thead th {\n",
       "        text-align: right;\n",
       "    }\n",
       "</style>\n",
       "<table border=\"1\" class=\"dataframe\">\n",
       "  <thead>\n",
       "    <tr style=\"text-align: right;\">\n",
       "      <th></th>\n",
       "      <th>pregnancies</th>\n",
       "      <th>glucose</th>\n",
       "      <th>diastolic</th>\n",
       "      <th>triceps</th>\n",
       "      <th>insulin</th>\n",
       "      <th>bmi</th>\n",
       "      <th>dpf</th>\n",
       "      <th>age</th>\n",
       "      <th>diabetes</th>\n",
       "    </tr>\n",
       "  </thead>\n",
       "  <tbody>\n",
       "    <tr>\n",
       "      <th>0</th>\n",
       "      <td>6</td>\n",
       "      <td>148</td>\n",
       "      <td>72</td>\n",
       "      <td>35</td>\n",
       "      <td>0</td>\n",
       "      <td>33.6</td>\n",
       "      <td>0.627</td>\n",
       "      <td>50</td>\n",
       "      <td>1</td>\n",
       "    </tr>\n",
       "    <tr>\n",
       "      <th>1</th>\n",
       "      <td>1</td>\n",
       "      <td>85</td>\n",
       "      <td>66</td>\n",
       "      <td>29</td>\n",
       "      <td>0</td>\n",
       "      <td>26.6</td>\n",
       "      <td>0.351</td>\n",
       "      <td>31</td>\n",
       "      <td>0</td>\n",
       "    </tr>\n",
       "    <tr>\n",
       "      <th>2</th>\n",
       "      <td>8</td>\n",
       "      <td>183</td>\n",
       "      <td>64</td>\n",
       "      <td>0</td>\n",
       "      <td>0</td>\n",
       "      <td>23.3</td>\n",
       "      <td>0.672</td>\n",
       "      <td>32</td>\n",
       "      <td>1</td>\n",
       "    </tr>\n",
       "    <tr>\n",
       "      <th>3</th>\n",
       "      <td>1</td>\n",
       "      <td>89</td>\n",
       "      <td>66</td>\n",
       "      <td>23</td>\n",
       "      <td>94</td>\n",
       "      <td>28.1</td>\n",
       "      <td>0.167</td>\n",
       "      <td>21</td>\n",
       "      <td>0</td>\n",
       "    </tr>\n",
       "    <tr>\n",
       "      <th>4</th>\n",
       "      <td>0</td>\n",
       "      <td>137</td>\n",
       "      <td>40</td>\n",
       "      <td>35</td>\n",
       "      <td>168</td>\n",
       "      <td>43.1</td>\n",
       "      <td>2.288</td>\n",
       "      <td>33</td>\n",
       "      <td>1</td>\n",
       "    </tr>\n",
       "  </tbody>\n",
       "</table>\n",
       "</div>"
      ],
      "text/plain": [
       "   pregnancies  glucose  diastolic  triceps  insulin   bmi    dpf  age  \\\n",
       "0            6      148         72       35        0  33.6  0.627   50   \n",
       "1            1       85         66       29        0  26.6  0.351   31   \n",
       "2            8      183         64        0        0  23.3  0.672   32   \n",
       "3            1       89         66       23       94  28.1  0.167   21   \n",
       "4            0      137         40       35      168  43.1  2.288   33   \n",
       "\n",
       "   diabetes  \n",
       "0         1  \n",
       "1         0  \n",
       "2         1  \n",
       "3         0  \n",
       "4         1  "
      ]
     },
     "execution_count": 377,
     "metadata": {},
     "output_type": "execute_result"
    }
   ],
   "source": [
    "data_df = pd.read_csv('datasets/diabetes.csv')\n",
    "data_df.head()"
   ]
  },
  {
   "cell_type": "markdown",
   "id": "28723fb1-eadc-415c-93cc-5b01e8b131e0",
   "metadata": {},
   "source": [
    "2. สร้าง features X จากทุกคอลัมน์ ยกเว้น 'diabetes' \n",
    "และ สร้าง target y จาก 'diabetes' "
   ]
  },
  {
   "cell_type": "code",
   "execution_count": 378,
   "id": "9f58cd6c-c7d3-4f08-8b18-f746fbf1fe86",
   "metadata": {},
   "outputs": [
    {
     "name": "stdout",
     "output_type": "stream",
     "text": [
      "(768, 8)\n",
      "(768,)\n"
     ]
    }
   ],
   "source": [
    "X = data_df.drop(['diabetes'], axis=1).values\n",
    "y = data_df['diabetes'].values\n",
    "print(X.shape)\n",
    "print(y.shape)"
   ]
  },
  {
   "cell_type": "markdown",
   "id": "12fa0442-cac2-4c6d-8d27-213b7f601911",
   "metadata": {},
   "source": [
    "3. แบ่งข้อมูลสอน 70%  (X_train, y_train) และข้อมูลทดสอบ 30%  (X_test, y_test) "
   ]
  },
  {
   "cell_type": "code",
   "execution_count": 379,
   "id": "9a09f2e5-6862-4cd1-9a6c-55efb33f33c3",
   "metadata": {},
   "outputs": [],
   "source": [
    "X_train,X_test,y_train,y_test = train_test_split(X,y,test_size=0.3,random_state=7)"
   ]
  },
  {
   "cell_type": "markdown",
   "id": "8056e8d8-fb96-4ccd-9dce-b55ce62bd828",
   "metadata": {},
   "source": [
    "### KNN"
   ]
  },
  {
   "cell_type": "markdown",
   "id": "ce45f323-32f7-4c8b-8258-b325d43b2bb2",
   "metadata": {},
   "source": [
    "1. สร้าง knn model ชื่อ **knn_model** โดยใช้  X_train, y_train กำหนด k = 9"
   ]
  },
  {
   "cell_type": "code",
   "execution_count": 380,
   "id": "29e22641-8c57-4a48-b43f-3c025e759558",
   "metadata": {
    "tags": []
   },
   "outputs": [
    {
     "data": {
      "text/html": [
       "<style>#sk-container-id-45 {color: black;background-color: white;}#sk-container-id-45 pre{padding: 0;}#sk-container-id-45 div.sk-toggleable {background-color: white;}#sk-container-id-45 label.sk-toggleable__label {cursor: pointer;display: block;width: 100%;margin-bottom: 0;padding: 0.3em;box-sizing: border-box;text-align: center;}#sk-container-id-45 label.sk-toggleable__label-arrow:before {content: \"▸\";float: left;margin-right: 0.25em;color: #696969;}#sk-container-id-45 label.sk-toggleable__label-arrow:hover:before {color: black;}#sk-container-id-45 div.sk-estimator:hover label.sk-toggleable__label-arrow:before {color: black;}#sk-container-id-45 div.sk-toggleable__content {max-height: 0;max-width: 0;overflow: hidden;text-align: left;background-color: #f0f8ff;}#sk-container-id-45 div.sk-toggleable__content pre {margin: 0.2em;color: black;border-radius: 0.25em;background-color: #f0f8ff;}#sk-container-id-45 input.sk-toggleable__control:checked~div.sk-toggleable__content {max-height: 200px;max-width: 100%;overflow: auto;}#sk-container-id-45 input.sk-toggleable__control:checked~label.sk-toggleable__label-arrow:before {content: \"▾\";}#sk-container-id-45 div.sk-estimator input.sk-toggleable__control:checked~label.sk-toggleable__label {background-color: #d4ebff;}#sk-container-id-45 div.sk-label input.sk-toggleable__control:checked~label.sk-toggleable__label {background-color: #d4ebff;}#sk-container-id-45 input.sk-hidden--visually {border: 0;clip: rect(1px 1px 1px 1px);clip: rect(1px, 1px, 1px, 1px);height: 1px;margin: -1px;overflow: hidden;padding: 0;position: absolute;width: 1px;}#sk-container-id-45 div.sk-estimator {font-family: monospace;background-color: #f0f8ff;border: 1px dotted black;border-radius: 0.25em;box-sizing: border-box;margin-bottom: 0.5em;}#sk-container-id-45 div.sk-estimator:hover {background-color: #d4ebff;}#sk-container-id-45 div.sk-parallel-item::after {content: \"\";width: 100%;border-bottom: 1px solid gray;flex-grow: 1;}#sk-container-id-45 div.sk-label:hover label.sk-toggleable__label {background-color: #d4ebff;}#sk-container-id-45 div.sk-serial::before {content: \"\";position: absolute;border-left: 1px solid gray;box-sizing: border-box;top: 0;bottom: 0;left: 50%;z-index: 0;}#sk-container-id-45 div.sk-serial {display: flex;flex-direction: column;align-items: center;background-color: white;padding-right: 0.2em;padding-left: 0.2em;position: relative;}#sk-container-id-45 div.sk-item {position: relative;z-index: 1;}#sk-container-id-45 div.sk-parallel {display: flex;align-items: stretch;justify-content: center;background-color: white;position: relative;}#sk-container-id-45 div.sk-item::before, #sk-container-id-45 div.sk-parallel-item::before {content: \"\";position: absolute;border-left: 1px solid gray;box-sizing: border-box;top: 0;bottom: 0;left: 50%;z-index: -1;}#sk-container-id-45 div.sk-parallel-item {display: flex;flex-direction: column;z-index: 1;position: relative;background-color: white;}#sk-container-id-45 div.sk-parallel-item:first-child::after {align-self: flex-end;width: 50%;}#sk-container-id-45 div.sk-parallel-item:last-child::after {align-self: flex-start;width: 50%;}#sk-container-id-45 div.sk-parallel-item:only-child::after {width: 0;}#sk-container-id-45 div.sk-dashed-wrapped {border: 1px dashed gray;margin: 0 0.4em 0.5em 0.4em;box-sizing: border-box;padding-bottom: 0.4em;background-color: white;}#sk-container-id-45 div.sk-label label {font-family: monospace;font-weight: bold;display: inline-block;line-height: 1.2em;}#sk-container-id-45 div.sk-label-container {text-align: center;}#sk-container-id-45 div.sk-container {/* jupyter's `normalize.less` sets `[hidden] { display: none; }` but bootstrap.min.css set `[hidden] { display: none !important; }` so we also need the `!important` here to be able to override the default hidden behavior on the sphinx rendered scikit-learn.org. See: https://github.com/scikit-learn/scikit-learn/issues/21755 */display: inline-block !important;position: relative;}#sk-container-id-45 div.sk-text-repr-fallback {display: none;}</style><div id=\"sk-container-id-45\" class=\"sk-top-container\"><div class=\"sk-text-repr-fallback\"><pre>KNeighborsClassifier(n_neighbors=9)</pre><b>In a Jupyter environment, please rerun this cell to show the HTML representation or trust the notebook. <br />On GitHub, the HTML representation is unable to render, please try loading this page with nbviewer.org.</b></div><div class=\"sk-container\" hidden><div class=\"sk-item\"><div class=\"sk-estimator sk-toggleable\"><input class=\"sk-toggleable__control sk-hidden--visually\" id=\"sk-estimator-id-45\" type=\"checkbox\" checked><label for=\"sk-estimator-id-45\" class=\"sk-toggleable__label sk-toggleable__label-arrow\">KNeighborsClassifier</label><div class=\"sk-toggleable__content\"><pre>KNeighborsClassifier(n_neighbors=9)</pre></div></div></div></div></div>"
      ],
      "text/plain": [
       "KNeighborsClassifier(n_neighbors=9)"
      ]
     },
     "execution_count": 380,
     "metadata": {},
     "output_type": "execute_result"
    }
   ],
   "source": [
    "knn_model = KNeighborsClassifier(n_neighbors=9)\n",
    "knn_model.fit(X_train, y_train)"
   ]
  },
  {
   "cell_type": "markdown",
   "id": "41acb368-3739-459e-b5c7-ab4f0f829779",
   "metadata": {
    "tags": []
   },
   "source": [
    "2. ทำนาย X_test โดยใช้ **knn_model** ผลการทำนาย เก็บไว้ที่ตัวแปร y_pred_knn"
   ]
  },
  {
   "cell_type": "code",
   "execution_count": 381,
   "id": "b8685463-c4eb-4f81-92e3-59a954589da6",
   "metadata": {},
   "outputs": [],
   "source": [
    "y_pred_knn = knn_model.predict(X_test)"
   ]
  },
  {
   "cell_type": "markdown",
   "id": "9db52a0d-85ee-4b50-8daf-488b5b9d2bbe",
   "metadata": {},
   "source": [
    "3. หา confusion matrix, accuracy, precision, recall, f1"
   ]
  },
  {
   "cell_type": "code",
   "execution_count": 382,
   "id": "933028bb-8161-4585-9f4c-533998cf400a",
   "metadata": {},
   "outputs": [
    {
     "name": "stdout",
     "output_type": "stream",
     "text": [
      "[[120  27]\n",
      " [ 38  46]]\n",
      "              precision    recall  f1-score   support\n",
      "\n",
      "           0       0.76      0.82      0.79       147\n",
      "           1       0.63      0.55      0.59        84\n",
      "\n",
      "    accuracy                           0.72       231\n",
      "   macro avg       0.69      0.68      0.69       231\n",
      "weighted avg       0.71      0.72      0.71       231\n",
      "\n"
     ]
    }
   ],
   "source": [
    "print(confusion_matrix(y_test, y_pred_knn))\n",
    "print(classification_report(y_test,y_pred_knn))"
   ]
  },
  {
   "cell_type": "markdown",
   "id": "f5c5fd07-8bfa-4d34-ba2a-ba2f0dd0dc97",
   "metadata": {},
   "source": [
    "### Logistic Regression"
   ]
  },
  {
   "cell_type": "markdown",
   "id": "aab70a56-ee0a-4a8f-98c5-6df0a74e33d9",
   "metadata": {},
   "source": [
    "1. สร้าง logistic regression model ชื่อ **logreg_model** โดยใช้  X_train, y_train "
   ]
  },
  {
   "cell_type": "code",
   "execution_count": 383,
   "id": "1b926896-dbad-4e5a-af40-effc97c8eabd",
   "metadata": {
    "tags": []
   },
   "outputs": [
    {
     "data": {
      "text/html": [
       "<style>#sk-container-id-46 {color: black;background-color: white;}#sk-container-id-46 pre{padding: 0;}#sk-container-id-46 div.sk-toggleable {background-color: white;}#sk-container-id-46 label.sk-toggleable__label {cursor: pointer;display: block;width: 100%;margin-bottom: 0;padding: 0.3em;box-sizing: border-box;text-align: center;}#sk-container-id-46 label.sk-toggleable__label-arrow:before {content: \"▸\";float: left;margin-right: 0.25em;color: #696969;}#sk-container-id-46 label.sk-toggleable__label-arrow:hover:before {color: black;}#sk-container-id-46 div.sk-estimator:hover label.sk-toggleable__label-arrow:before {color: black;}#sk-container-id-46 div.sk-toggleable__content {max-height: 0;max-width: 0;overflow: hidden;text-align: left;background-color: #f0f8ff;}#sk-container-id-46 div.sk-toggleable__content pre {margin: 0.2em;color: black;border-radius: 0.25em;background-color: #f0f8ff;}#sk-container-id-46 input.sk-toggleable__control:checked~div.sk-toggleable__content {max-height: 200px;max-width: 100%;overflow: auto;}#sk-container-id-46 input.sk-toggleable__control:checked~label.sk-toggleable__label-arrow:before {content: \"▾\";}#sk-container-id-46 div.sk-estimator input.sk-toggleable__control:checked~label.sk-toggleable__label {background-color: #d4ebff;}#sk-container-id-46 div.sk-label input.sk-toggleable__control:checked~label.sk-toggleable__label {background-color: #d4ebff;}#sk-container-id-46 input.sk-hidden--visually {border: 0;clip: rect(1px 1px 1px 1px);clip: rect(1px, 1px, 1px, 1px);height: 1px;margin: -1px;overflow: hidden;padding: 0;position: absolute;width: 1px;}#sk-container-id-46 div.sk-estimator {font-family: monospace;background-color: #f0f8ff;border: 1px dotted black;border-radius: 0.25em;box-sizing: border-box;margin-bottom: 0.5em;}#sk-container-id-46 div.sk-estimator:hover {background-color: #d4ebff;}#sk-container-id-46 div.sk-parallel-item::after {content: \"\";width: 100%;border-bottom: 1px solid gray;flex-grow: 1;}#sk-container-id-46 div.sk-label:hover label.sk-toggleable__label {background-color: #d4ebff;}#sk-container-id-46 div.sk-serial::before {content: \"\";position: absolute;border-left: 1px solid gray;box-sizing: border-box;top: 0;bottom: 0;left: 50%;z-index: 0;}#sk-container-id-46 div.sk-serial {display: flex;flex-direction: column;align-items: center;background-color: white;padding-right: 0.2em;padding-left: 0.2em;position: relative;}#sk-container-id-46 div.sk-item {position: relative;z-index: 1;}#sk-container-id-46 div.sk-parallel {display: flex;align-items: stretch;justify-content: center;background-color: white;position: relative;}#sk-container-id-46 div.sk-item::before, #sk-container-id-46 div.sk-parallel-item::before {content: \"\";position: absolute;border-left: 1px solid gray;box-sizing: border-box;top: 0;bottom: 0;left: 50%;z-index: -1;}#sk-container-id-46 div.sk-parallel-item {display: flex;flex-direction: column;z-index: 1;position: relative;background-color: white;}#sk-container-id-46 div.sk-parallel-item:first-child::after {align-self: flex-end;width: 50%;}#sk-container-id-46 div.sk-parallel-item:last-child::after {align-self: flex-start;width: 50%;}#sk-container-id-46 div.sk-parallel-item:only-child::after {width: 0;}#sk-container-id-46 div.sk-dashed-wrapped {border: 1px dashed gray;margin: 0 0.4em 0.5em 0.4em;box-sizing: border-box;padding-bottom: 0.4em;background-color: white;}#sk-container-id-46 div.sk-label label {font-family: monospace;font-weight: bold;display: inline-block;line-height: 1.2em;}#sk-container-id-46 div.sk-label-container {text-align: center;}#sk-container-id-46 div.sk-container {/* jupyter's `normalize.less` sets `[hidden] { display: none; }` but bootstrap.min.css set `[hidden] { display: none !important; }` so we also need the `!important` here to be able to override the default hidden behavior on the sphinx rendered scikit-learn.org. See: https://github.com/scikit-learn/scikit-learn/issues/21755 */display: inline-block !important;position: relative;}#sk-container-id-46 div.sk-text-repr-fallback {display: none;}</style><div id=\"sk-container-id-46\" class=\"sk-top-container\"><div class=\"sk-text-repr-fallback\"><pre>LogisticRegression(solver=&#x27;liblinear&#x27;)</pre><b>In a Jupyter environment, please rerun this cell to show the HTML representation or trust the notebook. <br />On GitHub, the HTML representation is unable to render, please try loading this page with nbviewer.org.</b></div><div class=\"sk-container\" hidden><div class=\"sk-item\"><div class=\"sk-estimator sk-toggleable\"><input class=\"sk-toggleable__control sk-hidden--visually\" id=\"sk-estimator-id-46\" type=\"checkbox\" checked><label for=\"sk-estimator-id-46\" class=\"sk-toggleable__label sk-toggleable__label-arrow\">LogisticRegression</label><div class=\"sk-toggleable__content\"><pre>LogisticRegression(solver=&#x27;liblinear&#x27;)</pre></div></div></div></div></div>"
      ],
      "text/plain": [
       "LogisticRegression(solver='liblinear')"
      ]
     },
     "execution_count": 383,
     "metadata": {},
     "output_type": "execute_result"
    }
   ],
   "source": [
    "logreg_model = LogisticRegression(solver='liblinear')\n",
    "logreg_model.fit(X_train,y_train)"
   ]
  },
  {
   "cell_type": "markdown",
   "id": "fed30c94-7587-41a7-b6b5-a5d531f63f10",
   "metadata": {
    "tags": []
   },
   "source": [
    "2. ทำนาย X_test โดยใช้ **logreg_model** ผลการทำนาย เก็บไว้ที่ตัวแปร y_pred_logreg"
   ]
  },
  {
   "cell_type": "code",
   "execution_count": 384,
   "id": "840408e2-2b78-4345-906f-3066b9573b07",
   "metadata": {},
   "outputs": [],
   "source": [
    "y_pred_logreg = logreg_model.predict(X_test)"
   ]
  },
  {
   "cell_type": "markdown",
   "id": "87120adc-ba07-43b1-a427-c012f38ea381",
   "metadata": {},
   "source": [
    "3. หา confusion matrix, accuracy, precision, recall, f1"
   ]
  },
  {
   "cell_type": "code",
   "execution_count": 385,
   "id": "1f05b07a-a919-40ba-b7d7-8695c699e815",
   "metadata": {},
   "outputs": [
    {
     "name": "stdout",
     "output_type": "stream",
     "text": [
      "[[130  17]\n",
      " [ 38  46]]\n",
      "              precision    recall  f1-score   support\n",
      "\n",
      "           0       0.77      0.88      0.83       147\n",
      "           1       0.73      0.55      0.63        84\n",
      "\n",
      "    accuracy                           0.76       231\n",
      "   macro avg       0.75      0.72      0.73       231\n",
      "weighted avg       0.76      0.76      0.75       231\n",
      "\n"
     ]
    }
   ],
   "source": [
    "print(confusion_matrix(y_test, y_pred_logreg))\n",
    "print(classification_report(y_test,y_pred_logreg))"
   ]
  },
  {
   "cell_type": "markdown",
   "id": "6d957ba0-36ae-4c30-96e8-248eeb99e1e3",
   "metadata": {},
   "source": [
    "### SVM"
   ]
  },
  {
   "cell_type": "markdown",
   "id": "9447c819-e078-4d49-ad33-ec6d149611fe",
   "metadata": {},
   "source": [
    "1. สร้าง logistic regression model ชื่อ **svm_model1** โดยใช้  X_train, y_train  กำหนด kernel = 'rbf'"
   ]
  },
  {
   "cell_type": "code",
   "execution_count": 386,
   "id": "78204660-357d-4b97-8ec7-f97a01974bef",
   "metadata": {
    "tags": []
   },
   "outputs": [
    {
     "data": {
      "text/html": [
       "<style>#sk-container-id-47 {color: black;background-color: white;}#sk-container-id-47 pre{padding: 0;}#sk-container-id-47 div.sk-toggleable {background-color: white;}#sk-container-id-47 label.sk-toggleable__label {cursor: pointer;display: block;width: 100%;margin-bottom: 0;padding: 0.3em;box-sizing: border-box;text-align: center;}#sk-container-id-47 label.sk-toggleable__label-arrow:before {content: \"▸\";float: left;margin-right: 0.25em;color: #696969;}#sk-container-id-47 label.sk-toggleable__label-arrow:hover:before {color: black;}#sk-container-id-47 div.sk-estimator:hover label.sk-toggleable__label-arrow:before {color: black;}#sk-container-id-47 div.sk-toggleable__content {max-height: 0;max-width: 0;overflow: hidden;text-align: left;background-color: #f0f8ff;}#sk-container-id-47 div.sk-toggleable__content pre {margin: 0.2em;color: black;border-radius: 0.25em;background-color: #f0f8ff;}#sk-container-id-47 input.sk-toggleable__control:checked~div.sk-toggleable__content {max-height: 200px;max-width: 100%;overflow: auto;}#sk-container-id-47 input.sk-toggleable__control:checked~label.sk-toggleable__label-arrow:before {content: \"▾\";}#sk-container-id-47 div.sk-estimator input.sk-toggleable__control:checked~label.sk-toggleable__label {background-color: #d4ebff;}#sk-container-id-47 div.sk-label input.sk-toggleable__control:checked~label.sk-toggleable__label {background-color: #d4ebff;}#sk-container-id-47 input.sk-hidden--visually {border: 0;clip: rect(1px 1px 1px 1px);clip: rect(1px, 1px, 1px, 1px);height: 1px;margin: -1px;overflow: hidden;padding: 0;position: absolute;width: 1px;}#sk-container-id-47 div.sk-estimator {font-family: monospace;background-color: #f0f8ff;border: 1px dotted black;border-radius: 0.25em;box-sizing: border-box;margin-bottom: 0.5em;}#sk-container-id-47 div.sk-estimator:hover {background-color: #d4ebff;}#sk-container-id-47 div.sk-parallel-item::after {content: \"\";width: 100%;border-bottom: 1px solid gray;flex-grow: 1;}#sk-container-id-47 div.sk-label:hover label.sk-toggleable__label {background-color: #d4ebff;}#sk-container-id-47 div.sk-serial::before {content: \"\";position: absolute;border-left: 1px solid gray;box-sizing: border-box;top: 0;bottom: 0;left: 50%;z-index: 0;}#sk-container-id-47 div.sk-serial {display: flex;flex-direction: column;align-items: center;background-color: white;padding-right: 0.2em;padding-left: 0.2em;position: relative;}#sk-container-id-47 div.sk-item {position: relative;z-index: 1;}#sk-container-id-47 div.sk-parallel {display: flex;align-items: stretch;justify-content: center;background-color: white;position: relative;}#sk-container-id-47 div.sk-item::before, #sk-container-id-47 div.sk-parallel-item::before {content: \"\";position: absolute;border-left: 1px solid gray;box-sizing: border-box;top: 0;bottom: 0;left: 50%;z-index: -1;}#sk-container-id-47 div.sk-parallel-item {display: flex;flex-direction: column;z-index: 1;position: relative;background-color: white;}#sk-container-id-47 div.sk-parallel-item:first-child::after {align-self: flex-end;width: 50%;}#sk-container-id-47 div.sk-parallel-item:last-child::after {align-self: flex-start;width: 50%;}#sk-container-id-47 div.sk-parallel-item:only-child::after {width: 0;}#sk-container-id-47 div.sk-dashed-wrapped {border: 1px dashed gray;margin: 0 0.4em 0.5em 0.4em;box-sizing: border-box;padding-bottom: 0.4em;background-color: white;}#sk-container-id-47 div.sk-label label {font-family: monospace;font-weight: bold;display: inline-block;line-height: 1.2em;}#sk-container-id-47 div.sk-label-container {text-align: center;}#sk-container-id-47 div.sk-container {/* jupyter's `normalize.less` sets `[hidden] { display: none; }` but bootstrap.min.css set `[hidden] { display: none !important; }` so we also need the `!important` here to be able to override the default hidden behavior on the sphinx rendered scikit-learn.org. See: https://github.com/scikit-learn/scikit-learn/issues/21755 */display: inline-block !important;position: relative;}#sk-container-id-47 div.sk-text-repr-fallback {display: none;}</style><div id=\"sk-container-id-47\" class=\"sk-top-container\"><div class=\"sk-text-repr-fallback\"><pre>SVC()</pre><b>In a Jupyter environment, please rerun this cell to show the HTML representation or trust the notebook. <br />On GitHub, the HTML representation is unable to render, please try loading this page with nbviewer.org.</b></div><div class=\"sk-container\" hidden><div class=\"sk-item\"><div class=\"sk-estimator sk-toggleable\"><input class=\"sk-toggleable__control sk-hidden--visually\" id=\"sk-estimator-id-47\" type=\"checkbox\" checked><label for=\"sk-estimator-id-47\" class=\"sk-toggleable__label sk-toggleable__label-arrow\">SVC</label><div class=\"sk-toggleable__content\"><pre>SVC()</pre></div></div></div></div></div>"
      ],
      "text/plain": [
       "SVC()"
      ]
     },
     "execution_count": 386,
     "metadata": {},
     "output_type": "execute_result"
    }
   ],
   "source": [
    "svm_model1 = SVC(kernel='rbf')\n",
    "svm_model1.fit(X_train,y_train)"
   ]
  },
  {
   "cell_type": "markdown",
   "id": "ee09aba2-166d-489d-add2-e08ed646eb3c",
   "metadata": {
    "tags": []
   },
   "source": [
    "2. ทำนาย X_test โดยใช้ **svm_model1** ผลการทำนาย เก็บไว้ที่ตัวแปร y_pred_svm_model1"
   ]
  },
  {
   "cell_type": "code",
   "execution_count": 387,
   "id": "e7c64cd8-fa0f-4af4-9125-0049da88915e",
   "metadata": {},
   "outputs": [],
   "source": [
    "y_pred_svm_model1 = svm_model1.predict(X_test)"
   ]
  },
  {
   "cell_type": "markdown",
   "id": "b316612a-2451-4155-a0fc-c792fd4a749b",
   "metadata": {},
   "source": [
    "3. หา confusion matrix, accuracy, precision, recall, f1 จาก ผลข้อ 2"
   ]
  },
  {
   "cell_type": "code",
   "execution_count": 388,
   "id": "cbe9c5bc-7fff-4aff-9a7a-37598f0163a4",
   "metadata": {},
   "outputs": [
    {
     "name": "stdout",
     "output_type": "stream",
     "text": [
      "[[133  14]\n",
      " [ 43  41]]\n",
      "              precision    recall  f1-score   support\n",
      "\n",
      "           0       0.76      0.90      0.82       147\n",
      "           1       0.75      0.49      0.59        84\n",
      "\n",
      "    accuracy                           0.75       231\n",
      "   macro avg       0.75      0.70      0.71       231\n",
      "weighted avg       0.75      0.75      0.74       231\n",
      "\n"
     ]
    }
   ],
   "source": [
    "print(confusion_matrix(y_test, y_pred_svm_model1))\n",
    "print(classification_report(y_test,y_pred_svm_model1))"
   ]
  },
  {
   "cell_type": "markdown",
   "id": "017e7c27-dc9f-4d5e-b498-531033e486c2",
   "metadata": {},
   "source": [
    "4. สร้าง logistic regression model ชื่อ **svm_model2** โดยใช้  X_train, y_train  กำหนด kernel = 'linear'"
   ]
  },
  {
   "cell_type": "code",
   "execution_count": 389,
   "id": "c3f9e413-db2b-40fc-a527-96281f8c9208",
   "metadata": {
    "tags": []
   },
   "outputs": [
    {
     "data": {
      "text/html": [
       "<style>#sk-container-id-48 {color: black;background-color: white;}#sk-container-id-48 pre{padding: 0;}#sk-container-id-48 div.sk-toggleable {background-color: white;}#sk-container-id-48 label.sk-toggleable__label {cursor: pointer;display: block;width: 100%;margin-bottom: 0;padding: 0.3em;box-sizing: border-box;text-align: center;}#sk-container-id-48 label.sk-toggleable__label-arrow:before {content: \"▸\";float: left;margin-right: 0.25em;color: #696969;}#sk-container-id-48 label.sk-toggleable__label-arrow:hover:before {color: black;}#sk-container-id-48 div.sk-estimator:hover label.sk-toggleable__label-arrow:before {color: black;}#sk-container-id-48 div.sk-toggleable__content {max-height: 0;max-width: 0;overflow: hidden;text-align: left;background-color: #f0f8ff;}#sk-container-id-48 div.sk-toggleable__content pre {margin: 0.2em;color: black;border-radius: 0.25em;background-color: #f0f8ff;}#sk-container-id-48 input.sk-toggleable__control:checked~div.sk-toggleable__content {max-height: 200px;max-width: 100%;overflow: auto;}#sk-container-id-48 input.sk-toggleable__control:checked~label.sk-toggleable__label-arrow:before {content: \"▾\";}#sk-container-id-48 div.sk-estimator input.sk-toggleable__control:checked~label.sk-toggleable__label {background-color: #d4ebff;}#sk-container-id-48 div.sk-label input.sk-toggleable__control:checked~label.sk-toggleable__label {background-color: #d4ebff;}#sk-container-id-48 input.sk-hidden--visually {border: 0;clip: rect(1px 1px 1px 1px);clip: rect(1px, 1px, 1px, 1px);height: 1px;margin: -1px;overflow: hidden;padding: 0;position: absolute;width: 1px;}#sk-container-id-48 div.sk-estimator {font-family: monospace;background-color: #f0f8ff;border: 1px dotted black;border-radius: 0.25em;box-sizing: border-box;margin-bottom: 0.5em;}#sk-container-id-48 div.sk-estimator:hover {background-color: #d4ebff;}#sk-container-id-48 div.sk-parallel-item::after {content: \"\";width: 100%;border-bottom: 1px solid gray;flex-grow: 1;}#sk-container-id-48 div.sk-label:hover label.sk-toggleable__label {background-color: #d4ebff;}#sk-container-id-48 div.sk-serial::before {content: \"\";position: absolute;border-left: 1px solid gray;box-sizing: border-box;top: 0;bottom: 0;left: 50%;z-index: 0;}#sk-container-id-48 div.sk-serial {display: flex;flex-direction: column;align-items: center;background-color: white;padding-right: 0.2em;padding-left: 0.2em;position: relative;}#sk-container-id-48 div.sk-item {position: relative;z-index: 1;}#sk-container-id-48 div.sk-parallel {display: flex;align-items: stretch;justify-content: center;background-color: white;position: relative;}#sk-container-id-48 div.sk-item::before, #sk-container-id-48 div.sk-parallel-item::before {content: \"\";position: absolute;border-left: 1px solid gray;box-sizing: border-box;top: 0;bottom: 0;left: 50%;z-index: -1;}#sk-container-id-48 div.sk-parallel-item {display: flex;flex-direction: column;z-index: 1;position: relative;background-color: white;}#sk-container-id-48 div.sk-parallel-item:first-child::after {align-self: flex-end;width: 50%;}#sk-container-id-48 div.sk-parallel-item:last-child::after {align-self: flex-start;width: 50%;}#sk-container-id-48 div.sk-parallel-item:only-child::after {width: 0;}#sk-container-id-48 div.sk-dashed-wrapped {border: 1px dashed gray;margin: 0 0.4em 0.5em 0.4em;box-sizing: border-box;padding-bottom: 0.4em;background-color: white;}#sk-container-id-48 div.sk-label label {font-family: monospace;font-weight: bold;display: inline-block;line-height: 1.2em;}#sk-container-id-48 div.sk-label-container {text-align: center;}#sk-container-id-48 div.sk-container {/* jupyter's `normalize.less` sets `[hidden] { display: none; }` but bootstrap.min.css set `[hidden] { display: none !important; }` so we also need the `!important` here to be able to override the default hidden behavior on the sphinx rendered scikit-learn.org. See: https://github.com/scikit-learn/scikit-learn/issues/21755 */display: inline-block !important;position: relative;}#sk-container-id-48 div.sk-text-repr-fallback {display: none;}</style><div id=\"sk-container-id-48\" class=\"sk-top-container\"><div class=\"sk-text-repr-fallback\"><pre>SVC(kernel=&#x27;linear&#x27;)</pre><b>In a Jupyter environment, please rerun this cell to show the HTML representation or trust the notebook. <br />On GitHub, the HTML representation is unable to render, please try loading this page with nbviewer.org.</b></div><div class=\"sk-container\" hidden><div class=\"sk-item\"><div class=\"sk-estimator sk-toggleable\"><input class=\"sk-toggleable__control sk-hidden--visually\" id=\"sk-estimator-id-48\" type=\"checkbox\" checked><label for=\"sk-estimator-id-48\" class=\"sk-toggleable__label sk-toggleable__label-arrow\">SVC</label><div class=\"sk-toggleable__content\"><pre>SVC(kernel=&#x27;linear&#x27;)</pre></div></div></div></div></div>"
      ],
      "text/plain": [
       "SVC(kernel='linear')"
      ]
     },
     "execution_count": 389,
     "metadata": {},
     "output_type": "execute_result"
    }
   ],
   "source": [
    "svm_model2 = SVC(kernel='linear')\n",
    "svm_model2.fit(X_train,y_train)"
   ]
  },
  {
   "cell_type": "markdown",
   "id": "60d07ccf-fa31-4e06-957f-95280ffaf9f3",
   "metadata": {
    "tags": []
   },
   "source": [
    "5. ทำนาย X_test โดยใช้ **svm_model2** ผลการทำนาย เก็บไว้ที่ตัวแปร y_pred_svm_model2"
   ]
  },
  {
   "cell_type": "code",
   "execution_count": 390,
   "id": "19684ca7-1518-4707-909f-3476742b5690",
   "metadata": {},
   "outputs": [],
   "source": [
    "y_pred_svm_model2 = svm_model2.predict(X_test)"
   ]
  },
  {
   "cell_type": "markdown",
   "id": "a671e1bc-3412-45ed-b52f-a24ba44fdddf",
   "metadata": {},
   "source": [
    "6. หา confusion matrix, accuracy, precision, recall, f1 จากผลข้อ 5"
   ]
  },
  {
   "cell_type": "code",
   "execution_count": 391,
   "id": "990b8a8a-7deb-45d4-be14-beb94d4fd34a",
   "metadata": {},
   "outputs": [
    {
     "name": "stdout",
     "output_type": "stream",
     "text": [
      "[[132  15]\n",
      " [ 36  48]]\n",
      "              precision    recall  f1-score   support\n",
      "\n",
      "           0       0.79      0.90      0.84       147\n",
      "           1       0.76      0.57      0.65        84\n",
      "\n",
      "    accuracy                           0.78       231\n",
      "   macro avg       0.77      0.73      0.75       231\n",
      "weighted avg       0.78      0.78      0.77       231\n",
      "\n"
     ]
    }
   ],
   "source": [
    "print(confusion_matrix(y_test, y_pred_svm_model2))\n",
    "print(classification_report(y_test,y_pred_svm_model2))"
   ]
  },
  {
   "cell_type": "markdown",
   "id": "3ce7045b-c84f-4f08-9b34-e6de3b368354",
   "metadata": {},
   "source": [
    "### สรุปผล การ Classification\n",
    "อธิบายในแต่ละแง่ตัวชี้วัดประสิทธิภาพ"
   ]
  },
  {
   "attachments": {},
   "cell_type": "markdown",
   "id": "b7b10f31-b584-4c68-b3ff-824ae52138e5",
   "metadata": {},
   "source": [
    "KNN เป็นแบบจำลองที่ใช้ในการหาข้อมูลที่ใกล้เคียงกับข้อมูลปัจจุบัน โดยจะนำข้อมูลปัจจุบันไปเปรียบเทียบกับข้อมูลอื่นๆในฐานข้อมูล และจะเลือก k ข้อมูลที่ใกล้เคียงกับข้อมูลปัจจุบันมากที่สุด และนำข้อมูลที่ได้จากการเปรียบเทียบไปใช้ในการจัดกลุ่ม"
   ]
  },
  {
   "attachments": {},
   "cell_type": "markdown",
   "id": "55cf0bc4",
   "metadata": {},
   "source": [
    "Logistic Regression เป็นแบบจำลองที่ใช้ในการหาความสัมพันธ์ระหว่างตัวแปรต่างๆ โดยจะนำตัวแปรต่างๆไปเปรียบเทียบกับค่าของตัวแปรที่ได้จากการวิเคราะห์ และนำค่าที่ได้\n",
    "มากำหนดเป็นโอกาสที่จะเกิดความเป็นไปได้ของเหตุการณ์ต่างๆ โดยใช้ฟังก์ชัน Sigmoid ในการคำนวณโอกาสที่เกิดความเป็นไปได้ ซึ่งจะได้ค่าที่อยู่ระหว่าง 0 ถึง 1 ซึ่งจะใช้ในการจัดกลุ่ม"
   ]
  },
  {
   "attachments": {},
   "cell_type": "markdown",
   "id": "dcbd5a4b",
   "metadata": {},
   "source": [
    "SVM เป็นแบบจำลองที่ใช้ในการหาขอบเขตของข้อมูลที่แตกต่างกัน โดยใช้วิธีการหาเส้นขอบเขตที่แตกต่างกันมากที่สุด โดยจะนำข้อมูลที่แตกต่างกันมากที่สุดไปใช้เป็นตัวแทนของข้อมูล ซึ่งจะใช้ในการจัดกลุ่มและการคำนวณความแม่นยำ."
   ]
  },
  {
   "cell_type": "markdown",
   "id": "f6a84a96-42e1-435c-a05d-beb923664c61",
   "metadata": {},
   "source": [
    "## ML Paper\n",
    "ค้นบทความจาก ieee explore เลือกที่เกี่ยวกับ ML ที่ได้เรียนไป"
   ]
  },
  {
   "cell_type": "markdown",
   "id": "4f7f8b24-007f-4517-b5b3-c21b1c69c08e",
   "metadata": {},
   "source": [
    "1. ชื่อบทความ และ ลิงค์บทความ"
   ]
  },
  {
   "attachments": {},
   "cell_type": "markdown",
   "id": "2884f8d8",
   "metadata": {},
   "source": [
    "Parallel K Nearest Neighbor Matching for 3D Reconstruction\n",
    "\n",
    "https://ieeexplore.ieee.org/document/8703749"
   ]
  },
  {
   "cell_type": "markdown",
   "id": "b1d8c4e4-e6fd-40b3-86ba-d5f50aa5b32b",
   "metadata": {},
   "source": [
    "2. ข้อมูลที่ผู้วิจัยใช้ "
   ]
  },
  {
   "attachments": {},
   "cell_type": "markdown",
   "id": "6c109dd8-4c89-4a5e-b6b0-00bc789f16c7",
   "metadata": {},
   "source": [
    "J. Yang, K. Sim, W. Lu and B. Jiang, \"Predicting stereoscopic image quality via stacked auto-encoders based on stereopsis formation\", IEEE Trans. Multimedia.\n",
    "\n",
    "J. Yang, B. Jiang, B. Li, K. Tian and Z. Lv, \"A fast image retrieval method designed for network big data\", IEEE Trans. Ind. Informat., vol. 13, pp. 2350-2359, Oct. 2017.\n",
    "\n",
    "B. Jiang, J. Yang, Z. Lv, K. Tian, Q. Meng and Y. Yan, \"Internet cross-media retrieval based on deep learning\", J. Vis. Commun. Image Represent., vol. 48, pp. 356-366, Oct. 2017.\n",
    "\n",
    "M. Cao, S. Li, W. Jia, S. Li and X. Liu, \"Robust bundle adjustment for large-scale structure from motion\", Multimedia Tools Appl., vol. 76, no. 21, pp. 21843-21867, Nov. 2017.\n",
    "\n",
    "Q. Cui, V. Fragoso, C. Sweeney and P. Sen, GraphMatch: Efficient large-scale graph construction for structure from motion, 2017, [online] Available: https://arxiv.org/abs/1710.01602."
   ]
  },
  {
   "cell_type": "markdown",
   "id": "36e0cf26-1f4d-462a-834e-47ffdda6e12c",
   "metadata": {},
   "source": [
    "3. วิธีที่ผู้วิจัยใช้ / เสนอปรับปรุงให้ดีขึ้น"
   ]
  },
  {
   "attachments": {},
   "cell_type": "markdown",
   "id": "640a662f",
   "metadata": {},
   "source": [
    "In recent years, a 3D reconstruction based on structure from motion (SFM) has attracted much attention from the communities of computer vision and graphics. It is well known that the speed and quality of SFM systems largely depend on the technique of feature tracking. If a big volume of image data is inputted for SFM, the speed of this SFM system would become very slow. And, this problem becomes severer for large-scale scenes, which typically needs to capture several thousands of images to recover the point-cloud model of the scene. However, none of the existing methods fully addresses the problem of fast feature tracking. Brute force matching is capable of producing correspondences for small-scale scenes but often getting stuck in repeated features. Hashing matching can only deal with middle-scale scenes and is not capable of large-scale scenes. In this paper, we propose a new feature tacking method working in a parallel manner rather than in a single thread scheme. Our method consists of steps of keypoint detection, descriptor computing, descriptor matching by parallel k -nearest neighbor (Parallel-KNN) search, and outlier rejecting. This method is able to rapidly match a big volume of keypoints and avoids to consume high computation time, then yielding a set of correct correspondences. We demonstrate and evaluate the proposed method on several challenging benchmark datasets, including those with highly repeated features, and compare to the state-of-the-art methods. The experimental results indicate that our method outperforms the compared methods in both efficiency and effectiveness."
   ]
  },
  {
   "cell_type": "markdown",
   "id": "1bc2f8df-5eb8-42d4-8769-594aff0be8af",
   "metadata": {},
   "source": [
    "4. ตัวชี้วัดประสิทธิภาพที่ผู้วิจัยใช้ มีค่าดีสุดเท่าไร"
   ]
  },
  {
   "attachments": {},
   "cell_type": "markdown",
   "id": "1f8d92f9",
   "metadata": {},
   "source": [
    "Conclusion\n",
    "To improve the quality of the point-cloud model that is produced by the SFM system, we designed a novel feature tracking method, and have implemented it in parallel architecture with Nvidia CUDA SDK, then resulting in a significant acceleration on computational cost. Specifically, the proposed RTFT method consists of three modules: 1) keypoint detection and descriptor computing, 2) feature matching, and 3) outliers removing. In the first stage, the ORB feature is used to find keypoints and obtain robust descriptions for the detected keypoints. In feature matching process, the Parallel-KNN is utilized to match feature descriptors for decreasing the computational burden in large-scale 3D reconstruction where too many images are available. Moreover, the design logically behind of the Parallel-KNN is easily to generalize for other fields that also need parallel-computing technique. In the last step, we developed a novel approach to rectify the visual correspondences for resulting a set of correct feature matches, this method is only based on the Euclidean distance comparison, and is easily to implementation in programming language. Finally, we assess the RTFT method on three benchmarking datasets with some repeated structures and many repeated features, then result in a desirable performance in both feature matching precision and the quality of the point-cloud model.\n",
    "\n",
    "In summary, the RTFT is versatile and expansible, which can be easily extended to other applications such as simultaneous localization and mapping, optical flow estimation, and robotics navigation. In the future, we will revise the Parallel-KNN and RTFT, and implement it on the multi-GPU devices for extreme fast acceleration on computation time."
   ]
  },
  {
   "cell_type": "code",
   "execution_count": null,
   "id": "71bfb708-4a11-4f18-b3e1-21c08b7119ca",
   "metadata": {},
   "outputs": [],
   "source": []
  }
 ],
 "metadata": {
  "colab": {
   "name": "Welcome to DataCamp Workspaces.ipynb",
   "provenance": []
  },
  "editor": "DataCamp Workspace",
  "kernelspec": {
   "display_name": "Python 3",
   "language": "python",
   "name": "python3"
  },
  "language_info": {
   "codemirror_mode": {
    "name": "ipython",
    "version": 3
   },
   "file_extension": ".py",
   "mimetype": "text/x-python",
   "name": "python",
   "nbconvert_exporter": "python",
   "pygments_lexer": "ipython3",
   "version": "3.10.9"
  },
  "vscode": {
   "interpreter": {
    "hash": "aee8b7b246df8f9039afb4144a1f6fd8d2ca17a180786b69acc140d282b71a49"
   }
  }
 },
 "nbformat": 4,
 "nbformat_minor": 5
}
